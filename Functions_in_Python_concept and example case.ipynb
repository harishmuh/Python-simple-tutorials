{
  "nbformat": 4,
  "nbformat_minor": 0,
  "metadata": {
    "colab": {
      "provenance": [],
      "toc_visible": true,
      "authorship_tag": "ABX9TyOA0Z/JHYHx2VtVPk71wcoc",
      "include_colab_link": true
    },
    "kernelspec": {
      "name": "python3",
      "display_name": "Python 3"
    },
    "language_info": {
      "name": "python"
    }
  },
  "cells": [
    {
      "cell_type": "markdown",
      "metadata": {
        "id": "view-in-github",
        "colab_type": "text"
      },
      "source": [
        "<a href=\"https://colab.research.google.com/github/harishmuh/Python-simple-tutorials/blob/main/Functions_in_Python_concept%20and%20example%20case.ipynb\" target=\"_parent\"><img src=\"https://colab.research.google.com/assets/colab-badge.svg\" alt=\"Open In Colab\"/></a>"
      ]
    },
    {
      "cell_type": "markdown",
      "source": [
        "---\n",
        "# **Python Function**\n",
        "---\n"
      ],
      "metadata": {
        "id": "U9KLEll8zwYx"
      }
    },
    {
      "cell_type": "markdown",
      "source": [
        "**What is a Python function?**\n",
        "* A function in Python is a reusable block of code that performs a specific task.\n",
        "* Able to recive input and generate output\n",
        "* Can be used repeatedly. You can call it whenever you need it, instead of rewriting the same code again and again.\n",
        "\n",
        "**Why do we need functions?**\n",
        "\n",
        "Functions help us:\n",
        "\n",
        "* Avoid repetition (Write once, reuse many times)\n",
        "* Make code organized and readable\n",
        "* Break big problems into smaller tasks\n",
        "* Debug easily (Isolate and test parts of code)\n",
        "\n",
        "When Should You Use a Function?\n",
        "* You are repeating the same code in multiple places\n",
        "* You want to organize your program into logical parts\n",
        "* You want your code to be modular and reusable\n",
        "* You want to test or debug a specific task separately\n",
        "\n"
      ],
      "metadata": {
        "id": "N3mZBiXk0KDv"
      }
    },
    {
      "cell_type": "markdown",
      "source": [
        "## **Regular function**\n",
        "\n",
        "In general, regular python function can be divide into:\n",
        "* Function without input and output\n",
        "* Function with input but without output\n",
        "* Function with both input and output"
      ],
      "metadata": {
        "id": "Q4xOrqZ34R3M"
      }
    },
    {
      "cell_type": "code",
      "source": [
        "# Example of Regular function syntax\n",
        "# def function():\n",
        "    # block code\n",
        "\n",
        "def add(num1, num2):\n",
        "    return num1 + num2\n",
        "print(add(2,5))\n",
        "print(add(100,200))\n"
      ],
      "metadata": {
        "colab": {
          "base_uri": "https://localhost:8080/"
        },
        "id": "MHiY9Rfe4ZoP",
        "outputId": "65866bc8-b582-4c7e-b4c7-a5472fecef9b"
      },
      "execution_count": null,
      "outputs": [
        {
          "output_type": "stream",
          "name": "stdout",
          "text": [
            "7\n",
            "300\n"
          ]
        }
      ]
    },
    {
      "cell_type": "markdown",
      "source": [
        "### **Function without input and output**"
      ],
      "metadata": {
        "id": "LJFRgIV03ogj"
      }
    },
    {
      "cell_type": "code",
      "execution_count": null,
      "metadata": {
        "colab": {
          "base_uri": "https://localhost:8080/"
        },
        "id": "ujDUX6wDzLL0",
        "outputId": "ee1e760c-604d-47b6-f82a-6025400fb012"
      },
      "outputs": [
        {
          "output_type": "stream",
          "name": "stdout",
          "text": [
            "Hello world\n",
            "Hello there.\n",
            "I'm Harish\n",
            "Hello world!\n",
            "Hello there.\n",
            "I'm Harish\n",
            "Hello world!\n",
            "Hello there.\n",
            "I'm Harish\n"
          ]
        }
      ],
      "source": [
        "# Example without using functions\n",
        "print('Hello world')\n",
        "print('Hello there.')\n",
        "print('I\\'m Harish')\n",
        "print('Hello world!')\n",
        "print('Hello there.')\n",
        "print('I\\'m Harish')\n",
        "print('Hello world!')\n",
        "print('Hello there.')\n",
        "print('I\\'m Harish')"
      ]
    },
    {
      "cell_type": "code",
      "source": [
        "# Example with functions\n",
        "def greeting():\n",
        "  print('Hello world!')\n",
        "  print('Hello there.')\n",
        "  print('I\\'m Harish')\n",
        "\n",
        "greeting()\n",
        "greeting()\n",
        "greeting()"
      ],
      "metadata": {
        "colab": {
          "base_uri": "https://localhost:8080/"
        },
        "id": "GeercBFg2cNi",
        "outputId": "59b66064-a6d4-4c80-9e10-c9994a74ea37"
      },
      "execution_count": null,
      "outputs": [
        {
          "output_type": "stream",
          "name": "stdout",
          "text": [
            "Hello world!\n",
            "Hello there.\n",
            "I'm Harish\n",
            "Hello world!\n",
            "Hello there.\n",
            "I'm Harish\n",
            "Hello world!\n",
            "Hello there.\n",
            "I'm Harish\n"
          ]
        }
      ]
    },
    {
      "cell_type": "code",
      "source": [
        "'''\n",
        "Exercise\n",
        "\n",
        "Please display function to display:\n",
        "\n",
        "Main menu\n",
        "1. Check Internet package (balance)\n",
        "2. Top-up balance\n",
        "3. Exit\n",
        "\n",
        "'''\n",
        "\n",
        "def menu():\n",
        "  print('Main menu')\n",
        "  print('1. Check Internet package (balance)')\n",
        "  print('2. Top-up balance')\n",
        "  print('3. Exit')\n",
        "\n",
        "menu()\n",
        "\n"
      ],
      "metadata": {
        "colab": {
          "base_uri": "https://localhost:8080/"
        },
        "id": "INzK0meq5wgz",
        "outputId": "b177f296-5751-4d03-8e79-f1724b3dca70"
      },
      "execution_count": null,
      "outputs": [
        {
          "output_type": "stream",
          "name": "stdout",
          "text": [
            "Main menu\n",
            "1. Check Internet package (balance)\n",
            "2. Top-up balance\n",
            "3. Exit\n"
          ]
        }
      ]
    },
    {
      "cell_type": "markdown",
      "source": [
        "\n",
        "### **Function with input but without output**"
      ],
      "metadata": {
        "id": "OwwOSYoS66QU"
      }
    },
    {
      "cell_type": "code",
      "source": [
        "# Function with input (parameters) but without output\n",
        "def introduction(name, location, age):\n",
        "    print(f'Hello, my name is {name}')\n",
        "    print(f'I live in {location}')\n",
        "    print(f'I am {age} years old')\n",
        "\n",
        "introduction('Clara', 'PIK', 22) # Must be in order"
      ],
      "metadata": {
        "colab": {
          "base_uri": "https://localhost:8080/"
        },
        "id": "inqgfPGm7CU6",
        "outputId": "73b260a2-a3d2-4809-e823-3ee4de4477ed"
      },
      "execution_count": null,
      "outputs": [
        {
          "output_type": "stream",
          "name": "stdout",
          "text": [
            "Hello, my name is Clara\n",
            "I live in PIK\n",
            "I am 22 years old\n"
          ]
        }
      ]
    },
    {
      "cell_type": "code",
      "source": [
        "# If order is not desired\n",
        "introduction(age=22, name='Clara', location='PIK')"
      ],
      "metadata": {
        "colab": {
          "base_uri": "https://localhost:8080/"
        },
        "id": "8nRC0giA7nHp",
        "outputId": "efc80b9c-0c47-4c66-d289-a03912bc41f7"
      },
      "execution_count": null,
      "outputs": [
        {
          "output_type": "stream",
          "name": "stdout",
          "text": [
            "Hello, my name is Clara\n",
            "I live in PIK\n",
            "I am 22 years old\n"
          ]
        }
      ]
    },
    {
      "cell_type": "code",
      "source": [
        "# Exercise\n",
        "# Task: Create a function named oscar with parameters\n",
        "# actor name, movie title, and year.\n",
        "# The output should be:\n",
        "# 'The Best Actor winner in 2016 was Leonardo DiCaprio for the movie The Revenant'"
      ],
      "metadata": {
        "id": "uPvToJDf71Bd"
      },
      "execution_count": null,
      "outputs": []
    },
    {
      "cell_type": "code",
      "source": [
        "# Creating oscar function\n",
        "def oscar(name, movie, year):\n",
        "    '''\n",
        "    This function displays the Oscar-winning actor based on the year and movie title.\n",
        "\n",
        "    Args:\n",
        "        name (str): Actor's name\n",
        "        movie (str): Movie acted in\n",
        "        year (int): Year of the Oscar award\n",
        "\n",
        "    Returns:\n",
        "        None\n",
        "    '''\n",
        "    print(f'The Best Actor winner in {year} was {name} for the movie {movie}')\n"
      ],
      "metadata": {
        "id": "TxuAk8K38Jdz"
      },
      "execution_count": null,
      "outputs": []
    },
    {
      "cell_type": "code",
      "source": [
        "oscar('Leonardo DiCaprio', 'The Revenant', 2016)\n",
        "oscar('Cillian Murphy', 'Oppenheimer', 2023)"
      ],
      "metadata": {
        "colab": {
          "base_uri": "https://localhost:8080/"
        },
        "id": "GZxv_ReB8Yte",
        "outputId": "49c056ac-08d6-47a0-ba69-2bea3e56acbd"
      },
      "execution_count": null,
      "outputs": [
        {
          "output_type": "stream",
          "name": "stdout",
          "text": [
            "The Best Actor winner in 2016 was Leonardo DiCaprio for the movie The Revenant\n",
            "The Best Actor winner in 2023 was Cillian Murphy for the movie Oppenheimer\n"
          ]
        }
      ]
    },
    {
      "cell_type": "markdown",
      "source": [
        "### **Function with input and with output**"
      ],
      "metadata": {
        "id": "58d-DSq78mXA"
      }
    },
    {
      "cell_type": "code",
      "source": [
        "# Function with input (parameters) and with output (return)\n",
        "def add_1(number1, number2):  # With input and output\n",
        "    result = number1 + number2\n",
        "    return result  # Using return to produce a value\n",
        "                   # Allows mathematical operations\n",
        "\n",
        "print(add_1(10, 20))"
      ],
      "metadata": {
        "colab": {
          "base_uri": "https://localhost:8080/"
        },
        "id": "_YfjxKPM8yZt",
        "outputId": "63accc02-b5b5-4050-9319-0f40dd15129f"
      },
      "execution_count": null,
      "outputs": [
        {
          "output_type": "stream",
          "name": "stdout",
          "text": [
            "30\n"
          ]
        }
      ]
    },
    {
      "cell_type": "code",
      "source": [
        "# Without return\n",
        "def add_2(number1, number2):\n",
        "    result = number1 + number2\n",
        "    print(result)\n",
        "\n",
        "print(add_2(10, 20))"
      ],
      "metadata": {
        "colab": {
          "base_uri": "https://localhost:8080/"
        },
        "id": "EizR_GCG9aTq",
        "outputId": "d80050f1-955a-44dc-a136-f4436ab2020b"
      },
      "execution_count": null,
      "outputs": [
        {
          "output_type": "stream",
          "name": "stdout",
          "text": [
            "30\n",
            "None\n"
          ]
        }
      ]
    },
    {
      "cell_type": "markdown",
      "source": [
        "When to use 'returm'?\n",
        "- You need to store, reuse, or manipulate the result later.\n",
        "\n",
        "When to use 'print'?\n",
        "- You just want to show something to the user immediately, like debug output or instructions"
      ],
      "metadata": {
        "id": "yaLUEk2cIeC4"
      }
    },
    {
      "cell_type": "code",
      "source": [
        "'''\n",
        "Exercise:\n",
        "\n",
        "Task: Create a function with parameters number1 and number2 that returns four values:\n",
        "1. Sum\n",
        "2. Difference\n",
        "3. Product\n",
        "4. Division result\n",
        "'''\n",
        "\n",
        "def math_operations(number1, number2):\n",
        "    sum_result = number1 + number2\n",
        "    difference = number1 - number2\n",
        "    product = number1 * number2\n",
        "    division = number1 / number2 # Make sure number2 is not zero\n",
        "\n",
        "    return sum_result, difference, product, division\n",
        "\n",
        "# Example usage\n",
        "\n",
        "sum_result, difference, product, division = math_operations(10, 2)\n",
        "print('sum:', sum_result)\n",
        "print('difference:', difference)\n",
        "print('product:', product)\n",
        "print('division:', division)"
      ],
      "metadata": {
        "colab": {
          "base_uri": "https://localhost:8080/"
        },
        "id": "haPsMbYpG65W",
        "outputId": "c524aa98-1cf9-41c2-9bed-e4cf2ae5ef36"
      },
      "execution_count": null,
      "outputs": [
        {
          "output_type": "stream",
          "name": "stdout",
          "text": [
            "sum: 12\n",
            "difference: 8\n",
            "product: 20\n",
            "division: 5.0\n"
          ]
        }
      ]
    },
    {
      "cell_type": "code",
      "source": [
        "# Using unpacking\n",
        "sum_result, difference, product, division = math_operations(10, 2)\n",
        "print('The division result is', division)"
      ],
      "metadata": {
        "colab": {
          "base_uri": "https://localhost:8080/"
        },
        "id": "5l-5bLy0H4-F",
        "outputId": "1b382780-025f-4e3c-8ded-ceb40a2b490b"
      },
      "execution_count": null,
      "outputs": [
        {
          "output_type": "stream",
          "name": "stdout",
          "text": [
            "The division result is 5.0\n"
          ]
        }
      ]
    },
    {
      "cell_type": "markdown",
      "source": [
        "**Creating function with default parameters**\n",
        "* If no argument is provided when calling the function,\n",
        "* the function uses a default value for that parameter."
      ],
      "metadata": {
        "id": "j2rviR4DKe_7"
      }
    },
    {
      "cell_type": "code",
      "source": [
        "# Example of default parameters\n",
        "def greetings(name='Unknown', age=0, location='Indonesia'):\n",
        "    print(f'Hello, my name is {name}, I am {age} years old, and I live in {location}')\n",
        "\n",
        "greetings('Angeline', 26, 'Jakarta')\n",
        "greetings('Kirei', 24)\n",
        "greetings('Felicia')\n",
        "greetings(age=25)"
      ],
      "metadata": {
        "colab": {
          "base_uri": "https://localhost:8080/"
        },
        "id": "RTpTIXL-KjNS",
        "outputId": "556c4289-f017-43ab-aa3e-34d91a0cc05d"
      },
      "execution_count": null,
      "outputs": [
        {
          "output_type": "stream",
          "name": "stdout",
          "text": [
            "Hello, my name is Angeline, I am 26 years old, and I live in Jakarta\n",
            "Hello, my name is Kirei, I am 24 years old, and I live in Indonesia\n",
            "Hello, my name is Felicia, I am 0 years old, and I live in Indonesia\n",
            "Hello, my name is Unknown, I am 25 years old, and I live in Indonesia\n"
          ]
        }
      ]
    },
    {
      "cell_type": "code",
      "source": [
        "def greetings(name='Unknown', age=0, location='Indonesia'):\n",
        "    if name == 'Unknown':\n",
        "        print('I do not wish to reveal my name')\n",
        "    elif age == 0:\n",
        "        print(f'My name is {name}. I do not want to disclose my age')\n",
        "    elif location == 'Indonesia':\n",
        "        print(f'My name is {name}. My location is unknown')\n",
        "    else:\n",
        "        print(f'My name is {name}, I am {age} years old, and I live in {location}')\n",
        "\n",
        "greetings('Asa', 23, 'Bandung')\n",
        "greetings(age=20, location='Bandung')\n",
        "greetings('Felix')\n",
        "greetings('Jingga', 19)"
      ],
      "metadata": {
        "colab": {
          "base_uri": "https://localhost:8080/"
        },
        "id": "ce73ZMohKqF9",
        "outputId": "cc668024-e14d-4014-db1e-21275865f4b5"
      },
      "execution_count": null,
      "outputs": [
        {
          "output_type": "stream",
          "name": "stdout",
          "text": [
            "My name is Asa, I am 23 years old, and I live in Bandung\n",
            "I do not wish to reveal my name\n",
            "My name is Felix. I do not want to disclose my age\n",
            "My name is Jingga. My location is unknown\n"
          ]
        }
      ]
    },
    {
      "cell_type": "markdown",
      "source": [
        "\n",
        "## **Python variable scope: Global and Local**\n"
      ],
      "metadata": {
        "id": "GZbk9RX_3z8s"
      }
    },
    {
      "cell_type": "markdown",
      "source": [
        "\n",
        "\n",
        "**Global Variable**\n",
        "* A variable is declared outside functions and accessible everywhere.\n",
        "* Its value is valid as long as the program runs.\n",
        "* Can be accessed both inside and outside of functions.\n",
        "\n",
        "**Local variable**\n",
        "* A local variable is declared inside a function and only accessible within that function.\n",
        "\n"
      ],
      "metadata": {
        "id": "Fq2FkmETSWxl"
      }
    },
    {
      "cell_type": "markdown",
      "source": [
        "**Global vs Local scope**\n",
        "\n",
        "Key rules:\n",
        "1. Code in global scope cannot use local variables\n",
        "2. Code in local scope can access global variables\n",
        "3. Code in one local scope cannot use variables from another local scope\n",
        "4. You can reuse variable names in different scopes (but shouldn't)"
      ],
      "metadata": {
        "id": "z7Krj9WVPNM9"
      }
    },
    {
      "cell_type": "code",
      "source": [
        "# Rule 1: Global can't access local\n",
        "def spam():\n",
        "    eggs = 31337  # eggs = 31337 is defined inside the function spam(), so it's a local variable.\n",
        "\n",
        "spam()\n",
        "# print(eggs)  # Error - eggs doesn't exist globally\n",
        "# Concept: Variables declared inside a function can't be used outside it."
      ],
      "metadata": {
        "id": "6thTc53AP4xa"
      },
      "execution_count": null,
      "outputs": []
    },
    {
      "cell_type": "code",
      "source": [
        "# Rule 2: Local can access global\n",
        "eggs = 42  # eggs is defined globally, so its a global variable\n",
        "\n",
        "def spam():\n",
        "    print(eggs)  # Uses global eggs # The function spam() accesses eggs, and since no local eggs is defined, it uses the global eggs.\n",
        "\n",
        "spam()\n",
        "print(eggs)"
      ],
      "metadata": {
        "colab": {
          "base_uri": "https://localhost:8080/"
        },
        "id": "Cw1HWIRtQA83",
        "outputId": "b91aecda-5cc7-4940-f373-3b79aaec3ea5"
      },
      "execution_count": null,
      "outputs": [
        {
          "output_type": "stream",
          "name": "stdout",
          "text": [
            "42\n",
            "42\n"
          ]
        }
      ]
    },
    {
      "cell_type": "code",
      "source": [
        "# Rule 3: Locals don't share between functions\n",
        "def spam():\n",
        "    eggs = 99 # spam() defines eggs = 99 (local to spam)\n",
        "    bacon()\n",
        "    print(eggs)  # Prints spam's local eggs (99)\n",
        "\n",
        "def bacon():\n",
        "    ham = 101\n",
        "    eggs = 0  # Different local variable # bacon() defines a separate eggs = 0 (local to bacon)\n",
        "\n",
        "spam()\n",
        "bacon()\n",
        "\n",
        "# spam() calls bacon(), but bacon()'s eggs doesn't affect spam()'s eggs\n",
        "# print(eggs) in spam() refers to its own local eggs = 99"
      ],
      "metadata": {
        "colab": {
          "base_uri": "https://localhost:8080/"
        },
        "id": "B-QAXQ2mQd3s",
        "outputId": "ea64f116-d15d-4171-d85f-0323100464ce"
      },
      "execution_count": null,
      "outputs": [
        {
          "output_type": "stream",
          "name": "stdout",
          "text": [
            "99\n"
          ]
        }
      ]
    },
    {
      "cell_type": "code",
      "source": [
        "# Rule 4: Variable name reuse (confusing!)\n",
        "\n",
        "eggs = 'global'\n",
        "\n",
        "def spam():\n",
        "    eggs = 'spam local'\n",
        "    print(eggs)\n",
        "\n",
        "def bacon():\n",
        "    eggs = 'bacon local'\n",
        "    print(eggs)\n",
        "    spam()\n",
        "    print(eggs)\n",
        "\n",
        "bacon()\n",
        "print(eggs)\n",
        "\n",
        "# Global eggs = 'global'\n",
        "\n",
        "# bacon() defines its own local eggs = 'bacon local' and prints it → 'bacon local'\n",
        "\n",
        "# bacon() calls spam(), which defines its own local eggs = 'spam local' and prints it → 'spam local'\n",
        "\n",
        "# Back in bacon(), it prints its own eggs again → 'bacon local'\n",
        "\n",
        "# Finally, we print global eggs → 'global'"
      ],
      "metadata": {
        "colab": {
          "base_uri": "https://localhost:8080/"
        },
        "id": "yqLKOLD_c6Dt",
        "outputId": "ff190b2a-9cb5-4b63-9f32-239b09657b98"
      },
      "execution_count": null,
      "outputs": [
        {
          "output_type": "stream",
          "name": "stdout",
          "text": [
            "bacon local\n",
            "spam local\n",
            "bacon local\n",
            "global\n"
          ]
        }
      ]
    },
    {
      "cell_type": "markdown",
      "source": [
        "**Case study global vs local variable**"
      ],
      "metadata": {
        "id": "iK9mcIyaXMqX"
      }
    },
    {
      "cell_type": "code",
      "source": [
        "# Case study\n",
        "x = 100         # This is a global variable\n",
        "\n",
        "def get_result():\n",
        "    x = 25      # This is a local variabel\n",
        "    print(x)    # x is using local variable\n",
        "\n",
        "get_result()    # 25\n",
        "print(x)        # 100 --> This x implies to global variable"
      ],
      "metadata": {
        "colab": {
          "base_uri": "https://localhost:8080/"
        },
        "id": "eWKhUfbpul3X",
        "outputId": "3d453b5f-4a56-4fda-d94d-52fb6848dfcc"
      },
      "execution_count": null,
      "outputs": [
        {
          "output_type": "stream",
          "name": "stdout",
          "text": [
            "25\n",
            "100\n"
          ]
        }
      ]
    },
    {
      "cell_type": "code",
      "source": [
        "# Case study\n",
        "x = 100             # This is a global variable\n",
        "\n",
        "def get_result():\n",
        "    print(x)        # This x is a global variable\n",
        "    a = 200         # ini adalah variabel lokal\n",
        "    return a+5\n",
        "\n",
        "get_result()"
      ],
      "metadata": {
        "colab": {
          "base_uri": "https://localhost:8080/"
        },
        "id": "DOka60swvQW3",
        "outputId": "aacdd852-2d61-41d1-b448-11439e4f3bad"
      },
      "execution_count": null,
      "outputs": [
        {
          "output_type": "stream",
          "name": "stdout",
          "text": [
            "100\n"
          ]
        },
        {
          "output_type": "execute_result",
          "data": {
            "text/plain": [
              "205"
            ]
          },
          "metadata": {},
          "execution_count": 47
        }
      ]
    },
    {
      "cell_type": "code",
      "source": [
        "# Case study 1\n",
        "x = 100 # This is a global variable\n",
        "\n",
        "def calculate():\n",
        "    x = 50\n",
        "    return x + 10\n",
        "\n",
        "print(calculate())\n",
        "print(x)\n"
      ],
      "metadata": {
        "colab": {
          "base_uri": "https://localhost:8080/"
        },
        "id": "qolekpjrUGGh",
        "outputId": "5c8a1f9b-6c36-4951-e0b5-7794f49e926a"
      },
      "execution_count": null,
      "outputs": [
        {
          "output_type": "stream",
          "name": "stdout",
          "text": [
            "60\n",
            "100\n"
          ]
        }
      ]
    },
    {
      "cell_type": "code",
      "source": [
        "# Case study 2\n",
        "\n",
        "x = 100\n",
        "\n",
        "def calculate():\n",
        "    a = x + 10\n",
        "    x = 50\n",
        "    return a\n",
        "\n",
        "#print(calculate()) # Unbound error # is reassigned inside the function, Python treats it as a local variable. But it's being used before assignment, causing an error.\n",
        "print(x) # x still the global variable"
      ],
      "metadata": {
        "colab": {
          "base_uri": "https://localhost:8080/"
        },
        "id": "jNORw1SQUPpt",
        "outputId": "a76e841e-e43d-436e-bfa6-0b8f15164573"
      },
      "execution_count": null,
      "outputs": [
        {
          "output_type": "stream",
          "name": "stdout",
          "text": [
            "100\n"
          ]
        }
      ]
    },
    {
      "cell_type": "code",
      "source": [
        "# Case study 3\n",
        "\n",
        "x = 100  # This is a global variable\n",
        "\n",
        "def get_result():\n",
        "    print(x)  # Accessing global variable # it Will print 100\n",
        "    y = 200   # Local variable to the function\n",
        "    return y + 5 # return 205\n",
        "\n",
        "print(get_result())  # Prints result using both global and local variables\n",
        "\n",
        "# print(y)  # Error: 'y' is local and cannot be accessed outside the function\n"
      ],
      "metadata": {
        "colab": {
          "base_uri": "https://localhost:8080/"
        },
        "id": "WVhpxa-aP7IY",
        "outputId": "0784a541-a074-44d6-d9d2-f56a7832462e"
      },
      "execution_count": null,
      "outputs": [
        {
          "output_type": "stream",
          "name": "stdout",
          "text": [
            "100\n",
            "205\n"
          ]
        }
      ]
    },
    {
      "cell_type": "code",
      "source": [
        "# Case study 4\n",
        "x = 100  # Global variable\n",
        "\n",
        "def get_result():\n",
        "    y = x + 20  # Using global x, 'y' is local\n",
        "    return y\n",
        "\n",
        "print(get_result())\n"
      ],
      "metadata": {
        "colab": {
          "base_uri": "https://localhost:8080/"
        },
        "id": "mnaV5tjVQ1BJ",
        "outputId": "1f0a69e1-b697-4dc7-827f-a4921a2a70c4"
      },
      "execution_count": null,
      "outputs": [
        {
          "output_type": "stream",
          "name": "stdout",
          "text": [
            "120\n"
          ]
        }
      ]
    },
    {
      "cell_type": "code",
      "source": [
        "# Case study 5\n",
        "x = 100  # Global variable\n",
        "\n",
        "def get_result():\n",
        "    y = x + 20       # x is used before it’s redefined locally → causes an error\n",
        "    x = 10           # Local x is defined here\n",
        "    return y\n",
        "\n",
        "# print(get_result())  # Error: local x is referenced before assignment\n"
      ],
      "metadata": {
        "id": "e_UskD52RN1c"
      },
      "execution_count": null,
      "outputs": []
    },
    {
      "cell_type": "code",
      "source": [
        "# Case study 6\n",
        "x = 100  # Global variable\n",
        "\n",
        "def get_result():\n",
        "    x = 10         # Local variable\n",
        "    y = x + 20     # Uses local x, instead of using global variable\n",
        "    return y\n",
        "\n",
        "print(get_result())\n"
      ],
      "metadata": {
        "colab": {
          "base_uri": "https://localhost:8080/"
        },
        "id": "3v8xZabMRn3r",
        "outputId": "1ce8a140-3b9b-40ac-d839-646ca52f2974"
      },
      "execution_count": null,
      "outputs": [
        {
          "output_type": "stream",
          "name": "stdout",
          "text": [
            "30\n"
          ]
        }
      ]
    },
    {
      "cell_type": "code",
      "source": [
        "# Case study 7\n",
        "x = 100  # Global variable\n",
        "\n",
        "def get_result():\n",
        "    x = 20\n",
        "    x = x + 20     # Local x\n",
        "    return x\n",
        "\n",
        "print(get_result())\n",
        "print(x)  # Still prints 100 (global x is unchanged)\n"
      ],
      "metadata": {
        "colab": {
          "base_uri": "https://localhost:8080/"
        },
        "id": "hDsaOyGARzfd",
        "outputId": "c96247ae-4498-4725-916d-5299fcf72691"
      },
      "execution_count": null,
      "outputs": [
        {
          "output_type": "stream",
          "name": "stdout",
          "text": [
            "40\n",
            "100\n"
          ]
        }
      ]
    },
    {
      "cell_type": "markdown",
      "source": [
        "Alternative (using 'global' keyworld)"
      ],
      "metadata": {
        "id": "Cun8Aig4R9LX"
      }
    },
    {
      "cell_type": "code",
      "source": [
        "# Case study 8\n",
        "x = 100  # Global variable\n",
        "\n",
        "def get_result():\n",
        "    global x      # Use the global x\n",
        "    x = x + 20    # Modify the global x\n",
        "    return x\n",
        "\n",
        "print(get_result())  # Result is 120\n",
        "print(x)             # Now x = 120\n"
      ],
      "metadata": {
        "colab": {
          "base_uri": "https://localhost:8080/"
        },
        "id": "AI8pznxlSEFs",
        "outputId": "f43091ec-122f-43c6-def4-3cd4c4e8bc94"
      },
      "execution_count": null,
      "outputs": [
        {
          "output_type": "stream",
          "name": "stdout",
          "text": [
            "120\n",
            "120\n"
          ]
        }
      ]
    },
    {
      "cell_type": "markdown",
      "source": [
        "## **Callback Function**\n",
        "\n",
        "* A function that takes another function as an argument."
      ],
      "metadata": {
        "id": "q8_D-dvMSQ8O"
      }
    },
    {
      "cell_type": "code",
      "source": [
        "# Callback function example\n",
        "def operate(fn, a, b):\n",
        "    return fn(a, b)\n",
        "\n",
        "def multiply(x, y):\n",
        "    return x * y\n",
        "\n",
        "print(operate(multiply, 3, 4))\n"
      ],
      "metadata": {
        "colab": {
          "base_uri": "https://localhost:8080/"
        },
        "id": "Wfmuu8-wXs3q",
        "outputId": "a4b732b2-e628-4443-a108-aa93f5df9df6"
      },
      "execution_count": null,
      "outputs": [
        {
          "output_type": "stream",
          "name": "stdout",
          "text": [
            "12\n"
          ]
        }
      ]
    },
    {
      "cell_type": "code",
      "source": [
        "# Callback function example\n",
        "def calculator(fn, num1, num2):\n",
        "    result = fn(num1, num2)\n",
        "    return result\n",
        "\n",
        "def add(num1, num2):\n",
        "    return num1 + num2\n",
        "\n",
        "def subtract(num1, num2):\n",
        "    return num1 - num2\n",
        "\n",
        "def multiply(num1, num2):\n",
        "    return num1 * num2\n",
        "\n",
        "def divide(num1, num2):\n",
        "    return num1 / num2\n",
        "\n",
        "print(calculator(add, 2, 5))\n",
        "print(calculator(multiply, 4, 6))\n"
      ],
      "metadata": {
        "colab": {
          "base_uri": "https://localhost:8080/"
        },
        "id": "2yZbe8pkSanI",
        "outputId": "93314e53-8769-4ce6-a1aa-9b12b4784a48"
      },
      "execution_count": null,
      "outputs": [
        {
          "output_type": "stream",
          "name": "stdout",
          "text": [
            "7\n",
            "24\n"
          ]
        }
      ]
    },
    {
      "cell_type": "markdown",
      "source": [
        "## **Calling Other Functions**\n",
        "\n",
        "* A function can use the result of another function"
      ],
      "metadata": {
        "id": "Gwjnxh8ISeVv"
      }
    },
    {
      "cell_type": "code",
      "source": [
        "# Calling Other Functions\n",
        "def area(length, width):\n",
        "    return length * width\n",
        "\n",
        "def volume(length, width, height):\n",
        "    return area(length, width) * height\n",
        "\n",
        "print(area(2, 5))\n",
        "print(volume(2, 5, 4))\n",
        "\n",
        "# area = 2 * 5 = 10\n",
        "# volume = 10 * 4\n"
      ],
      "metadata": {
        "colab": {
          "base_uri": "https://localhost:8080/"
        },
        "id": "6-O3KFTqSlIF",
        "outputId": "8f2f5c53-d1d8-419c-916a-0f53acb4fac9"
      },
      "execution_count": null,
      "outputs": [
        {
          "output_type": "stream",
          "name": "stdout",
          "text": [
            "10\n",
            "40\n"
          ]
        }
      ]
    },
    {
      "cell_type": "code",
      "source": [
        "# More example\n",
        "def display(answer):\n",
        "    print(f'The answer is {answer}')\n",
        "\n",
        "def print_volume(length, width, height):\n",
        "    answer = area(length, width) * height\n",
        "    display(answer)\n",
        "\n",
        "print_volume(2, 4, 5)\n"
      ],
      "metadata": {
        "colab": {
          "base_uri": "https://localhost:8080/"
        },
        "id": "93R-soRqTEzT",
        "outputId": "e98115d6-01d9-464b-8559-ee003c36e929"
      },
      "execution_count": null,
      "outputs": [
        {
          "output_type": "stream",
          "name": "stdout",
          "text": [
            "The answer is 40\n"
          ]
        }
      ]
    },
    {
      "cell_type": "markdown",
      "source": [
        "## **Recursive function**\n",
        "\n",
        "* A recursive function is a function that calls itself in order to solve a smaller version of the original problem.\n"
      ],
      "metadata": {
        "id": "MKxmieoJVgGK"
      }
    },
    {
      "cell_type": "code",
      "source": [
        "# Example: Countdown - counting back\n",
        "def countdown(num):\n",
        "    print(num)\n",
        "    num -= 1\n",
        "\n",
        "    if num > 0:\n",
        "        countdown(num)\n",
        "\n",
        "countdown(5)"
      ],
      "metadata": {
        "colab": {
          "base_uri": "https://localhost:8080/"
        },
        "id": "sLzYoygAVoCk",
        "outputId": "2391da02-11f7-454c-8b91-23d68094a497"
      },
      "execution_count": null,
      "outputs": [
        {
          "output_type": "stream",
          "name": "stdout",
          "text": [
            "5\n",
            "4\n",
            "3\n",
            "2\n",
            "1\n"
          ]
        }
      ]
    },
    {
      "cell_type": "code",
      "source": [
        "# Example: Factorial\n",
        "def factorial(n):\n",
        "    if n == 0 or n == 1:  # Base case\n",
        "        return 1\n",
        "    else:\n",
        "        return n * factorial(n - 1)  # Recursive case\n",
        "\n",
        "factorial(5)\n",
        "\n",
        "# How it works:\n",
        "# factorial(5)\n",
        "# → 5 * factorial(4)\n",
        "# → 5 * 4 * factorial(3)\n",
        "# → 5 * 4 * 3 * factorial(2)\n",
        "# → 5 * 4 * 3 * 2 * factorial(1)\n",
        "# → 5 * 4 * 3 * 2 * 1  → returns 120"
      ],
      "metadata": {
        "colab": {
          "base_uri": "https://localhost:8080/"
        },
        "id": "G73hMnzTahWD",
        "outputId": "183df065-7cd5-46a4-e694-f114b9c0b452"
      },
      "execution_count": null,
      "outputs": [
        {
          "output_type": "execute_result",
          "data": {
            "text/plain": [
              "120"
            ]
          },
          "metadata": {},
          "execution_count": 41
        }
      ]
    },
    {
      "cell_type": "markdown",
      "source": [
        "## **Lambda function**\n",
        "\n",
        "* A small function without a name\n",
        "* Can have parameters, but only one expression/statement\n",
        "* Syntax --> lambda [parameter]: expression\n"
      ],
      "metadata": {
        "id": "SsV9sU3FUD7O"
      }
    },
    {
      "cell_type": "code",
      "source": [
        "# Regular function\n",
        "def multiply(num1, num2):\n",
        "    return num1 * num2\n",
        "\n",
        "print(f'Regular Function: {multiply(3, 4)}')"
      ],
      "metadata": {
        "colab": {
          "base_uri": "https://localhost:8080/"
        },
        "id": "we0yQMvIUPJG",
        "outputId": "2ba03b8a-12d6-4aa3-9a1c-e0384234075b"
      },
      "execution_count": null,
      "outputs": [
        {
          "output_type": "stream",
          "name": "stdout",
          "text": [
            "Regular Function: 12\n"
          ]
        }
      ]
    },
    {
      "cell_type": "code",
      "source": [
        "# Lambda Function\n",
        "multiply_lambda = lambda num1, num2: num1 * num2  # Parameters are num1 and num2\n",
        "\n",
        "print(f'Lambda Function: {multiply_lambda(3, 4)}')"
      ],
      "metadata": {
        "colab": {
          "base_uri": "https://localhost:8080/"
        },
        "id": "7lmvXHfqURpY",
        "outputId": "2004c522-94e4-4fca-f5c2-d1c583bc34a8"
      },
      "execution_count": null,
      "outputs": [
        {
          "output_type": "stream",
          "name": "stdout",
          "text": [
            "Lambda Function: 12\n"
          ]
        }
      ]
    },
    {
      "cell_type": "code",
      "source": [
        "# Task: Create a function named square with a parameter \"num\" that returns its squared value\n",
        "square_lambda = lambda num: num ** 2\n",
        "print(f'Lambda Function Square: {square_lambda(3)}')"
      ],
      "metadata": {
        "colab": {
          "base_uri": "https://localhost:8080/"
        },
        "id": "B8S83Q1iUWA3",
        "outputId": "95ba6e52-a1d2-451c-9ce9-98b678122a97"
      },
      "execution_count": null,
      "outputs": [
        {
          "output_type": "stream",
          "name": "stdout",
          "text": [
            "Lambda Function Square: 9\n"
          ]
        }
      ]
    },
    {
      "cell_type": "code",
      "source": [
        "# Task 2: Create a lambda function that returns the first letter of a word\n",
        "# where the parameter is \"word\"\n",
        "\n",
        "get_initial = lambda word: word[0]\n",
        "print(f'Lambda Function Get Initial: {get_initial(\"Awesome\")}')\n"
      ],
      "metadata": {
        "colab": {
          "base_uri": "https://localhost:8080/"
        },
        "id": "qEBXfvadUec6",
        "outputId": "7dce371d-09b9-40a9-94fa-d9b7c9d4ead2"
      },
      "execution_count": null,
      "outputs": [
        {
          "output_type": "stream",
          "name": "stdout",
          "text": [
            "Lambda Function Get Initial: A\n"
          ]
        }
      ]
    },
    {
      "cell_type": "code",
      "source": [
        "# Task: Create a lambda function where the parameter is a number\n",
        "# The function should return whether the number is even or odd\n",
        "\n",
        "# Option 1\n",
        "even_odd_lambda = lambda num: 'Even' if num % 2 == 0 else 'Odd'\n",
        "print(f'Even or Odd: {even_odd_lambda(24)}')\n"
      ],
      "metadata": {
        "colab": {
          "base_uri": "https://localhost:8080/"
        },
        "id": "w2CPJEA4Uh33",
        "outputId": "212f1a7d-81a3-41c1-f432-b0d3461492eb"
      },
      "execution_count": null,
      "outputs": [
        {
          "output_type": "stream",
          "name": "stdout",
          "text": [
            "Even or Odd: Even\n"
          ]
        }
      ]
    },
    {
      "cell_type": "markdown",
      "source": [
        "## **Map Function**\n",
        "\n",
        "* The map function is commonly used to transform values in a collection of data\n",
        "* Syntax --> map(function, iterable)"
      ],
      "metadata": {
        "id": "GSK5zzjIUpgl"
      }
    },
    {
      "cell_type": "code",
      "source": [
        "# How to use map()\n",
        "l1 = [1, 2, 3, 4, 5]\n",
        "\n",
        "f1 = lambda x: x * 2\n",
        "l2 = list(map(f1, l1))\n",
        "print(f'before: {l1} and after: {l2}')\n"
      ],
      "metadata": {
        "colab": {
          "base_uri": "https://localhost:8080/"
        },
        "id": "OmtpZD2nlRFT",
        "outputId": "bc2a9c09-ea2f-491c-d060-939e00b62eb3"
      },
      "execution_count": null,
      "outputs": [
        {
          "output_type": "stream",
          "name": "stdout",
          "text": [
            "before: [1, 2, 3, 4, 5] and after: [2, 4, 6, 8, 10]\n"
          ]
        }
      ]
    },
    {
      "cell_type": "code",
      "source": [
        "# Regular function vs map function\n",
        "\n",
        "numbers = [1, 2, 3, 4, 5]\n",
        "\n",
        "def square(num):\n",
        "    return num ** 2\n",
        "\n",
        "print('Map - Regular Function:', list(map(square, numbers)))\n",
        "print('Map - Lambda Function:', list(map(lambda x: x ** 2, numbers)))"
      ],
      "metadata": {
        "colab": {
          "base_uri": "https://localhost:8080/"
        },
        "id": "sDVt80z6Uzc1",
        "outputId": "94321dee-29ae-4ac6-d44a-d6176b80444a"
      },
      "execution_count": null,
      "outputs": [
        {
          "output_type": "stream",
          "name": "stdout",
          "text": [
            "Map - Regular Function: [1, 4, 9, 16, 25]\n",
            "Map - Lambda Function: [1, 4, 9, 16, 25]\n"
          ]
        }
      ]
    },
    {
      "cell_type": "code",
      "source": [
        "# Task: Cube each number in the list using map\n",
        "print('Cubed Numbers (Map & Lambda):', list(map(lambda x: x ** 3, numbers)))"
      ],
      "metadata": {
        "colab": {
          "base_uri": "https://localhost:8080/"
        },
        "id": "68SuQy0NVTQ-",
        "outputId": "2ac5383b-8967-4fbb-c405-0ef0d8f74a22"
      },
      "execution_count": null,
      "outputs": [
        {
          "output_type": "stream",
          "name": "stdout",
          "text": [
            "Cubed Numbers (Map & Lambda): [1, 8, 27, 64, 125]\n"
          ]
        }
      ]
    },
    {
      "cell_type": "markdown",
      "source": [
        "## **Filter Function**\n",
        "\n",
        "* The filter function is used to select certain values from a collection\n",
        "* Syntax --> filter(function, iterable)\n",
        "* The number of items may be reduced, but the values themselves remain unchanged\n"
      ],
      "metadata": {
        "id": "L8rzOSDrVVQg"
      }
    },
    {
      "cell_type": "code",
      "source": [
        "# How to apply filter()\n",
        "l1 = [1, 2, 3, 4, 5]\n",
        "\n",
        "# Filtering even number\n",
        "f1 = lambda x: x % 2 == 0\n",
        "l2 = list(filter(f1, l1))\n",
        "print(f'Before: {l1} and After: {l2}')"
      ],
      "metadata": {
        "colab": {
          "base_uri": "https://localhost:8080/"
        },
        "id": "tFcDsgmFl6cL",
        "outputId": "879fd644-be39-45c9-dea4-9200c33d2dbe"
      },
      "execution_count": null,
      "outputs": [
        {
          "output_type": "stream",
          "name": "stdout",
          "text": [
            "Before: [1, 2, 3, 4, 5] and After: [2, 4]\n"
          ]
        }
      ]
    },
    {
      "cell_type": "code",
      "source": [
        "# Task: Filter out only odd numbers from the list\n",
        "odd_numbers = list(filter(lambda x: x % 2 != 0, numbers))\n",
        "print('Filtered Odd Numbers:', odd_numbers)"
      ],
      "metadata": {
        "colab": {
          "base_uri": "https://localhost:8080/"
        },
        "id": "s1TxlcWfVdaC",
        "outputId": "8d5cc3ab-1698-4ad3-94ba-cd324b8ed917"
      },
      "execution_count": null,
      "outputs": [
        {
          "output_type": "stream",
          "name": "stdout",
          "text": [
            "Filtered Odd Numbers: [1, 3, 5]\n"
          ]
        }
      ]
    }
  ]
}