{
  "nbformat": 4,
  "nbformat_minor": 0,
  "metadata": {
    "colab": {
      "provenance": [],
      "authorship_tag": "ABX9TyMnsL9PdFANRBCDDSqTrmPw",
      "include_colab_link": true
    },
    "kernelspec": {
      "name": "python3",
      "display_name": "Python 3"
    },
    "language_info": {
      "name": "python"
    }
  },
  "cells": [
    {
      "cell_type": "markdown",
      "metadata": {
        "id": "view-in-github",
        "colab_type": "text"
      },
      "source": [
        "<a href=\"https://colab.research.google.com/github/harishmuh/Python-simple-tutorials/blob/main/Conditional_statement_practice_bahasa.ipynb\" target=\"_parent\"><img src=\"https://colab.research.google.com/assets/colab-badge.svg\" alt=\"Open In Colab\"/></a>"
      ]
    },
    {
      "cell_type": "markdown",
      "source": [
        "# Conditional statement (IF ELIF ELSE)"
      ],
      "metadata": {
        "id": "2ho7wOU40ssw"
      }
    },
    {
      "cell_type": "markdown",
      "source": [
        "**Question-1**\n",
        "\n",
        "Buatlah sebuah program untuk menentukan apakah sebuah bilangan termasuk kedalam bilangan ganjil atau bilangan genap. Sebagai tambahan, apabila ditemukan angka 0 berikan keterangan bahwa 0 bukanlah bilangan ganjil atau genap, serta apabila inputan yang dimasukan kurang dari 0 (bilangan negatif), maka berikan output untuk memberi tahu kalau inputan yang benar adalah bilangan bulat positif."
      ],
      "metadata": {
        "id": "q9L8zxGh0zOG"
      }
    },
    {
      "cell_type": "code",
      "execution_count": 3,
      "metadata": {
        "colab": {
          "base_uri": "https://localhost:8080/"
        },
        "id": "OGQVFlpk0kKl",
        "outputId": "f5ca2240-790c-4a39-fd52-fde9be6e54f4"
      },
      "outputs": [
        {
          "output_type": "stream",
          "name": "stdout",
          "text": [
            "Masukkan angka : 0\n",
            "Angka 0 bukan bilangan GANJIL maupun GENAP!\n"
          ]
        }
      ],
      "source": [
        "# --Contoh 1--\n",
        "\n",
        "# Input:\n",
        "# Masukkan angka : 2\n",
        "\n",
        "# Output:\n",
        "# 'Angka 2 tergolong bilangan GENAP!'\n",
        "\n",
        "# --Contoh 2--\n",
        "\n",
        "# Input:\n",
        "# Masukkan angka : 1\n",
        "\n",
        "# Output:\n",
        "# 'Angka 1 tergolong bilangan GANJIL!'\n",
        "\n",
        "# --Contoh 3--\n",
        "\n",
        "# Input:\n",
        "# Masukkan angka : 0\n",
        "\n",
        "# Output:\n",
        "# 'Angka 0 bukan bilangan GANJIL maupun GENAP!'\n",
        "\n",
        "# --Contoh 4--\n",
        "\n",
        "# Input:\n",
        "# Masukkan angka : -5\n",
        "\n",
        "# Output:\n",
        "# 'Tolong masukkan bilangan bulat POSITIF!'\n",
        "\n",
        "angka = int(input('Masukkan angka : '))\n",
        "\n",
        "if angka < 0:\n",
        "    print('Tolong masukkan bilangan bulat POSITIF!')\n",
        "elif angka == 0:\n",
        "    print('Angka 0 bukan bilangan GANJIL maupun GENAP!')\n",
        "elif angka % 2 == 0:\n",
        "    print(f'Angka {angka} tergolong bilangan GENAP!')\n",
        "else:\n",
        "    print(f'Angka {angka} tergolong bilangan GANJIL!')"
      ]
    },
    {
      "cell_type": "markdown",
      "source": [
        "**Question-2**\n",
        "\n",
        "Buatlah sebuah program menu untuk menghitung beberapa rumus bangun ruang.\n",
        "1.\tKetika memasukan angka 1, akan menghitung rumus segitiga\n",
        "2.\tKetika memasukan angka 2, akan menghitung rumus persegi\n",
        "3.\tKetika memasukan angka 3 atau karakter lain, akan mengeluarkan output ‘Masukan Inputan Yang Benar’\n"
      ],
      "metadata": {
        "id": "mJF5cETr2CMf"
      }
    },
    {
      "cell_type": "code",
      "source": [
        "# --Contoh 1--\n",
        "\n",
        "# Print:\n",
        "# MENU MENGHITUNG RUMUS LUAS SEGITIGA DAN PERSEGI\n",
        "# Masukan Angka 1 Untuk Menghitung Luas Segitiga\n",
        "# Masukan Angka 2 Untuk Menghitung Luas Persegi\n",
        "\n",
        "# Input:\n",
        "# Pilihan Menu Yang Diinginkan: 1\n",
        "# Masukan Tinggi Segitiga: 12\n",
        "# Masukan Alas Segitiga: 15\n",
        "\n",
        "# Output:\n",
        "# 'Luas Segitiga Tersebut Adalah 90.0'\n",
        "\n",
        "# --Contoh 2--\n",
        "\n",
        "# Print:\n",
        "# MENU MENGHITUNG RUMUS LUAS SEGITIGA DAN PERSEGI\n",
        "# Masukan Angka 1 Untuk Menghitung Luas Segitiga\n",
        "# Masukan Angka 2 Untuk Menghitung Luas Persegi\n",
        "\n",
        "# Input:\n",
        "# Pilihan Menu Yang Diinginkan: 2\n",
        "# Masukan Sisi Dari Persegi: 10\n",
        "\n",
        "# Output:\n",
        "# 'Luas Persegi Tersebut Adalah 100.0'\n",
        "\n",
        "# --Contoh 3--\n",
        "\n",
        "# Print:\n",
        "# MENU MENGHITUNG RUMUS LUAS SEGITIGA DAN PERSEGI\n",
        "# Masukan Angka 1 Untuk Menghitung Luas Segitiga\n",
        "# Masukan Angka 2 Untuk Menghitung Luas Persegi\n",
        "\n",
        "# Input:\n",
        "# Pilihan Menu Yang Diinginkan: 3\n",
        "\n",
        "# Output:\n",
        "# 'Masukan Inputan Yang Benar'\n",
        "\n",
        "menu = int(input('MENU MENGHITUNG RUMUS LUAS SEGITIGA DAN PERSEGI\\nMasukan Angka 1 Untuk Menghitung Luas Segitiga\\nMasukan Angka 2 Untuk Menghitung Luas Persegi\\nPilih Menu Yang Diinginkan: '))\n",
        "\n",
        "if menu == 1:\n",
        "    tinggi_segitiga = int(input('Masukan Tinggi Segitiga: '))\n",
        "    alas_segitiga = int(input('Masukan Alas Segitiga: '))\n",
        "    luas_segitiga = 0.5 * tinggi_segitiga * alas_segitiga\n",
        "    print(f'Luas Segitiga Tersebut Adalah {luas_segitiga}')\n",
        "if menu == 2:\n",
        "    sisi_persegi = int(input('Masukan Sisi Dari Persegi: '))\n",
        "    luas_persegi = sisi_persegi * sisi_persegi\n",
        "    print(f'Luas Persegi Tersebut Adalah {luas_persegi}')\n",
        "else:\n",
        "    print('Masukan Inputan Yang Benar')"
      ],
      "metadata": {
        "colab": {
          "base_uri": "https://localhost:8080/"
        },
        "id": "NGgPX_ky2D3O",
        "outputId": "529e1027-d063-4a56-f8c2-afac8aed8db0"
      },
      "execution_count": 4,
      "outputs": [
        {
          "output_type": "stream",
          "name": "stdout",
          "text": [
            "MENU MENGHITUNG RUMUS LUAS SEGITIGA DAN PERSEGI\n",
            "Masukan Angka 1 Untuk Menghitung Luas Segitiga\n",
            "Masukan Angka 2 Untuk Menghitung Luas Persegi\n",
            "Pilih Menu Yang Diinginkan: 2\n",
            "Masukan Sisi Dari Persegi: 10\n",
            "Luas Persegi Tersebut Adalah 100\n"
          ]
        }
      ]
    },
    {
      "cell_type": "markdown",
      "source": [
        "**Question-3**\n",
        "\n",
        "Buatlah sebuah program untuk menampilkan sebuah kalimat yang jumlah karakternya dibawah 20 karakter. Jika tidak memasukan inputan apa-apa, program akan menampilkan pesan untuk memasukan sebuah kalimat."
      ],
      "metadata": {
        "id": "khAXIXCN3ABf"
      }
    },
    {
      "cell_type": "code",
      "source": [
        "# --Contoh 1--\n",
        "\n",
        "# Input:\n",
        "# Masukkan sebuah kalimat: saya adalah seorang siswa\n",
        "\n",
        "# Output:\n",
        "# 'Kalimat yang dimasukkan terlalu panjang'\n",
        "\n",
        "# --Contoh 2--\n",
        "\n",
        "# Input:\n",
        "# Masukkan Sebuah Kalimat: saya adalah siswa\n",
        "\n",
        "# Output:\n",
        "# 'Jumlah kalimat ideal, berikut ini adalah kalimatnya: saya adalah siswa'\n",
        "\n",
        "# --Contoh 3--\n",
        "\n",
        "# Input:\n",
        "# Masukkan Sebuah Kalimat:\n",
        "\n",
        "# Output:\n",
        "# 'Masukkan sebuah kalimat!'\n",
        "\n",
        "kalimat = input('Masukkan Sebuah Kalimat: ')\n",
        "jumlah_karakter = len(kalimat)\n",
        "\n",
        "\n",
        "if jumlah_karakter == 0:\n",
        "    print('Masukkan sebuah kalimat!')\n",
        "elif jumlah_karakter < 20:\n",
        "    print(f'Jumlah kalimat ideal, berikut ini adalah kalimatnya: {kalimat}')\n",
        "else:\n",
        "    print('Kalimat yang dimasukkan terlalu panjang')"
      ],
      "metadata": {
        "colab": {
          "base_uri": "https://localhost:8080/"
        },
        "id": "xmo4fJ743JLR",
        "outputId": "8f9924bf-224b-4326-c052-81ad4c852822"
      },
      "execution_count": 12,
      "outputs": [
        {
          "output_type": "stream",
          "name": "stdout",
          "text": [
            "Masukkan Sebuah Kalimat: saya adalah seorang siswa\n",
            "Kalimat yang dimasukkan terlalu panjang\n"
          ]
        }
      ]
    },
    {
      "cell_type": "markdown",
      "source": [
        "**Question-4**\n",
        "\n",
        "Buat program yang akan menerima input berupa berat badan dan juga tinggi seseorang yang selanjutnya akan menghitung IMT atau Indeks Masa Tubuh dengan rumus:\n",
        "\n",
        "$$IMT = \\frac{massa(kg)}{tinggi(meter)^2}$$\n",
        "\n",
        "Kemudian akan memunculkan informasi tergantung dari nilai IMT-nya sebagai berikut.\n",
        "\n",
        "- IMT < 18.5 artinya berat badan kurang\n",
        "- 18.5 - 24.99.. artinya berat badan ideal\n",
        "- 25.0 - 29.99.. artinya berat badan berlebih\n",
        "- 30.0 - 39.99.. artinya berat badan sangat berlebih\n",
        "- IMT >= 40 artinya obesitas\n",
        "\n"
      ],
      "metadata": {
        "id": "o4FtYVic5Ujn"
      }
    },
    {
      "cell_type": "code",
      "source": [
        "# Input:\n",
        "# Masukkan Massa (kg): 67\n",
        "# Masukkan Tinggi (cm): 178\n",
        "\n",
        "# Output:\n",
        "# 'Massa 67 kg dan tinggi 1.78 m'\n",
        "# 'IMT = 21.1463, BERAT BADAN IDEAL!'\n",
        "\n",
        "massa_kg = int(input('Masukkan Massa (kg): '))\n",
        "tinggi_m = float(input('Masukkan Tinggi (cm): ')) / 100\n",
        "IMT = massa_kg / (tinggi_m ** 2)\n",
        "\n",
        "print(f'Massa {massa_kg} kg dan tinggi {tinggi_m} m')\n",
        "\n",
        "if IMT < 18.5:\n",
        "    print(f'IMT = {IMT:.4f}, BERAT BADAN KURANG!')\n",
        "elif IMT >= 18.5 and IMT <= 24.99:\n",
        "    print(f'IMT = {IMT:.4f}, BERAT BADAN IDEAL!')\n",
        "elif IMT >= 25.0 and IMT <= 29.99:\n",
        "    print(f'IMT = {IMT:.4f}, BERAT BADAN BERLEBIH!')\n",
        "elif IMT >= 30.0 and IMT <= 39.99:\n",
        "    print(f'IMT = {IMT:.4f}, BERAT BADAN SANGAT BERLEBIH!')\n",
        "else:\n",
        "    print(f'IMT = {IMT:.4f}, OBESITAS!')\n"
      ],
      "metadata": {
        "colab": {
          "base_uri": "https://localhost:8080/"
        },
        "id": "FXuZqOm55Wkt",
        "outputId": "83fa2603-f53b-48fa-d2fc-199d84299d27"
      },
      "execution_count": 13,
      "outputs": [
        {
          "output_type": "stream",
          "name": "stdout",
          "text": [
            "Masukkan Massa (kg): 62\n",
            "Masukkan Tinggi (cm): 168\n",
            "Massa 62 kg dan tinggi 1.68 m\n",
            "IMT = 21.9671, BERAT BADAN IDEAL!\n"
          ]
        }
      ]
    },
    {
      "cell_type": "markdown",
      "source": [
        "**Question-5**\n",
        "\n",
        "Buatlah sebuah perhitungan untuk mengkonversi suhu Fahrenheit ke dalam bentuk Celsius.\n",
        "- Jika hasil konversinya diantara 36.5 – 37.2 derajat maka tampilkan pesan suhu badan normal.\n",
        "- Jika di bawah suhu tersebut, tampilkan hipotermia\n",
        "- Jika di atas suhu tersebut, tampilkan hipertermia."
      ],
      "metadata": {
        "id": "Arq8UGbT6d2A"
      }
    },
    {
      "cell_type": "code",
      "source": [
        "# --Contoh 1--\n",
        "\n",
        "# Input:\n",
        "# Masukkan suhu (dalam Fahrenheit) : 96\n",
        "\n",
        "# Output:\n",
        "# 'Suhu badan anda adalah :  35.6 Derajat Celcius'\n",
        "# 'ANDA HIPOTERMIA, SEGERA BERI PERTOLONGAN PERTAMA'\n",
        "\n",
        "# --Contoh 2--\n",
        "\n",
        "# Input:\n",
        "# Masukkan suhu (dalam Fahrenheit) : 98\n",
        "\n",
        "# Output:\n",
        "# 'Suhu badan anda adalah :  36.7 Derajat Celcius'\n",
        "# 'SUHU BADAN NORMAL'\n",
        "\n",
        "# --Contoh 3--\n",
        "\n",
        "# Input:\n",
        "# Masukkan suhu (dalam Fahrenheit) : 100\n",
        "\n",
        "# Output:\n",
        "# 'Suhu badan anda adalah :  37.8 Derajat Celcius'\n",
        "# 'ANDA HIPERTERMIA, SEGERA CEK KE DOKTER'\n",
        "\n",
        "Fahrenheit = int(input('Masukkan suhu (dalam Fahrenheit) : '))\n",
        "Celsius = (Fahrenheit - 32) * 5/9\n",
        "print(f'Suhu badan anda adalah :  {Celsius:.1f} Derajat Celcius')\n",
        "\n",
        "if Celsius <= 35.6:\n",
        "  print('ANDA HIPOTERMIA, SEGERA BERI PERTOLONGAN PERTAMA')\n",
        "elif Celsius < 37.2:\n",
        "  print('SUHU BADAN NORMAL')\n",
        "else:\n",
        "  print('ANDA HIPERTERMIA, SEGERA CEK KE DOKTER')"
      ],
      "metadata": {
        "colab": {
          "base_uri": "https://localhost:8080/"
        },
        "id": "0VJamI9z6lEP",
        "outputId": "f0c9ad59-d9bc-436a-c690-5b30945cc3b3"
      },
      "execution_count": 8,
      "outputs": [
        {
          "output_type": "stream",
          "name": "stdout",
          "text": [
            "Masukkan suhu (dalam Fahrenheit) : 100\n",
            "Suhu badan anda adalah :  37.8 Derajat Celcius\n",
            "ANDA HIPERTERMIA, SEGERA CEK KE DOKTER\n"
          ]
        }
      ]
    },
    {
      "cell_type": "markdown",
      "source": [
        "**Question-6**\n",
        "\n",
        "Buatlah sebuah program untuk melakukan konversi dari Celcius ke Fahrenheit atau sebaliknya. Berikut ini ketentuan yang harus dipenuhi untuk membuat program ini.\n",
        "1.\tSuhu harus berupa inputan dan disertai satuan awalnya. Contohnya 10F atau 100C. F menandakan Fahrenheit dan C menandakan Celsius.\n",
        "2.\tJika satuan suhu inputan menunjukan/dituliskan dengan F, maka lakukanlah konversi ke C.\n",
        "3.\tJika satuan suhu inputan menunjukan/dituliskan dengan C, maka lakukanlah konversi ke F.\n",
        "4.\tJika input tidak memasukan satuan apapun, maka munculkan pesan ‘Masukan Input Yang Benar’.\n",
        "5.\tTampilkan hasil konversi suhunya."
      ],
      "metadata": {
        "id": "40zhlLiqJtiW"
      }
    },
    {
      "cell_type": "code",
      "source": [
        "# --Contoh 1--\n",
        "\n",
        "# Input:\n",
        "# Masukkan suhu yang ingin dikonversikan (Contoh : 45F, 102C etc.) : 100C\n",
        "\n",
        "# Output:\n",
        "# 'Suhu 100C jika dikonversikan ke dalam Fahrenheit akan menjadi  212 Derajat Fahrenheit'\n",
        "\n",
        "# --Contoh 2--\n",
        "\n",
        "# Input:\n",
        "# Masukkan suhu yang ingin dikonversikan (Contoh : 45F, 102C etc.) : 212F\n",
        "\n",
        "# Output:\n",
        "# 'Suhu 212F jika dikonversikan ke dalam Celsius akan menjadi  100 Derajat Celsius'\n",
        "\n",
        "# --Contoh 3--\n",
        "\n",
        "# Input:\n",
        "# Masukkan suhu yang ingin dikonversikan (Contoh : 45F, 102C etc.) : 212F\n",
        "\n",
        "# Output:\n",
        "# 'Masukan input yang benar'\n",
        "\n",
        "suhu = input('Masukkan suhu yang ingin dikonversikan (Contoh : 100C, 212F etc.) : ')\n",
        "nilai = int(suhu[:-1])\n",
        "satuan = suhu[-1].upper()\n",
        "\n",
        "if satuan == 'C':\n",
        "    fahrenheit = (nilai * 9/5) + 32\n",
        "    print(f'Suhu {nilai}C jika dikonversikan ke dalam Fahrenheit akan menjadi {fahrenheit} Derajat Fahrenheit')\n",
        "if satuan == 'F':\n",
        "    celcius = (nilai - 32) * 5/9\n",
        "    print(f'Suhu {nilai}F jika dikonversikan ke dalam Celsius akan menjadi {celcius} Derajat Celsius')\n",
        "else:\n",
        "    print('Masukkan input yang valid. (Contoh : 100C, 212F etc.)')"
      ],
      "metadata": {
        "colab": {
          "base_uri": "https://localhost:8080/"
        },
        "id": "PLiC7WkFK7D2",
        "outputId": "3e6d8d63-b643-4dfc-e5de-995314ebb69c"
      },
      "execution_count": 9,
      "outputs": [
        {
          "output_type": "stream",
          "name": "stdout",
          "text": [
            "Masukkan suhu yang ingin dikonversikan (Contoh : 100C, 212F etc.) : 100c\n",
            "Suhu 100C jika dikonversikan ke dalam Fahrenheit akan menjadi 212.0 Derajat Fahrenheit\n",
            "Masukkan input yang valid. (Contoh : 100C, 212F etc.)\n"
          ]
        }
      ]
    },
    {
      "cell_type": "markdown",
      "source": [
        "**Question-7**\n",
        "\n",
        "Buatlah sebuah program yang akan meminta user untuk menginput:\n",
        "1.\tHarga Makanan\n",
        "2.\tJarak Angkut (dalam KM)\n",
        "3.\tKode Voucher\n",
        "\n",
        "Kemudian program akan menampilkan total biaya yang harus dibayarkan oleh user dengan ketentuan:\n",
        "\n",
        "Jarak Angkut :\n",
        "-\tjika kurang dari 5km = 10.000\n",
        "-\tjika lebih besar atau sama dengan 5km dan kurang dari 9km = 16.000\n",
        "-\tjika lebih besar atau sama dengan 9km = 20.000\n",
        "\n",
        "Kode Voucher :\n",
        "-\t0 : tidak pakai voucher\n",
        "-\t1 : harga makanan akan dikurangi 10.000 jika harga makanan yang dipesan lebih dari 30.000\n",
        "-\t2 : potongan ongkos kirim 5.000\n"
      ],
      "metadata": {
        "id": "2B48B573MvuI"
      }
    },
    {
      "cell_type": "code",
      "source": [
        "# --Contoh 1--\n",
        "\n",
        "# Input:\n",
        "# Harga makanan : 50000\n",
        "# Jarak resto ke rumah (km) : 4\n",
        "# Kode Voucher yang digunakan (0, 1, 2): 0\n",
        "\n",
        "# Output:\n",
        "# 'Total biaya yang harus dibayarkan adalah 60000'\n",
        "\n",
        "# --Contoh 2--\n",
        "\n",
        "# Input:\n",
        "# Harga makanan : 35000\n",
        "# Jarak resto ke rumah (km) : 6\n",
        "# Kode Voucher yang digunakan (0, 1, 2): 2\n",
        "\n",
        "# Output:\n",
        "# 'Total biaya yang harus dibayarkan adalah 46000'\n",
        "\n",
        "# --Contoh 3--\n",
        "\n",
        "# Input:\n",
        "# Harga makanan : 42000\n",
        "# Jarak resto ke rumah (km) : 8\n",
        "# Kode Voucher yang digunakan (0, 1, 2): 1\n",
        "\n",
        "# Output:\n",
        "# 'Total biaya yang harus dibayarkan adalah 48000'\n",
        "\n",
        "# --Contoh 4--\n",
        "\n",
        "# Input:\n",
        "# Harga makanan : 28000\n",
        "# Jarak resto ke rumah (km) : 2\n",
        "# Kode Voucher yang digunakan (0, 1, 2): 1\n",
        "\n",
        "# Output:\n",
        "# 'Total biaya yang harus dibayarkan adalah 38000'\n",
        "\n",
        "input_harga = int(input('Harga makanan : '))\n",
        "if input_harga < 0:\n",
        "  print('Masukkan harga makanan yang valid')\n",
        "input_jarak = float(input('Jarak resto ke rumah (km) : '))\n",
        "if input_jarak < 0:\n",
        "  print('Masukkan jarak yang valid')\n",
        "input_voucher = int(input('Kode Voucher yang digunakan (0, 1, 2): '))\n",
        "if input_voucher not in [0,1,2]:\n",
        "  print('Masukkan input voucher yang valid')\n",
        "\n",
        "\n",
        "# Menentukan biaya kirim berdasarkan 'jarak'\n",
        "if input_jarak < 5:\n",
        "  biaya_kirim = 10000\n",
        "elif input_jarak >= 5 and input_jarak < 9:\n",
        "  biaya_kirim = 16000\n",
        "else:\n",
        "  biaya_kirim = 20000\n",
        "\n",
        "# Menghitung potongan harga berdasarkan kode voucher\n",
        "diskon_makanan = 0\n",
        "diskon_biaya_kirim = 0\n",
        "\n",
        "# Menghitung diskon dari kode voucher\n",
        "if input_voucher == 0:\n",
        "  diskon_makanan = diskon_makanan + 0\n",
        "  diskon_biaya_kirim = diskon_biaya_kirim + 0\n",
        "elif input_voucher == 1:\n",
        "  if input_harga > 30000:\n",
        "    diskon_makanan = diskon_makanan + 10000\n",
        "    diskon_biaya_kirim = diskon_biaya_kirim + 0\n",
        "elif input_voucher == 2:\n",
        "    diskon_makanan = diskon_makanan + 0\n",
        "    diskon_biaya_kirim = diskon_biaya_kirim + 5000\n",
        "else:\n",
        "  print('Kode voucher tidak valid')\n",
        "  exit()\n",
        "\n",
        "# Menghitung total biaya yang harus dibayar\n",
        "total_biaya = input_harga + biaya_kirim - diskon_makanan - diskon_biaya_kirim\n",
        "\n",
        "print(f'Total biaya yang harus dibayarkan adalah RP {total_biaya}')"
      ],
      "metadata": {
        "colab": {
          "base_uri": "https://localhost:8080/"
        },
        "id": "NUCseVbaMlf-",
        "outputId": "f069dfd4-a153-4bd8-a9a8-8f5c37ee0143"
      },
      "execution_count": 4,
      "outputs": [
        {
          "output_type": "stream",
          "name": "stdout",
          "text": [
            "Harga makanan : 28000\n",
            "Jarak resto ke rumah (km) : 2\n",
            "Kode Voucher yang digunakan (0, 1, 2): 1\n",
            "Total biaya yang harus dibayarkan adalah RP 38000\n"
          ]
        }
      ]
    },
    {
      "cell_type": "markdown",
      "source": [
        "**Question-8**\n",
        "\n",
        "Dari app market yang sudah dikerjakan pada sesi sebelumnya, tambahkan fitur yang akan meminta jumlah uang setelah menampilkan jumlah akhir yang harus dibayar. Jika sebelumnya hanya berhenti saat menampilkan informasi total harga, pada kali ini dilanjutkan dengan meminta user untuk memasukkan sejumlah bilangan uang guna membayar produk yang sudah dibeli.\n",
        "\n",
        "Dari sini akan menghasilkan tiga kondisi berbeda.\n",
        "- Pertama adalah ketika jumlah uang yang diberikan kurang, informasi yang keluar adalah jumlah uang yang kurang untuk membayar, sekaligus memberitahukan bahwa transaksi dibatalkan karena kurangnya dana.\n",
        "- Kedua adalah saat uang yang diberikan sama dengan total jumlah yang harus dibayar, text yang muncul hanya bertuliskan Terima Kasih.\n",
        "- Ketiga adalah kondisi saat uang yang diberikan lebih besar dari jumlah uang yang harus dibayar, maka muncukan informasi berupa jumlah uang kembalian yang akan diterima.\n",
        "\n",
        "![](m1_s3.png)\n"
      ],
      "metadata": {
        "id": "Bofw-g8fX7P8"
      }
    },
    {
      "cell_type": "code",
      "source": [
        "# Harga buah\n",
        "harga_apel = 10000\n",
        "harga_jeruk = 15000\n",
        "harga_anggur = 20000\n",
        "\n",
        "# Jumlah buah\n",
        "jumlah_apel = int(input(\"Masukkan jumlah apel yang akan dibeli: \"))\n",
        "jumlah_jeruk = int(input(\"Masukkan jumlah jeruk yang akan dibeli: \"))\n",
        "jumlah_anggur = int(input(\"Masukkan jumlah anggur yang akan dibeli: \"))\n",
        "\n",
        "# Total harga\n",
        "total_harga_apel = jumlah_apel * harga_apel\n",
        "total_harga_jeruk = jumlah_jeruk * harga_jeruk\n",
        "total_harga_anggur = jumlah_anggur * harga_anggur\n",
        "total_belanja = total_harga_apel + total_harga_jeruk + total_harga_anggur\n",
        "\n",
        "print(f'''Detail pembelian:\n",
        "Apel: {jumlah_apel} x {harga_apel} = {total_harga_apel}\n",
        "Jeruk: {jumlah_jeruk} x {harga_jeruk} = {total_harga_jeruk}\n",
        "Anggur: {jumlah_anggur} x {harga_anggur} = {total_harga_anggur}\n",
        "\n",
        "Total belanja: {total_belanja}''')\n",
        "\n",
        "uang_dibayar = int(input(\"Masukkan jumlah uang yang akan dibayar: \"))\n",
        "\n",
        "if uang_dibayar < total_belanja:\n",
        "    print(f\"Jumlah uang yang kurang untuk membayar adalah {total_belanja - uang_dibayar}\")\n",
        "    print(\"Transaksi dibatalkan karena kurangnya dana.\")\n",
        "elif uang_dibayar == total_belanja:\n",
        "    print(\"Terima kasih! Transaksi berhasil.\")\n",
        "    print(f\"Total belanja: {total_belanja}\")\n",
        "else:\n",
        "    print(f\"Jumlah uang kembalian yang akan diterima: {uang_dibayar - total_belanja}\")\n"
      ],
      "metadata": {
        "colab": {
          "base_uri": "https://localhost:8080/"
        },
        "id": "OqStmGHqauW1",
        "outputId": "2079d82f-2f22-4f3c-e4cc-373b887a2f2a"
      },
      "execution_count": 5,
      "outputs": [
        {
          "output_type": "stream",
          "name": "stdout",
          "text": [
            "Masukkan jumlah apel yang akan dibeli: 2\n",
            "Masukkan jumlah jeruk yang akan dibeli: 3\n",
            "Masukkan jumlah anggur yang akan dibeli: 4\n",
            "Detail pembelian:\n",
            "Apel: 2 x 10000 = 20000\n",
            "Jeruk: 3 x 15000 = 45000\n",
            "Anggur: 4 x 20000 = 80000\n",
            "\n",
            "Total belanja: 145000\n",
            "Masukkan jumlah uang yang akan dibayar: 100000\n",
            "Jumlah uang yang kurang untuk membayar adalah 45000\n",
            "Transaksi dibatalkan karena kurangnya dana.\n"
          ]
        }
      ]
    },
    {
      "cell_type": "markdown",
      "source": [
        "# Selesai\n",
        "\n",
        "**^_^**"
      ],
      "metadata": {
        "id": "3hMB4QJTcDt5"
      }
    }
  ]
}