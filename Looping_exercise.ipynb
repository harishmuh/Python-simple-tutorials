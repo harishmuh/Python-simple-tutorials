{
  "nbformat": 4,
  "nbformat_minor": 0,
  "metadata": {
    "colab": {
      "provenance": [],
      "authorship_tag": "ABX9TyPqhueDwe6YaFtveqyMKRVx",
      "include_colab_link": true
    },
    "kernelspec": {
      "name": "python3",
      "display_name": "Python 3"
    },
    "language_info": {
      "name": "python"
    }
  },
  "cells": [
    {
      "cell_type": "markdown",
      "metadata": {
        "id": "view-in-github",
        "colab_type": "text"
      },
      "source": [
        "<a href=\"https://colab.research.google.com/github/harishmuh/Python-simple-tutorials/blob/main/Looping_exercise.ipynb\" target=\"_parent\"><img src=\"https://colab.research.google.com/assets/colab-badge.svg\" alt=\"Open In Colab\"/></a>"
      ]
    },
    {
      "cell_type": "markdown",
      "source": [
        "---\n",
        "# **Looping exercise**\n",
        "---"
      ],
      "metadata": {
        "id": "o86SpbE-iwsZ"
      }
    },
    {
      "cell_type": "markdown",
      "source": [
        "## **Question-1**\n",
        "\n",
        "Please display the number that are divisible by 3, from number 1 to 50 !"
      ],
      "metadata": {
        "id": "1x7W5-vhVTyN"
      }
    },
    {
      "cell_type": "code",
      "execution_count": 2,
      "metadata": {
        "colab": {
          "base_uri": "https://localhost:8080/"
        },
        "id": "o84AdUCMVE0K",
        "outputId": "539c5be7-ee34-46ed-ef18-4b1a3da0f32f"
      },
      "outputs": [
        {
          "output_type": "stream",
          "name": "stdout",
          "text": [
            "0 3 6 9 12 15 18 21 24 27 30 33 36 39 42 45 48 "
          ]
        }
      ],
      "source": [
        "'''\n",
        "Question:\n",
        "Please display the number that are divisible by 3, from number 1 to 50 !\n",
        "'''\n",
        "\n",
        "# Output:\n",
        "# 3 6 9 12 15 18 21 24 27 30 33 36 39 42 45 48\n",
        "\n",
        "# Solution 1\n",
        "for i in range(0,50,3):\n",
        "  print(i, end = \" \")"
      ]
    },
    {
      "cell_type": "code",
      "source": [
        "# Solution 2\n",
        "for i in range(1,50):\n",
        "  if i % 3 == 0:\n",
        "    print(i, end = \" \")"
      ],
      "metadata": {
        "colab": {
          "base_uri": "https://localhost:8080/"
        },
        "id": "JqLoMBn7W_W_",
        "outputId": "e9747ef3-7d81-4b4c-febc-935b74cd015f"
      },
      "execution_count": 3,
      "outputs": [
        {
          "output_type": "stream",
          "name": "stdout",
          "text": [
            "3 6 9 12 15 18 21 24 27 30 33 36 39 42 45 48 "
          ]
        }
      ]
    },
    {
      "cell_type": "markdown",
      "source": [
        "## **Question-2**\n",
        "\n",
        "Create a program that displays integers from 1 to 20 with the following specifications:\n",
        "\n",
        "* If the number is a multiple of 3, print multiple of 3\n",
        "\n",
        "* If the number is a multiple of 5, print multiple of 5\n",
        "\n",
        "* If the number is a multiple of both 3 and 5, print multiple of 3 & 5\n",
        "\n",
        "* If the number is not a multiple of 3 or 5, print the number itself"
      ],
      "metadata": {
        "id": "5TtANZS9XMwm"
      }
    },
    {
      "cell_type": "code",
      "source": [
        "# Question-2\n",
        "\n",
        "for i in range(1,21):\n",
        "  if i % 3 == 0 and i % 5 == 0:\n",
        "    print(\"Multiple of 3 & 5\")\n",
        "  elif i % 3 == 0:\n",
        "    print(\"Multiple of 3\")\n",
        "  elif i % 5 == 0:\n",
        "    print(\"Multiple of 5\")\n",
        "  else:\n",
        "    print(i)"
      ],
      "metadata": {
        "colab": {
          "base_uri": "https://localhost:8080/"
        },
        "id": "ACuwVFXLfI3z",
        "outputId": "b2958855-a0c0-468c-f02f-bba3a3e0abc3"
      },
      "execution_count": 8,
      "outputs": [
        {
          "output_type": "stream",
          "name": "stdout",
          "text": [
            "1\n",
            "2\n",
            "Multiple of 3\n",
            "4\n",
            "Multiple of 5\n",
            "Multiple of 3\n",
            "7\n",
            "8\n",
            "Multiple of 3\n",
            "Multiple of 5\n",
            "11\n",
            "Multiple of 3\n",
            "13\n",
            "14\n",
            "Multiple of 3 & 5\n",
            "16\n",
            "17\n",
            "Multiple of 3\n",
            "19\n",
            "Multiple of 5\n"
          ]
        }
      ]
    },
    {
      "cell_type": "markdown",
      "source": [
        "## **Question-3**\n",
        "\n",
        "Please Create a program called “fizzbuzz”.\n",
        "\n",
        "There are 3 inputs:\n",
        "\n",
        "1. The first input is the last number to be displayed.\n",
        "\n",
        "2. The second input is the first divisor.\n",
        "\n",
        "3. The third input is the second divisor.\n",
        "\n",
        "The program should display a sequence of numbers from 1 to the last number. For each number in the sequence:\n",
        "\n",
        "* If the number is divisible by both the first and second divisors, output \"fizzbuzz\"\n",
        "\n",
        "* If it is divisible by only the first divisor, output \"fizz\"\n",
        "\n",
        "* If it is divisible by only the second divisor, output \"buzz\"\n",
        "\n",
        "* If it is not divisible by either, output the original number\n",
        "\n"
      ],
      "metadata": {
        "id": "kyz48HD8ij_I"
      }
    },
    {
      "cell_type": "code",
      "source": [
        "# Question 3\n",
        "# Enter the last number to be displayed: 10\n",
        "# First divisor: 2\n",
        "# Second divisor: 3\n",
        "\n",
        "# User inputs\n",
        "last_number = int(input(\"Enter the last number to be displayed: \"))\n",
        "div1 = int(input(\"First divisor: \"))\n",
        "div2 = int(input(\"Second divisor: \"))\n",
        "\n",
        "# Loop through numbers from 1 to last number\n",
        "for i in range(1,last_number+1):\n",
        "  if i % div1 == 0 and i % div2 == 0:\n",
        "    print(\"fizzbuzz\")\n",
        "  elif i % div1 == 0:\n",
        "    print(\"fizz\")\n",
        "  elif i % div2 == 0:\n",
        "    print(\"buzz\")\n",
        "  else:\n",
        "    print(i)\n"
      ],
      "metadata": {
        "colab": {
          "base_uri": "https://localhost:8080/"
        },
        "id": "JWI3soRkiHl1",
        "outputId": "9bb83891-c370-4f93-815e-3a931a383e87"
      },
      "execution_count": 10,
      "outputs": [
        {
          "output_type": "stream",
          "name": "stdout",
          "text": [
            "Enter the last number to be displayed: 10\n",
            "First divisor: 2\n",
            "Second divisor: 3\n",
            "1\n",
            "fizz\n",
            "buzz\n",
            "fizz\n",
            "5\n",
            "fizzbuzz\n",
            "7\n",
            "fizz\n",
            "buzz\n",
            "fizz\n"
          ]
        }
      ]
    },
    {
      "cell_type": "markdown",
      "source": [
        "## **Question-4**\n",
        "\n",
        "Display only the words with the initial alphabet 'p' from this text below:\n",
        "\n",
        "* *Penghargaan yang paling tinggi bagi seorang pekerja keras bukanlah apa yang akhirnya ia peroleh dari pekerjaan tersebut akan tetapi seberapa berkembangnya dia dengan seluruh kerja kerasnya itu*"
      ],
      "metadata": {
        "id": "PpDrBwuhmbQ0"
      }
    },
    {
      "cell_type": "code",
      "source": [
        "# Question 4\n",
        "text = 'Penghargaan yang paling tinggi bagi seorang pekerja keras bukanlah apa yang akhirnya ia peroleh dari pekerjaan tersebut akan tetapi seberapa berkembangnya dia dengan seluruh kerja kerasnya itu'\n",
        "\n",
        "list_text = text.split()\n",
        "\n",
        "for i in list_text:\n",
        "  if i[0] == 'p' or i[0] == 'P':\n",
        "    print(i)\n"
      ],
      "metadata": {
        "colab": {
          "base_uri": "https://localhost:8080/"
        },
        "id": "IA3gRmWKm9i3",
        "outputId": "ba689709-5755-4ba8-d4e3-4311f7395e93"
      },
      "execution_count": 11,
      "outputs": [
        {
          "output_type": "stream",
          "name": "stdout",
          "text": [
            "Penghargaan\n",
            "paling\n",
            "pekerja\n",
            "peroleh\n",
            "pekerjaan\n"
          ]
        }
      ]
    },
    {
      "cell_type": "markdown",
      "source": [
        "## **Question-5**\n",
        "\n",
        "Display only the words with odd number of this text below:\n",
        "\n",
        "- *Jangan pernah berhenti belajar karena hidup tidak pernah selesai mengajar*"
      ],
      "metadata": {
        "id": "RuRkWplindwD"
      }
    },
    {
      "cell_type": "code",
      "source": [
        "# Question 5\n",
        "text = 'Jangan pernah berhenti belajar karena hidup tidak pernah selesai mengajar'\n",
        "\n",
        "list_text = text.split()\n",
        "\n",
        "for i in list_text:\n",
        "  if len(i) % 2 != 0:\n",
        "    print(i)"
      ],
      "metadata": {
        "colab": {
          "base_uri": "https://localhost:8080/"
        },
        "id": "WWXZiiSqn8sv",
        "outputId": "7797d4d3-1dec-48db-84d8-9b58101992ea"
      },
      "execution_count": 12,
      "outputs": [
        {
          "output_type": "stream",
          "name": "stdout",
          "text": [
            "belajar\n",
            "hidup\n",
            "tidak\n",
            "selesai\n"
          ]
        }
      ]
    },
    {
      "cell_type": "markdown",
      "source": [
        "## **Question-6**\n",
        "\n",
        "* Create a program to count the number of letters and digits in an input sentence.\n",
        "\n",
        "* Use the .isdigit() and .isalpha() functions to help count them."
      ],
      "metadata": {
        "id": "pMnOPKBxoGNP"
      }
    },
    {
      "cell_type": "code",
      "source": [
        "# Question 6\n",
        "\n",
        "# Input:\n",
        "# Enter a sentence:\n",
        "# \"saya berumur 22 tahun & saya bangga\"\n",
        "\n",
        "# Output:\n",
        "# Number of letters in the sentence: 26\n",
        "# Number of digits in the sentence: 2\n",
        "\n",
        "# Ask user for input\n",
        "sentence = input(\"Enter a sentence: \")\n",
        "\n",
        "# Initialize counters\n",
        "letter_count = 0\n",
        "digit_count = 0\n",
        "\n",
        "# Count letters and digits\n",
        "for char in sentence:\n",
        "    if char.isalpha():\n",
        "        letter_count += 1\n",
        "    elif char.isdigit():\n",
        "        digit_count += 1\n",
        "\n",
        "# Display the results\n",
        "print(f\"Number of letters in the sentence: {letter_count}\")\n",
        "print(f\"Number of digits in the sentence: {digit_count}\")"
      ],
      "metadata": {
        "colab": {
          "base_uri": "https://localhost:8080/"
        },
        "id": "0TswzleyofJj",
        "outputId": "d4799744-9585-4295-e11f-23b4e38f9e65"
      },
      "execution_count": 13,
      "outputs": [
        {
          "output_type": "stream",
          "name": "stdout",
          "text": [
            "Enter a sentence: saya berumur 22 tahun & saya bangga\n",
            "Number of letters in the sentence: 26\n",
            "Number of digits in the sentence: 2\n"
          ]
        }
      ]
    },
    {
      "cell_type": "markdown",
      "source": [
        "# **Question-7**\n",
        "\n",
        "From the following list:\n",
        "[12, 15, 1, 7, 4, 100]\n",
        "\n",
        "Create an algorithm to find the highest number in the list without using the max or sort functions."
      ],
      "metadata": {
        "id": "z9516eqxqLIz"
      }
    },
    {
      "cell_type": "code",
      "source": [
        "# Question 7\n",
        "list_number = [12, 15, 1, 7, 4, 100]\n",
        "\n",
        "# Assume the first number is the highest\n",
        "highest = list_number[0]\n",
        "\n",
        "# Loop through the list to find the highest number\n",
        "for number in list_number:\n",
        "    if number > highest:\n",
        "        highest = number\n",
        "\n",
        "# Output the result\n",
        "print(\"The highest number is:\", highest)"
      ],
      "metadata": {
        "colab": {
          "base_uri": "https://localhost:8080/"
        },
        "id": "Y-xUu3wmqWiM",
        "outputId": "0a1a5d2a-9b1c-46e9-d436-fe65d3eeea5c"
      },
      "execution_count": 14,
      "outputs": [
        {
          "output_type": "stream",
          "name": "stdout",
          "text": [
            "The highest number is: 100\n"
          ]
        }
      ]
    },
    {
      "cell_type": "markdown",
      "source": [
        "## **Question-8**\n",
        "\n",
        "* Create an input that specifies the maximum number of rows.\n",
        "\n",
        "* Then, create a program that will display the output as shown below."
      ],
      "metadata": {
        "id": "7iZW-rcmq2gD"
      }
    },
    {
      "cell_type": "code",
      "source": [
        "# Input\n",
        "# Enter the maximum number of rows: # 7\n",
        "\n",
        "# Output:\n",
        "# 1\n",
        "# 1 2\n",
        "# 1 2 3\n",
        "# 1 2 3 4\n",
        "# 1 2 3 4 5\n",
        "# 1 2 3 4 5 6\n",
        "# 1 2 3 4 5 6 7\n",
        "\n",
        "# Ask user for the maximum number of rows\n",
        "max_rows = int(input(\"Enter the maximum number of rows: \"))\n",
        "\n",
        "# Loop to print each row\n",
        "for i in range(1, max_rows + 1):\n",
        "    for j in range(1, i + 1):\n",
        "        print(j, end=' ')\n",
        "    print()  # Move to the next line after each row"
      ],
      "metadata": {
        "colab": {
          "base_uri": "https://localhost:8080/"
        },
        "id": "StPW7khJrTBx",
        "outputId": "8deff6e3-b357-44ce-c4df-f46cf004e3ed"
      },
      "execution_count": 15,
      "outputs": [
        {
          "output_type": "stream",
          "name": "stdout",
          "text": [
            "Enter the maximum number of rows: 7\n",
            "1 \n",
            "1 2 \n",
            "1 2 3 \n",
            "1 2 3 4 \n",
            "1 2 3 4 5 \n",
            "1 2 3 4 5 6 \n",
            "1 2 3 4 5 6 7 \n"
          ]
        }
      ]
    },
    {
      "cell_type": "markdown",
      "source": [
        "## **Question-9**\n",
        "\n",
        "A **prime number** is a whole number greater than 1 that has only two distinct divisors: 1 and itself.\n",
        "\n",
        "Create a program that takes an input number from the user and displays whether the number is a **prime number** or **not**."
      ],
      "metadata": {
        "id": "VMaVihdPr6eQ"
      }
    },
    {
      "cell_type": "code",
      "source": [
        "# Question 9\n",
        "\n",
        "# ---Example 1---\n",
        "\n",
        "# Input:\n",
        "# Enter a number: 1\n",
        "\n",
        "# Output:\n",
        "# Number 1 is not a prime number\n",
        "\n",
        "# ---Example 2---\n",
        "\n",
        "# Input:\n",
        "# Enter a number: 8\n",
        "\n",
        "# Output:\n",
        "# Number 8 is not a prime number\n",
        "\n",
        "# Ask the user for input\n",
        "number = int(input(\"Enter a number: \"))\n",
        "\n",
        "# Check if number is a prime\n",
        "\n",
        "# Solution\n",
        "if number <= 1:\n",
        "    print(f\"Number {number} is not a prime number\")\n",
        "else:\n",
        "    is_prime = True\n",
        "    for i in range(2, int(number ** 0.5) + 1):\n",
        "        if number % i == 0:\n",
        "            is_prime = False\n",
        "            break\n",
        "\n",
        "    if is_prime:\n",
        "        print(f\"Number {number} is a prime number\")\n",
        "    else:\n",
        "        print(f\"Number {number} is not a prime number\")\n"
      ],
      "metadata": {
        "colab": {
          "base_uri": "https://localhost:8080/"
        },
        "id": "p45AeVmKsNMt",
        "outputId": "846eac9e-f34d-4e06-8c06-585dfd875be6"
      },
      "execution_count": 18,
      "outputs": [
        {
          "output_type": "stream",
          "name": "stdout",
          "text": [
            "Enter a number: 13\n",
            "Number 13 is a prime number\n"
          ]
        }
      ]
    },
    {
      "cell_type": "markdown",
      "source": [
        "##  **Question-10**\n",
        "\n",
        "Caesar Cipher is a classical cryptographic algorithm that was once used by Julius Caesar to send secret messages or military tactics. The Caesar Cipher is also known as a Shift Cipher because the letters in the plaintext are replaced by other letters at a fixed position in the alphabet. Julius Caesar originally used a shift of **3 letters**, as shown below:\n",
        "\n",
        "| Plain Text | A | B | C | D | E | F | G | H | I | J | K | L | M |\n",
        "| --- | --- | --- | --- | --- | --- | --- | --- | --- | --- | --- | --- | --- | --- |\n",
        "| Ciphered Text | D | E | F | G | H | I | J | K | L | M | N | O | P |\n",
        "\n",
        "-\n",
        "\n",
        "| Plain Text | N | O | P | Q | R | S | T | U | V | W | X | Y | Z |\n",
        "| --- | --- | --- | --- | --- | --- | --- | --- | --- | --- | --- | --- | --- | --- |\n",
        "| Ciphered Text | Q | R | S | T | U | V | W | X | Y | Z | A | B | C |\n",
        "\n",
        "\n",
        "As an example, we can convert the plaintext \"KRIPTOGRAFI\" using a Caesar Cipher with a shift of 3 letters. After encryption, the result becomes \"NUSWRJUDILI\" (assuming the intended example is consistent).\n",
        "\n",
        "So, the cipher text in the Caesar Cipher algorithm is the result of shifting the original letter by a certain number of places. The shift is not limited to 3 letters only.\n",
        "\n",
        "Now, if someone sends a message using the Caesar Cipher as follows:\n",
        "\n",
        "* *VULUHA MCUJU VYLMOHAAOB-MOHAAOB, XCU JUMNC UEUH VYLBUMCF*\n",
        "\n",
        "Your task is to determine the meaning of this message.\n"
      ],
      "metadata": {
        "id": "T5YmCn8-uF9t"
      }
    },
    {
      "cell_type": "code",
      "source": [
        "# Question 10\n",
        "# Solution 1\n",
        "# Define Caesar cipher decryption function\n",
        "def caesar_decrypt(cipher_text, shift):\n",
        "    decrypted_text = ''\n",
        "    for char in cipher_text:\n",
        "        if char.isalpha():\n",
        "            # Shift character within uppercase alphabet\n",
        "            shifted = ord(char) - shift\n",
        "            if shifted < ord('A'):\n",
        "                shifted += 26\n",
        "            decrypted_text += chr(shifted)\n",
        "        else:\n",
        "            # Keep non-alphabetic characters as-is\n",
        "            decrypted_text += char\n",
        "    return decrypted_text\n",
        "\n",
        "# Encrypted message\n",
        "cipher_message = \"VULUHA MCUJU VYLMOHAAOB-MOHAAOB, XCU JUMNC UEUH VYLBUMCF\"\n",
        "\n",
        "# Try decryption with shift = 3 (commonly used by Caesar)\n",
        "decrypted_message = caesar_decrypt(cipher_message, 3)\n",
        "decrypted_message"
      ],
      "metadata": {
        "colab": {
          "base_uri": "https://localhost:8080/",
          "height": 35
        },
        "id": "eXoHGO3y4DCq",
        "outputId": "cad858b9-4179-48fa-937b-3ef9ccf374d7"
      },
      "execution_count": 1,
      "outputs": [
        {
          "output_type": "execute_result",
          "data": {
            "text/plain": [
              "'SRIREX JZRGR SVIJLEXXLY-JLEXXLY, UZR GRJKZ RBRE SVIYRJZC'"
            ],
            "application/vnd.google.colaboratory.intrinsic+json": {
              "type": "string"
            }
          },
          "metadata": {},
          "execution_count": 1
        }
      ]
    },
    {
      "cell_type": "code",
      "source": [
        "# Question 10 # Works for both uppercase and lowercase letters\n",
        "# Solution 2\n",
        "def caesar_decrypt(cipher_text, shift):\n",
        "    decrypted_text = ''\n",
        "    for char in cipher_text:\n",
        "        if char.isupper():\n",
        "            shifted = ord(char) - shift\n",
        "            if shifted < ord('A'):\n",
        "                shifted += 26\n",
        "            decrypted_text += chr(shifted)\n",
        "        elif char.islower():\n",
        "            shifted = ord(char) - shift\n",
        "            if shifted < ord('a'):\n",
        "                shifted += 26\n",
        "            decrypted_text += chr(shifted)\n",
        "        else:\n",
        "            decrypted_text += char\n",
        "    return decrypted_text\n",
        "\n",
        "# Example use:\n",
        "cipher_message = \"VULUHA MCUJU VYLMOHAAOB-MOHAAOB, XCU JUMNC UEUH VYLBUMCF\"\n",
        "decrypted_message = caesar_decrypt(cipher_message, 3)\n",
        "print(decrypted_message)\n"
      ],
      "metadata": {
        "colab": {
          "base_uri": "https://localhost:8080/"
        },
        "id": "PjsS05LU54B5",
        "outputId": "7bdcc852-3b9b-4c78-8939-92f58e232b0a"
      },
      "execution_count": 2,
      "outputs": [
        {
          "output_type": "stream",
          "name": "stdout",
          "text": [
            "SRIREX JZRGR SVIJLEXXLY-JLEXXLY, UZR GRJKZ RBRE SVIYRJZC\n"
          ]
        }
      ]
    }
  ]
}