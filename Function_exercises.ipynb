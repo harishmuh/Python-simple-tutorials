{
  "nbformat": 4,
  "nbformat_minor": 0,
  "metadata": {
    "colab": {
      "provenance": [],
      "authorship_tag": "ABX9TyPy1aGYNssn4sYZeNso5FBc",
      "include_colab_link": true
    },
    "kernelspec": {
      "name": "python3",
      "display_name": "Python 3"
    },
    "language_info": {
      "name": "python"
    }
  },
  "cells": [
    {
      "cell_type": "markdown",
      "metadata": {
        "id": "view-in-github",
        "colab_type": "text"
      },
      "source": [
        "<a href=\"https://colab.research.google.com/github/harishmuh/Python-simple-tutorials/blob/main/Function_exercises.ipynb\" target=\"_parent\"><img src=\"https://colab.research.google.com/assets/colab-badge.svg\" alt=\"Open In Colab\"/></a>"
      ]
    },
    {
      "cell_type": "markdown",
      "source": [
        "---\n",
        "# **Exercise**\n",
        "---"
      ],
      "metadata": {
        "id": "tl7psVDuDKxw"
      }
    },
    {
      "cell_type": "markdown",
      "source": [
        "## **Question-1**\n",
        "\n",
        "Create a function named `calculate_area` to calculate the area of a circle with a parameter `radius`. The result should be a decimal number rounded to two decimal places.\n"
      ],
      "metadata": {
        "id": "jMPBV4zPDPJz"
      }
    },
    {
      "cell_type": "code",
      "execution_count": 1,
      "metadata": {
        "id": "d8sCLHfYC8yn"
      },
      "outputs": [],
      "source": [
        "import math\n",
        "\n",
        "def calculate_area(radius):\n",
        "    area_circle = round(math.pi * radius**2, 2)\n",
        "    return area_circle"
      ]
    },
    {
      "cell_type": "markdown",
      "source": [
        "Your solution is correct if the following assertions do not raise errors."
      ],
      "metadata": {
        "id": "ronCAdvNDesA"
      }
    },
    {
      "cell_type": "code",
      "source": [
        "assert calculate_area(3) == 28.27\n",
        "assert calculate_area(7) == 153.94\n",
        "assert calculate_area(11) == 380.13\n",
        "assert calculate_area(20) == 1256.64"
      ],
      "metadata": {
        "id": "v8F5zux8DgQX"
      },
      "execution_count": 2,
      "outputs": []
    },
    {
      "cell_type": "markdown",
      "source": [
        "## **Question-2**\n",
        "\n",
        "Create a function named multiplication with a parameter number that will display/print the multiplication table from 1 to 10 for that number."
      ],
      "metadata": {
        "id": "JYDpBBGKDvd6"
      }
    },
    {
      "cell_type": "code",
      "source": [
        "# Function\n",
        "# multiplication(9)\n",
        "\n",
        "# Output\n",
        "# 9 x 1 = 9\n",
        "# 9 x 2 = 18\n",
        "# 9 x 3 = 27\n",
        "# 9 x 4 = 36\n",
        "# 9 x 5 = 45\n",
        "# 9 x 6 = 54\n",
        "# 9 x 7 = 63\n",
        "# 9 x 8 = 72\n",
        "# 9 x 9 = 81\n",
        "# 9 x 10 = 90\n",
        "\n",
        "def multiplication(number):\n",
        "    for multiplier in range(1, 11):\n",
        "        result = number * multiplier\n",
        "        print(f'{number} x {multiplier} = {result}')\n",
        "\n",
        "multiplication(9)"
      ],
      "metadata": {
        "colab": {
          "base_uri": "https://localhost:8080/"
        },
        "id": "kR92obfJD54k",
        "outputId": "9ef2a871-0ace-428f-80ec-59add831f5e5"
      },
      "execution_count": 3,
      "outputs": [
        {
          "output_type": "stream",
          "name": "stdout",
          "text": [
            "9 x 1 = 9\n",
            "9 x 2 = 18\n",
            "9 x 3 = 27\n",
            "9 x 4 = 36\n",
            "9 x 5 = 45\n",
            "9 x 6 = 54\n",
            "9 x 7 = 63\n",
            "9 x 8 = 72\n",
            "9 x 9 = 81\n",
            "9 x 10 = 90\n"
          ]
        }
      ]
    },
    {
      "cell_type": "markdown",
      "source": [
        "**Question-3**\n",
        "\n",
        "Websites often use relative timestamps like \"3 days ago\" or \"about 3 hours ago\" so users don't need to compare absolute timestamps with the current time. In this exercise, you will write a function that converts a number of seconds into a string representing the number of days, hours, minutes, and seconds.\n",
        "\n",
        "\n",
        "Create a function named time_convert() with a parameter total_seconds. The argument for this parameter is the number of seconds to be translated into days, hours, minutes, and seconds. If the number of days, hours, minutes, or seconds is zero, do not display it. The function should return '10m' instead of '0h 10m 0s'."
      ],
      "metadata": {
        "id": "ZzkJ-WpEELKo"
      }
    },
    {
      "cell_type": "code",
      "source": [
        "# Method by Mr. Boni\n",
        "\n",
        "def time_convert(total_seconds):\n",
        "    days = total_seconds // (24 * 3600)\n",
        "    remaining = total_seconds % (24 * 3600)\n",
        "    hours = remaining // 3600\n",
        "    remaining = total_seconds % 3600\n",
        "    minutes = remaining // 60\n",
        "    seconds = total_seconds % 60\n",
        "    result = ''\n",
        "    if days > 0:\n",
        "        result = result + str(days) + 'd '\n",
        "    if hours > 0:\n",
        "        result = result + str(hours) + 'h '\n",
        "    if minutes > 0:\n",
        "        result = result + str(minutes) + 'm '\n",
        "    if seconds > 0 or (days == 0 and hours == 0 and minutes == 0):\n",
        "        result = result + str(seconds) + 's '\n",
        "    return result.strip()\n",
        "\n",
        "time_convert(0)"
      ],
      "metadata": {
        "colab": {
          "base_uri": "https://localhost:8080/",
          "height": 36
        },
        "id": "COyb7lSvETHi",
        "outputId": "824940ff-ab52-4ef8-f8f7-15c164a39957"
      },
      "execution_count": 4,
      "outputs": [
        {
          "output_type": "execute_result",
          "data": {
            "text/plain": [
              "'0s'"
            ],
            "application/vnd.google.colaboratory.intrinsic+json": {
              "type": "string"
            }
          },
          "metadata": {},
          "execution_count": 4
        }
      ]
    },
    {
      "cell_type": "markdown",
      "source": [
        "Your solution is correct if the following assertions do not raise errors."
      ],
      "metadata": {
        "id": "ZKyWN5ViEZGj"
      }
    },
    {
      "cell_type": "code",
      "source": [
        "assert time_convert(0) == '0s'\n",
        "assert time_convert(30) == '30s'\n",
        "assert time_convert(60) == '1m'\n",
        "assert time_convert(90) == '1m 30s'\n",
        "assert time_convert(3600) == '1h'\n",
        "assert time_convert(3601) == '1h 1s'\n",
        "assert time_convert(3661) == '1h 1m 1s'\n",
        "assert time_convert(86400) == '1d'\n",
        "assert time_convert(90042) == '1d 1h 42s'\n",
        "assert time_convert(90102) == '1d 1h 1m 42s'"
      ],
      "metadata": {
        "id": "K67A7xu6EbGH"
      },
      "execution_count": 5,
      "outputs": []
    },
    {
      "cell_type": "markdown",
      "source": [
        "**Question-4**\n",
        "\n",
        "According to Encyclopedia Britannica, a factorial is the product of all positive integers less than or equal to a given positive integer, denoted by an exclamation mark (!). For example, the factorial of four is written as 4!. The value of 4! is the product of all positive integers below 4:\n",
        "\n",
        "4\n",
        "!\n",
        "=\n",
        "4\n",
        "×\n",
        "3\n",
        "×\n",
        "2\n",
        "×\n",
        "1\n",
        "=\n",
        "24\n",
        "4!=4×3×2×1=24\n",
        "\n",
        "Thus, the factorial of 4 is 24. Simply put, a factorial is the product of all integers below the factorial number and the number itself.\n",
        "\n",
        "Create a function named factorial to calculate the factorial of a given number."
      ],
      "metadata": {
        "id": "N4oenOJbEeFF"
      }
    },
    {
      "cell_type": "code",
      "source": [
        "# Alternative 1\n",
        "def factorial(number):\n",
        "    result = 1\n",
        "    for i in range(1, number + 1):\n",
        "        result *= i\n",
        "    return result"
      ],
      "metadata": {
        "id": "aDhFINK-EnH_"
      },
      "execution_count": 10,
      "outputs": []
    },
    {
      "cell_type": "code",
      "source": [
        "assert factorial(0) == 1\n",
        "assert factorial(1) == 1\n",
        "assert factorial(2) == 2\n",
        "assert factorial(3) == 6\n",
        "assert factorial(4) == 24\n",
        "assert factorial(5) == 120\n",
        "assert factorial(6) == 720\n",
        "assert factorial(7) == 5040\n",
        "assert factorial(8) == 40320\n",
        "assert factorial(9) == 362880\n",
        "assert factorial(10) == 3628800\n",
        "\n",
        "# Your solution is correct if the following assertions do not raise errors."
      ],
      "metadata": {
        "id": "kIDoTXLREwZt"
      },
      "execution_count": 11,
      "outputs": []
    },
    {
      "cell_type": "code",
      "source": [
        "# Alternative 2\n",
        "def factorial(number):\n",
        "    if number == 0:\n",
        "        return 1\n",
        "    elif number < 0:\n",
        "        return None\n",
        "    else:\n",
        "        return number * factorial(number - 1)"
      ],
      "metadata": {
        "id": "LvIm6U_XE0f0"
      },
      "execution_count": 12,
      "outputs": []
    },
    {
      "cell_type": "code",
      "source": [
        "assert factorial(0) == 1\n",
        "assert factorial(1) == 1\n",
        "assert factorial(2) == 2\n",
        "assert factorial(3) == 6\n",
        "assert factorial(4) == 24\n",
        "assert factorial(5) == 120\n",
        "assert factorial(6) == 720\n",
        "assert factorial(7) == 5040\n",
        "assert factorial(8) == 40320\n",
        "assert factorial(9) == 362880\n",
        "assert factorial(10) == 3628800\n",
        "\n",
        "# Your solution is correct if the following assertions do not raise errors."
      ],
      "metadata": {
        "id": "kzA9f0uKE-Ff"
      },
      "execution_count": 13,
      "outputs": []
    },
    {
      "cell_type": "markdown",
      "source": [
        "## **Question-5**\n",
        "\n",
        "Combination is the selection of items from a collection where the order does not matter. Since order is irrelevant, this is the key difference between combinations and permutations. In combinations, the arrangement XY is the same as YX, whereas in permutations, XY and YX are considered different arrangements.\n",
        "\n",
        "Combinations can be denoted and calculated as follows:\n",
        "\n",
        "C\n",
        "n/k\n",
        "​\n",
        " = (n/k\n",
        "​\n",
        " )=\n",
        "n!/k!(n−k)!\n",
        "\n",
        "Where n is the total number of items to choose from, k is the number of items to choose, and the ! symbol denotes factorial.\n",
        "\n",
        "Create a function named combination to calculate the number of combinations with parameters n and k."
      ],
      "metadata": {
        "id": "JETm18hZFK4i"
      }
    },
    {
      "cell_type": "code",
      "source": [
        "def combination(n, k):\n",
        "    return factorial(n) / (factorial(k) * factorial(n - k))"
      ],
      "metadata": {
        "id": "3K_lUvk1GMbc"
      },
      "execution_count": 14,
      "outputs": []
    },
    {
      "cell_type": "markdown",
      "source": [
        "\n",
        "Your solution is correct if the following assertions do not raise errors."
      ],
      "metadata": {
        "id": "NzeHhxGwFsIQ"
      }
    },
    {
      "cell_type": "code",
      "source": [
        "assert combination(3, 1) == 3\n",
        "assert combination(4, 2) == 6\n",
        "assert combination(5, 3) == 10\n",
        "assert combination(8, 4) == 70\n",
        "assert combination(12, 5) == 792"
      ],
      "metadata": {
        "id": "9L-M3CCOFPl7"
      },
      "execution_count": 15,
      "outputs": []
    },
    {
      "cell_type": "markdown",
      "source": [
        "Question-6\n",
        "\n",
        "In mathematics, Pascal's Triangle is a geometric arrangement of binomial coefficients in a triangle. The rows of Pascal's Triangle are typically counted starting with row zero, and the numbers in odd rows are often arranged to relate to the numbers in even rows.\n",
        "\n",
        "The simple construction of the triangle is as follows:\n",
        "\n",
        "In row zero, only write the number 1.\n",
        "\n",
        "To construct the elements of the next row, add the number above and to the left with the number directly above and to the right to find the new value.\n",
        "\n",
        "If the number to the right or left does not exist, substitute a blank in its place.\n",
        "\n",
        "For example, the number one in the first row is 0 + 1 = 1, where the numbers 1 and 3 in the third row are added to produce the number 4 in the fourth row.\n",
        "\n",
        "![image](https://upload.wikimedia.org/wikipedia/commons/0/0d/PascalTriangleAnimated2.gif)\n",
        "\n",
        "Create a function named pascal_triangle to display Pascal's Triangle with a specified number of rows using the parameter rows."
      ],
      "metadata": {
        "id": "JGt7HTh6GTEN"
      }
    },
    {
      "cell_type": "code",
      "source": [
        "# Function\n",
        "# pascal_triangle(6)\n",
        "\n",
        "# Output\n",
        "#      1\n",
        "#     1 1\n",
        "#    1 2 1\n",
        "#   1 3 3 1\n",
        "#  1 4 6 4 1\n",
        "# 1 5 10 10 5 1\n",
        "\n",
        "def pascal_triangle(rows):\n",
        "    matrix = []\n",
        "    for i in range(rows):\n",
        "        row = []\n",
        "        for j in range(i + 1):\n",
        "            row.append(int(combination(i, j)))\n",
        "        matrix.append(row)\n",
        "\n",
        "    for row in matrix:\n",
        "        space = (rows - len(row)) * ' '\n",
        "        value = ' '.join(str(i) for i in row)\n",
        "        print(space, value)"
      ],
      "metadata": {
        "id": "kV1Wxpf1Gays"
      },
      "execution_count": 16,
      "outputs": []
    },
    {
      "cell_type": "code",
      "source": [
        "pascal_triangle(5)"
      ],
      "metadata": {
        "colab": {
          "base_uri": "https://localhost:8080/"
        },
        "id": "4nVtkb1VGmL9",
        "outputId": "1b58f51c-ec62-41b8-88f1-e1b725bab5c3"
      },
      "execution_count": 17,
      "outputs": [
        {
          "output_type": "stream",
          "name": "stdout",
          "text": [
            "     1\n",
            "    1 1\n",
            "   1 2 1\n",
            "  1 3 3 1\n",
            " 1 4 6 4 1\n"
          ]
        }
      ]
    }
  ]
}