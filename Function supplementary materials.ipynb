{
 "cells": [
  {
   "cell_type": "markdown",
   "metadata": {},
   "source": [
    "# **Introduction to Python Functions**\n",
    "\n",
    "You're already familiar with built-in functions like `print()`, `input()`, and `len()`. Python provides many such built-in functions, but you can also create your own. **Functions are like mini-programs within your program**.\n",
    "\n",
    "___"
   ]
  },
  {
   "cell_type": "markdown",
   "metadata": {},
   "source": [
    "## **1. Basic Concepts**\n",
    "\n",
    "The primary purpose of functions is to **group code that executes repeatedly**. Without functions, you'd need to copy-paste the same code everywhere it's needed, making your program messy. Functions help avoid code duplication, making programs shorter, more readable, and easier to update."
   ]
  },
  {
   "cell_type": "code",
   "execution_count": 2,
   "metadata": {},
   "outputs": [
    {
     "name": "stdout",
     "output_type": "stream",
     "text": [
      "Hello world\n",
      "Hello there.\n",
      "I'm Baron\n",
      "Hello world!\n",
      "Hello there.\n",
      "I'm Baron\n",
      "Hello world!\n",
      "Hello there.\n",
      "I'm Baron\n"
     ]
    }
   ],
   "source": [
    "# Example without functions\n",
    "print('Hello world')\n",
    "print('Hello there.')\n",
    "print('I\\'m Baron')\n",
    "print('Hello world!')\n",
    "print('Hello there.')\n",
    "print('I\\'m Baron')\n",
    "print('Hello world!')\n",
    "print('Hello there.')\n",
    "print('I\\'m Baron')"
   ]
  },
  {
   "cell_type": "code",
   "execution_count": null,
   "metadata": {},
   "outputs": [],
   "source": [
    "# Example with functions\n",
    "def hello():\n",
    "    print('Hello world')\n",
    "    print('Hello there.')\n",
    "    print('I\\'m Baron')\n",
    "\n",
    "hello()\n",
    "hello()\n",
    "hello()"
   ]
  },
  {
   "cell_type": "markdown",
   "metadata": {},
   "source": [
    "### **1.1 Define, Call, Pass, Arguments, and Parameters**\n",
    "\n",
    "To define a function, use the `def` keyword followed by the function name (like `hello()`), parameters in parentheses, and a colon. The function body is indented."
   ]
  },
  {
   "cell_type": "code",
   "execution_count": null,
   "metadata": {},
   "outputs": [],
   "source": [
    "# Function definition example\n",
    "def hello(name):\n",
    "    print(f'Hello, {name}')\n",
    "\n",
    "hello('Alice')  # Function call"
   ]
  },
  {
   "cell_type": "markdown",
   "metadata": {},
   "source": [
    "When you call `hello('Alice')`, Python executes the function code. The string 'Alice' is passed as an **argument** and stored in the **parameter** 'name' as a local variable. Note: **Parameter values are destroyed when the function finishes executing**."
   ]
  },
  {
   "cell_type": "markdown",
   "metadata": {},
   "source": [
    "### **1.2 Return Values**\n",
    "\n",
    "When you call `len('Hello')`, it returns 5 - this is a **return value**. Use the `return` statement to specify what a function should return:"
   ]
  },
  {
   "cell_type": "code",
   "execution_count": 4,
   "metadata": {},
   "outputs": [
    {
     "name": "stdout",
     "output_type": "stream",
     "text": [
      "Hello, Alice\n",
      "How are you?\n"
     ]
    }
   ],
   "source": [
    "# Return statement example\n",
    "def hello(name):\n",
    "    print(f'Hello, {name}')\n",
    "    if name == 'Alice':\n",
    "        print('How are you?')\n",
    "        return 4\n",
    "    else:\n",
    "        print('Who are you?')\n",
    "\n",
    "spam = hello('Alice')"
   ]
  },
  {
   "cell_type": "markdown",
   "metadata": {},
   "source": [
    "Python automatically adds `return None` at the end of functions without explicit return statements. A bare `return` without a value also returns None."
   ]
  },
  {
   "cell_type": "markdown",
   "metadata": {},
   "source": [
    "### **1.3 Keyword Arguments**\n",
    "\n",
    "Most arguments are identified by their position. For example, `random.randint(1, 10)` differs from `random.randint(10, 1)`. The first returns a random integer between 1-10, while the second causes an error."
   ]
  },
  {
   "cell_type": "code",
   "execution_count": null,
   "metadata": {},
   "outputs": [],
   "source": [
    "# Argument position matters\n",
    "import random\n",
    "\n",
    "random.randint(1, 10)  # Random number 1-10\n",
    "random.randint(10, 1)  # Error"
   ]
  },
  {
   "cell_type": "code",
   "execution_count": null,
   "metadata": {},
   "outputs": [],
   "source": [
    "# Keyword arguments example\n",
    "def hello(name, age):\n",
    "    print(f'Hello, {name}')\n",
    "    print(f'Your age: {age}')\n",
    "\n",
    "hello(name='Alice', age=17)  # Clearer than positional args"
   ]
  },
  {
   "cell_type": "markdown",
   "metadata": {},
   "source": [
    "## **2. Python Scopes**\n",
    "\n",
    "A scope is a container for variables. When a scope is destroyed, its variables are forgotten. Python has:\n",
    "- One **global scope** (created when program starts)\n",
    "- Multiple possible **local scopes** (created when functions are called)"
   ]
  },
  {
   "cell_type": "markdown",
   "metadata": {},
   "source": [
    "### **2.1 Local vs Global Scope**\n",
    "\n",
    "Key rules:\n",
    "1. Code in global scope cannot use local variables\n",
    "2. Code in local scope can access global variables\n",
    "3. Code in one local scope cannot use variables from another local scope\n",
    "4. You can reuse variable names in different scopes (but shouldn't)"
   ]
  },
  {
   "cell_type": "code",
   "execution_count": null,
   "metadata": {},
   "outputs": [],
   "source": [
    "# Rule 1: Global can't access local\n",
    "def spam():\n",
    "    eggs = 31337  # Local variable\n",
    "\n",
    "spam()\n",
    "print(eggs)  # Error - eggs doesn't exist globally"
   ]
  },
  {
   "cell_type": "code",
   "execution_count": 7,
   "metadata": {},
   "outputs": [
    {
     "name": "stdout",
     "output_type": "stream",
     "text": [
      "42\n",
      "42\n"
     ]
    }
   ],
   "source": [
    "# Rule 2: Local can access global\n",
    "eggs = 42  # Global variable\n",
    "\n",
    "def spam():\n",
    "    print(eggs)  # Uses global eggs\n",
    "\n",
    "spam()\n",
    "print(eggs)"
   ]
  },
  {
   "cell_type": "code",
   "execution_count": 11,
   "metadata": {},
   "outputs": [
    {
     "name": "stdout",
     "output_type": "stream",
     "text": [
      "99\n"
     ]
    }
   ],
   "source": [
    "# Rule 3: Locals don't share between functions\n",
    "def spam():\n",
    "    eggs = 99\n",
    "    bacon()\n",
    "    print(eggs)  # Prints spam's local eggs (99)\n",
    "\n",
    "def bacon():\n",
    "    eggs = 0  # Different local variable\n",
    "\n",
    "spam()"
   ]
  },
  {
   "cell_type": "code",
   "execution_count": 12,
   "metadata": {},
   "outputs": [
    {
     "name": "stdout",
     "output_type": "stream",
     "text": [
      "bacon local\n",
      "spam local\n",
      "bacon local\n",
      "global\n"
     ]
    }
   ],
   "source": [
    "# Rule 4: Variable name reuse (confusing!)\n",
    "eggs = 'global'\n",
    "\n",
    "def spam():\n",
    "    eggs = 'spam local'\n",
    "    print(eggs)\n",
    "\n",
    "def bacon():\n",
    "    eggs = 'bacon local'\n",
    "    print(eggs)\n",
    "    spam()\n",
    "    print(eggs)\n",
    "\n",
    "bacon()\n",
    "print(eggs)"
   ]
  },
  {
   "cell_type": "markdown",
   "metadata": {},
   "source": [
    "### **2.2 The global Statement**\n",
    "\n",
    "To modify global variables inside functions, use the `global` keyword:"
   ]
  },
  {
   "cell_type": "code",
   "execution_count": 13,
   "metadata": {},
   "outputs": [
    {
     "name": "stdout",
     "output_type": "stream",
     "text": [
      "42\n"
     ]
    }
   ],
   "source": [
    "# Modifying global variables\n",
    "eggs = 'global'\n",
    "\n",
    "def spam():\n",
    "    global eggs\n",
    "    eggs = 42  # Modifies global eggs\n",
    "\n",
    "spam()\n",
    "print(eggs)"
   ]
  },
  {
   "cell_type": "markdown",
   "metadata": {},
   "source": [
    "Scope determination rules:\n",
    "1. Variables outside functions are always global\n",
    "2. Variables with `global` statements are global\n",
    "3. Assigned variables in functions are local\n",
    "4. Non-assigned variables in functions are global"
   ]
  },
  {
   "cell_type": "markdown",
   "metadata": {},
   "source": [
    "## **3. Function Applications**\n",
    "\n",
    "Python allows flexible function usage - functions can be standalone, arguments, or even call themselves."
   ]
  },
  {
   "cell_type": "markdown",
   "metadata": {},
   "source": [
    "### **3.1 Callback Functions**\n",
    "\n",
    "Functions can accept other functions as arguments:"
   ]
  },
  {
   "cell_type": "code",
   "execution_count": 21,
   "metadata": {},
   "outputs": [
    {
     "name": "stdout",
     "output_type": "stream",
     "text": [
      "Hello, Alice\n",
      "How are you?\n"
     ]
    }
   ],
   "source": [
    "# Callback function example\n",
    "def spam(fn, name):\n",
    "    return fn(name)  # Calls the passed function\n",
    "\n",
    "def hello(name):\n",
    "    print(f'Hello, {name}')\n",
    "    if name == 'Alice':\n",
    "        print('How are you?')\n",
    "\n",
    "spam(fn=hello, name='Alice')"
   ]
  },
  {
   "cell_type": "markdown",
   "metadata": {},
   "source": [
    "### **3.2 Calling Other Functions**\n",
    "\n",
    "Functions can call other functions, creating a call stack:"
   ]
  },
  {
   "cell_type": "code",
   "execution_count": 22,
   "metadata": {},
   "outputs": [
    {
     "name": "stdout",
     "output_type": "stream",
     "text": [
      "Talking about Alice\n",
      "Talking about Bob\n",
      "Talking about Carol\n",
      "Talking about Carol\n",
      "Talking about Bob again\n",
      "Talking about Alice again\n"
     ]
    }
   ],
   "source": [
    "# Function call stack example\n",
    "def a():\n",
    "    print('Talking about Alice')\n",
    "    b()\n",
    "    print('Talking about Alice again')\n",
    "\n",
    "def b():\n",
    "    print('Talking about Bob')\n",
    "    c()\n",
    "    print('Talking about Bob again')\n",
    "\n",
    "def c():\n",
    "    print('Talking about Carol')\n",
    "    print('Talking about Carol')\n",
    "\n",
    "a()"
   ]
  },
  {
   "cell_type": "markdown",
   "metadata": {},
   "source": [
    "### **3.3 Recursive Functions**\n",
    "\n",
    "Functions that call themselves:"
   ]
  },
  {
   "cell_type": "code",
   "execution_count": null,
   "metadata": {},
   "outputs": [],
   "source": [
    "# Recursive countdown\n",
    "def countdown(counter):\n",
    "    print(counter)\n",
    "    counter -= 1\n",
    "    if counter >= 0:\n",
    "        countdown(counter)  # Calls itself\n",
    "\n",
    "countdown(5)"
   ]
  },
  {
   "cell_type": "markdown",
   "metadata": {},
   "source": [
    "## **4. map() and filter() Functions**\n",
    "\n",
    "These built-in functions process iterables (lists, strings, tuples, etc.) using other functions."
   ]
  },
  {
   "cell_type": "markdown",
   "metadata": {},
   "source": [
    "### **4.1 Lambda Expressions**\n",
    "\n",
    "Anonymous inline functions with syntax: `lambda [parameters]: expression`"
   ]
  },
  {
   "cell_type": "code",
   "execution_count": 23,
   "metadata": {},
   "outputs": [
    {
     "data": {
      "text/plain": [
       "5"
      ]
     },
     "execution_count": 23,
     "metadata": {},
     "output_type": "execute_result"
    }
   ],
   "source": [
    "# Lambda example\n",
    "add = lambda x, y: x + y\n",
    "add(2, 3)"
   ]
  },
  {
   "cell_type": "markdown",
   "metadata": {},
   "source": [
    "### **4.2 map() Function**\n",
    "\n",
    "Transforms items in a collection without changing count:"
   ]
  },
  {
   "cell_type": "code",
   "execution_count": 24,
   "metadata": {},
   "outputs": [
    {
     "name": "stdout",
     "output_type": "stream",
     "text": [
      "Before: [1, 2, 3, 4, 5] and after: [2, 4, 6, 8, 10]\n"
     ]
    }
   ],
   "source": [
    "# Double each number\n",
    "numbers = [1, 2, 3, 4, 5]\n",
    "doubled = list(map(lambda x: x * 2, numbers))\n",
    "print(f'Before: {numbers} and after: {doubled}')"
   ]
  },
  {
   "cell_type": "markdown",
   "metadata": {},
   "source": [
    "### **4.3 filter() Function**\n",
    "\n",
    "Reduces items in a collection based on a condition:"
   ]
  },
  {
   "cell_type": "code",
   "execution_count": 26,
   "metadata": {},
   "outputs": [
    {
     "name": "stdout",
     "output_type": "stream",
     "text": [
      "Before: [1, 2, 3, 4, 5] and after: [2, 4]\n"
     ]
    }
   ],
   "source": [
    "# Filter even numbers\n",
    "numbers = [1, 2, 3, 4, 5]\n",
    "evens = list(filter(lambda x: x % 2 == 0, numbers))\n",
    "print(f'Before: {numbers} and after: {evens}')"
   ]
  }
 ],
 "metadata": {
  "kernelspec": {
   "display_name": "Python 3",
   "language": "python",
   "name": "python3"
  },
  "language_info": {
   "codemirror_mode": {
    "name": "ipython",
    "version": 3
   },
   "file_extension": ".py",
   "mimetype": "text/x-python",
   "name": "python",
   "nbconvert_exporter": "python",
   "pygments_lexer": "ipython3",
   "version": "3.10.5"
  }
 },
 "nbformat": 4,
 "nbformat_minor": 2
}