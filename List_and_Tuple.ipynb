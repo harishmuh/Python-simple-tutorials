{
  "nbformat": 4,
  "nbformat_minor": 0,
  "metadata": {
    "colab": {
      "provenance": [],
      "authorship_tag": "ABX9TyOTBYa1oSIdCKT5/q7MAbeV",
      "include_colab_link": true
    },
    "kernelspec": {
      "name": "python3",
      "display_name": "Python 3"
    },
    "language_info": {
      "name": "python"
    }
  },
  "cells": [
    {
      "cell_type": "markdown",
      "metadata": {
        "id": "view-in-github",
        "colab_type": "text"
      },
      "source": [
        "<a href=\"https://colab.research.google.com/github/harishmuh/Python-simple-tutorials/blob/main/List_and_Tuple.ipynb\" target=\"_parent\"><img src=\"https://colab.research.google.com/assets/colab-badge.svg\" alt=\"Open In Colab\"/></a>"
      ]
    },
    {
      "cell_type": "markdown",
      "source": [
        "---\n",
        "# **1. List**\n",
        "---"
      ],
      "metadata": {
        "id": "OJAvmikoBMA0"
      }
    },
    {
      "cell_type": "markdown",
      "source": [
        "## **1.1 Indexing**\n",
        "\n",
        "Lists are ordered collections of items, and each item can be accessed using its index. In Python, indexing starts at 0 for the first item, 1 for the second, and so on. Negative indices count backward from the end of the list (-1 for the last item, -2 for the second last, etc.)."
      ],
      "metadata": {
        "id": "FX4Q84EmKMFN"
      }
    },
    {
      "cell_type": "code",
      "source": [
        "spam = ['hello', 3.1415, True, None, 42]\n",
        "\n",
        "# Positive indexing\n",
        "print(f\"First item: {spam[0]}\")    # Output: 'hello'\n",
        "print(f\"Third item: {spam[2]}\")    # Output: True\n",
        "\n",
        "# Negative indexing\n",
        "print(f\"Last item: {spam[-1]}\")    # Output: 42\n",
        "print(f\"Second last item: {spam[-2]}\")  # Output: None"
      ],
      "metadata": {
        "colab": {
          "base_uri": "https://localhost:8080/"
        },
        "id": "UsBqdy8lKUlC",
        "outputId": "b95fc00a-22c3-48c7-b5d4-258e96b38cfd"
      },
      "execution_count": 32,
      "outputs": [
        {
          "output_type": "stream",
          "name": "stdout",
          "text": [
            "First item: hello\n",
            "Third item: True\n",
            "Last item: 42\n",
            "Second last item: None\n"
          ]
        }
      ]
    },
    {
      "cell_type": "markdown",
      "source": [
        "## **1.2 Slicing**\n",
        "\n",
        "Similar to indexing, which retrieves a single item from a list, slicing allows you to retrieve multiple items from a list and form them into a new list. The slicing syntax is written within square brackets, like indexing, but it includes two integers separated by a colon."
      ],
      "metadata": {
        "id": "Q20VVeWFBe1b"
      }
    },
    {
      "cell_type": "code",
      "execution_count": 1,
      "metadata": {
        "colab": {
          "base_uri": "https://localhost:8080/"
        },
        "id": "JvRUdrur8UVx",
        "outputId": "1e3e81f5-0cca-427d-8d5e-5a2ebaa02c42"
      },
      "outputs": [
        {
          "output_type": "stream",
          "name": "stdout",
          "text": [
            "Items in index [0:3]: ['hello', 3.1415, True]\n",
            "Items in index [1:-1]: [3.1415, True, None]\n",
            "Items in index [:2]: ['hello', 3.1415]\n",
            "Items in index [1:]: [3.1415, True, None, 42]\n",
            "Items in index [:]: ['hello', 3.1415, True, None, 42]\n"
          ]
        }
      ],
      "source": [
        "# Example of slicing a list\n",
        "spam = ['hello', 3.1415, True, None, 42]\n",
        "\n",
        "print(f'Items in index [0:3]: {spam[0:3]}')\n",
        "print(f'Items in index [1:-1]: {spam[1:-1]}')\n",
        "print(f'Items in index [:2]: {spam[:2]}')\n",
        "print(f'Items in index [1:]: {spam[1:]}')\n",
        "print(f'Items in index [:]: {spam[:]}')"
      ]
    },
    {
      "cell_type": "markdown",
      "source": [
        "## **1.3 Changing Values in a List with Indexes**\n",
        "\n",
        "You can use indexes to modify items at specific positions. For example, spam[1] = 'world' changes the item at index 1 in the list spam to the string 'world'. The code spam[2] = spam[3] changes the item at index 2 to the item at index 3, resulting in two identical items."
      ],
      "metadata": {
        "id": "0_FiQBKmB9r3"
      }
    },
    {
      "cell_type": "code",
      "source": [
        "# Example of modifying items in a list\n",
        "spam = ['hello', 3.1415, True, None, 42]\n",
        "\n",
        "spam[1] = 'world'\n",
        "spam[2] = spam[3]\n",
        "spam[-1] = 12345\n",
        "spam[1:3] = ['Asa', 249]\n",
        "spam"
      ],
      "metadata": {
        "colab": {
          "base_uri": "https://localhost:8080/"
        },
        "id": "oEGMBGfrCDx4",
        "outputId": "86abafb7-a067-4d2f-9510-87b4d1c14d78"
      },
      "execution_count": 2,
      "outputs": [
        {
          "output_type": "execute_result",
          "data": {
            "text/plain": [
              "['halo', 'Asa', 249, None, 12345]"
            ]
          },
          "metadata": {},
          "execution_count": 2
        }
      ]
    },
    {
      "cell_type": "markdown",
      "source": [
        "## **1.4 Adding Values to Lists with the append() and insert() Methods**\n",
        "\n",
        "To add new values to a list, besides using concatenation, you can use the append() and insert() methods. Although these methods are similar, they are easy to distinguish:\n",
        "\n",
        "* The append() method adds an item to the end of the list.\n",
        "\n",
        "* The insert() method can add an item at any specified index in the list."
      ],
      "metadata": {
        "id": "htwAxbE2CM4B"
      }
    },
    {
      "cell_type": "code",
      "source": [
        "spam = ['hello', 3.1415, True, None, 42]\n",
        "print(f'Before: {spam}')\n",
        "\n",
        "# Adding an item with append()\n",
        "spam.append('world!')\n",
        "print(f'After append: {spam}')\n",
        "\n",
        "# Adding an item with insert()\n",
        "spam.insert(2, 'world!')\n",
        "print(f'After insert: {spam}')"
      ],
      "metadata": {
        "colab": {
          "base_uri": "https://localhost:8080/"
        },
        "id": "S7yz9nOuCSgo",
        "outputId": "09b9c313-272f-418d-e2a4-52309fb3d675"
      },
      "execution_count": 3,
      "outputs": [
        {
          "output_type": "stream",
          "name": "stdout",
          "text": [
            "Before: ['hello', 3.1415, True, None, 42]\n",
            "After append: ['hello', 3.1415, True, None, 42, 'world!']\n",
            "After insert: ['hello', 3.1415, 'world!', True, None, 42, 'world!']\n"
          ]
        }
      ]
    },
    {
      "cell_type": "markdown",
      "source": [
        "Note that the correct way to write the code is spam.append('world!') and spam.insert(2, 'world!'), not spam = spam.append('world!') or spam = spam.insert(2, 'world!'). Neither append() nor insert() returns a new list, so you cannot store the result in a new variable."
      ],
      "metadata": {
        "id": "4-UXNcctEOll"
      }
    },
    {
      "cell_type": "markdown",
      "source": [
        "## **1.5 Removing Values from Lists**"
      ],
      "metadata": {
        "id": "uqKPVtVSESVX"
      }
    },
    {
      "cell_type": "markdown",
      "source": [
        "You can remove items from a list using del statements, the pop() method, or the remove() method. The differences between them are:\n",
        "\n",
        "* del is used when you know the index of the item you want to remove.\n",
        "\n",
        "* remove() is useful when you know the value of the item you want to remove.\n",
        "\n",
        "* pop() is used when you know the index of the item and want to retrieve the removed item."
      ],
      "metadata": {
        "id": "HwaV3dVHEe-T"
      }
    },
    {
      "cell_type": "code",
      "source": [
        "# Removing items with del statements\n",
        "spam = ['hello', 3.1415, True, None, 42]\n",
        "print(f'Before deletion: {spam}')\n",
        "\n",
        "del spam[2]\n",
        "print(f'After deleting item at index 2: {spam}')\n",
        "\n",
        "del spam[0:2]\n",
        "print(f'After deleting items from index 0 to 1: {spam}')"
      ],
      "metadata": {
        "colab": {
          "base_uri": "https://localhost:8080/"
        },
        "id": "7MSjcUTyEif8",
        "outputId": "80862878-646f-402a-d8be-d3816cddc5d2"
      },
      "execution_count": 4,
      "outputs": [
        {
          "output_type": "stream",
          "name": "stdout",
          "text": [
            "Before deletion: ['hello', 3.1415, True, None, 42]\n",
            "After deleting item at index 2: ['hello', 3.1415, None, 42]\n",
            "After deleting items from index 0 to 1: [None, 42]\n"
          ]
        }
      ]
    },
    {
      "cell_type": "markdown",
      "source": [
        "The *remove()* method removes an item from the list. Attempting to remove an item that does not exist will result in a *ValueError*. **If the item appears multiple times in the list (like the integer 42), only the first occurrence will be removed.**"
      ],
      "metadata": {
        "id": "mHrHghdcEmKW"
      }
    },
    {
      "cell_type": "code",
      "source": [
        "# Removing items with remove()\n",
        "spam = ['hello', 3.1415, 42, True, None, 42]\n",
        "print(f'Before deletion: {spam}')\n",
        "\n",
        "spam.remove(42)\n",
        "print(f'After deletion: {spam}')\n",
        "\n",
        "# spam.remove('world!')  # This will raise a ValueError"
      ],
      "metadata": {
        "colab": {
          "base_uri": "https://localhost:8080/"
        },
        "id": "GcC11dU3EsE6",
        "outputId": "6c6dc49d-3664-4745-cdf6-e6b07ce312ea"
      },
      "execution_count": 5,
      "outputs": [
        {
          "output_type": "stream",
          "name": "stdout",
          "text": [
            "Before deletion: ['hello', 3.1415, 42, True, None, 42]\n",
            "After deletion: ['hello', 3.1415, True, None, 42]\n"
          ]
        }
      ]
    },
    {
      "cell_type": "markdown",
      "source": [
        "The *pop()* method removes the item at the specified index and returns the removed item. Unlike the previous methods, you can write it as *spam = spam.pop(2)*. **If no index is specified, Python defaults to -1, which is the last item in the list**. Attempting to remove an item outside the list's range will result in a *ValueError*."
      ],
      "metadata": {
        "id": "AzIlOCkAE5mL"
      }
    },
    {
      "cell_type": "code",
      "source": [
        "# Removing items with pop()\n",
        "spam = ['hello', 3.1415, 19, True, 42, 'world!']\n",
        "print(f'Before: {spam}')\n",
        "\n",
        "spam2 = spam.pop(2)\n",
        "print(f'After: {spam}')\n",
        "print(f'Removed item: {spam2}')"
      ],
      "metadata": {
        "colab": {
          "base_uri": "https://localhost:8080/"
        },
        "id": "ee_BjAueFhTK",
        "outputId": "9fe7abf8-331d-4eb1-8539-29d2520dc4b2"
      },
      "execution_count": 6,
      "outputs": [
        {
          "output_type": "stream",
          "name": "stdout",
          "text": [
            "Before: ['hello', 3.1415, 19, True, 42, 'world!']\n",
            "After: ['hello', 3.1415, True, 42, 'world!']\n",
            "Removed item: 19\n"
          ]
        }
      ]
    },
    {
      "cell_type": "markdown",
      "source": [
        "## **1.6 Using for Loops with Lists**\n",
        "\n",
        "You can use range(len(spam)) in a for loop to access each index of the items in the list."
      ],
      "metadata": {
        "id": "Bk3_tFleFkkA"
      }
    },
    {
      "cell_type": "code",
      "source": [
        "spam = ['hello', 3.1415, True, None, 42]\n",
        "\n",
        "for i in range(len(spam)):\n",
        "    print(f'Index {i} in spam is: {spam[i]}')"
      ],
      "metadata": {
        "colab": {
          "base_uri": "https://localhost:8080/"
        },
        "id": "0nUaxBr5Fqnf",
        "outputId": "ec94a16a-cd42-43f6-bbe5-61ef7a143865"
      },
      "execution_count": 7,
      "outputs": [
        {
          "output_type": "stream",
          "name": "stdout",
          "text": [
            "Index 0 in spam is: hello\n",
            "Index 1 in spam is: 3.1415\n",
            "Index 2 in spam is: True\n",
            "Index 3 in spam is: None\n",
            "Index 4 in spam is: 42\n"
          ]
        }
      ]
    },
    {
      "cell_type": "markdown",
      "source": [
        "Instead of using range(len(spam)) to get integer indexes of items in a list, you can call the enumerate() function. For each iteration, enumerate() **returns two values: the index of the item in the list and the item itself**. The enumerate() function is useful when you need both the item and its index in the loop."
      ],
      "metadata": {
        "id": "-FTt4saUFtna"
      }
    },
    {
      "cell_type": "code",
      "source": [
        "spam = ['hello', 3.1415, True, None, 42]\n",
        "\n",
        "for i, item in enumerate(spam):\n",
        "    print(f'Index {i} in spam is: {item}')"
      ],
      "metadata": {
        "colab": {
          "base_uri": "https://localhost:8080/"
        },
        "id": "WRSdEa-EGDCl",
        "outputId": "f192c37e-2fc7-4844-80cf-75dcf47ee08b"
      },
      "execution_count": 8,
      "outputs": [
        {
          "output_type": "stream",
          "name": "stdout",
          "text": [
            "Index 0 in spam is: hello\n",
            "Index 1 in spam is: 3.1415\n",
            "Index 2 in spam is: True\n",
            "Index 3 in spam is: None\n",
            "Index 4 in spam is: 42\n"
          ]
        }
      ]
    },
    {
      "cell_type": "markdown",
      "source": [
        "## **1.7 The in and not in Operators**\n",
        "\n",
        "You can determine whether a value exists in a list using the in and not in operators. Like other operators, in and not in are used in expressions and connect two values: the value being searched for and the list where the value might be found. **These expressions evaluate to a Boolean value.**"
      ],
      "metadata": {
        "id": "wFhfwL8AGFZD"
      }
    },
    {
      "cell_type": "code",
      "source": [
        "spam = ['hello', 3.1415, True, None, 42]\n",
        "\n",
        "print(f'Is 54 in the list?: {54 in spam}')\n",
        "print(f'Is \"cat\" not in the list?: {\"cat\" not in spam}')"
      ],
      "metadata": {
        "colab": {
          "base_uri": "https://localhost:8080/"
        },
        "id": "00f86r5YGSzU",
        "outputId": "47db0c2e-6c53-413c-ef49-8b352872202d"
      },
      "execution_count": 9,
      "outputs": [
        {
          "output_type": "stream",
          "name": "stdout",
          "text": [
            "Is 54 in the list?: False\n",
            "Is \"cat\" not in the list?: True\n"
          ]
        }
      ]
    },
    {
      "cell_type": "markdown",
      "source": [
        "## **1.8 Getting a List's Length with the len() Function**\n",
        "\n",
        "The len() function returns the length of a list or the number of items in it, similar to how it counts characters in a string."
      ],
      "metadata": {
        "id": "teBfmiieGUsQ"
      }
    },
    {
      "cell_type": "code",
      "source": [
        "spam = ['hello', 3.1415, True, None, 42]\n",
        "print(f'The length of the list spam is {len(spam)}')"
      ],
      "metadata": {
        "colab": {
          "base_uri": "https://localhost:8080/"
        },
        "id": "L03BVyz-GaTZ",
        "outputId": "22a53823-7c75-42cb-beac-c62576d3da34"
      },
      "execution_count": 10,
      "outputs": [
        {
          "output_type": "stream",
          "name": "stdout",
          "text": [
            "The length of the list spam is 5\n"
          ]
        }
      ]
    },
    {
      "cell_type": "markdown",
      "source": [
        "## **1.9 Duplicating Values from Lists with copy() Methods**\n",
        "\n",
        "Assigning a list to a new variable using the equals operator has one issue: modifying the new list also modifies the original list. This happens because the new list references the same object as the original list. If you want the original list to remain unchanged when the new list is modified, you can use the copy() method."
      ],
      "metadata": {
        "id": "O9_Byc3zGd8K"
      }
    },
    {
      "cell_type": "code",
      "source": [
        "# Without copy()\n",
        "spam = [1, 2, 3]\n",
        "print(f'Before: {spam}')\n",
        "\n",
        "newSpam = spam\n",
        "newSpam.append('a')\n",
        "print(f'After: {spam}')"
      ],
      "metadata": {
        "colab": {
          "base_uri": "https://localhost:8080/"
        },
        "id": "Ogeh9UkKGi-n",
        "outputId": "7316a638-f578-43cd-889d-8e371dc7503d"
      },
      "execution_count": 12,
      "outputs": [
        {
          "output_type": "stream",
          "name": "stdout",
          "text": [
            "Before: [1, 2, 3]\n",
            "After: [1, 2, 3, 'a']\n"
          ]
        }
      ]
    },
    {
      "cell_type": "code",
      "source": [
        "# With copy()\n",
        "spam = [1, 2, 3]\n",
        "print(f'Before: {spam}')\n",
        "\n",
        "newSpam = spam.copy()\n",
        "newSpam.append('a')\n",
        "print(f'After: {spam}')"
      ],
      "metadata": {
        "colab": {
          "base_uri": "https://localhost:8080/"
        },
        "id": "Wlusj46KGpoC",
        "outputId": "31ad6b54-f108-43ab-9b15-3896e649ff57"
      },
      "execution_count": 13,
      "outputs": [
        {
          "output_type": "stream",
          "name": "stdout",
          "text": [
            "Before: [1, 2, 3]\n",
            "After: [1, 2, 3]\n"
          ]
        }
      ]
    },
    {
      "cell_type": "markdown",
      "source": [
        "## **1.10 List Concatenation and Replication**\n",
        "\n",
        "Lists can be concatenated and replicated like strings. The addition operator (+) combines two lists, and the multiplication operator (*) replicates a list a specified number of times."
      ],
      "metadata": {
        "id": "Bt_AYZZaGso2"
      }
    },
    {
      "cell_type": "code",
      "source": [
        "spam = [19, 29, 39]\n",
        "spam += ['X', 'Y', 'Z']\n",
        "print(f'Result of concatenation: {spam}')"
      ],
      "metadata": {
        "colab": {
          "base_uri": "https://localhost:8080/"
        },
        "id": "ox4emmnrGxEm",
        "outputId": "935106aa-1e1c-4b9d-f49d-f39552abaaef"
      },
      "execution_count": 16,
      "outputs": [
        {
          "output_type": "stream",
          "name": "stdout",
          "text": [
            "Result of concatenation: [19, 29, 39, 'X', 'Y', 'Z']\n"
          ]
        }
      ]
    },
    {
      "cell_type": "code",
      "source": [
        "spam = ['X', 'Y', 'Z']\n",
        "spam *= 3\n",
        "print(f'Result of replication: {spam}')"
      ],
      "metadata": {
        "colab": {
          "base_uri": "https://localhost:8080/"
        },
        "id": "8LV2BEmuG3m0",
        "outputId": "da7ddf7c-db6c-41c6-9267-56f4ca9cb65c"
      },
      "execution_count": 17,
      "outputs": [
        {
          "output_type": "stream",
          "name": "stdout",
          "text": [
            "Result of replication: ['X', 'Y', 'Z', 'X', 'Y', 'Z', 'X', 'Y', 'Z']\n"
          ]
        }
      ]
    },
    {
      "cell_type": "markdown",
      "source": [
        "## **1.11 Finding a Value in a List with the index() Method**\n",
        "\n",
        "The index() method allows you to find the index of an item if it exists in the list. If the item is not found, Python raises a ValueError."
      ],
      "metadata": {
        "id": "pQxHpu4aG688"
      }
    },
    {
      "cell_type": "code",
      "source": [
        "spam = [1, 3.1415, 2, [3, 42], 10]\n",
        "\n",
        "# print(f'Index of item 42: {spam.index(42)}')  # Raises ValueError\n",
        "print(f'Index of item 3.1415: {spam.index(3.1415)}')\n",
        "# print(f'Index of item \"HALO\": {spam.index(\"HALO\")}')  # Raises ValueError"
      ],
      "metadata": {
        "colab": {
          "base_uri": "https://localhost:8080/"
        },
        "id": "w9BjenGwHEF2",
        "outputId": "9a8ee130-11ea-49f3-bfa4-039fe5227cab"
      },
      "execution_count": 19,
      "outputs": [
        {
          "output_type": "stream",
          "name": "stdout",
          "text": [
            "Index of item 3.1415: 1\n"
          ]
        }
      ]
    },
    {
      "cell_type": "markdown",
      "source": [
        "Note that in the line spam.index(3.1415), Python returns the index 1, not 3. **This means that if there are duplicate items, the index of the first occurrence (in order) will be returned.**"
      ],
      "metadata": {
        "id": "F4po_xK2HrJr"
      }
    },
    {
      "cell_type": "markdown",
      "source": [
        "## **1.12 Sorting the Values in a List with the sort() Method**"
      ],
      "metadata": {
        "id": "l_bMxhRCHxv5"
      }
    },
    {
      "cell_type": "markdown",
      "source": [
        "Lists containing strings or numbers can be sorted using the sort() method. There are three things to note about this method:\n",
        "\n",
        "1. The sort() method sorts the list in place; do not attempt to store the output in a new variable.\n",
        "\n",
        "2. The sort() method uses ASCIIbetical order rather than true alphabetical order for strings. This means uppercase letters are sorted before lowercase letters, so 'a' appears after 'Z'.\n",
        "\n",
        "3. You cannot sort a list that contains both numbers and strings."
      ],
      "metadata": {
        "id": "Q7yVNroaH3MF"
      }
    },
    {
      "cell_type": "code",
      "source": [
        "# First rule\n",
        "spam = ['asa', 'baemon', 'pharita', 'ahyeon']\n",
        "spam.sort()\n",
        "print(f'First rule: {spam}')"
      ],
      "metadata": {
        "colab": {
          "base_uri": "https://localhost:8080/"
        },
        "id": "jM6HTaRwH-im",
        "outputId": "40fcabd6-9231-420c-f920-f05f80c6d012"
      },
      "execution_count": 20,
      "outputs": [
        {
          "output_type": "stream",
          "name": "stdout",
          "text": [
            "First rule: ['ahyeon', 'asa', 'baemon', 'pharita']\n"
          ]
        }
      ]
    },
    {
      "cell_type": "code",
      "source": [
        "# Second rule\n",
        "spam = ['a', 'B', 'y', 'X']\n",
        "spam.sort()\n",
        "print(f'Second rule: {spam}')"
      ],
      "metadata": {
        "colab": {
          "base_uri": "https://localhost:8080/"
        },
        "id": "C8GB8tAQITiy",
        "outputId": "2182cfb5-7cf9-4807-ed98-3157f48d483f"
      },
      "execution_count": 22,
      "outputs": [
        {
          "output_type": "stream",
          "name": "stdout",
          "text": [
            "Second rule: ['B', 'X', 'a', 'y']\n"
          ]
        }
      ]
    },
    {
      "cell_type": "code",
      "source": [
        "# Third rule\n",
        "spam = [2, 5, -7, 3.14, 'Winter', 'Karina']\n",
        "#spam.sort()  # Raises TypeError"
      ],
      "metadata": {
        "id": "wBi4kn9PIYup"
      },
      "execution_count": 24,
      "outputs": []
    },
    {
      "cell_type": "markdown",
      "source": [
        "## **1.13 Reversing the Values in a List with the reverse() Method**\n",
        "\n",
        "If you need to quickly reverse the order of items in a list, you can call the reverse() method. Note that this method does not consider ASCIIbetical order."
      ],
      "metadata": {
        "id": "kofjIgjtIkJc"
      }
    },
    {
      "cell_type": "code",
      "source": [
        "spam = ['a', 'A', 'B', 'y', 'X']\n",
        "print(f'Before: {spam}')\n",
        "\n",
        "spam.reverse()\n",
        "print(f'After: {spam}')"
      ],
      "metadata": {
        "colab": {
          "base_uri": "https://localhost:8080/"
        },
        "id": "zNrs2clWIomw",
        "outputId": "6489b158-7854-4268-875a-0f8ff4b89d7b"
      },
      "execution_count": 25,
      "outputs": [
        {
          "output_type": "stream",
          "name": "stdout",
          "text": [
            "Before: ['a', 'A', 'B', 'y', 'X']\n",
            "After: ['X', 'y', 'B', 'A', 'a']\n"
          ]
        }
      ]
    },
    {
      "cell_type": "markdown",
      "source": [
        "---\n",
        "# **2. Tuple**\n",
        "---"
      ],
      "metadata": {
        "id": "YcZ-ZoFhItaB"
      }
    },
    {
      "cell_type": "markdown",
      "source": [
        "The tuple data type is almost identical to the list data type, except for three key differences:\n",
        "\n",
        "1. **First**, tuples are typed with parentheses, not square brackets.\n",
        "\n",
        "2. **Second**, unlike lists, items in a tuple cannot be modified, added, or removed; you can only access items using indexing.\n",
        "\n",
        "3. **Third**, if you have only one item in a tuple, you must include a trailing comma inside the parentheses."
      ],
      "metadata": {
        "id": "gtjywRHRI-kv"
      }
    },
    {
      "cell_type": "code",
      "source": [
        "# First rule\n",
        "spamList = ['hello', 3.1415, True, None, 42]\n",
        "spamTuple = ('hello', 3.1415, True, None, 42)\n",
        "\n",
        "print(f'This is a list: {spamList} {type(spamList)}')\n",
        "print(f'This is a tuple: {spamTuple} {type(spamTuple)}')"
      ],
      "metadata": {
        "colab": {
          "base_uri": "https://localhost:8080/"
        },
        "id": "Q7VxhogLJHBF",
        "outputId": "db0dd26b-b12f-4498-97d2-eec75a6e9e74"
      },
      "execution_count": 28,
      "outputs": [
        {
          "output_type": "stream",
          "name": "stdout",
          "text": [
            "This is a list: ['hello', 3.1415, True, None, 42] <class 'list'>\n",
            "This is a tuple: ('hello', 3.1415, True, None, 42) <class 'tuple'>\n"
          ]
        }
      ]
    },
    {
      "cell_type": "code",
      "source": [
        "# Second rule\n",
        "spam = ('hello', 3.1415, True, None, 42)\n",
        "print(f'Items in index [0:3]: {spam[0:3]}')\n",
        "print(f'Length of the tuple: {len(spam)}')\n",
        "print(f'Index of item 42: {spam.index(42)}')\n",
        "\n",
        "spam = (('tiger', 'cat'), (10, 20, 30, 40))\n",
        "print(f'Item at index 0: {spam[0]}')\n",
        "print(f'Item at index 0 and sub-index 1: {spam[0][1]}')\n",
        "\n",
        "spam = (19, 29, 39)\n",
        "spam += ('X', 'Y', 'Z')\n",
        "print(f'Result of concatenation: {spam}')\n",
        "\n",
        "spam = ('X', 'Y', 'Z')\n",
        "spam *= 3\n",
        "print(f'Result of replication: {spam}')\n",
        "\n",
        "# Not allowed to manipulate items\n",
        "spam = ('hello', 3.1415, True, None, 42)\n",
        "#spam[1] = 'hello'  # Raises TypeError"
      ],
      "metadata": {
        "colab": {
          "base_uri": "https://localhost:8080/"
        },
        "id": "Xb57XW8kJVHI",
        "outputId": "9e9251aa-03d4-4fcc-e568-8444ccf3a8d6"
      },
      "execution_count": 29,
      "outputs": [
        {
          "output_type": "stream",
          "name": "stdout",
          "text": [
            "Items in index [0:3]: ('hello', 3.1415, True)\n",
            "Length of the tuple: 5\n",
            "Index of item 42: 4\n",
            "Item at index 0: ('tiger', 'cat')\n",
            "Item at index 0 and sub-index 1: cat\n",
            "Result of concatenation: (19, 29, 39, 'X', 'Y', 'Z')\n",
            "Result of replication: ('X', 'Y', 'Z', 'X', 'Y', 'Z', 'X', 'Y', 'Z')\n"
          ]
        }
      ]
    },
    {
      "cell_type": "code",
      "source": [
        "# Third rule\n",
        "print(type(('hello',)))  # Tuple\n",
        "print(type(('hello')))   # String"
      ],
      "metadata": {
        "colab": {
          "base_uri": "https://localhost:8080/"
        },
        "id": "seFUV8DrJZue",
        "outputId": "a7259c0e-e28e-4957-8aff-8df0ab3a3e99"
      },
      "execution_count": 30,
      "outputs": [
        {
          "output_type": "stream",
          "name": "stdout",
          "text": [
            "<class 'tuple'>\n",
            "<class 'str'>\n"
          ]
        }
      ]
    },
    {
      "cell_type": "markdown",
      "source": [
        "**Tuples are useful when you want to communicate that the items inside should not be modified.** A second benefit of using tuples over lists is that, because they are immutable, Python can apply certain optimizations, making code execution slightly faster."
      ],
      "metadata": {
        "id": "Tdjs6ebpJfN2"
      }
    },
    {
      "cell_type": "markdown",
      "source": [
        "## **2.1 Converting Types with the list() and tuple() Functions**\n"
      ],
      "metadata": {
        "id": "6CeIcd8kJjug"
      }
    },
    {
      "cell_type": "markdown",
      "source": [
        "Similar to how str(42) returns '42' as the string representation of the integer 42, the list() and tuple() functions return the list and tuple versions of the passed value, respectively."
      ],
      "metadata": {
        "id": "vYXXRrVqJpDX"
      }
    },
    {
      "cell_type": "code",
      "source": [
        "spamTuple = tuple(['cat', 'dog', 5])\n",
        "spamList = list(('cat', 'dog', 5))\n",
        "\n",
        "print(f'This is a list: {spamList} {type(spamList)}')\n",
        "print(f'This is a tuple: {spamTuple} {type(spamTuple)}')"
      ],
      "metadata": {
        "colab": {
          "base_uri": "https://localhost:8080/"
        },
        "id": "xrrMF6JLJxBh",
        "outputId": "f9c0f5ae-53e6-46bb-f8ac-285141b62c50"
      },
      "execution_count": 31,
      "outputs": [
        {
          "output_type": "stream",
          "name": "stdout",
          "text": [
            "This is a list: ['cat', 'dog', 5] <class 'list'>\n",
            "This is a tuple: ('cat', 'dog', 5) <class 'tuple'>\n"
          ]
        }
      ]
    },
    {
      "cell_type": "markdown",
      "source": [
        "If you need to manipulate a tuple, you must first convert it to a list then conver back to tuple again."
      ],
      "metadata": {
        "id": "4ChrfmLDJ04O"
      }
    }
  ]
}
