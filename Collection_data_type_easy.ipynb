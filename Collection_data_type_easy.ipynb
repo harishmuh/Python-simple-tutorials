{
  "nbformat": 4,
  "nbformat_minor": 0,
  "metadata": {
    "colab": {
      "provenance": [],
      "authorship_tag": "ABX9TyOkrEcZr9kS4Wmdvd6tR9/8",
      "include_colab_link": true
    },
    "kernelspec": {
      "name": "python3",
      "display_name": "Python 3"
    },
    "language_info": {
      "name": "python"
    }
  },
  "cells": [
    {
      "cell_type": "markdown",
      "metadata": {
        "id": "view-in-github",
        "colab_type": "text"
      },
      "source": [
        "<a href=\"https://colab.research.google.com/github/harishmuh/Python-simple-tutorials/blob/main/Collection_data_type_easy.ipynb\" target=\"_parent\"><img src=\"https://colab.research.google.com/assets/colab-badge.svg\" alt=\"Open In Colab\"/></a>"
      ]
    },
    {
      "cell_type": "markdown",
      "source": [
        "---\n",
        "# **Collection data types**\n",
        "---"
      ],
      "metadata": {
        "id": "bWPrPEEG8cHF"
      }
    },
    {
      "cell_type": "markdown",
      "source": [
        "## **List**\n",
        "* List uses Square brackets [ ]\n",
        "* A list is like a box that can hold items/elements of various data types (int, string, float, boolean, list).\n",
        "* Allows duplicate values.\n",
        "* Mutable, meaning items in a list can be modified, added, or removed.\n",
        "* Can be ordered and indexed, so indexing and slicing can be performed.\n"
      ],
      "metadata": {
        "id": "vtj1XJI89Ey0"
      }
    },
    {
      "cell_type": "markdown",
      "source": [
        "**Creating list**"
      ],
      "metadata": {
        "id": "NaTiZTUnNwPF"
      }
    },
    {
      "cell_type": "code",
      "execution_count": 1,
      "metadata": {
        "colab": {
          "base_uri": "https://localhost:8080/"
        },
        "id": "kBm6ngWb7NnK",
        "outputId": "5ce58ea0-22d5-4ba8-bf3b-641416a2e6a5"
      },
      "outputs": [
        {
          "output_type": "stream",
          "name": "stdout",
          "text": [
            "['hello', 3, 2, 1, True]\n"
          ]
        }
      ],
      "source": [
        "# Can contain items/elements of various data types\n",
        "example_list = ['hello', 3, 2, 1, True]\n",
        "print(example_list)\n"
      ]
    },
    {
      "cell_type": "markdown",
      "source": [
        "**Nested list or list inside list**"
      ],
      "metadata": {
        "id": "o75v8Ne6N0Jq"
      }
    },
    {
      "cell_type": "code",
      "source": [
        "nested_list = ['hello', 1, 2, 3, False, [4, 5, 6], example_list]\n",
        "print(nested_list)"
      ],
      "metadata": {
        "colab": {
          "base_uri": "https://localhost:8080/"
        },
        "id": "K6s03g5V-Y6P",
        "outputId": "912580c8-76bc-4399-ff86-a8a0472d8d96"
      },
      "execution_count": 3,
      "outputs": [
        {
          "output_type": "stream",
          "name": "stdout",
          "text": [
            "['hello', 1, 2, 3, False, [4, 5, 6], ['hello', 3, 2, 1, True]]\n"
          ]
        }
      ]
    },
    {
      "cell_type": "code",
      "source": [
        "# Allows duplicate values\n",
        "example_list_1 = ['hello', 3, 2, 1, True, 6, 6, 6]\n",
        "print(example_list_1)"
      ],
      "metadata": {
        "colab": {
          "base_uri": "https://localhost:8080/"
        },
        "id": "_OlyIZPn-dWg",
        "outputId": "3bb5511d-4ae3-4c7d-ee1e-e28834e0d7de"
      },
      "execution_count": 4,
      "outputs": [
        {
          "output_type": "stream",
          "name": "stdout",
          "text": [
            "['hello', 3, 2, 1, True, 6, 6, 6]\n"
          ]
        }
      ]
    },
    {
      "cell_type": "code",
      "source": [
        "# Can be ordered. so indexing and slicing can be performed\n",
        "nested_list = ['hello', 1, 2, 3, False, [4, 5, 6], example_list]\n",
        "\n",
        "# Indexing\n",
        "print('Index 2:', nested_list[2])\n",
        "\n",
        "# Slicing\n",
        "print(nested_list[::2]) # start: omitted, so it starts at index 0 | stop: omitted, so it goes until the end step: 2, so it picks every second item|\n"
      ],
      "metadata": {
        "colab": {
          "base_uri": "https://localhost:8080/"
        },
        "id": "p5pNehKt-sQd",
        "outputId": "be79208f-b729-4266-803c-058b90f29f56"
      },
      "execution_count": 5,
      "outputs": [
        {
          "output_type": "stream",
          "name": "stdout",
          "text": [
            "Index 2: 2\n",
            "['hello', 2, False, ['hello', 3, 2, 1, True]]\n"
          ]
        }
      ]
    },
    {
      "cell_type": "markdown",
      "source": [
        "**List slicing**"
      ],
      "metadata": {
        "id": "b_Iz7_XiN-im"
      }
    },
    {
      "cell_type": "code",
      "source": [
        "# Slicing in list\n",
        "spam = ['halo', 3.1415, True, None, 42]\n",
        "\n",
        "print(f'Item in index [0: 3]: {spam[0: 3]}')\n",
        "print(f'Item in index [1: -1]: {spam[1: -1]}')\n",
        "print(f'Item in index [: 2]: {spam[: 2]}')\n",
        "print(f'Item in index [1: ]: {spam[1: ]}')\n",
        "print(f'Item in index [:]: {spam[:]}')"
      ],
      "metadata": {
        "colab": {
          "base_uri": "https://localhost:8080/"
        },
        "id": "jZySKrBhe3rB",
        "outputId": "108d666b-8123-4167-ad87-aaebc726c123"
      },
      "execution_count": 58,
      "outputs": [
        {
          "output_type": "stream",
          "name": "stdout",
          "text": [
            "Item in index [0: 3]: ['halo', 3.1415, True]\n",
            "Item in index [1: -1]: [3.1415, True, None]\n",
            "Item in index [: 2]: ['halo', 3.1415]\n",
            "Item in index [1: ]: [3.1415, True, None, 42]\n",
            "Item in index [:]: ['halo', 3.1415, True, None, 42]\n"
          ]
        }
      ]
    },
    {
      "cell_type": "code",
      "source": [
        "# Mutable\n",
        "# list items can be modified\n",
        "spam = ['halo', 3.1415, True, None, 42]\n",
        "\n",
        "spam[1] = 'world'\n",
        "spam[2] = spam[3]\n",
        "spam[-1] = 12345\n",
        "spam[1: 3] = ['Baron', 249]\n",
        "spam"
      ],
      "metadata": {
        "colab": {
          "base_uri": "https://localhost:8080/"
        },
        "id": "K0SgizHNfeSa",
        "outputId": "9fe76dbc-212e-40e2-cf9c-8fd7a98ffa32"
      },
      "execution_count": 59,
      "outputs": [
        {
          "output_type": "execute_result",
          "data": {
            "text/plain": [
              "['halo', 'Baron', 249, None, 12345]"
            ]
          },
          "metadata": {},
          "execution_count": 59
        }
      ]
    },
    {
      "cell_type": "code",
      "source": [
        "# Mutable\n",
        "# list items can be modified\n",
        "\n",
        "nested_list[5][1] = '30'\n",
        "print(nested_list)  # ['hello', 1, 2, 3, False, [4, '30', 6], example_list]"
      ],
      "metadata": {
        "colab": {
          "base_uri": "https://localhost:8080/"
        },
        "id": "EFz-3SOO_VrQ",
        "outputId": "6b1d05d3-ee44-4aa6-a0c0-16700a6494c4"
      },
      "execution_count": 6,
      "outputs": [
        {
          "output_type": "stream",
          "name": "stdout",
          "text": [
            "['hello', 1, 2, 3, False, [4, '30', 6], ['hello', 3, 2, 1, True]]\n"
          ]
        }
      ]
    },
    {
      "cell_type": "markdown",
      "source": [
        "**Membership operator**"
      ],
      "metadata": {
        "id": "ZECXenhDOC30"
      }
    },
    {
      "cell_type": "code",
      "source": [
        "# Membership Operator\n",
        "# Check if a value exists in a list (in & not in)\n",
        "\n",
        "example_list = ['Hello', 3, 2, False, True, [10, 20, 30], 6, 6, 6]\n",
        "\n",
        "print('Hello' in example_list)           # True\n",
        "print(20 in example_list)                # False\n",
        "print(20 in example_list[5])             # True\n",
        "print([10, 20, 30] in example_list)      # True\n",
        "print(6 in example_list)                 # True\n",
        "print(1 in example_list)                 # True (True is treated as 1)\n",
        "print(0 in example_list)                 # True (False is treated as 0)"
      ],
      "metadata": {
        "colab": {
          "base_uri": "https://localhost:8080/"
        },
        "id": "bWWNVYILAfZu",
        "outputId": "0475624c-3758-4f94-9268-d4d9124be985"
      },
      "execution_count": 56,
      "outputs": [
        {
          "output_type": "stream",
          "name": "stdout",
          "text": [
            "True\n",
            "False\n",
            "True\n",
            "True\n",
            "True\n",
            "True\n",
            "True\n"
          ]
        }
      ]
    },
    {
      "cell_type": "code",
      "source": [
        "# Checking index in a list\n",
        "\n",
        "# print(example_list.index(20))          # Error → 20 is not in the list\n",
        "print(example_list.index(6))             # Shows the first occurrence of 6: index 6\n",
        "print(example_list.index(0))             # False is treated as 0\n",
        "print(example_list.index(1))             # True is treated as 1\n",
        "print(example_list.index([10, 20, 30]))  # [10, 20, 30] is at index 5\n",
        "print(example_list[5].index(20))         # 20 is at index 1 in example_list[5]\n",
        "print(example_list[example_list.index([10, 20, 30])].index(20))  # 20 is at index 1 in example_list[5]\n",
        "print([10, 20, 30].index(20))            # 20 is at index 1 in [10, 20, 30]"
      ],
      "metadata": {
        "colab": {
          "base_uri": "https://localhost:8080/"
        },
        "id": "_3q6eHpvAk-F",
        "outputId": "6f2f2593-e88c-4838-e9d7-1d403b15383d"
      },
      "execution_count": 57,
      "outputs": [
        {
          "output_type": "stream",
          "name": "stdout",
          "text": [
            "6\n",
            "3\n",
            "4\n",
            "5\n",
            "1\n",
            "1\n",
            "1\n"
          ]
        }
      ]
    },
    {
      "cell_type": "code",
      "source": [
        "# Indirect Assignment\n",
        "\n",
        "a = 100\n",
        "b = 200\n",
        "\n",
        "a = b\n",
        "\n",
        "a = 500\n",
        "\n",
        "print(a)\n",
        "print(b)"
      ],
      "metadata": {
        "colab": {
          "base_uri": "https://localhost:8080/"
        },
        "id": "2vpHjqUkAqQD",
        "outputId": "1f9bf121-bd65-4b0c-9e07-4c13e29e2ba3"
      },
      "execution_count": 9,
      "outputs": [
        {
          "output_type": "stream",
          "name": "stdout",
          "text": [
            "500\n",
            "200\n"
          ]
        }
      ]
    },
    {
      "cell_type": "code",
      "source": [
        "list_a = [10, 20, 30, 40]\n",
        "list_b = list_a\n",
        "\n",
        "print('Initial list_a:', list_a)\n",
        "print('Initial list_b:', list_b)\n",
        "\n",
        "list_b[-1] = 100\n",
        "print('Final list_b:', list_b)\n",
        "print('Final list_a:', list_a)\n"
      ],
      "metadata": {
        "colab": {
          "base_uri": "https://localhost:8080/"
        },
        "id": "hvj0R06oAv2B",
        "outputId": "7693ea6c-f38b-4aaf-fcb1-44b96d5b5f55"
      },
      "execution_count": 10,
      "outputs": [
        {
          "output_type": "stream",
          "name": "stdout",
          "text": [
            "Initial list_a: [10, 20, 30, 40]\n",
            "Initial list_b: [10, 20, 30, 40]\n",
            "Final list_b: [10, 20, 30, 100]\n",
            "Final list_a: [10, 20, 30, 100]\n"
          ]
        }
      ]
    },
    {
      "cell_type": "markdown",
      "source": [
        "**List.copy() method**"
      ],
      "metadata": {
        "id": "vbCzTiZ4OMbX"
      }
    },
    {
      "cell_type": "code",
      "source": [
        "# Use .copy() so the original list_a does not change\n",
        "print('------.copy()------')\n",
        "\n",
        "list_a = [10, 20, 30, 40]\n",
        "list_b = list_a.copy()\n",
        "\n",
        "print('Initial list_a:', list_a)\n",
        "print('Initial list_b:', list_b)\n"
      ],
      "metadata": {
        "colab": {
          "base_uri": "https://localhost:8080/"
        },
        "id": "X3V2w5ZXA0la",
        "outputId": "707e6ff7-199c-42c6-d7ff-052635920083"
      },
      "execution_count": 11,
      "outputs": [
        {
          "output_type": "stream",
          "name": "stdout",
          "text": [
            "------.copy()------\n",
            "Initial list_a: [10, 20, 30, 40]\n",
            "Initial list_b: [10, 20, 30, 40]\n"
          ]
        }
      ]
    },
    {
      "cell_type": "code",
      "source": [
        "list_b[-1] = 100\n",
        "print('Final list_b:', list_b)   # The last item in list_b is changed\n",
        "print('Final list_a:', list_a)   # The last item in list_a remains unchanged"
      ],
      "metadata": {
        "colab": {
          "base_uri": "https://localhost:8080/"
        },
        "id": "Gr7Xi2vEA7b7",
        "outputId": "eba4945c-31ee-48cf-afdc-8ef279d4344f"
      },
      "execution_count": 12,
      "outputs": [
        {
          "output_type": "stream",
          "name": "stdout",
          "text": [
            "Final list_b: [10, 20, 30, 100]\n",
            "Final list_a: [10, 20, 30, 40]\n"
          ]
        }
      ]
    },
    {
      "cell_type": "markdown",
      "source": [
        "**List concatenation**\n",
        "\n",
        "Adding value to a list can be done by using function as below\n",
        "* Append()\n",
        "* Extend()\n",
        "* Insert()"
      ],
      "metadata": {
        "id": "0iwRS7sSA_K5"
      }
    },
    {
      "cell_type": "code",
      "source": [
        "# Adding items/elements to a list\n",
        "\n",
        "# append: adds one item to the list\n",
        "cars = ['toyota', 'vw', 'honda']\n",
        "new_car = 'lamborghini'\n",
        "\n",
        "cars.append(new_car)  # Cannot be assigned to a variable\n",
        "print(cars)\n",
        "print(len(cars))"
      ],
      "metadata": {
        "colab": {
          "base_uri": "https://localhost:8080/"
        },
        "id": "eAW4aMZDBBxD",
        "outputId": "5d444534-35bc-40ed-b12a-d9bf1666025c"
      },
      "execution_count": 13,
      "outputs": [
        {
          "output_type": "stream",
          "name": "stdout",
          "text": [
            "['toyota', 'vw', 'honda', 'lamborghini']\n",
            "4\n"
          ]
        }
      ]
    },
    {
      "cell_type": "code",
      "source": [
        "# Extend: adds multiple items separately\n",
        "cars = ['toyota', 'vw', 'honda']\n",
        "new_cars = ['lamborghini', 'nissan']\n",
        "\n",
        "cars.extend(new_cars)\n",
        "print('Using extend:', cars)  # ['lamborghini', 'nissan'] are added separately\n",
        "print(len(cars))"
      ],
      "metadata": {
        "colab": {
          "base_uri": "https://localhost:8080/"
        },
        "id": "OvdKbdPIF_Mo",
        "outputId": "2bc1b91b-34c9-4e11-b6bc-78e476266e11"
      },
      "execution_count": 14,
      "outputs": [
        {
          "output_type": "stream",
          "name": "stdout",
          "text": [
            "Using extend: ['toyota', 'vw', 'honda', 'lamborghini', 'nissan']\n",
            "5\n"
          ]
        }
      ]
    },
    {
      "cell_type": "code",
      "source": [
        "# insert: inserts an item at a specific position\n",
        "cars.insert(0, new_cars)\n",
        "print('Using insert:', cars)  # ['lamborghini', 'nissan'] inserted at index 0 as a single list\n",
        "print(len(cars))"
      ],
      "metadata": {
        "colab": {
          "base_uri": "https://localhost:8080/"
        },
        "id": "cCx9jngoGLvC",
        "outputId": "f278f71e-3289-4357-e07f-15ec2e1c1f63"
      },
      "execution_count": 15,
      "outputs": [
        {
          "output_type": "stream",
          "name": "stdout",
          "text": [
            "Using insert: [['lamborghini', 'nissan'], 'toyota', 'vw', 'honda', 'lamborghini', 'nissan']\n",
            "6\n"
          ]
        }
      ]
    },
    {
      "cell_type": "code",
      "source": [
        "'''\n",
        "Exercise\n",
        "\n",
        "Use 'append' to create output as below\n",
        "[1, 3, 5, 7, 9]\n",
        "\n",
        "'''\n",
        "num = []\n",
        "for i in range(1, 10, 2):\n",
        "    num.append(i)\n",
        "print(num)"
      ],
      "metadata": {
        "colab": {
          "base_uri": "https://localhost:8080/"
        },
        "id": "U1pmrLO_ItiU",
        "outputId": "a5d9e59e-dde8-47e2-9301-79af009ee252"
      },
      "execution_count": 27,
      "outputs": [
        {
          "output_type": "stream",
          "name": "stdout",
          "text": [
            "[1, 3, 5, 7, 9]\n"
          ]
        }
      ]
    },
    {
      "cell_type": "code",
      "source": [
        "'''\n",
        "Exercises\n",
        "\n",
        "use append to create this list number\n",
        "[1, 10, 100, 1000, 10000]\n",
        "'''\n",
        "list_angka = []\n",
        "for i in range(5):\n",
        "    list_angka.append(10**i)\n",
        "print(list_angka)"
      ],
      "metadata": {
        "colab": {
          "base_uri": "https://localhost:8080/"
        },
        "id": "bDNW2SoEJHNR",
        "outputId": "e5c77a93-d1f3-4bcb-e333-c9e52e323004"
      },
      "execution_count": 28,
      "outputs": [
        {
          "output_type": "stream",
          "name": "stdout",
          "text": [
            "[1, 10, 100, 1000, 10000]\n"
          ]
        }
      ]
    },
    {
      "cell_type": "markdown",
      "source": [
        "**Removing value from lists**\n",
        "\n",
        "We can remove item from list by using function as below\n",
        "* del\n",
        "* remove()\n",
        "* pop()\n",
        "* Clear()"
      ],
      "metadata": {
        "id": "o5GqBlnYgJOM"
      }
    },
    {
      "cell_type": "code",
      "source": [
        "# Removing items using del statements\n",
        "spam = ['halo', 3.1415, True, None, 42]\n",
        "print(f'Before removal process: {spam}')\n",
        "\n",
        "del spam[2]\n",
        "print(f'After item removal in index (2): {spam}')\n",
        "\n",
        "del spam[0: 2]\n",
        "print(f'After items removal from index 0 to 2: {spam}')"
      ],
      "metadata": {
        "colab": {
          "base_uri": "https://localhost:8080/"
        },
        "id": "jIirGYGYcSqY",
        "outputId": "bf6b63ba-7f1e-46ff-9273-0c89c62a68b3"
      },
      "execution_count": 60,
      "outputs": [
        {
          "output_type": "stream",
          "name": "stdout",
          "text": [
            "Before removal process: ['halo', 3.1415, True, None, 42]\n",
            "After item removal in index (2): ['halo', 3.1415, None, 42]\n",
            "After items removal from index 0 to 1: [None, 42]\n"
          ]
        }
      ]
    },
    {
      "cell_type": "code",
      "source": [
        "# Removing an item using the remove() function\n",
        "spam = ['hello', 3.1415, 42, True, None, 42]\n",
        "print(f'Result before removal: {spam}')\n",
        "\n",
        "spam.remove(42)\n",
        "print(f'Result after removing 42: {spam}')\n",
        "\n",
        "#spam.remove('world')\n",
        "#print(f'Result after removing item \"world!\": {spam}') #ValueError\n"
      ],
      "metadata": {
        "colab": {
          "base_uri": "https://localhost:8080/"
        },
        "id": "OofwERBehk-O",
        "outputId": "66c0ec3a-eae5-46b1-c061-49d3b6ee6dd6"
      },
      "execution_count": 62,
      "outputs": [
        {
          "output_type": "stream",
          "name": "stdout",
          "text": [
            "Result before removal: ['hello', 3.1415, 42, True, None, 42]\n",
            "Result after removing 42: ['hello', 3.1415, True, None, 42]\n"
          ]
        }
      ]
    },
    {
      "cell_type": "code",
      "source": [
        "# Removing items using the pop() function\n",
        "spam = ['halo', 3.1415, 19, True, 42, 'world!']\n",
        "print(f'result before: {spam}')\n",
        "\n",
        "spam2 = spam.pop(2)\n",
        "print(f'result after: {spam}')\n",
        "print(f'the deleted item: {spam2}')"
      ],
      "metadata": {
        "colab": {
          "base_uri": "https://localhost:8080/"
        },
        "id": "ibyRz8zGihvs",
        "outputId": "60359002-ebdf-45cf-ef7f-2a3319857513"
      },
      "execution_count": 63,
      "outputs": [
        {
          "output_type": "stream",
          "name": "stdout",
          "text": [
            "result before: ['halo', 3.1415, 19, True, 42, 'world!']\n",
            "result after: ['halo', 3.1415, True, 42, 'world!']\n",
            "the deleted item: 19\n"
          ]
        }
      ]
    },
    {
      "cell_type": "code",
      "source": [
        "# Removing all items using the clear() function\n",
        "spam = ['a', 'A', 'B', 'y', 'X']\n",
        "print(f'Before: {spam}')\n",
        "\n",
        "spam.clear()\n",
        "print(f'After: {spam}')"
      ],
      "metadata": {
        "colab": {
          "base_uri": "https://localhost:8080/"
        },
        "id": "mpeDcvsEpP8C",
        "outputId": "9b67605e-1ad9-4872-cced-7b316a6f451e"
      },
      "execution_count": 71,
      "outputs": [
        {
          "output_type": "stream",
          "name": "stdout",
          "text": [
            "Before: ['a', 'A', 'B', 'y', 'X']\n",
            "After: []\n"
          ]
        }
      ]
    },
    {
      "cell_type": "markdown",
      "source": [
        "**Using for loops with list**\n",
        "\n",
        "* You can use range(len(spam)) in a for loop to access each index of the items in a list."
      ],
      "metadata": {
        "id": "VAosvgvOjBah"
      }
    },
    {
      "cell_type": "code",
      "source": [
        "# For loop\n",
        "# range(len(spam))\n",
        "spam = ['halo', 3.1415, True, None, 42]\n",
        "\n",
        "for i in range(len(spam)):\n",
        "    print(f'Index {i} in spam is: {spam[i]}')"
      ],
      "metadata": {
        "colab": {
          "base_uri": "https://localhost:8080/"
        },
        "id": "Gah2vBUEjixF",
        "outputId": "0bc25ff1-289e-423c-a13b-34c298793b77"
      },
      "execution_count": 64,
      "outputs": [
        {
          "output_type": "stream",
          "name": "stdout",
          "text": [
            "Index 0 in spam is: halo\n",
            "Index 1 in spam is: 3.1415\n",
            "Index 2 in spam is: True\n",
            "Index 3 in spam is: None\n",
            "Index 4 in spam is: 42\n"
          ]
        }
      ]
    },
    {
      "cell_type": "code",
      "source": [
        "# Enumerate\n",
        "spam = ['halo', 3.1415, True, None, 42]\n",
        "\n",
        "for i, item in enumerate(spam):\n",
        "    print(f'Index {i} in spam is: {item}')"
      ],
      "metadata": {
        "colab": {
          "base_uri": "https://localhost:8080/"
        },
        "id": "Z_L10C67jsDP",
        "outputId": "97709a30-3eb3-4789-a7a0-7e9cb96b8e2f"
      },
      "execution_count": 65,
      "outputs": [
        {
          "output_type": "stream",
          "name": "stdout",
          "text": [
            "Index 0 in spam is: halo\n",
            "Index 1 in spam is: 3.1415\n",
            "Index 2 in spam is: True\n",
            "Index 3 in spam is: None\n",
            "Index 4 in spam is: 42\n"
          ]
        }
      ]
    },
    {
      "cell_type": "markdown",
      "source": [
        "**Sorting the values in a list with the sort() method**"
      ],
      "metadata": {
        "id": "UhpnCaF9kTla"
      }
    },
    {
      "cell_type": "code",
      "source": [
        "# First Trial\n",
        "spam = ['jhon', 'baron', 'kenny', 'antonie']\n",
        "spam.sort()\n",
        "print(f'First rule: {spam}')\n",
        "\n",
        "# Second Trial\n",
        "spam = ['a', 'B', 'y', 'X']\n",
        "spam.sort()\n",
        "print(f'Second rule: {spam}')\n",
        "\n",
        "# Third Trial\n",
        "spam = [2, 5, -7, 3.14, 'jhon', 'baron']\n",
        "# spam.sort()\n",
        "# spam--> type error"
      ],
      "metadata": {
        "colab": {
          "base_uri": "https://localhost:8080/"
        },
        "id": "z3PBzhXAkN1v",
        "outputId": "b69f7c1a-6a8b-49c1-824b-cb0405a322c7"
      },
      "execution_count": 67,
      "outputs": [
        {
          "output_type": "stream",
          "name": "stdout",
          "text": [
            "First rule: ['antonie', 'baron', 'jhon', 'kenny']\n",
            "Second rule: ['B', 'X', 'a', 'y']\n"
          ]
        }
      ]
    },
    {
      "cell_type": "markdown",
      "source": [
        "**Reverse() method**"
      ],
      "metadata": {
        "id": "bfD7pFsuk8NL"
      }
    },
    {
      "cell_type": "code",
      "source": [
        "spam = ['a', 'A', 'B', 'y', 'X']\n",
        "print(f'Before: {spam}')\n",
        "\n",
        "spam.reverse()\n",
        "print(f'After: {spam}')"
      ],
      "metadata": {
        "colab": {
          "base_uri": "https://localhost:8080/"
        },
        "id": "2g6oftU9k_Vn",
        "outputId": "43b5cba7-8ab2-4066-dbfc-d676ba4e18bf"
      },
      "execution_count": 69,
      "outputs": [
        {
          "output_type": "stream",
          "name": "stdout",
          "text": [
            "Before: ['a', 'A', 'B', 'y', 'X']\n",
            "After: ['X', 'y', 'B', 'A', 'a']\n"
          ]
        }
      ]
    },
    {
      "cell_type": "markdown",
      "source": [
        "**List comperhension**\n",
        "* List comprehension offers a shorter syntax when you want to create a new list based on the values of an existing list."
      ],
      "metadata": {
        "id": "hz9AuMLTJhQM"
      }
    },
    {
      "cell_type": "code",
      "source": [
        "# Without list comperhension\n",
        "names = [\"Karina\", \"Ningning\", \"Winter\", \"Giselle\", \"Naevis\"]\n",
        "namesNewList = []\n",
        "for name in names:\n",
        "    if \"n\" in name:\n",
        "      namesNewList.append(name)\n",
        "\n",
        "print(namesNewList)"
      ],
      "metadata": {
        "colab": {
          "base_uri": "https://localhost:8080/"
        },
        "id": "sBtziBedKus_",
        "outputId": "ba1071d9-5e5a-4cc6-bd2a-aea95c2c8459"
      },
      "execution_count": 31,
      "outputs": [
        {
          "output_type": "stream",
          "name": "stdout",
          "text": [
            "['Karina', 'Ningning', 'Winter']\n"
          ]
        }
      ]
    },
    {
      "cell_type": "markdown",
      "source": [
        "* Based on a list of names, you want a new list, containing only the names with the letter \"n\" in the name.\n",
        "* Without list comprehension you will have to write a for statement with a conditional test inside like this"
      ],
      "metadata": {
        "id": "Hoij948aMC6O"
      }
    },
    {
      "cell_type": "code",
      "source": [
        "# Using list comperhension\n",
        "names = [\"Karina\", \"Ningning\", \"Winter\", \"Giselle\", \"Naevis\"]\n",
        "namesNewList = [name for name in names if \"n\" in name]\n",
        "print(namesNewList)"
      ],
      "metadata": {
        "colab": {
          "base_uri": "https://localhost:8080/"
        },
        "id": "Y2R4k3EsK-xv",
        "outputId": "c54d7cf7-fbeb-4695-8e06-aad4732224d1"
      },
      "execution_count": 36,
      "outputs": [
        {
          "output_type": "stream",
          "name": "stdout",
          "text": [
            "['Karina', 'Ningning', 'Winter']\n"
          ]
        }
      ]
    },
    {
      "cell_type": "markdown",
      "source": [
        "**Syntax of list comperhension**\n",
        "* newlist = [expression for item in iterable if condition == True]\n",
        "* The return value is a new list, leaving the old list unchanged."
      ],
      "metadata": {
        "id": "hjs7H9IMMR--"
      }
    },
    {
      "cell_type": "code",
      "source": [
        "# Syntax: newlist = [expression for item in iterable if condition == True]\n",
        "# Only accept items that are not \"Naevis\"\n",
        "newlist = [name for name in names if name != \"Naevis\"]\n",
        "newlist"
      ],
      "metadata": {
        "colab": {
          "base_uri": "https://localhost:8080/"
        },
        "id": "uGgQvc7ZLVgG",
        "outputId": "4acedf1c-fe80-4a32-b3bf-6da52f2829cd"
      },
      "execution_count": 37,
      "outputs": [
        {
          "output_type": "execute_result",
          "data": {
            "text/plain": [
              "['Karina', 'Ningning', 'Winter', 'Giselle']"
            ]
          },
          "metadata": {},
          "execution_count": 37
        }
      ]
    },
    {
      "cell_type": "markdown",
      "source": [
        "The iterable can be any iterable object, like a list, tuple, set etc."
      ],
      "metadata": {
        "id": "bE0f2fGxNAvr"
      }
    },
    {
      "cell_type": "code",
      "source": [
        "# Iterable\n",
        "# The iterable can be any iterable object, like a list, tuple, set etc.\n",
        "\n",
        "# You can use the range() function to create an iterable\n",
        "newlist_number = [num for num in range(5)]\n",
        "newlist_number"
      ],
      "metadata": {
        "colab": {
          "base_uri": "https://localhost:8080/"
        },
        "id": "9BrD1RW3MkNn",
        "outputId": "93c83f02-e348-475e-fe38-9c01cfc59e9f"
      },
      "execution_count": 38,
      "outputs": [
        {
          "output_type": "execute_result",
          "data": {
            "text/plain": [
              "[0, 1, 2, 3, 4]"
            ]
          },
          "metadata": {},
          "execution_count": 38
        }
      ]
    },
    {
      "cell_type": "code",
      "source": [
        "# Same example but with a condition\n",
        "# Example, accept only odd numbers\n",
        "newlist_number = [num for num in range(5) if num % 2 != 0]\n",
        "newlist_number"
      ],
      "metadata": {
        "colab": {
          "base_uri": "https://localhost:8080/"
        },
        "id": "4DebfwBUM3PI",
        "outputId": "ea35c1ca-08f4-43b8-92f1-b2934a3cd91b"
      },
      "execution_count": 39,
      "outputs": [
        {
          "output_type": "execute_result",
          "data": {
            "text/plain": [
              "[1, 3]"
            ]
          },
          "metadata": {},
          "execution_count": 39
        }
      ]
    },
    {
      "cell_type": "markdown",
      "source": [
        "**Expression in list comperhension**"
      ],
      "metadata": {
        "id": "tnh5EKxbNUeJ"
      }
    },
    {
      "cell_type": "code",
      "source": [
        "newlist = [name.upper() for name in names]\n",
        "newlist"
      ],
      "metadata": {
        "colab": {
          "base_uri": "https://localhost:8080/"
        },
        "id": "mVl2MyttNbgY",
        "outputId": "22333cf4-415b-4307-aeb2-b804880e0b7a"
      },
      "execution_count": 40,
      "outputs": [
        {
          "output_type": "execute_result",
          "data": {
            "text/plain": [
              "['KARINA', 'NINGNING', 'WINTER', 'GISELLE', 'NAEVIS']"
            ]
          },
          "metadata": {},
          "execution_count": 40
        }
      ]
    },
    {
      "cell_type": "code",
      "source": [
        "newlist = ['Karina' for name in names]\n",
        "print(newlist)"
      ],
      "metadata": {
        "colab": {
          "base_uri": "https://localhost:8080/"
        },
        "id": "8t7RAul2NsZE",
        "outputId": "7124f26c-918c-4d94-93bb-6381838f6347"
      },
      "execution_count": 41,
      "outputs": [
        {
          "output_type": "stream",
          "name": "stdout",
          "text": [
            "['Karina', 'Karina', 'Karina', 'Karina', 'Karina']\n"
          ]
        }
      ]
    },
    {
      "cell_type": "code",
      "source": [
        "newlist = [name if name != \"Karina\" else \"Winter\" for name in names]\n",
        "print(newlist)"
      ],
      "metadata": {
        "colab": {
          "base_uri": "https://localhost:8080/"
        },
        "id": "MUCspoJDN0cH",
        "outputId": "fe1fc2a4-58cf-4358-b1b4-9126859952b8"
      },
      "execution_count": 42,
      "outputs": [
        {
          "output_type": "stream",
          "name": "stdout",
          "text": [
            "['Winter', 'Ningning', 'Winter', 'Giselle', 'Naevis']\n"
          ]
        }
      ]
    },
    {
      "cell_type": "markdown",
      "source": [
        "**Key points**\n",
        "\n",
        "* List comprehension is an elegant way to define and create lists based on existing lists.\n",
        "* List comprehension is generally more compact and faster than normal functions and loops for creating list.\n",
        "* However, we should avoid writing very long list comprehensions in one line to ensure that code is user-friendly.\n",
        "* Remember, every list comprehension can be rewritten in for loop, but every for loop can’t be rewritten in the form\n",
        "of list comprehension."
      ],
      "metadata": {
        "id": "WBv_na89OfKZ"
      }
    },
    {
      "cell_type": "markdown",
      "source": [
        "## **Tuple**\n",
        "\n",
        "* Denoted by parentheses ()\n",
        "* Similar to lists, can store different data types\n",
        "* Allows duplicate items\n",
        "* Ordered, so indexing and slicing can be performed\n",
        "* Immutable, meaning tuple items cannot be changed"
      ],
      "metadata": {
        "id": "FGsnQSrrGZnZ"
      }
    },
    {
      "cell_type": "code",
      "source": [
        "tuple_example = ('Hello', 3, 2, 1, True, [10, 20, 30], 6, 6, 6)\n",
        "print(tuple_example)"
      ],
      "metadata": {
        "colab": {
          "base_uri": "https://localhost:8080/"
        },
        "id": "6cGwmt8XGUzH",
        "outputId": "503199b3-7f98-4261-d392-66a3857e47f5"
      },
      "execution_count": 23,
      "outputs": [
        {
          "output_type": "stream",
          "name": "stdout",
          "text": [
            "('Hello', 3, 2, 1, True, [10, 20, 30], 6, 6, 6)\n"
          ]
        }
      ]
    },
    {
      "cell_type": "code",
      "source": [
        "# We can do indexing and slicing\n",
        "print(tuple_example[1])    # 3\n",
        "print(tuple_example[1:5])  # (3, 2, 1, True)\n"
      ],
      "metadata": {
        "colab": {
          "base_uri": "https://localhost:8080/"
        },
        "id": "9WEpl697Gp8W",
        "outputId": "46006aa9-d4da-4731-ca9a-e8c8c14f7b70"
      },
      "execution_count": 22,
      "outputs": [
        {
          "output_type": "stream",
          "name": "stdout",
          "text": [
            "3\n",
            "(3, 2, 1, True)\n"
          ]
        }
      ]
    },
    {
      "cell_type": "code",
      "source": [
        "# Immutable\n",
        "# tuple_example[1] = 'Hi'              # Error → 'tuple' object does not support item assignment\n",
        "# tuple_example[5] = [10, 20, 40]      # error\n",
        "# tuple_example[5][1] = 30             # Converting list inside tuple # Still possible"
      ],
      "metadata": {
        "id": "wOkHwD1IGsKx"
      },
      "execution_count": 25,
      "outputs": []
    },
    {
      "cell_type": "code",
      "source": [
        "tuple_example"
      ],
      "metadata": {
        "colab": {
          "base_uri": "https://localhost:8080/"
        },
        "id": "x_U6tZAcIbxW",
        "outputId": "b2a9ecf7-23d8-45b2-de74-d88f685d7d10"
      },
      "execution_count": 26,
      "outputs": [
        {
          "output_type": "execute_result",
          "data": {
            "text/plain": [
              "('Hello', 3, 2, 1, True, [10, 30, 30], 6, 6, 6)"
            ]
          },
          "metadata": {},
          "execution_count": 26
        }
      ]
    },
    {
      "cell_type": "code",
      "source": [
        "# How to modify tuple:\n",
        "\n",
        "# Converting into list\n",
        "list_example = list(tuple_example)\n",
        "\n",
        "# Change the value\n",
        "list_example[1] = 'Hi'\n",
        "\n",
        "# Converting again into tuple\n",
        "tuple_example = tuple(list_example)\n",
        "print(tuple_example)"
      ],
      "metadata": {
        "colab": {
          "base_uri": "https://localhost:8080/"
        },
        "id": "4buoSg6pG0AL",
        "outputId": "a8553297-4978-4f04-b6b3-fd353807e596"
      },
      "execution_count": 19,
      "outputs": [
        {
          "output_type": "stream",
          "name": "stdout",
          "text": [
            "('Hello', 'Hi', 2, 1, True, [10, 20, 30], 6, 6, 6)\n"
          ]
        }
      ]
    },
    {
      "cell_type": "markdown",
      "source": [
        "**Zip**\n",
        "* The zip() function returns a zip object, which is an iterator of tuples where the first item in each passed iterator is paired\n",
        "together, and then the second item in each passed iterator are paired together etc.\n",
        "* If the passed iterators have different lengths, the iterator with the least items decides the length of the new iterator.\n",
        "\n",
        "**Syntax**\n",
        "\n",
        "* zip(iterator1, iterator2, iterator3 ...)"
      ],
      "metadata": {
        "id": "LexN1TeEO1qE"
      }
    },
    {
      "cell_type": "code",
      "source": [
        "# zip example\n",
        "data1 = range(1,6)\n",
        "data2 = ['a','b','c','d']\n",
        "data3 = (1,3,5,7,9,11)\n",
        "data4 = 'mnopqrs'\n",
        "\n",
        "# zipping #1\n",
        "hasilZip1 = zip(data1, data2)\n",
        "print(hasilZip1)\n",
        "# Trying to read the result by converting to list\n",
        "listHasilZip1 = list(hasilZip1)\n",
        "print(listHasilZip1)\n",
        "# [(1, 'a'), (2, 'b'), (3, 'c'), (4, 'd')]"
      ],
      "metadata": {
        "colab": {
          "base_uri": "https://localhost:8080/"
        },
        "id": "lxugvuO8Qvqg",
        "outputId": "5174c833-de52-469e-c5fb-77cbdd48e2ea"
      },
      "execution_count": 72,
      "outputs": [
        {
          "output_type": "stream",
          "name": "stdout",
          "text": [
            "<zip object at 0x7e89975221c0>\n",
            "[(1, 'a'), (2, 'b'), (3, 'c'), (4, 'd')]\n"
          ]
        }
      ]
    },
    {
      "cell_type": "code",
      "source": [
        "# Zipping #2\n",
        "hasilZip2 = zip(data2,data3,data4)\n",
        "print(hasilZip2)\n",
        "# <zip object at 0x0000019410C816C0>\n",
        "tupleHasilZip2 = tuple(hasilZip2)\n",
        "\n",
        "print(tupleHasilZip2)\n",
        "# (('a', 1, 'm'), ('b', 3, 'n'), ('c', 5, 'o'), ('d', 7, 'p'))"
      ],
      "metadata": {
        "colab": {
          "base_uri": "https://localhost:8080/"
        },
        "id": "bG1AcYKzRTyG",
        "outputId": "b718ea9a-0dbf-4313-9e00-9916267b1892"
      },
      "execution_count": 45,
      "outputs": [
        {
          "output_type": "stream",
          "name": "stdout",
          "text": [
            "<zip object at 0x7e8997283880>\n",
            "(('a', 1, 'm'), ('b', 3, 'n'), ('c', 5, 'o'), ('d', 7, 'p'))\n"
          ]
        }
      ]
    },
    {
      "cell_type": "code",
      "source": [
        "# Zipping #3\n",
        "hasilZip3 = zip(data4,data1)\n",
        "print(hasilZip3)\n",
        "# <zip object at 0x0000019410C81740>\n",
        "dictHasilZip3 = dict(hasilZip3)\n",
        "print(dictHasilZip3)\n",
        "# {'m': 1, 'n': 2, 'o': 3, 'p': 4, 'q': 5}"
      ],
      "metadata": {
        "colab": {
          "base_uri": "https://localhost:8080/"
        },
        "id": "kE5xQdB_R4SC",
        "outputId": "9baaebaa-8492-49f0-b7ae-3c5bf561c32f"
      },
      "execution_count": 46,
      "outputs": [
        {
          "output_type": "stream",
          "name": "stdout",
          "text": [
            "<zip object at 0x7e899685b900>\n",
            "{'m': 1, 'n': 2, 'o': 3, 'p': 4, 'q': 5}\n"
          ]
        }
      ]
    },
    {
      "cell_type": "code",
      "source": [
        "'''\n",
        "Exercise:\n",
        "price_list = [20000, 15000, 10000]\n",
        "fruit_list = ['apple', 'orange', 'manggo']\n",
        "\n",
        "Output:\n",
        "price of apple is 20000\n",
        "price of orange is 15000\n",
        "price of manggo is 10000\n",
        "\n",
        "1. Solve it manually\n",
        "2. Solve it using enumerate()\n",
        "3. solve it using zip()\n",
        "\n",
        "'''"
      ],
      "metadata": {
        "id": "2wpSyxUhuZR6"
      },
      "execution_count": null,
      "outputs": []
    },
    {
      "cell_type": "code",
      "source": [
        "#=== Method 1 (manual indexing)\n",
        "fruit_list = ['apple', 'orange', 'manggo']\n",
        "price_list = [20000, 15000, 10000]\n",
        "x = 0\n",
        "for i in fruit_list:\n",
        "    print(f'price of {i} is {price_list[x]}')\n",
        "    x += 1"
      ],
      "metadata": {
        "colab": {
          "base_uri": "https://localhost:8080/"
        },
        "id": "AqgBwdx4vDtM",
        "outputId": "1761aa9a-a91d-406f-becf-8a6db4bae2ae"
      },
      "execution_count": 73,
      "outputs": [
        {
          "output_type": "stream",
          "name": "stdout",
          "text": [
            "price of apple is 20000\n",
            "price of orange is 15000\n",
            "price of manggo is 10000\n"
          ]
        }
      ]
    },
    {
      "cell_type": "code",
      "source": [
        "#==== Method using enumerate\n",
        "for index, fruit in enumerate(fruit_list):\n",
        "    print(f'price of {fruit} is {price_list[index]}')"
      ],
      "metadata": {
        "colab": {
          "base_uri": "https://localhost:8080/"
        },
        "id": "mQZCZPQpvU0C",
        "outputId": "fd2657e2-38e0-4365-f512-55c0096d1c1b"
      },
      "execution_count": 74,
      "outputs": [
        {
          "output_type": "stream",
          "name": "stdout",
          "text": [
            "price of apple is 20000\n",
            "price of orange is 15000\n",
            "price of manggo is 10000\n"
          ]
        }
      ]
    },
    {
      "cell_type": "code",
      "source": [
        "#======= Method using zip\n",
        "fruit_list = ['apple', 'orange', 'manggo']\n",
        "price_list = [20000, 15000, 10000]\n",
        "\n",
        "for fruit, price in zip(fruit_list, price_list):\n",
        "    print(f'price of {fruit} is {price}')"
      ],
      "metadata": {
        "colab": {
          "base_uri": "https://localhost:8080/"
        },
        "id": "6nvEQ9-wvg6i",
        "outputId": "d8e828ca-9387-4ab0-9df2-c289c7cea0dc"
      },
      "execution_count": 75,
      "outputs": [
        {
          "output_type": "stream",
          "name": "stdout",
          "text": [
            "price of apple is 20000\n",
            "price of orange is 15000\n",
            "price of manggo is 10000\n"
          ]
        }
      ]
    },
    {
      "cell_type": "markdown",
      "source": [
        "**Using zip() Function in for Loop**"
      ],
      "metadata": {
        "id": "L_6hLo15SPTp"
      }
    },
    {
      "cell_type": "code",
      "source": [
        "# Using zip() Function in for Loop\n",
        "# example 1\n",
        "name_data = ['Andi','Budi','Ceci','Dedi']\n",
        "age_data = [24,27,35,55]\n",
        "for name, age in zip(name_data,age_data) :\n",
        "  print('Name : {}\\nAge : {}'.format(name,age))"
      ],
      "metadata": {
        "colab": {
          "base_uri": "https://localhost:8080/"
        },
        "id": "uN2Sp062SE2I",
        "outputId": "826c953f-cd40-488e-b5ed-7b89d04e7b02"
      },
      "execution_count": 1,
      "outputs": [
        {
          "output_type": "stream",
          "name": "stdout",
          "text": [
            "Name : Andi\n",
            "Age : 24\n",
            "Name : Budi\n",
            "Age : 27\n",
            "Name : Ceci\n",
            "Age : 35\n",
            "Name : Dedi\n",
            "Age : 55\n"
          ]
        }
      ]
    },
    {
      "cell_type": "code",
      "source": [
        "# example 2\n",
        "for i,j in zip(range(5),range(10,0,-2)) :\n",
        "  print('i = {} & j = {}'.format(i,j))"
      ],
      "metadata": {
        "colab": {
          "base_uri": "https://localhost:8080/"
        },
        "id": "KnABbnnpSW_f",
        "outputId": "5beb629b-4ee6-409d-9460-f19824416445"
      },
      "execution_count": 48,
      "outputs": [
        {
          "output_type": "stream",
          "name": "stdout",
          "text": [
            "i = 0 & j = 10\n",
            "i = 1 & j = 8\n",
            "i = 2 & j = 6\n",
            "i = 3 & j = 4\n",
            "i = 4 & j = 2\n"
          ]
        }
      ]
    },
    {
      "cell_type": "markdown",
      "source": [
        "## **Dictionary**\n",
        "* Dictionary provides flexible ways to access and manage data.\n",
        "* Dictionary is mutable. The values can be manipulated.\n",
        "* The index in dictionary is called as key. So, dictionary contains key and value."
      ],
      "metadata": {
        "id": "VZnwNV_IHVrg"
      }
    },
    {
      "cell_type": "markdown",
      "source": [
        "**Creating a dictionary**"
      ],
      "metadata": {
        "id": "ySsd2n1DGAB-"
      }
    },
    {
      "cell_type": "code",
      "source": [
        "# Creating dictionary (Method 1)\n",
        "# Adding items to a dictionary\n",
        "\n",
        "dict_example = {\n",
        "    'Name': ['Asa', 'Ahyeon'],\n",
        "    'Age': [25, 23],\n",
        "    'Program': 'Data Science',\n",
        "    'Status': 'secret',\n",
        "}\n",
        "print(dict_example)"
      ],
      "metadata": {
        "colab": {
          "base_uri": "https://localhost:8080/"
        },
        "id": "hgnuCfYlTbqc",
        "outputId": "ee92d207-1817-4d12-a99d-1dbeedbff5ec"
      },
      "execution_count": 1,
      "outputs": [
        {
          "output_type": "stream",
          "name": "stdout",
          "text": [
            "{'Name': ['Asa', 'Ahyeon'], 'Age': [25, 23], 'Program': 'Data Science', 'Status': 'secret'}\n"
          ]
        }
      ]
    },
    {
      "cell_type": "code",
      "source": [
        "# Creating dictionary (Method 2)\n",
        "# using dict() function\n",
        "\n",
        "dict_example_too = dict(Name=['Asa', 'Ahyeon'], Age= [25, 23], Program='Data Science', Status='secret')\n",
        "print(dict_example_too)"
      ],
      "metadata": {
        "colab": {
          "base_uri": "https://localhost:8080/"
        },
        "id": "eJx1SRBRW2gP",
        "outputId": "ce687dd0-f27c-4a11-dc7a-1ca7d8a6576d"
      },
      "execution_count": 2,
      "outputs": [
        {
          "output_type": "stream",
          "name": "stdout",
          "text": [
            "{'Name': ['Asa', 'Ahyeon'], 'Age': [25, 23], 'Program': 'Data Science', 'Status': 'secret'}\n"
          ]
        }
      ]
    },
    {
      "cell_type": "code",
      "source": [
        "# Access data\n",
        "print(dict_example['Name'])\n",
        "print(dict_example['Age'])\n",
        "print(dict_example['Name'][1])\n",
        "print(dict_example.get('Status'))"
      ],
      "metadata": {
        "colab": {
          "base_uri": "https://localhost:8080/"
        },
        "id": "PK4qo8jZXtin",
        "outputId": "fd58cc01-0aea-44a5-fa4c-d98a874dd768"
      },
      "execution_count": 7,
      "outputs": [
        {
          "output_type": "stream",
          "name": "stdout",
          "text": [
            "['Asa', 'Ahyeon']\n",
            "[25, 23]\n",
            "Ahyeon\n",
            "secret\n"
          ]
        }
      ]
    },
    {
      "cell_type": "markdown",
      "source": [
        "**Adding item in a dictionary**"
      ],
      "metadata": {
        "id": "k5GW_wXQH_dU"
      }
    },
    {
      "cell_type": "code",
      "source": [
        "# Adding an item - one by one\n",
        "dict_example['Hobby'] = ['Reading', 'Swimming'] # Adding key hobby witj value ['Reading', 'Swimming']\n",
        "print(dict_example)"
      ],
      "metadata": {
        "colab": {
          "base_uri": "https://localhost:8080/"
        },
        "id": "f2GqqvhSTdhg",
        "outputId": "1b5f2b7f-2efa-4a5b-b7fc-cf1d153a9690"
      },
      "execution_count": 52,
      "outputs": [
        {
          "output_type": "stream",
          "name": "stdout",
          "text": [
            "{'Name': ['Asa', 'Ahyeon'], 'Age': [25, 23], 'Program': 'Data Science', 'Status': 'secret', 'Hobby': ['Reading', 'Swimming']}\n"
          ]
        }
      ]
    },
    {
      "cell_type": "markdown",
      "source": [
        "**Adding multiple items in a dictionary**"
      ],
      "metadata": {
        "id": "6MwueM0dNZvG"
      }
    },
    {
      "cell_type": "code",
      "source": [
        "# Adding multiple items\n",
        "dict_example.update({'Location': 'Bandung', 'Dreams': ['Data Scientist', 'Data Analyst']})\n",
        "print(dict_example)"
      ],
      "metadata": {
        "colab": {
          "base_uri": "https://localhost:8080/"
        },
        "id": "cAKOO8m5TgLF",
        "outputId": "f1f2ba20-5bcb-42bd-d4dc-c9c050ce8a21"
      },
      "execution_count": 12,
      "outputs": [
        {
          "output_type": "stream",
          "name": "stdout",
          "text": [
            "{'Name': ['Asa', 'Ahyeon'], 'Age': [25, 23], 'Program': 'Data Science', 'Status': 'secret', 'Location': 'Bandung', 'Dreams': ['Data Scientist', 'Data Analyst']}\n"
          ]
        }
      ]
    },
    {
      "cell_type": "markdown",
      "source": [
        "**Removing item in a dictionary**\n",
        "\n",
        "We can use some statements and function to remove items from dictionary, such as:\n",
        "* del statement\n",
        "* pop()\n",
        "* popitem()\n",
        "* Clear()"
      ],
      "metadata": {
        "id": "Ul4_t23NIH2e"
      }
    },
    {
      "cell_type": "code",
      "source": [
        "# Deleting an item # del\n",
        "\n",
        "# Remove key-value pair for 'status' key\n",
        "del dict_example['Status']\n",
        "print(dict_example)"
      ],
      "metadata": {
        "colab": {
          "base_uri": "https://localhost:8080/"
        },
        "id": "CGQRO19-UNSi",
        "outputId": "5f492ba2-d1ad-475f-b661-490910054603"
      },
      "execution_count": 54,
      "outputs": [
        {
          "output_type": "stream",
          "name": "stdout",
          "text": [
            "{'Name': ['Asa', 'Ahyeon'], 'Age': [25, 23], 'Program': 'Data Science', 'Hobby': ['Reading', 'Swimming'], 'Location': 'Bandung', 'Dreams': ['Data Scientist', 'Data Analyst']}\n"
          ]
        }
      ]
    },
    {
      "cell_type": "code",
      "source": [
        "# Deleting an item # pop\n",
        "dict_example.pop('Age')\n",
        "print(dict_example)"
      ],
      "metadata": {
        "colab": {
          "base_uri": "https://localhost:8080/"
        },
        "id": "ws3xmabjYiFq",
        "outputId": "d2e3ee7c-787f-40d9-e258-00cc0f4a5cfa"
      },
      "execution_count": 8,
      "outputs": [
        {
          "output_type": "stream",
          "name": "stdout",
          "text": [
            "{'Name': ['Asa', 'Ahyeon'], 'Program': 'Data Science', 'Status': 'secret'}\n"
          ]
        }
      ]
    },
    {
      "cell_type": "code",
      "source": [
        "# Deleting an item # popitem()\n",
        "dict_example.popitem()\n",
        "print(dict_example)"
      ],
      "metadata": {
        "colab": {
          "base_uri": "https://localhost:8080/"
        },
        "id": "Awpb0wXFY-Yc",
        "outputId": "0e70f9ec-1fe9-4d4b-d158-ea7558726d24"
      },
      "execution_count": 9,
      "outputs": [
        {
          "output_type": "stream",
          "name": "stdout",
          "text": [
            "{'Name': ['Asa', 'Ahyeon'], 'Program': 'Data Science'}\n"
          ]
        }
      ]
    },
    {
      "cell_type": "code",
      "source": [
        "# Deleting a whole dictionary\n",
        "dict_example.clear()\n",
        "print(dict_example)"
      ],
      "metadata": {
        "colab": {
          "base_uri": "https://localhost:8080/"
        },
        "id": "7TNf-YUUZNCq",
        "outputId": "a8abe555-1c5e-498e-8d0e-c35ba1ba57d8"
      },
      "execution_count": 10,
      "outputs": [
        {
          "output_type": "stream",
          "name": "stdout",
          "text": [
            "{}\n"
          ]
        }
      ]
    },
    {
      "cell_type": "markdown",
      "source": [
        "**The keys(), values(), and items() methods**\n",
        "* items() used to access key-value pair\n",
        "* keys() used to access keys\n",
        "* values() used to access values"
      ],
      "metadata": {
        "id": "DYCtVup7JSkA"
      }
    },
    {
      "cell_type": "code",
      "source": [
        "# items() method # Accessing both keys and value\n",
        "# Without loop\n",
        "dict_example = {\n",
        "    'Name': ['Asa', 'Ahyeon'],\n",
        "    'Age': [25, 23],\n",
        "    'Program': 'Data Science',\n",
        "    'Status': 'secret',\n",
        "}\n",
        "print(dict_example.items()) # Displaying items in dictionary\n",
        "\n",
        "# Using loop\n",
        "for k, v in dict_example.items():\n",
        "    print(f'key: {k}, value: {v}')"
      ],
      "metadata": {
        "colab": {
          "base_uri": "https://localhost:8080/"
        },
        "id": "HgiRWAZBJ7-W",
        "outputId": "8a00cb70-8d3d-4c87-ad21-ae0aa2905987"
      },
      "execution_count": 5,
      "outputs": [
        {
          "output_type": "stream",
          "name": "stdout",
          "text": [
            "dict_items([('Name', ['Asa', 'Ahyeon']), ('Age', [25, 23]), ('Program', 'Data Science'), ('Status', 'secret')])\n",
            "key: Name, value: ['Asa', 'Ahyeon']\n",
            "key: Age, value: [25, 23]\n",
            "key: Program, value: Data Science\n",
            "key: Status, value: secret\n"
          ]
        }
      ]
    },
    {
      "cell_type": "code",
      "source": [
        "# keys() method\n",
        "# Without loops\n",
        "print(dict_example.keys()) # Displaying keys in dictionary\n",
        "\n",
        "# Using loop\n",
        "for k in dict_example.keys(): # Taking keys from dictionary\n",
        "    print(k)"
      ],
      "metadata": {
        "colab": {
          "base_uri": "https://localhost:8080/"
        },
        "id": "tnBXG3zOKSOt",
        "outputId": "746a1b07-3e49-4c1c-ef68-4fb496ff8f26"
      },
      "execution_count": 6,
      "outputs": [
        {
          "output_type": "stream",
          "name": "stdout",
          "text": [
            "dict_keys(['Name', 'Age', 'Program', 'Status'])\n",
            "Name\n",
            "Age\n",
            "Program\n",
            "Status\n"
          ]
        }
      ]
    },
    {
      "cell_type": "code",
      "source": [
        "# values() method\n",
        "# Without loops\n",
        "print(dict_example.values()) # Displaying values in dictionary\n",
        "\n",
        "# Using loop\n",
        "for v in dict_example.values(): # Taking values from dictionary\n",
        "    print(v)"
      ],
      "metadata": {
        "colab": {
          "base_uri": "https://localhost:8080/"
        },
        "id": "CQ53AqZ5LfiJ",
        "outputId": "4d851955-861e-48aa-dddc-e57cdd74c0d1"
      },
      "execution_count": 7,
      "outputs": [
        {
          "output_type": "stream",
          "name": "stdout",
          "text": [
            "dict_values([['Asa', 'Ahyeon'], [25, 23], 'Data Science', 'secret'])\n",
            "['Asa', 'Ahyeon']\n",
            "[25, 23]\n",
            "Data Science\n",
            "secret\n"
          ]
        }
      ]
    },
    {
      "cell_type": "code",
      "source": [
        "# Loop through a dictionary\n",
        "dict_example = {\n",
        "    'Name': ['Asa', 'Ahyeon'],\n",
        "    'Age': [25, 23],\n",
        "    'Program': 'Data Science',\n",
        "    'Status': 'secret',\n",
        "}\n",
        "\n",
        "print('-----Direct on dictionary')\n",
        "# Through dictionary\n",
        "for key in dict_example:\n",
        "    print(\"{} = {}\".format(key, dict_example[key]))\n",
        "\n",
        "print('-----method keys')\n",
        "# method keys on dictionary\n",
        "for key in dict_example.keys():\n",
        "    print(\"{} = {}\".format(key, dict_example[key]))\n",
        "\n",
        "print('-----method values')\n",
        "# method values on dictionary\n",
        "for value in dict_example.values():\n",
        "    print(value)\n",
        "\n",
        "print('-----method items')\n",
        "# method items on dictionary\n",
        "for key, value in dict_example.items():\n",
        "    print(\"{} = {}\".format(key, value))"
      ],
      "metadata": {
        "colab": {
          "base_uri": "https://localhost:8080/"
        },
        "id": "DD5i9Klng8X0",
        "outputId": "83c4a779-4533-46fb-b903-3e000262c6c1"
      },
      "execution_count": 14,
      "outputs": [
        {
          "output_type": "stream",
          "name": "stdout",
          "text": [
            "-----Direct on dictionary\n",
            "Name = ['Asa', 'Ahyeon']\n",
            "Age = [25, 23]\n",
            "Program = Data Science\n",
            "Status = secret\n",
            "-----method keys\n",
            "Name = ['Asa', 'Ahyeon']\n",
            "Age = [25, 23]\n",
            "Program = Data Science\n",
            "Status = secret\n",
            "-----method values\n",
            "['Asa', 'Ahyeon']\n",
            "[25, 23]\n",
            "Data Science\n",
            "secret\n",
            "-----method items\n",
            "Name = ['Asa', 'Ahyeon']\n",
            "Age = [25, 23]\n",
            "Program = Data Science\n",
            "Status = secret\n"
          ]
        }
      ]
    },
    {
      "cell_type": "markdown",
      "source": [
        "**Checking whether a key or value exists in a dictionary**"
      ],
      "metadata": {
        "id": "RuBPq4G-LnRg"
      }
    },
    {
      "cell_type": "code",
      "source": [
        "# Check if a key exists in a dictionary\n",
        "\n",
        "dict_example = {\n",
        "    'Name': ['Asa', 'Ahyeon'],\n",
        "    'Age': [25, 23],\n",
        "    'Program': 'Data Science',\n",
        "    'Status': 'secret',\n",
        "}\n",
        "\n",
        "if 'program' in dict_example:\n",
        "  print('key of program is in dict_example')\n",
        "else:\n",
        "  print('key of program is not exist in the dict_example')"
      ],
      "metadata": {
        "colab": {
          "base_uri": "https://localhost:8080/"
        },
        "id": "qGoAxw4ZjHPT",
        "outputId": "9a4bc533-7a53-4e7e-a4ed-86e0a417b681"
      },
      "execution_count": 15,
      "outputs": [
        {
          "output_type": "stream",
          "name": "stdout",
          "text": [
            "key of program is not exist in the dict_example\n"
          ]
        }
      ]
    },
    {
      "cell_type": "markdown",
      "source": [
        "**Getting a dictionary length**"
      ],
      "metadata": {
        "id": "1dD-we0IMAKj"
      }
    },
    {
      "cell_type": "code",
      "source": [
        "# Length of dictionary\n",
        "print(len(dict_example)) # 4 key value pairs"
      ],
      "metadata": {
        "colab": {
          "base_uri": "https://localhost:8080/"
        },
        "id": "zPuW7sPbj53n",
        "outputId": "88b67dcd-73af-4ae9-979d-f62049f553ba"
      },
      "execution_count": 17,
      "outputs": [
        {
          "output_type": "stream",
          "name": "stdout",
          "text": [
            "4\n"
          ]
        }
      ]
    },
    {
      "cell_type": "markdown",
      "source": [
        "**The get() methods**"
      ],
      "metadata": {
        "id": "qqG78w9nMYw-"
      }
    },
    {
      "cell_type": "code",
      "source": [
        "# The get methods\n",
        "spam = {'color': 'red', 'age': 42, 'size': 53}\n",
        "\n",
        "# Using get method\n",
        "spam.get('color', 'a key is not found' )\n",
        "\n",
        "# Using get() method # Require 2 arguments: key and fallback value to be returned (if there is no key in the dictionary)\n",
        "#spam.get('name', 'a key is not found')\n",
        "\n",
        "# Without get() method\n",
        "#spam['name']"
      ],
      "metadata": {
        "colab": {
          "base_uri": "https://localhost:8080/"
        },
        "id": "pny8LU6AMflP",
        "outputId": "c167d993-993d-491b-b663-a1c4a087adac"
      },
      "execution_count": 19,
      "outputs": [
        {
          "output_type": "stream",
          "name": "stdout",
          "text": [
            "{'color': 'red', 'age': 42, 'size': 53}\n"
          ]
        }
      ]
    },
    {
      "cell_type": "markdown",
      "source": [
        "**Dictionary comprehension**\n",
        "\n",
        "Syntax: dictionary = {key: value for vars in iterable}"
      ],
      "metadata": {
        "id": "91w1nKB9gGkp"
      }
    },
    {
      "cell_type": "code",
      "source": [
        "# Without dictionary comprehension\n",
        "timesTwoDict = dict()\n",
        "for num in range(1, 6):\n",
        "  timesTwoDict[num] = num*2\n",
        "print(timesTwoDict)\n",
        "# {1: 2, 2: 4, 3: 6, 4: 8, 5: 10}"
      ],
      "metadata": {
        "colab": {
          "base_uri": "https://localhost:8080/"
        },
        "id": "0tgwmLl9gMR_",
        "outputId": "3f9a4ebf-8b5a-4770-9a21-1fce915668a5"
      },
      "execution_count": 23,
      "outputs": [
        {
          "output_type": "stream",
          "name": "stdout",
          "text": [
            "{1: 2, 2: 4, 3: 6, 4: 8, 5: 10}\n"
          ]
        }
      ]
    },
    {
      "cell_type": "code",
      "source": [
        "# With dictionary comprehension\n",
        "timesTwoDict = {num: num*2 for num in range(1, 6)}\n",
        "print(timesTwoDict)\n",
        "# {1: 2, 2: 4, 3: 6, 4: 8, 5: 10}"
      ],
      "metadata": {
        "colab": {
          "base_uri": "https://localhost:8080/"
        },
        "id": "Rdq_rY-ZgaM1",
        "outputId": "c47620bb-313e-4baa-e8ef-3e334084638e"
      },
      "execution_count": 24,
      "outputs": [
        {
          "output_type": "stream",
          "name": "stdout",
          "text": [
            "{1: 2, 2: 4, 3: 6, 4: 8, 5: 10}\n"
          ]
        }
      ]
    },
    {
      "cell_type": "code",
      "source": [
        "# harga item dalam rupiah\n",
        "hargaLama = {'susu': 15000, 'teh': 10000, 'roti': 20000}\n",
        "kenaikanHarga = 1.1\n",
        "# harga naik 10%\n",
        "hargaBaru = {item: value*kenaikanHarga for (item, value) in hargaLama.items()}\n",
        "print(hargaBaru)\n",
        "# {'susu': 16500.0, 'teh': 11000.0, 'roti': 22000.0}"
      ],
      "metadata": {
        "colab": {
          "base_uri": "https://localhost:8080/"
        },
        "id": "WoU8b_k3gu65",
        "outputId": "76572a38-cbf7-4b25-e995-bb6294ce0817"
      },
      "execution_count": 25,
      "outputs": [
        {
          "output_type": "stream",
          "name": "stdout",
          "text": [
            "{'susu': 16500.0, 'teh': 11000.0, 'roti': 22000.0}\n"
          ]
        }
      ]
    },
    {
      "cell_type": "code",
      "source": [
        "# if Conditional Dictionary Comprehension\n",
        "umurDict = {'andi': 24, 'budi': 32, 'ceci': 23, 'dedi': 51}\n",
        "umurGanjilDict = {key: val for (key, val) in umurDict.items() if val % 2 != 0}\n",
        "print(umurGanjilDict)\n",
        "# {'ceci': 23, 'dedi': 51}"
      ],
      "metadata": {
        "colab": {
          "base_uri": "https://localhost:8080/"
        },
        "id": "qp3zlBShg7Bf",
        "outputId": "8ecb4479-7a34-45bc-c4a8-e9d5cc4084aa"
      },
      "execution_count": 27,
      "outputs": [
        {
          "output_type": "stream",
          "name": "stdout",
          "text": [
            "{'ceci': 23, 'dedi': 51}\n"
          ]
        }
      ]
    },
    {
      "cell_type": "code",
      "source": [
        "# if-else Conditional Dictionary Comprehension\n",
        "umurDict = {'andi': 24, 'budi': 32, 'ceci': 23, 'dedi': 51}\n",
        "tuaMudaDict = {key: ('tua' if val > 50 else 'muda') for (key, val) in umurDict.items()}\n",
        "print(tuaMudaDict)\n",
        "# {'andi': 'muda', 'budi': 'muda', 'ceci': 'muda', 'dedi': 'tua'}"
      ],
      "metadata": {
        "colab": {
          "base_uri": "https://localhost:8080/"
        },
        "id": "rbqfhAuxhFWL",
        "outputId": "469e96e1-4612-4404-8891-3e04e804246c"
      },
      "execution_count": 26,
      "outputs": [
        {
          "output_type": "stream",
          "name": "stdout",
          "text": [
            "{'andi': 'muda', 'budi': 'muda', 'ceci': 'muda', 'dedi': 'tua'}\n"
          ]
        }
      ]
    },
    {
      "cell_type": "markdown",
      "source": [
        "**Exerces: Built a market program using dictionary**"
      ],
      "metadata": {
        "id": "DdPFl1zghay8"
      }
    },
    {
      "cell_type": "code",
      "source": [
        "# Exercise\n",
        "# Create a dictionary menu-based program (2 menu)\n",
        "# First menu: add item into dictionary\n",
        "# Second menu: delete item in dictionary\n",
        "# The added and removed items are based on the user input\n",
        "\n",
        "\n",
        "# Build dictionary\n",
        "my_dict = {\n",
        "    'milk': {'brand': 'ultra', 'price': 5000},\n",
        "    'instant noodles': {'brand': 'indomie', 'price': 3000},\n",
        "    'cooking oil': {'brand': 'bimoli', 'price': 36000}\n",
        "}\n",
        "\n",
        "while True:\n",
        "    print('''Menu Options:\n",
        "    1. Add a product\n",
        "    2. Remove a product\n",
        "    3. Exit\n",
        "    ''')\n",
        "\n",
        "    choice = input('Enter menu (1/2/3): ')\n",
        "\n",
        "    if choice == '1':\n",
        "        product = input('Enter product: ')\n",
        "        brand = input('Enter brand: ')\n",
        "        price = int(input('Enter price: '))\n",
        "        my_dict[product] = {'brand': brand, 'price': price}\n",
        "        print('Data successfully added:', product, ':', my_dict[product])\n",
        "        print(my_dict)\n",
        "    elif choice == '2':\n",
        "        product = input('Enter product to remove: ')\n",
        "        del my_dict[product]\n",
        "        print(my_dict)\n",
        "    elif choice == '3':\n",
        "        print('Thank you!')\n",
        "        break\n",
        "    else:\n",
        "        print('Please enter a valid option.')"
      ],
      "metadata": {
        "colab": {
          "base_uri": "https://localhost:8080/"
        },
        "id": "8SwVIyWWURH6",
        "outputId": "7c2610c8-3c88-4755-f523-0d22656235ad"
      },
      "execution_count": 18,
      "outputs": [
        {
          "output_type": "stream",
          "name": "stdout",
          "text": [
            "Menu Options:\n",
            "    1. Add a product\n",
            "    2. Remove a product\n",
            "    3. Exit\n",
            "    \n",
            "Enter menu (1/2/3): 1\n",
            "Enter product: diet cola\n",
            "Enter brand: coca cola\n",
            "Enter price: 5000\n",
            "Data successfully added: diet cola : {'brand': 'coca cola', 'price': 5000}\n",
            "{'milk': {'brand': 'ultra', 'price': 5000}, 'instant noodles': {'brand': 'indomie', 'price': 3000}, 'cooking oil': {'brand': 'bimoli', 'price': 36000}, 'diet cola': {'brand': 'coca cola', 'price': 5000}}\n",
            "Menu Options:\n",
            "    1. Add a product\n",
            "    2. Remove a product\n",
            "    3. Exit\n",
            "    \n",
            "Enter menu (1/2/3): 2\n",
            "Enter product to remove: diet cola\n",
            "{'milk': {'brand': 'ultra', 'price': 5000}, 'instant noodles': {'brand': 'indomie', 'price': 3000}, 'cooking oil': {'brand': 'bimoli', 'price': 36000}}\n",
            "Menu Options:\n",
            "    1. Add a product\n",
            "    2. Remove a product\n",
            "    3. Exit\n",
            "    \n",
            "Enter menu (1/2/3): 3\n",
            "Thank you!\n"
          ]
        }
      ]
    },
    {
      "cell_type": "markdown",
      "source": [
        "## **Set**\n",
        "\n",
        "* Denoted by curly braces {}\n",
        "* Stores different data types\n",
        "* Cannot contain duplicate items\n",
        "* No indexing system\n",
        "* Mutable\n",
        "* Often used to remove duplicates"
      ],
      "metadata": {
        "id": "55ojQAW_kO6-"
      }
    },
    {
      "cell_type": "markdown",
      "source": [
        "**Creating a set data type**"
      ],
      "metadata": {
        "id": "iweL6wWXPd3H"
      }
    },
    {
      "cell_type": "code",
      "source": [
        "# Creating a set data type\n",
        "set_example = {'Hello', 3, 2, 1, True, 6, 6, 6, 10, False, 'Hi'}\n",
        "print(set_example) # Cannot contain duplicates"
      ],
      "metadata": {
        "colab": {
          "base_uri": "https://localhost:8080/"
        },
        "id": "YZBUDHF5kRL8",
        "outputId": "149fe088-1341-457b-a700-a9d5acf06fcd"
      },
      "execution_count": 33,
      "outputs": [
        {
          "output_type": "stream",
          "name": "stdout",
          "text": [
            "{False, 1, 2, 3, 'Hi', 6, 10, 'Hello'}\n"
          ]
        }
      ]
    },
    {
      "cell_type": "code",
      "source": [
        "# Accessing data # No order\n",
        "# Looping through a set\n",
        "for val in set_example:\n",
        "    print('Value:', {val})"
      ],
      "metadata": {
        "colab": {
          "base_uri": "https://localhost:8080/"
        },
        "id": "q3E4Fn6Mm7X5",
        "outputId": "84d3ae73-8ab3-4643-fddf-5611993de428"
      },
      "execution_count": 22,
      "outputs": [
        {
          "output_type": "stream",
          "name": "stdout",
          "text": [
            "Value: {False}\n",
            "Value: {1}\n",
            "Value: {2}\n",
            "Value: {3}\n",
            "Value: {'Hi'}\n",
            "Value: {100}\n",
            "Value: {6}\n",
            "Value: {200}\n",
            "Value: {10}\n",
            "Value: {'Hello'}\n",
            "Value: {300}\n"
          ]
        }
      ]
    },
    {
      "cell_type": "code",
      "source": [
        "# Calculating number of items in set\n",
        "print(len(set_example))"
      ],
      "metadata": {
        "colab": {
          "base_uri": "https://localhost:8080/"
        },
        "id": "Ja4BUMDAnGT_",
        "outputId": "47b879f0-ca07-4327-a214-3e12212b3a5c"
      },
      "execution_count": 35,
      "outputs": [
        {
          "output_type": "stream",
          "name": "stdout",
          "text": [
            "8\n"
          ]
        }
      ]
    },
    {
      "cell_type": "code",
      "source": [
        "# Creating a set data type (method 2)\n",
        "# Creating set from List, tuple, and dictionary using set() function\n",
        "list1 = ['Diandra', 3, 3, 'Widy']\n",
        "tuple1 = (False, 1, 'Andi', False)\n",
        "dictionary1 = {\n",
        "    'name': 'Coder',\n",
        "    'age': 25,\n",
        "    'country': 'Indonesia',\n",
        "    'job': 'Coder',\n",
        "    'marriage': False\n",
        "\n",
        "}\n",
        "\n",
        "list_to_set = set(list1)\n",
        "tuple_to_set = set(tuple1)\n",
        "dictionary_to_set = set(dictionary1)\n",
        "setDictionaryValues = set(dictionary1.values())\n",
        "\n",
        "print(list_to_set)\n",
        "print(tuple_to_set)\n",
        "print(dictionary_to_set)\n",
        "print(setDictionaryValues)"
      ],
      "metadata": {
        "colab": {
          "base_uri": "https://localhost:8080/"
        },
        "id": "vWpY-2nIqMK9",
        "outputId": "86793d05-ca9b-42aa-b3aa-e1c9f9ead6c9"
      },
      "execution_count": 42,
      "outputs": [
        {
          "output_type": "stream",
          "name": "stdout",
          "text": [
            "{'Diandra', 3, 'Widy'}\n",
            "{False, 1, 'Andi'}\n",
            "{'country', 'marriage', 'job', 'age', 'name'}\n",
            "{'Indonesia', 25, 'Coder', False}\n"
          ]
        }
      ]
    },
    {
      "cell_type": "markdown",
      "source": [
        "**Checking whether a value is exist in a set**"
      ],
      "metadata": {
        "id": "Cw9ZKXK4PsQb"
      }
    },
    {
      "cell_type": "code",
      "source": [
        "# Check if an item exists in a set\n",
        "set_example = {'Hello', 3, 2, 1, True, 6, 6, 6, 10, False, 'Hi'}\n",
        "\n",
        "if 10 in set_example:\n",
        "    print('10 is in the set')\n",
        "else:\n",
        "    print('10 is not in the set')"
      ],
      "metadata": {
        "colab": {
          "base_uri": "https://localhost:8080/"
        },
        "id": "VP81PK13ruDe",
        "outputId": "74bca418-82ba-4780-e3d9-a5c800e6128b"
      },
      "execution_count": 43,
      "outputs": [
        {
          "output_type": "stream",
          "name": "stdout",
          "text": [
            "10 is in the set\n"
          ]
        }
      ]
    },
    {
      "cell_type": "markdown",
      "source": [
        "**Adding item in a set**"
      ],
      "metadata": {
        "id": "TQbyVTozQixk"
      }
    },
    {
      "cell_type": "code",
      "source": [
        "# Adding item using add()\n",
        "set_example = {'Hello', 3, 2, 1, True, 6, 6, 6, 10, False, 'Hi'}\n",
        "print('set example before: ', set_example)\n",
        "\n",
        "set_example.add('New')\n",
        "print('set example after: ', set_example)"
      ],
      "metadata": {
        "colab": {
          "base_uri": "https://localhost:8080/"
        },
        "id": "1y1hs8ZGPrGJ",
        "outputId": "ab7e19f4-f973-4e76-cd27-5f0fd55fd779"
      },
      "execution_count": 20,
      "outputs": [
        {
          "output_type": "stream",
          "name": "stdout",
          "text": [
            "set example before:  {False, 1, 2, 3, 'Hi', 6, 10, 'Hello'}\n",
            "set example after:  {False, 1, 2, 3, 'Hi', 'New', 6, 10, 'Hello'}\n"
          ]
        }
      ]
    },
    {
      "cell_type": "markdown",
      "source": [
        "**Adding multiple items in a set**"
      ],
      "metadata": {
        "id": "abui_bGwRBzG"
      }
    },
    {
      "cell_type": "code",
      "source": [
        "# Adding multiple items using update\n",
        "set_example = {'Hello', 3, 2, 1, True, 6, 6, 6, 10, False, 'Hi'}\n",
        "print('set example before: ', set_example)\n",
        "\n",
        "set_example.update([100, 200, 300])\n",
        "print('set example after: ', set_example)"
      ],
      "metadata": {
        "colab": {
          "base_uri": "https://localhost:8080/"
        },
        "id": "ht63q7UTRGvj",
        "outputId": "12221cfe-b343-4d3b-b844-bfa2a9fa9cfd"
      },
      "execution_count": 21,
      "outputs": [
        {
          "output_type": "stream",
          "name": "stdout",
          "text": [
            "set example before:  {False, 1, 2, 3, 'Hi', 6, 10, 'Hello'}\n",
            "set example after:  {False, 1, 2, 3, 'Hi', 100, 6, 200, 10, 'Hello', 300}\n"
          ]
        }
      ]
    },
    {
      "cell_type": "markdown",
      "source": [
        "**Removing item from a set**\n",
        "\n",
        "We can use some function to remove items from set, such as\n",
        "* remove()\n",
        "* pop()\n",
        "* discard()\n",
        "* clear()"
      ],
      "metadata": {
        "id": "wiHKog4yRRm-"
      }
    },
    {
      "cell_type": "code",
      "source": [
        "# Removing an item # discard\n",
        "set_example.discard(2)\n",
        "print('After discard(2):',set_example)\n"
      ],
      "metadata": {
        "colab": {
          "base_uri": "https://localhost:8080/"
        },
        "id": "1OU2Wk8mnU0k",
        "outputId": "a06d20d8-6b5e-4c7b-aa12-c67bae8e741c"
      },
      "execution_count": 37,
      "outputs": [
        {
          "output_type": "stream",
          "name": "stdout",
          "text": [
            "After discard(2): {False, 1, 3, 'Hi', 6, 10}\n"
          ]
        }
      ]
    },
    {
      "cell_type": "code",
      "source": [
        "# Removing an item # remove\n",
        "set_example.remove('Hello')\n",
        "print('After remove(\"hello\"):',set_example)"
      ],
      "metadata": {
        "colab": {
          "base_uri": "https://localhost:8080/"
        },
        "id": "pMdqu8P1nAAa",
        "outputId": "f60b24eb-0e7c-4eba-a1e0-110d248758b7"
      },
      "execution_count": 36,
      "outputs": [
        {
          "output_type": "stream",
          "name": "stdout",
          "text": [
            "After removal(\"hello\") {False, 1, 2, 3, 'Hi', 6, 10}\n"
          ]
        }
      ]
    },
    {
      "cell_type": "code",
      "source": [
        "# Removing an item, randomly # pop\n",
        "set_example.pop()\n",
        "print('After pop():',set_example)"
      ],
      "metadata": {
        "colab": {
          "base_uri": "https://localhost:8080/"
        },
        "id": "JRMVwIyuoTJ0",
        "outputId": "7c954766-64c6-462a-efcb-0e7c582cef01"
      },
      "execution_count": 38,
      "outputs": [
        {
          "output_type": "stream",
          "name": "stdout",
          "text": [
            "After pop(): {1, 3, 'Hi', 6, 10}\n"
          ]
        }
      ]
    },
    {
      "cell_type": "code",
      "source": [
        "# All item removal\n",
        "set_example.clear()\n",
        "print('After clear():',set_example)"
      ],
      "metadata": {
        "colab": {
          "base_uri": "https://localhost:8080/"
        },
        "id": "I6olak_YohFt",
        "outputId": "3dbceb6d-cc7b-4fd7-8c99-08d2d10e1388"
      },
      "execution_count": 39,
      "outputs": [
        {
          "output_type": "stream",
          "name": "stdout",
          "text": [
            "After clear(): set()\n"
          ]
        }
      ]
    },
    {
      "cell_type": "markdown",
      "source": [
        "**Membership: issubset and issupperset**"
      ],
      "metadata": {
        "id": "PG4rUTnsSG96"
      }
    },
    {
      "cell_type": "code",
      "source": [
        "# Issubset # isssuperset\n",
        "\n",
        "# Creating set\n",
        "prima = {3, 5, 7}\n",
        "ganjil = {1, 3, 5, 7, 9}\n",
        "genap = {2, 4, 6}\n",
        "\n",
        "# Check whether a set is a subset of another\n",
        "print('Prima is subset of ganjil:', prima.issubset(ganjil))\n",
        "\n",
        "# Check whether a set is a superset of another\n",
        "print('Ganjil is superset of prima:', ganjil.issuperset(prima))\n",
        "\n",
        "# Check whether the two sets have no elements in common (disjoint)\n",
        "print('Ganjil is disjoint with genap:', ganjil.isdisjoint(genap))"
      ],
      "metadata": {
        "colab": {
          "base_uri": "https://localhost:8080/"
        },
        "id": "BdJiOxtDpEgK",
        "outputId": "aeda985b-1559-4527-b163-eea66fe81c7f"
      },
      "execution_count": 40,
      "outputs": [
        {
          "output_type": "stream",
          "name": "stdout",
          "text": [
            "Prima is subset of ganjil: True\n",
            "Ganjil is superset of prima: True\n",
            "Ganjil is disjoint with genap: True\n"
          ]
        }
      ]
    },
    {
      "cell_type": "markdown",
      "source": [
        "**The union() method**"
      ],
      "metadata": {
        "id": "Dp-bGt3WS7yx"
      }
    },
    {
      "cell_type": "code",
      "source": [
        "# Join sets\n",
        "# Union = All unique elements from both sets\n",
        "set_movie_1 = {'The Avengers', 'Avengers: Endgame', 'Avengers: Infinity War', 'Avengers: Age of Ultron'}\n",
        "set_movie_2 = {'Avengers: Endgame', 'Avengers: Infinity War', 'The Avengers', 'Titanic'}\n",
        "\n",
        "set_combined = set_movie_1.union(set_movie_2)\n",
        "print(set_combined)"
      ],
      "metadata": {
        "colab": {
          "base_uri": "https://localhost:8080/"
        },
        "id": "9QgkpyM9sWle",
        "outputId": "68f54022-5375-48d2-c342-2defa3b41b91"
      },
      "execution_count": 49,
      "outputs": [
        {
          "output_type": "stream",
          "name": "stdout",
          "text": [
            "{'Avengers: Age of Ultron', 'Avengers: Infinity War', 'Avengers: Endgame', 'The Avengers', 'Titanic'}\n"
          ]
        }
      ]
    },
    {
      "cell_type": "markdown",
      "source": [
        "**The difference() method**"
      ],
      "metadata": {
        "id": "J2YbgWvjTMIO"
      }
    },
    {
      "cell_type": "code",
      "source": [
        "# Get difference between 2 sets\n",
        "set_movie_1 = {'The Avengers', 'Avengers: Endgame', 'Avengers: Infinity War', 'Avengers: Age of Ultron', 'Iron man 3'}\n",
        "set_movie_2 = {'Avengers: Endgame', 'Avengers: Infinity War', 'The Avengers', 'Titanic'}\n",
        "\n",
        "# difference: Elements in set_movie_1 but not in set_movie_2\n",
        "set_difference = set_movie_1.difference(set_movie_2)\n",
        "print(set_difference)\n",
        "print(set_movie_1)\n"
      ],
      "metadata": {
        "colab": {
          "base_uri": "https://localhost:8080/"
        },
        "id": "bN3Ag8gRtBJe",
        "outputId": "40592630-d4c6-46fc-fb4e-1616b6c57f85"
      },
      "execution_count": 51,
      "outputs": [
        {
          "output_type": "stream",
          "name": "stdout",
          "text": [
            "{'Avengers: Age of Ultron', 'Iron man 3'}\n",
            "{'Avengers: Age of Ultron', 'Avengers: Infinity War', 'Avengers: Endgame', 'The Avengers', 'Iron man 3'}\n"
          ]
        }
      ]
    },
    {
      "cell_type": "markdown",
      "source": [
        "**The symetric_difference() method**"
      ],
      "metadata": {
        "id": "Rjdh4FYfTRZA"
      }
    },
    {
      "cell_type": "code",
      "source": [
        "# Get symmetric difference between 2 sets\n",
        "# Symetric_difference() # Elements in either set, but not both\n",
        "# Return a new set with items unique to each set\n",
        "\n",
        "set_movie_1 = {'The Avengers', 'Avengers: Endgame', 'Avengers: Infinity War', 'Avengers: Age of Ultron', 'Iron man 3'}\n",
        "set_movie_2 = {'Avengers: Endgame', 'Avengers: Infinity War', 'The Avengers', 'Titanic'}\n",
        "\n",
        "set_movie_3 = set_movie_1.symmetric_difference(set_movie_2)\n",
        "print(set_movie_3)"
      ],
      "metadata": {
        "colab": {
          "base_uri": "https://localhost:8080/"
        },
        "id": "-IIqFfZ3uQnY",
        "outputId": "3e957bdf-37fe-46f4-b9ee-9a54dc9da88e"
      },
      "execution_count": 52,
      "outputs": [
        {
          "output_type": "stream",
          "name": "stdout",
          "text": [
            "{'Avengers: Age of Ultron', 'Titanic', 'Iron man 3'}\n"
          ]
        }
      ]
    },
    {
      "cell_type": "code",
      "source": [
        "# Intersection: Elements common to both set\n",
        "# Returns: A new set with only shared elements\n",
        "set_movie_1 = {'The Avengers', 'Avengers: Endgame', 'Avengers: Infinity War', 'Avengers: Age of Ultron', 'Iron man 3'}\n",
        "set_movie_2 = {'Avengers: Endgame', 'Avengers: Infinity War', 'The Avengers', 'Titanic'}\n",
        "\n",
        "set_intersection = set_movie_1.intersection(set_movie_2)\n",
        "print(set_intersection)\n"
      ],
      "metadata": {
        "colab": {
          "base_uri": "https://localhost:8080/"
        },
        "id": "ZTXRjUWE0dPL",
        "outputId": "7dfe422e-51cc-4c43-e1e1-32e4b7ac767d"
      },
      "execution_count": 53,
      "outputs": [
        {
          "output_type": "stream",
          "name": "stdout",
          "text": [
            "{'Avengers: Infinity War', 'Avengers: Endgame', 'The Avengers'}\n"
          ]
        }
      ]
    }
  ]
}