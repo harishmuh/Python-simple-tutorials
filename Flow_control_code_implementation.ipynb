{
  "nbformat": 4,
  "nbformat_minor": 0,
  "metadata": {
    "colab": {
      "provenance": [],
      "authorship_tag": "ABX9TyNb3UBV/d+M1o7Z16oJbc3H",
      "include_colab_link": true
    },
    "kernelspec": {
      "name": "python3",
      "display_name": "Python 3"
    },
    "language_info": {
      "name": "python"
    }
  },
  "cells": [
    {
      "cell_type": "markdown",
      "metadata": {
        "id": "view-in-github",
        "colab_type": "text"
      },
      "source": [
        "<a href=\"https://colab.research.google.com/github/harishmuh/Python-simple-tutorials/blob/main/Flow_control_code_implementation.ipynb\" target=\"_parent\"><img src=\"https://colab.research.google.com/assets/colab-badge.svg\" alt=\"Open In Colab\"/></a>"
      ]
    },
    {
      "cell_type": "markdown",
      "source": [
        "# **Flow Control**\n",
        "\n",
        "In everyday life, humans often depend on certain conditions to determine the actions to be taken. For example, if the weather is raining, someone will choose to use an umbrella.In addition, there are also situations where a person repeats an activity based on certain conditions, such as when eating, where the process of inserting food into the mouth and digesting it occurs repeatedly. Both examples indicate that a condition can affect the actions taken. Although some conditions are out of control, some can be controlled.This is what is called Flow Control."
      ],
      "metadata": {
        "id": "Cdayc7GxXDbH"
      }
    },
    {
      "cell_type": "markdown",
      "source": [
        "# **1. Basic Knowledge**\n",
        "Before exploring Flow Control, it is important to first understand how to represent the true and false values, as well as how to write branching in the python code. Although it has been discussed earlier, we will re -explore the concepts of Boolean values, comparative operators, and Boolean operators in more depth"
      ],
      "metadata": {
        "id": "kx-BLPJVXYjV"
      }
    },
    {
      "cell_type": "markdown",
      "source": [
        "### **1.1 Boolean value**\n",
        "\n",
        "Unlike the integer data types, floating, and string which has an unlimited value, Boolean data types have only two values, namely True and False.Boolean is used in comparison operations and logic, and its value can be stored in variables.In Python, Boolean True and False are not written with quotes such as strings, and always begin with capital letters \"T\" and \"F\".\n",
        "\n"
      ],
      "metadata": {
        "id": "F3i8EmOAX1VW"
      }
    },
    {
      "cell_type": "code",
      "execution_count": 31,
      "metadata": {
        "colab": {
          "base_uri": "https://localhost:8080/"
        },
        "id": "Bj5tebdSWKmw",
        "outputId": "45507c47-e41f-408b-c8ae-abf66f590cdf"
      },
      "outputs": [
        {
          "output_type": "stream",
          "name": "stdout",
          "text": [
            "True\n",
            "False\n"
          ]
        }
      ],
      "source": [
        "# Contoh penulisan boolean value\n",
        "condition_1 = True\n",
        "condition_2 = False\n",
        "print(condition_1)\n",
        "print(condition_2)"
      ]
    },
    {
      "cell_type": "markdown",
      "source": [
        "### **1.2 Comparison Operators**\n",
        "\n",
        "Comparison operators, also called relational operators,  are used to compare two values ​​and evaluate them into one Boolean value. There are eight comparison operations in Python, and all have the same priority. You cannot compare between different data types, such as text with numeric."
      ],
      "metadata": {
        "id": "_UyZ2fMAYHiR"
      }
    },
    {
      "cell_type": "code",
      "source": [
        "# Example of comparison operators\n",
        "print('hello' == 'hello')      # True\n",
        "print('world!'!= 'world!')     # True\n",
        "print(46 < 3)                  # False\n",
        "print(12.0 <= 12)              # True"
      ],
      "metadata": {
        "colab": {
          "base_uri": "https://localhost:8080/"
        },
        "id": "tsfrx5e5YXdX",
        "outputId": "f2887041-eb68-442f-ff87-92c346592a4e"
      },
      "execution_count": 1,
      "outputs": [
        {
          "output_type": "stream",
          "name": "stdout",
          "text": [
            "True\n",
            "False\n",
            "False\n",
            "True\n"
          ]
        }
      ]
    },
    {
      "cell_type": "markdown",
      "source": [
        "### **1.3 Logical Operators**\n",
        "\n",
        "The other three operators used to compare two Boolean values ​​and evaluate them as Boolean values, namely 'And, OR,' and 'Not'. Operators 'And` and `or` always compare two Boolean values, and both are also considered binary operators. Operators `and` produces true if both boolean values ​​are true, but if the opposite, evaluated into false."
      ],
      "metadata": {
        "id": "0u0clp8LYfxm"
      }
    },
    {
      "cell_type": "code",
      "source": [
        "# Example of operator 'and'\n",
        "print(True and True)       # True\n",
        "print(True and False)      # False\n",
        "print(False and True)      # False\n",
        "print(False and False)     # False"
      ],
      "metadata": {
        "colab": {
          "base_uri": "https://localhost:8080/"
        },
        "id": "PASocpkhZn9p",
        "outputId": "4d466af8-df7e-4ed1-b736-d7c023ff045c"
      },
      "execution_count": 5,
      "outputs": [
        {
          "output_type": "stream",
          "name": "stdout",
          "text": [
            "True\n",
            "False\n",
            "False\n",
            "False\n"
          ]
        }
      ]
    },
    {
      "cell_type": "markdown",
      "source": [
        "Unlike the operators' and` and `or`, the 'not' operator only operates at one boolean value.This made him an unary operator. Operator 'Not' produces the opposite Boolean value."
      ],
      "metadata": {
        "id": "c-UH7R5jCGfm"
      }
    },
    {
      "cell_type": "code",
      "source": [
        "# Example of operator 'not'\n",
        "print(not True)                    # False\n",
        "print(not False)                   # True\n",
        "print(not not not not True)        # True"
      ],
      "metadata": {
        "colab": {
          "base_uri": "https://localhost:8080/"
        },
        "id": "7MizPVdZCgUI",
        "outputId": "c93466c5-64bb-4544-89fd-6913c8df4fe8"
      },
      "execution_count": 10,
      "outputs": [
        {
          "output_type": "stream",
          "name": "stdout",
          "text": [
            "False\n",
            "True\n",
            "True\n"
          ]
        }
      ]
    },
    {
      "cell_type": "markdown",
      "source": [
        "### **1.4 Element of Flow Control**\n",
        "\n",
        "**Flow Control Statements always begin with a part called a condition and followed by a code block called a clause.** Before you learn about Flow Control Statements, we will discuss both.\n",
        "\n",
        "**Boolean's expression that you have seen so far can all be considered as a condition,** Conditions are only more specific names in the context of Flow Control Statements.Conditions always produce boolean, true or false values. Flow Control Statements decide what to do is based on whether the condition is true or false, and almost every flow control statement uses conditions.\n",
        "\n",
        "**Code lines in Python can be grouped together in a block. You can find out when a block begins and ends with indentation in the code row**.There are three rules regarding blocks, namely:\n",
        "\n",
        "1. The block begins when indentation increases\n",
        "2. Block can contain other blocks\n",
        "3. The block ends when the indentation is reduced to zero or to other blocks"
      ],
      "metadata": {
        "id": "wieOpah-DIKk"
      }
    },
    {
      "cell_type": "code",
      "source": [
        "# Identification\n",
        "username = 'Mia'\n",
        "password = 12345\n",
        "\n",
        "if username.lower() == 'Mia':\n",
        "    print(f'Halo, {username}')                      # first code block\n",
        "    if password == 12345:\n",
        "        print('Access granted.')                   # second code block\n",
        "    else:\n",
        "        print('Wrong password')                   # third code block\n",
        "else:\n",
        "    print(f'Username {username} is not registered ')   # fourth code block"
      ],
      "metadata": {
        "id": "F_VtDBK2Dc7r"
      },
      "execution_count": null,
      "outputs": []
    },
    {
      "cell_type": "markdown",
      "source": [
        "## **2.Flow Control Statements**\n",
        "\n",
        "A program is only a series of instructions, but essentially executing the program is not just a matter of running one by one instructions.A program can decide to pass instructions, repeat it, or choose one of several instructions to run.**Python makes Flow Control Statements to decide which instructions will be executed and in what conditions**"
      ],
      "metadata": {
        "id": "6Ys7PqRzDzKk"
      }
    },
    {
      "cell_type": "markdown",
      "source": [
        "### **2.1 if conditional statements**\n",
        "\n",
        "The most common type of flow control statements is the IF statement.**IF clause (ie, the block that follows the IF statement) will be executed if the condition of the statement is True, and the clause will be passed if the condition is false.** You can interpret the IF statement as **\"if this condition is correct, run the code in the clause\"**.The syntactic statement of IF consists of the following four parts:\n",
        "\n",
        "1. Keywords if\n",
        "2. Conditions, namely expressions that evaluate to True or False\n",
        "3. Colon or colon\n",
        "4. IF clause, indicated code block (starting from the next row)"
      ],
      "metadata": {
        "id": "UaKkeoVLEvq4"
      }
    },
    {
      "cell_type": "code",
      "source": [
        "# Example of if conditional statements\n",
        "age = 20\n",
        "\n",
        "if age >= 17:\n",
        "    print(f'You have meet age requirement, we will send you an email.')"
      ],
      "metadata": {
        "colab": {
          "base_uri": "https://localhost:8080/"
        },
        "id": "ZkuHvjytDx7K",
        "outputId": "1bec5843-c4b7-4403-ce38-966465d0d55b"
      },
      "execution_count": 14,
      "outputs": [
        {
          "output_type": "stream",
          "name": "stdout",
          "text": [
            "You have meet age requirement, we will send you an email.\n"
          ]
        }
      ]
    },
    {
      "cell_type": "markdown",
      "source": [
        "### **2.3 Elif Conditional Statements**\n",
        "\n",
        "The previous statement was only one of the if or else clauses that would be executed.You may have a case where you want one of the many possible clauses to be executed.**Elif's statement is the statement \"Else if\" which always follows the IF statement or other Elif statement.This statement gives another condition, the Elif clause is executed only if all the previous conditions are false.** You can interpret Elif's statement as **\"If the first condition is correct, do A. If other than that (the second condition is true), do B. If the two are wrong, then do something else\"**.The syntactic statement of Elif consists of the following four parts:\n",
        "\n",
        "1. Keyword Elif\n",
        "2. Conditions, namely expressions that evaluate to True or False\n",
        "3. Colon or colon\n",
        "4. Elif clause, indicated code block (starting from the next row)"
      ],
      "metadata": {
        "id": "OeKdNSA-FpxX"
      }
    },
    {
      "cell_type": "code",
      "source": [
        "# conditional statements # example\n",
        "score = 75\n",
        "\n",
        "if 90 <= score <= 100:\n",
        "    grade = 'A'\n",
        "elif 80 <= score <= 89:\n",
        "    grade = 'B'\n",
        "elif 70 <= score <= 79:\n",
        "    grade = 'C'\n",
        "elif 60 <= score <= 69:\n",
        "    grade = 'D'\n",
        "else:\n",
        "    grade = 'E'\n",
        "\n",
        "print(f'Your score is considered as {grade} grade')"
      ],
      "metadata": {
        "colab": {
          "base_uri": "https://localhost:8080/"
        },
        "id": "uhTqQSB9F68P",
        "outputId": "ad11955d-d217-45a5-9872-1caecde4d897"
      },
      "execution_count": 16,
      "outputs": [
        {
          "output_type": "stream",
          "name": "stdout",
          "text": [
            "Your score is considered as C grade\n"
          ]
        }
      ]
    },
    {
      "cell_type": "markdown",
      "source": [
        "### **2.4 while loop statements**\n",
        "\n",
        "WHILE statement is similar to IF's statement.The difference between the two lies in how they behave.**At the end of the IF clause, the program execution continues to the next algorithm after the IF statement is complete.But at the end of the while clause, the execution of the program jumped back to the initial condition of the while statement**.The syntactic statement of while consists of the following four parts:\n",
        "\n",
        "1. While 'sign'\n",
        "2. Conditions, namely expressions that evaluate to True or False\n",
        "3. Colon or colon\n",
        "4. While clause, code block indentation (Starting from the next row)"
      ],
      "metadata": {
        "id": "PiEU0ecbGhVG"
      }
    },
    {
      "cell_type": "code",
      "source": [
        "# Example of if conditional statement\n",
        "value = 0\n",
        "\n",
        "if value < 5:\n",
        "    print('Hello, world.')\n",
        "    value = value + 1\n",
        "    print(value)\n",
        "else:\n",
        "    print('Finish')"
      ],
      "metadata": {
        "colab": {
          "base_uri": "https://localhost:8080/"
        },
        "id": "Wv-qyKWKGm9Z",
        "outputId": "c2490389-3006-4fb1-e7aa-fd4d0d26d422"
      },
      "execution_count": 18,
      "outputs": [
        {
          "output_type": "stream",
          "name": "stdout",
          "text": [
            "Hello, world.\n",
            "1\n"
          ]
        }
      ]
    },
    {
      "cell_type": "code",
      "source": [
        "# Example of while loop statement\n",
        "value = 0\n",
        "\n",
        "while value < 5:\n",
        "    print('Hello, world.')\n",
        "    value = value + 1\n",
        "    print(f'Current value is {value}')\n",
        "else:\n",
        "    print('Finish')"
      ],
      "metadata": {
        "colab": {
          "base_uri": "https://localhost:8080/"
        },
        "id": "9tMbtnFBHK_F",
        "outputId": "7c218b22-83b3-4e59-cc47-f035f747963c"
      },
      "execution_count": 19,
      "outputs": [
        {
          "output_type": "stream",
          "name": "stdout",
          "text": [
            "Hello, world.\n",
            "Current value is 1\n",
            "Hello, world.\n",
            "Current value is 2\n",
            "Hello, world.\n",
            "Current value is 3\n",
            "Hello, world.\n",
            "Current value is 4\n",
            "Hello, world.\n",
            "Current value is 5\n",
            "Finish\n"
          ]
        }
      ]
    },
    {
      "cell_type": "markdown",
      "source": [
        "### **2.5 for Loop Statements**\n",
        "\n",
        "while statement keeps spinning as long as the condition is True, **If you only want to execute the clause a few times, then you can do this with the statement of loop for and the Range Function ()**.Syntactic statement for with the range () function consists of the following sections:\n",
        "\n",
        "1. Keywords 'for'\n",
        "2. Variable name\n",
        "3. Keywords 'in'\n",
        "4. Call to the Range Function ()\n",
        "5. Colon or Colon\n",
        "6. For For, Code Code that is indicated (starting from the next row)"
      ],
      "metadata": {
        "id": "fv4llRKUGb4a"
      }
    },
    {
      "cell_type": "code",
      "source": [
        "# Example for loop statements\n",
        "for i in range(3):\n",
        "    print(f'Felicia Three Times: {i}')"
      ],
      "metadata": {
        "colab": {
          "base_uri": "https://localhost:8080/"
        },
        "id": "V0XNumLyH_-E",
        "outputId": "967aab7c-06d9-4db0-d9f2-edb986e61459"
      },
      "execution_count": 21,
      "outputs": [
        {
          "output_type": "stream",
          "name": "stdout",
          "text": [
            "Felicia Three Times: 0\n",
            "Felicia Three Times: 1\n",
            "Felicia Three Times: 2\n"
          ]
        }
      ]
    },
    {
      "cell_type": "markdown",
      "source": [
        "The function of `range()` can be called by three arguments, namely **the first two arguments will be the initial and end value, and the third will be the argument step (the number of steps for each iteration).**"
      ],
      "metadata": {
        "id": "WCEB0CgkHkeJ"
      }
    },
    {
      "cell_type": "code",
      "source": [
        "# decreased iteration\n",
        "for i in range(3, 0, -1):\n",
        "    print(f'The value of i : {i}')"
      ],
      "metadata": {
        "colab": {
          "base_uri": "https://localhost:8080/"
        },
        "id": "2HweuQlVId8u",
        "outputId": "d3858d80-6d2c-4055-f8c0-135bedbfdbad"
      },
      "execution_count": 23,
      "outputs": [
        {
          "output_type": "stream",
          "name": "stdout",
          "text": [
            "The value of i : 3\n",
            "The value of i : 2\n",
            "The value of i : 1\n"
          ]
        }
      ]
    },
    {
      "cell_type": "markdown",
      "source": [
        "### **2.6 Break Statements**\n",
        "\n",
        "There is a shortcut to make the execution of the program out of the when the while clause or clause for earlier.**You can add a Break statement to get out of chaotic**.In Python, the syntax of Break statements only contains Break keywords."
      ],
      "metadata": {
        "id": "FwF81UngIeZ2"
      }
    },
    {
      "cell_type": "code",
      "source": [
        "# 'break' statement implementation on while loop\n",
        "while True:\n",
        "    print('What is your name? : ')\n",
        "    name = input()\n",
        "    if name.capitalize() == 'Helga': # it won't stop checkin until the input say 'Helga'\n",
        "        print('Halo Helga!')\n",
        "        break"
      ],
      "metadata": {
        "colab": {
          "base_uri": "https://localhost:8080/"
        },
        "id": "xiiIJZg6I4QL",
        "outputId": "23539dfb-6791-42e5-fcf2-cda8b4a7d336"
      },
      "execution_count": 25,
      "outputs": [
        {
          "output_type": "stream",
          "name": "stdout",
          "text": [
            "What is your name? : \n",
            "tono\n",
            "What is your name? : \n",
            "ruby\n",
            "What is your name? : \n",
            "Jessica\n",
            "What is your name? : \n",
            "Helga\n",
            "Halo Helga!\n"
          ]
        }
      ]
    },
    {
      "cell_type": "code",
      "source": [
        "# 'break' statement implementation on for loop\n",
        "\n",
        "for i in range(5):\n",
        "    if i >= 3:\n",
        "        break\n",
        "    print(f'The value of i is {i}')\n"
      ],
      "metadata": {
        "colab": {
          "base_uri": "https://localhost:8080/"
        },
        "id": "f8yHlSicI9Bs",
        "outputId": "49fbe793-9ecd-4338-9772-2d909a4e992f"
      },
      "execution_count": 27,
      "outputs": [
        {
          "output_type": "stream",
          "name": "stdout",
          "text": [
            "The value of i is 0\n",
            "The value of i is 1\n",
            "The value of i is 2\n"
          ]
        }
      ]
    },
    {
      "cell_type": "markdown",
      "source": [
        "### **2.6 Continue Statements**\n",
        "\n",
        "Similar to a break statement, Continue's statement is used in looping process. **When the program execution reaches Continue's statement, the program execution immediately jumps back to the beginning and re-evaluates the condition of the loop**."
      ],
      "metadata": {
        "id": "Te7kVUGGI-S1"
      }
    },
    {
      "cell_type": "code",
      "source": [
        "# 'continue' statement implementation on while loop\n",
        "while True:\n",
        "    name = input('Please input your name: ')\n",
        "    if name.capitalize() != 'Jessica':\n",
        "        continue\n",
        "\n",
        "    while True:\n",
        "        password = input('Hello, Jessica. Please input your password: ')\n",
        "        if int(password) == 123: # It will continously run, without the correct password\n",
        "            break\n",
        "    break"
      ],
      "metadata": {
        "id": "D3en5_BHI_hB"
      },
      "execution_count": null,
      "outputs": []
    },
    {
      "cell_type": "code",
      "source": [
        "# 'continue' statement implementation on for loop\n",
        "for i in range(5):\n",
        "    if i == 3:\n",
        "        continue\n",
        "    print(f'Value of i is : {i}')"
      ],
      "metadata": {
        "colab": {
          "base_uri": "https://localhost:8080/"
        },
        "id": "0OAd3BsoI_sg",
        "outputId": "8978350c-20a0-4ba2-b20d-237508bd5f84"
      },
      "execution_count": 30,
      "outputs": [
        {
          "output_type": "stream",
          "name": "stdout",
          "text": [
            "Value of i is : 0\n",
            "Value of i is : 1\n",
            "Value of i is : 2\n",
            "Value of i is : 4\n"
          ]
        }
      ]
    }
  ]
}