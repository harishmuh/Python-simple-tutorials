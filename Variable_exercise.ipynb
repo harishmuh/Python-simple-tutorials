{
 "cells": [
  {
   "cell_type": "markdown",
   "metadata": {},
   "source": [
    "---\n",
    "# **Python Variable exercises**\n",
    "---"
   ]
  },
  {
   "cell_type": "markdown",
   "metadata": {},
   "source": [
    "**Question-1**\n",
    "\n",
    "There are three variables with different values: x, y, z. Perform calculations to get the value of w, and display the final result using the print function.\n",
    "\n",
    "$$\\text{if } x=4, y=3, z=2$$\n",
    "$$w = (\\frac{x + y * z}{x * y})^z$$"
   ]
  },
  {
   "cell_type": "code",
   "execution_count": 2,
   "metadata": {},
   "outputs": [
    {
     "name": "stdout",
     "output_type": "stream",
     "text": [
      "0.6944444444444445\n"
     ]
    }
   ],
   "source": [
    "x, y, z = 4, 3, 2\n",
    "\n",
    "w = ((x + y * z) / (x * y)) ** z\n",
    "print(w)"
   ]
  },
  {
   "cell_type": "markdown",
   "metadata": {},
   "source": [
    "**Question-2**\n",
    "\n",
    "Create a program that accepts a number input using the input function, then displays its squared value using the print function. Whatever number is entered, the program should calculate its square and display it using the print function."
   ]
  },
  {
   "cell_type": "code",
   "execution_count": 3,
   "metadata": {},
   "outputs": [
    {
     "name": "stdout",
     "output_type": "stream",
     "text": [
      "Square of 5 = 25\n"
     ]
    }
   ],
   "source": [
    "# Input:\n",
    "# Please enter any number: 5\n",
    "\n",
    "# Output:\n",
    "# 'Square of 5 = 25'\n",
    "\n",
    "number = int(input(\"Please enter any number: \"))\n",
    "\n",
    "print(f'Square of {number} = {number ** 2}')"
   ]
  },
  {
   "cell_type": "markdown",
   "metadata": {},
   "source": [
    "**Question-3**\n",
    "\n",
    "Create a program to convert a user-input number of days into years, months, weeks, and remaining days.\n",
    "Assumptions:\n",
    "- 1 month = 30 days\n",
    "- 1 year = 360 days."
   ]
  },
  {
   "cell_type": "code",
   "execution_count": 4,
   "metadata": {},
   "outputs": [
    {
     "name": "stdout",
     "output_type": "stream",
     "text": [
      "485 days equals 1 year 4 months 0 weeks 5 days\n"
     ]
    }
   ],
   "source": [
    "# Input:\n",
    "# Enter number of days: 485\n",
    "\n",
    "# Output:\n",
    "# '485 days equals 1 year 4 months 0 weeks 5 days'\n",
    "\n",
    "days = int(input('Enter number of days: '))\n",
    "\n",
    "years = days // 360\n",
    "remaining_days = days % 360\n",
    "\n",
    "months = remaining_days // 30\n",
    "remaining_days = remaining_days % 30\n",
    "\n",
    "weeks = remaining_days // 7\n",
    "remaining_days = remaining_days % 7\n",
    "\n",
    "print(f'{days} days equals {years} year {months} months {weeks} weeks {remaining_days} days')"
   ]
  },
  {
   "cell_type": "markdown",
   "metadata": {},
   "source": [
    "**Question-4**\n",
    "\n",
    "Currently, the combined age of Andi and Budi is 49 years with an age ratio of 0.4 between Andi and Budi.\n",
    "\n",
    "What will be their ages in 2 years?"
   ]
  },
  {
   "cell_type": "code",
   "execution_count": 5,
   "metadata": {},
   "outputs": [
    {
     "name": "stdout",
     "output_type": "stream",
     "text": [
      "Andi's age in 2 years: 16 years\n",
      "Budi's age in 2 years: 37 years\n"
     ]
    }
   ],
   "source": [
    "total_age = 49\n",
    "andi_ratio = 0.4\n",
    "budi_ratio = 1\n",
    "total_ratio = andi_ratio + budi_ratio\n",
    "\n",
    "andi_age = total_age * (andi_ratio / total_ratio)\n",
    "budi_age = total_age * (budi_ratio / total_ratio)\n",
    "\n",
    "print(f\"Andi's age in 2 years: {int(andi_age + 2)} years\")\n",
    "print(f\"Budi's age in 2 years: {int(budi_age + 2)} years\")"
   ]
  },
  {
   "cell_type": "markdown",
   "metadata": {},
   "source": [
    "**Question-5**\n",
    "\n",
    "Determine at what time car A and car B will collide, given:\n",
    "\n",
    "- Distance between car A and B is 120 km\n",
    "- A moves east at 60 km/h\n",
    "- B moves west at 50 km/h\n",
    "- Both depart simultaneously at 9:00 AM WIB."
   ]
  },
  {
   "cell_type": "code",
   "execution_count": 17,
   "metadata": {},
   "outputs": [
    {
     "name": "stdout",
     "output_type": "stream",
     "text": [
      "Cars will collide at 10:05:27 WIB\n"
     ]
    }
   ],
   "source": [
    "start_hour = 9\n",
    "distance_km = 120\n",
    "speed_A_kmh = 60\n",
    "speed_B_kmh = 50\n",
    "total_speed_kmh = speed_A_kmh + speed_B_kmh\n",
    "total_speed_kms = total_speed_kmh / 3600\n",
    "\n",
    "total_seconds = distance_km / total_speed_kms\n",
    "\n",
    "hours = total_seconds // 3600\n",
    "minutes = (total_seconds % 3600) // 60\n",
    "seconds = (total_seconds % 3600) % 60\n",
    "\n",
    "print(f\"Cars will collide at {int(start_hour + hours)}:{int(minutes):02}:{int(seconds):02} WIB\")"
   ]
  },
  {
   "cell_type": "markdown",
   "metadata": {},
   "source": [
    "**Question-6**\n",
    "\n",
    "Create a program named `Market`.\n",
    "- Users will be asked to input quantities for each fruit.\n",
    "- After entering all three quantities, the program will calculate the total cost and display the purchase details with the total price using the print function.\n",
    "- The calculation method is to multiply the unit price by the desired quantity for each fruit, then sum all three for the final price.\n",
    "- Unit prices are fixed: apple 10000, orange 15000, grape 20000."
   ]
  },
  {
   "cell_type": "code",
   "execution_count": 10,
   "metadata": {},
   "outputs": [
    {
     "name": "stdout",
     "output_type": "stream",
     "text": [
      "Purchase Details\n",
      "\n",
      "Apple : 2 x 10000 = 20000\n",
      "Orange : 3 x 15000 = 45000\n",
      "Grape : 5 x 20000 = 100000\n",
      "\n",
      "Total : 165000\n"
     ]
    }
   ],
   "source": [
    "apple_price = 10000\n",
    "orange_price = 15000\n",
    "grape_price = 20000\n",
    "\n",
    "apple_qty = int(input('Enter Apple Quantity: '))\n",
    "orange_qty = int(input('Enter Orange Quantity: '))\n",
    "grape_qty = int(input('Enter Grape Quantity: '))\n",
    "\n",
    "total_apple = apple_qty * apple_price\n",
    "total_orange = orange_qty * orange_price\n",
    "total_grape = grape_qty * grape_price\n",
    "grand_total = total_apple + total_orange + total_grape\n",
    "\n",
    "print(f'''Purchase Details\n",
    "\n",
    "Apple : {apple_qty} x {apple_price} = {total_apple}\n",
    "Orange : {orange_qty} x {orange_price} = {total_orange}\n",
    "Grape : {grape_qty} x {grape_price} = {total_grape}\n",
    "\n",
    "Total : {grand_total}''')"
   ]
  },
  {
   "cell_type": "markdown",
   "metadata": {},
   "source": [
    "**Question-7**\n",
    "\n",
    "Create a program to replace specific characters in a string with these rules:\n",
    "1. The character to replace is the first character of the input\n",
    "2. The first character itself won't be replaced, but all other matching characters in the string will be fully replaced\n",
    "3. The replacement character is user input"
   ]
  },
  {
   "cell_type": "code",
   "execution_count": 8,
   "metadata": {},
   "outputs": [
    {
     "name": "stdout",
     "output_type": "stream",
     "text": [
      "I am $n engineer\n"
     ]
    }
   ],
   "source": [
    "# Input:\n",
    "# Enter a sentence: I am an engineer\n",
    "# Enter replacement character: $\n",
    "\n",
    "# Output:\n",
    "# 'I am $n engineer'\n",
    "\n",
    "sentence = input('Enter a sentence: ')\n",
    "replacement = input('Enter replacement character: ')\n",
    "\n",
    "first_char = sentence[0]\n",
    "print(sentence[0] + sentence[1:].replace(first_char, replacement))"
   ]
  },
  {
   "cell_type": "markdown",
   "metadata": {},
   "source": [
    "**Question-8**\n",
    "\n",
    "Create a program that takes 2 words as input, then outputs them with their first two characters swapped."
   ]
  },
  {
   "cell_type": "code",
   "execution_count": 9,
   "metadata": {},
   "outputs": [
    {
     "name": "stdout",
     "output_type": "stream",
     "text": [
      "Orple Appnge\n"
     ]
    }
   ],
   "source": [
    "# Input:\n",
    "# Enter Word 1: Apple\n",
    "# Enter Word 2: Orange\n",
    "\n",
    "# Output:\n",
    "# 'Orple Appnge'\n",
    "\n",
    "word1 = input('Enter Word 1: ')\n",
    "word2 = input('Enter Word 2: ')\n",
    "\n",
    "print(word2[:2] + word1[2:] + ' ' + word1[:2] + word2[2:])"
   ]
  }
 ],
 "metadata": {
  "kernelspec": {
   "display_name": "Python 3",
   "language": "python",
   "name": "python3"
  },
  "language_info": {
   "codemirror_mode": {
    "name": "ipython",
    "version": 3
   },
   "file_extension": ".py",
   "mimetype": "text/x-python",
   "name": "python",
   "nbconvert_exporter": "python",
   "pygments_lexer": "ipython3",
   "version": "3.10.5"
  }
 },
 "nbformat": 4,
 "nbformat_minor": 2
}
