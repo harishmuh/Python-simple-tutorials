{
  "nbformat": 4,
  "nbformat_minor": 0,
  "metadata": {
    "colab": {
      "provenance": [],
      "toc_visible": true,
      "authorship_tag": "ABX9TyMNmOn3piLq8/GFrYQDcLVZ",
      "include_colab_link": true
    },
    "kernelspec": {
      "name": "python3",
      "display_name": "Python 3"
    },
    "language_info": {
      "name": "python"
    }
  },
  "cells": [
    {
      "cell_type": "markdown",
      "metadata": {
        "id": "view-in-github",
        "colab_type": "text"
      },
      "source": [
        "<a href=\"https://colab.research.google.com/github/harishmuh/Python-simple-tutorials/blob/main/Intro_to_Python_fundamental.ipynb\" target=\"_parent\"><img src=\"https://colab.research.google.com/assets/colab-badge.svg\" alt=\"Open In Colab\"/></a>"
      ]
    },
    {
      "cell_type": "markdown",
      "source": [
        "\n",
        "---\n",
        "# **Introduction to Python fundamental**\n",
        "---\n",
        "\n"
      ],
      "metadata": {
        "id": "VSKhsDbheXKw"
      }
    },
    {
      "cell_type": "markdown",
      "source": [
        "* The Python programming language has various syntax constructions, standard library functions, and interactive development environment features. Fortunately, you can ignore most of that, You only need to learn enough to write a few small useful programs."
      ],
      "metadata": {
        "id": "7PvhWO6YepXr"
      }
    },
    {
      "cell_type": "markdown",
      "source": [
        "## **1. Variables**\n",
        "A variable can be thought of as a block in the computer's memory (RAM) where you can store only one value and label it with a specific name. Variables store data used during program execution, and the contents of these variables can later be changed by certain operations within the program that uses the variable.\n",
        "\n",
        "Variables can store various types of data. In Python programming, variables are dynamic, meaning that Python variables do not need to be declared with a specific data type, and their types can change while the program is running.\n",
        "\n"
      ],
      "metadata": {
        "id": "xJ5jLpMOe_ZD"
      }
    },
    {
      "cell_type": "markdown",
      "source": [
        "### **1.1 Storing Values in Variables**\n",
        "If you want to use the result of an evaluated expression later in your program, you can store it in a variable. The way to store a value in a variable is by using an assignment statement. An assignment statement consists of the variable name, an equal sign (called the assignment operator), and the value to be stored. For example, if you write the assignment statement egg = 80, then the variable named egg will store the integer value 80."
      ],
      "metadata": {
        "id": "Jrw5-vD4f297"
      }
    },
    {
      "cell_type": "code",
      "execution_count": 2,
      "metadata": {
        "colab": {
          "base_uri": "https://localhost:8080/"
        },
        "id": "1F5PM66YeSkC",
        "outputId": "ddf5b429-804d-4d9a-f429-a8cf95a3d62a"
      },
      "outputs": [
        {
          "output_type": "stream",
          "name": "stdout",
          "text": [
            "Number of eggs: 80\n"
          ]
        }
      ],
      "source": [
        "# First assignment\n",
        "egg = 80\n",
        "color = 'blue'\n",
        "print('Number of eggs:', egg)"
      ]
    },
    {
      "cell_type": "markdown",
      "source": [
        "The print() function is used to display the value inside the parentheses on the screen. The line print (Number of eggs) and the value in the variable egg. When Python executes this line, it calls the print() function, and the value inside the parentheses (called an argument) is passed to that function. Note that the quotation marks are not printed on the screen. The quotation marks only indicate where the text begins and ends; they are not part of the actual text value."
      ],
      "metadata": {
        "id": "x1jwICgWgSam"
      }
    },
    {
      "cell_type": "markdown",
      "source": [
        "### **1.2 Variable Names**\n",
        "A good variable name describes the data it holds. Descriptive names will make your code easier to read. Although you can name your variable almost anything, Python has some naming rules. You can name your variable anything as long as it follows these three rules:\n",
        "\n",
        "1.   Must be a single word without spaces.\n",
        "2.   May only contain letters, numbers, and underscores(_).\n",
        "3.   Must not start with a number.\n",
        "\n",
        "\n",
        "\n",
        "\n",
        "\n"
      ],
      "metadata": {
        "id": "amcO902VgdlA"
      }
    },
    {
      "cell_type": "code",
      "source": [
        "# First rule\n",
        "currentBalance = 80\n",
        "currentbalance = 80\n",
        "\n",
        "# Second rule\n",
        "account4 = 80\n",
        "account_4 = 80\n",
        "\n",
        "# Third rule\n",
        "_42 = 80\n"
      ],
      "metadata": {
        "id": "UyHSv4Q4g5FR"
      },
      "execution_count": 1,
      "outputs": []
    },
    {
      "cell_type": "markdown",
      "source": [
        "Variable names are case-sensitive, which means that 'spam', 'SPAM', 'Spam', and 'sPaM' are four different variables. Although Spam is a valid variable name that you can use in a program, it is Python convention to start variable names with a lowercase letter."
      ],
      "metadata": {
        "id": "lAKo1ohEm4ix"
      }
    },
    {
      "cell_type": "markdown",
      "source": [
        "### **1.3 Comments**\n",
        "Any text that comes after a hash symbol (#) is considered a comment. Python ignores comments, and you can use them to write notes or remind yourself what the code is doing. Sometimes, programmers place a # in front of a line of code to temporarily disable it while testing the program. This can be useful when trying to figure out why a program isn’t working."
      ],
      "metadata": {
        "id": "wen0XmfNnB16"
      }
    },
    {
      "cell_type": "code",
      "source": [
        "# This is a tutorial for creating a variable called spam\n",
        "firstSpam = '120'\n",
        "secondSpam = 120\n",
        "thirdSpam = 120.1\n"
      ],
      "metadata": {
        "id": "lYBnNR0InI5J"
      },
      "execution_count": null,
      "outputs": []
    },
    {
      "cell_type": "markdown",
      "source": [
        "Although the hash character (#) marks the start of a single-line comment, triple-quoted strings (\"\"\") are also often used for multi-line comments. These are known as docstrings."
      ],
      "metadata": {
        "id": "0-PWHbGMnKwX"
      }
    },
    {
      "cell_type": "code",
      "source": [
        "\"\"\"Basic Introduction to Python Programming.\n",
        "\n",
        "Using Python version 3, not Python 2.\n",
        "\"\"\"\n",
        "\n",
        "print('Hello World')\n"
      ],
      "metadata": {
        "colab": {
          "base_uri": "https://localhost:8080/"
        },
        "id": "jXZX3e4XnO2u",
        "outputId": "6cc8a561-f024-4d40-e04b-d8f89ac6ce20"
      },
      "execution_count": 3,
      "outputs": [
        {
          "output_type": "stream",
          "name": "stdout",
          "text": [
            "Hello World\n"
          ]
        }
      ]
    },
    {
      "cell_type": "markdown",
      "source": [
        "## **2. Data Types**"
      ],
      "metadata": {
        "id": "Mkpq95j1n4Fj"
      }
    },
    {
      "cell_type": "markdown",
      "source": [
        "\n",
        "\n",
        "The following section explains the standard types built into the Python interpreter. The main built-in data types are numerics (integer, float), sequences (list, tuple, range, string), mappings (dictionary), and set (set and frozenset).\n",
        "\n",
        "All collection/container types (dictionary, list, set), except for tuple, are mutable. Common methods like adding, removing, or rearranging their elements can be performed. These methods do not return specific items and never return the collection instance itself—only None."
      ],
      "metadata": {
        "id": "eudi59zrnTco"
      }
    },
    {
      "cell_type": "code",
      "source": [
        "# Mutable Data Types\n",
        "spamList = [1, 3.54, 'Felicia', True]                   # Sequence type - List\n",
        "spamRange = range(1, 10)                                 # Sequence type - Range\n",
        "spamDict = {'name': 'Felicia', 'age': 32, 'male': True} # Mapping type - Dictionary\n",
        "spamSet = {'car', 12, True}                              # Set type - Set\n"
      ],
      "metadata": {
        "id": "Ye4nmXlnn7yA"
      },
      "execution_count": 31,
      "outputs": []
    },
    {
      "cell_type": "markdown",
      "source": [
        "Other data types (numbers, tuple, string) are immutable. They cannot be changed after they are created, and they do not have the common methods found in mutable types."
      ],
      "metadata": {
        "id": "eJaU2CjAn-Op"
      }
    },
    {
      "cell_type": "code",
      "source": [
        "# Immutable Data Types\n",
        "spamInt = 12                             # Numeric type - Integer\n",
        "spamFloat = 10.56                        # Numeric type - Float\n",
        "spamStr = 'Felicia'                      # Sequence type - String\n",
        "spamTuple = ('car', 12, 15.3, True)      # Sequence type - Tuple\n"
      ],
      "metadata": {
        "id": "xiGvw5qzn_9b"
      },
      "execution_count": 6,
      "outputs": []
    },
    {
      "cell_type": "markdown",
      "source": [
        "Python provides the built-in function type() to tell the user the data type of an object:"
      ],
      "metadata": {
        "id": "ZpMemfKioCFW"
      }
    },
    {
      "cell_type": "code",
      "source": [
        "# Example use of the type() function\n",
        "type(spamList)     # List\n",
        "type(spamRange)    # Range\n",
        "type(spamStr)      # String\n",
        "type(spamDict)     # Dictionary\n"
      ],
      "metadata": {
        "colab": {
          "base_uri": "https://localhost:8080/"
        },
        "id": "M92DsRmzoCwd",
        "outputId": "494fad3f-0452-4509-e09b-de0e99e32122"
      },
      "execution_count": 7,
      "outputs": [
        {
          "output_type": "execute_result",
          "data": {
            "text/plain": [
              "dict"
            ]
          },
          "metadata": {},
          "execution_count": 7
        }
      ]
    },
    {
      "cell_type": "markdown",
      "source": [
        "In addition, Python also provides the built-in function len() to calculate the length of an object, such as a sequence or collection."
      ],
      "metadata": {
        "id": "r7vOpjn2oIzP"
      }
    },
    {
      "cell_type": "code",
      "source": [
        "# Example use of the len() function\n",
        "len('Felicia')                      # 8\n",
        "len([1, 3.54, 'Felicia', True])     # 4\n",
        "len(range(1, 10))                    # 9\n",
        "len(('car', 12, 15.3, True))         # 4\n"
      ],
      "metadata": {
        "colab": {
          "base_uri": "https://localhost:8080/"
        },
        "id": "ULxFGxTSoLL5",
        "outputId": "03f71009-793d-4e47-cbd4-2b2b9595e504"
      },
      "execution_count": 8,
      "outputs": [
        {
          "output_type": "execute_result",
          "data": {
            "text/plain": [
              "4"
            ]
          },
          "metadata": {},
          "execution_count": 8
        }
      ]
    },
    {
      "cell_type": "markdown",
      "source": [
        "## **3. Numeric Data Type**"
      ],
      "metadata": {
        "id": "EtSFEWbzoN2x"
      }
    },
    {
      "cell_type": "markdown",
      "source": [
        "Numeric data types include integers, floating-point numbers (floats), and complex numbers. Additionally, Booleans are a subtype of integers. Integers have unlimited precision, unlike floats. Information regarding the precision and internal representation of both can be found in sys.float_info or sys.int_info."
      ],
      "metadata": {
        "id": "YBBQLAelo6qY"
      }
    },
    {
      "cell_type": "code",
      "source": [
        "# Integer notation\n",
        "spamInt = 123\n",
        "spamInt = 100_000_000_000\n",
        "\n",
        "# Floating-point notation\n",
        "spamFloat = 123.45\n",
        "spamFloat = 10.\n",
        "spamFloat = .001\n",
        "spamFloat = 3.14e-10\n",
        "spamFloat = 3.14_15_93\n"
      ],
      "metadata": {
        "id": "bFA2WQcjo9aZ"
      },
      "execution_count": 9,
      "outputs": []
    },
    {
      "cell_type": "markdown",
      "source": [
        "Additionally, integers and floats can be created from numeric objects or strings using the built-in functions int() and float(). If no argument is given, Python returns 0 or 0.0 respectively."
      ],
      "metadata": {
        "id": "mZ9urQpipAje"
      }
    },
    {
      "cell_type": "code",
      "source": [
        "# int() function\n",
        "spamInt = int('123')\n",
        "spamInt = int(123.45)"
      ],
      "metadata": {
        "id": "AfONC-xspBLW"
      },
      "execution_count": 10,
      "outputs": []
    },
    {
      "cell_type": "code",
      "source": [
        "# float() function\n",
        "spamFloat = float('123')\n",
        "spamFloat = float(123)"
      ],
      "metadata": {
        "id": "_Z8oBSj_pGC3"
      },
      "execution_count": 11,
      "outputs": []
    },
    {
      "cell_type": "markdown",
      "source": [
        "### **3.1 Arithmetic Operators**\n",
        "\n",
        "All numeric types support arithmetic operations, such as addition, subtraction, multiplication, division, and more."
      ],
      "metadata": {
        "id": "t7lrl6X-pKx1"
      }
    },
    {
      "cell_type": "code",
      "source": [
        "x, y = 5, 2\n",
        "\n",
        "# Arithmetic operations\n",
        "x + y   # Addition\n",
        "x - y   # Subtraction\n",
        "x * y   # Multiplication\n",
        "x / y   # Division\n",
        "x // y  # Integer division\n",
        "x ** y  # Exponentiation\n",
        "x % y   # Modulus\n"
      ],
      "metadata": {
        "colab": {
          "base_uri": "https://localhost:8080/"
        },
        "id": "kkNw5zw3pQAT",
        "outputId": "1f03025c-042e-4a50-f394-79398295dfee"
      },
      "execution_count": 12,
      "outputs": [
        {
          "output_type": "execute_result",
          "data": {
            "text/plain": [
              "1"
            ]
          },
          "metadata": {},
          "execution_count": 12
        }
      ]
    },
    {
      "cell_type": "markdown",
      "source": [
        "Operator precedence—how Python decides the order to evaluate expressions—also applies, for example ** is evaluated first, followed by *, /, //, and %, and finally + and -."
      ],
      "metadata": {
        "id": "Sd7vbNG_pSuF"
      }
    },
    {
      "cell_type": "code",
      "source": [
        "# Expression precedence example\n",
        "(5 - 1) * ((7 + 1) / (3 - 1))\n"
      ],
      "metadata": {
        "colab": {
          "base_uri": "https://localhost:8080/"
        },
        "id": "h8whmMMxpWit",
        "outputId": "1d2a656c-714c-4024-b9ae-e617311d39ea"
      },
      "execution_count": 13,
      "outputs": [
        {
          "output_type": "execute_result",
          "data": {
            "text/plain": [
              "16.0"
            ]
          },
          "metadata": {},
          "execution_count": 13
        }
      ]
    },
    {
      "cell_type": "markdown",
      "source": [
        "### **3.2 Assignment Operators**\n",
        "\n",
        "You can combine arithmetic operations with assignment, allowing you to store the result of a calculation in a variable."
      ],
      "metadata": {
        "id": "-pmJSP7FpZOZ"
      }
    },
    {
      "cell_type": "markdown",
      "source": [
        "### **3.3 Math Module**\n",
        "\n",
        "Python provides several built-in modules for numerical and mathematical operations, one of which is the math module. This module provides access to mathematical functions defined by the C standard library, such as logarithmic, hyperbolic functions, and more. These functions cannot be used with complex numbers, and by default, all returned values are floating-point numbers. To use it, you must first 'import math'."
      ],
      "metadata": {
        "id": "A9J1RJ_FpeQv"
      }
    },
    {
      "cell_type": "code",
      "source": [
        "# Example using the math module\n",
        "import math\n",
        "\n",
        "x, y = 5, 2\n",
        "math.ceil(x)        # Return the smallest integer greater than or equal to x\n",
        "math.fabs(x)        # Return the absolute value of x\n",
        "math.floor(x)       # Return the largest integer less than or equal to x\n",
        "math.pow(x, y)      # Return x raised to the power y\n",
        "math.sqrt(x)        # Return the square root of x\n"
      ],
      "metadata": {
        "colab": {
          "base_uri": "https://localhost:8080/"
        },
        "id": "a7Ju_kgQpoQc",
        "outputId": "ac4f229d-6288-46ab-bca2-f7df279c3fc6"
      },
      "execution_count": 14,
      "outputs": [
        {
          "output_type": "execute_result",
          "data": {
            "text/plain": [
              "2.23606797749979"
            ]
          },
          "metadata": {},
          "execution_count": 14
        }
      ]
    },
    {
      "cell_type": "markdown",
      "source": [
        "## **4. String Data Type**"
      ],
      "metadata": {
        "id": "DMTeKaW2rYJK"
      }
    },
    {
      "cell_type": "markdown",
      "source": [
        "Strings or text are one of the most commonly processed data types, consisting of a collection of characters, letters, and numbers. Strings can not only be concatenated using the + operator, but can also be manipulated in many ways. For example, you can extract part of a string, add or remove spaces, change letters to uppercase or lowercase, and check whether a string is properly formatted."
      ],
      "metadata": {
        "id": "1jP1UlUgrb2O"
      }
    },
    {
      "cell_type": "markdown",
      "source": [
        "### **4.1 String Literal**\n",
        "\n",
        "Typing a string value in Python is quite simple—it begins and ends with a quote. But what if you want to use quotes within a string? Fortunately, Python offers several ways to define strings, including double quotes and triple quotes."
      ],
      "metadata": {
        "id": "Kb6rZhrvreKS"
      }
    },
    {
      "cell_type": "code",
      "source": [
        "# String with single quotes\n",
        "print('Hello world!')\n",
        "\n",
        "# String with double quotes\n",
        "print(\"I'm Batman\")\n"
      ],
      "metadata": {
        "colab": {
          "base_uri": "https://localhost:8080/"
        },
        "id": "m7nciEHbrhWW",
        "outputId": "be079dc0-8915-40e0-b5ea-1e7aaf0df234"
      },
      "execution_count": 15,
      "outputs": [
        {
          "output_type": "stream",
          "name": "stdout",
          "text": [
            "Hello world!\n",
            "I'm Batman\n"
          ]
        }
      ]
    },
    {
      "cell_type": "markdown",
      "source": [
        "Unlike single or double-quoted strings, characters such as quotes, tabs, newlines, or anything inside triple quotes are considered part of the string, and indentation rules do not apply within them. This allows independence from escape character rules."
      ],
      "metadata": {
        "id": "o9ZuAOLCrj3s"
      }
    },
    {
      "cell_type": "code",
      "source": [
        "# String with triple quotes\n",
        "print('''\n",
        "Dear Jessica,\n",
        "        Eve's cat has been arrested for catnapping and cat burglary.\n",
        "Sincerely,\n",
        "Bob''')\n"
      ],
      "metadata": {
        "colab": {
          "base_uri": "https://localhost:8080/"
        },
        "id": "t6yL_IqSrk6B",
        "outputId": "f216017f-d7c7-440e-98af-84bdaea8f245"
      },
      "execution_count": 32,
      "outputs": [
        {
          "output_type": "stream",
          "name": "stdout",
          "text": [
            "\n",
            "Dear Jessica,\n",
            "        Eve's cat has been arrested for catnapping and cat burglary.  \n",
            "Sincerely,\n",
            "Bob\n"
          ]
        }
      ]
    },
    {
      "cell_type": "markdown",
      "source": [
        "In addition, you can create a string from an object using the built-in str() function. If the object is not provided, Python will return an empty string."
      ],
      "metadata": {
        "id": "TugdYF_KroES"
      }
    },
    {
      "cell_type": "code",
      "source": [
        "# Example of str() function\n",
        "age = 25\n",
        "print(str(age))\n"
      ],
      "metadata": {
        "colab": {
          "base_uri": "https://localhost:8080/"
        },
        "id": "YK565AT6rqdY",
        "outputId": "a62b930a-e23f-48df-a7bc-1188f7a7ef8e"
      },
      "execution_count": 17,
      "outputs": [
        {
          "output_type": "stream",
          "name": "stdout",
          "text": [
            "25\n"
          ]
        }
      ]
    },
    {
      "cell_type": "markdown",
      "source": [
        "### **4.2 Escape Character**\n",
        "\n",
        "The backslash (\\) followed by a specific character is called an escape character. It allows you to include characters in a string that would otherwise be difficult to type. For instance, \\' for a single quote, \\n for a newline, \\t for a tab, \\b for backspace, and others."
      ],
      "metadata": {
        "id": "uQbPiT7yrtU6"
      }
    },
    {
      "cell_type": "code",
      "source": [
        "# Example of escape characters\n",
        "print('Dear Jessica,\\n\\tEve\\'s cat has been arrested for catnapping and cat burglary.\\nSincerely,\\nBob')\n"
      ],
      "metadata": {
        "colab": {
          "base_uri": "https://localhost:8080/"
        },
        "id": "6CGfQSdFryZP",
        "outputId": "54b1b6d6-bb44-40be-8cbd-f84614846c94"
      },
      "execution_count": 33,
      "outputs": [
        {
          "output_type": "stream",
          "name": "stdout",
          "text": [
            "Dear Jessica,\n",
            "\tEve's cat has been arrested for catnapping and cat burglary.\n",
            "Sincerely,\n",
            "Bob\n"
          ]
        }
      ]
    },
    {
      "cell_type": "markdown",
      "source": [
        "### **4.3 Putting String Inside Other String**\n",
        "\n",
        "There are four common ways to place a string inside another string:\n",
        "\n",
        "1. String concatenation\n",
        "\n",
        "2. String interpolation\n",
        "\n",
        "3. format() method\n",
        "\n",
        "4. f-string"
      ],
      "metadata": {
        "id": "RxwIbLvYr0XX"
      }
    },
    {
      "cell_type": "code",
      "source": [
        "# String concatenation example\n",
        "name = 'Felicia'\n",
        "age = 25\n",
        "\n",
        "print('Hello, I am ' + name + ', I am ' + str(age) + ' years old')\n"
      ],
      "metadata": {
        "colab": {
          "base_uri": "https://localhost:8080/"
        },
        "id": "TUr1mdezr8Qm",
        "outputId": "86580fa0-a987-444b-cf42-90a26e19d0d3"
      },
      "execution_count": 19,
      "outputs": [
        {
          "output_type": "stream",
          "name": "stdout",
          "text": [
            "Hello, I am Felicia, I am 25 years old\n"
          ]
        }
      ]
    },
    {
      "cell_type": "markdown",
      "source": [
        "However, this first method requires more typing. A simpler approach is to use string interpolation, where the %s operator acts as a placeholder to be replaced by the corresponding values. One benefit of string interpolation is that you don't need to call str() to convert values to strings."
      ],
      "metadata": {
        "id": "O5xH1P6VsA1G"
      }
    },
    {
      "cell_type": "code",
      "source": [
        "# String interpolation example\n",
        "name = 'Felicia'\n",
        "age = 25\n",
        "\n",
        "print('Hello, I am %s, I am %s years old' % (name, age))\n"
      ],
      "metadata": {
        "colab": {
          "base_uri": "https://localhost:8080/"
        },
        "id": "nGA08YlGsD4A",
        "outputId": "21139f84-5d28-4f83-b48e-6bc46c164261"
      },
      "execution_count": 20,
      "outputs": [
        {
          "output_type": "stream",
          "name": "stdout",
          "text": [
            "Hello, I am Felicia, I am 25 years old\n"
          ]
        }
      ]
    },
    {
      "cell_type": "markdown",
      "source": [
        "Python 3.6 introduced f-strings, which are similar to interpolation but use curly braces {} instead of %s, with the variable placed directly inside the braces. f-strings are prefixed with f."
      ],
      "metadata": {
        "id": "D-k2Mp6msIH4"
      }
    },
    {
      "cell_type": "code",
      "source": [
        "# f-string example\n",
        "name = 'Felicia'\n",
        "age = 25\n",
        "\n",
        "print(f'Hello, I am {name}, I am {age} years old')\n"
      ],
      "metadata": {
        "colab": {
          "base_uri": "https://localhost:8080/"
        },
        "id": "iAaLK1WxsKKR",
        "outputId": "963ccd9c-1447-4f01-8c4e-f8de831cfd3c"
      },
      "execution_count": 21,
      "outputs": [
        {
          "output_type": "stream",
          "name": "stdout",
          "text": [
            "Hello, I am Felicia, I am 25 years old\n"
          ]
        }
      ]
    },
    {
      "cell_type": "markdown",
      "source": [
        "Similar to the previous two techniques, the format() method takes arguments and places them inside the string at the designated placeholders {}."
      ],
      "metadata": {
        "id": "R2qGlJ3RsOFd"
      }
    },
    {
      "cell_type": "code",
      "source": [
        "# format() method example\n",
        "name = 'Felicia'\n",
        "age = 25\n",
        "\n",
        "print('Hello, I am {}, I am {} years old'.format(name, age))\n",
        "print('Hello, I am {name}, I am {age} years old'.format(name=name, age=age))\n"
      ],
      "metadata": {
        "colab": {
          "base_uri": "https://localhost:8080/"
        },
        "id": "_Ana7R_zsPkd",
        "outputId": "8fdd0274-d0fa-45e7-8242-15415efbab88"
      },
      "execution_count": 22,
      "outputs": [
        {
          "output_type": "stream",
          "name": "stdout",
          "text": [
            "Hello, I am Felicia, I am 25 years old\n",
            "Hello, I am Felicia, I am 25 years old\n"
          ]
        }
      ]
    },
    {
      "cell_type": "markdown",
      "source": [
        "### **4.4 Indexing and Slicing**\n",
        "\n",
        "Strings are sequences, so indexing and slicing apply. If you specify an index, you’ll get the character at that position. For example, in the string 'Hello, world!', each character has a corresponding index. Spaces and punctuation are counted as characters, so 'Hello, world!' has 13 characters, starting from H at index 0 to ! at index 12."
      ],
      "metadata": {
        "id": "lbso9NffsTb4"
      }
    },
    {
      "cell_type": "code",
      "source": [
        "# String indexing example\n",
        "spam = 'Hello, world!'\n",
        "\n",
        "spam[0]     # index 0: H\n",
        "spam[1]     # index 1: e\n",
        "spam[5]     # index 5: ,\n",
        "spam[-1]    # index -1: !\n",
        "spam[-5]    # index -5: o\n"
      ],
      "metadata": {
        "colab": {
          "base_uri": "https://localhost:8080/",
          "height": 36
        },
        "id": "VvdFM1wlsYks",
        "outputId": "db83899e-3833-4862-cd6e-1d8826f9693b"
      },
      "execution_count": 23,
      "outputs": [
        {
          "output_type": "execute_result",
          "data": {
            "text/plain": [
              "'o'"
            ],
            "application/vnd.google.colaboratory.intrinsic+json": {
              "type": "string"
            }
          },
          "metadata": {},
          "execution_count": 23
        }
      ]
    },
    {
      "cell_type": "markdown",
      "source": [
        "When you specify a range from one index to another, the start index is included, but the end index is excluded. For instance, spam[0:5] results in 'Hello'. Note that slicing a string doesn’t modify the original string—you can store the slice in a new variable."
      ],
      "metadata": {
        "id": "0YNNOsphsbk8"
      }
    },
    {
      "cell_type": "code",
      "source": [
        "# String slicing example\n",
        "spam = 'Hello, world!'\n",
        "\n",
        "spam[0:5]       # 'Hello'\n",
        "spam[:5]        # 'Hello'\n",
        "spam[7:]        # 'world!'\n",
        "spam[:-1]       # 'Hello, world'\n",
        "spam[:]         # 'Hello, world!'\n",
        "spam[0:5:2]     # 'Hlo'\n",
        "spam[1::-1]     # 'eH'\n",
        "spam[:5:-1]     # '!dlrow '\n"
      ],
      "metadata": {
        "colab": {
          "base_uri": "https://localhost:8080/",
          "height": 36
        },
        "id": "b7Isj4TIsdoq",
        "outputId": "9dcb0f56-f028-4b8a-fbad-44fba87670f7"
      },
      "execution_count": 24,
      "outputs": [
        {
          "output_type": "execute_result",
          "data": {
            "text/plain": [
              "'!dlrow '"
            ],
            "application/vnd.google.colaboratory.intrinsic+json": {
              "type": "string"
            }
          },
          "metadata": {},
          "execution_count": 24
        }
      ]
    },
    {
      "cell_type": "markdown",
      "source": [
        "### **4.5 Membership Operators**\n",
        "\n",
        "The in and not in operators fall under membership operators, which are used to test whether a value or variable exists in a sequence, mapping, or set. For example, checking if 'Hello' exists in 'Hello, world!'. These operators return a Boolean value: True or False."
      ],
      "metadata": {
        "id": "eK36wnGMsfwY"
      }
    },
    {
      "cell_type": "code",
      "source": [
        "# Membership operators example\n",
        "spam = 'Hello, world!'\n",
        "\n",
        "'Hello' in spam         # True\n",
        "'hello' in spam         # False\n",
        "'World' not in spam     # True\n",
        "'world!' not in spam    # False\n"
      ],
      "metadata": {
        "colab": {
          "base_uri": "https://localhost:8080/"
        },
        "id": "f0I8xxyisluo",
        "outputId": "e02d0999-91c7-4a4d-cea6-d5971ae0d600"
      },
      "execution_count": 25,
      "outputs": [
        {
          "output_type": "execute_result",
          "data": {
            "text/plain": [
              "False"
            ]
          },
          "metadata": {},
          "execution_count": 25
        }
      ]
    },
    {
      "cell_type": "markdown",
      "source": [
        "### **4.6 The capitalize(), upper(), and lower() Methods**\n",
        "\n",
        "The capitalize() method returns a new string where the first letter of the original string is capitalized.\n",
        "\n",
        "The upper() and lower() methods return a new string where all letters are converted to uppercase or lowercase.\n",
        "\n",
        "Non-letter characters remain unchanged."
      ],
      "metadata": {
        "id": "wge9NmJ9sn5_"
      }
    },
    {
      "cell_type": "code",
      "source": [
        "# Method examples\n",
        "spam = 'hello, World!'\n",
        "\n",
        "spam = spam.capitalize()    # 'Hello, world!'\n",
        "spam = spam.upper()         # 'HELLO, WORLD!'\n",
        "spam = spam.lower()         # 'hello, world!'\n"
      ],
      "metadata": {
        "id": "cXNPzetVssrp"
      },
      "execution_count": 26,
      "outputs": []
    },
    {
      "cell_type": "markdown",
      "source": [
        "Note that these methods do not change the original string, but return a new one. To update the original string, you need to assign the result back to the same variable.\n",
        "\n",
        "These methods are helpful when you need to do case-insensitive comparisons."
      ],
      "metadata": {
        "id": "m7QgmSF9svq1"
      }
    },
    {
      "cell_type": "code",
      "source": [
        "# Case-insensitive comparison\n",
        "spam = 'heLlO'\n",
        "\n",
        "spam.upper() == 'HELLO'         # True\n",
        "spam.lower() == 'hello'         # True\n",
        "spam.capitalize() == 'Hello'    # True\n"
      ],
      "metadata": {
        "colab": {
          "base_uri": "https://localhost:8080/"
        },
        "id": "Nl9ENUMoswui",
        "outputId": "ea4843f2-dc62-49ee-d9d4-87d74bd8e7d1"
      },
      "execution_count": 27,
      "outputs": [
        {
          "output_type": "execute_result",
          "data": {
            "text/plain": [
              "True"
            ]
          },
          "metadata": {},
          "execution_count": 27
        }
      ]
    },
    {
      "cell_type": "markdown",
      "source": [
        "### **4.7 The join() and split() Methods**\n",
        "\n",
        "The join() method is useful when you have a list of strings that need to be joined into a single string. It’s called on a string and passed a list, returning the joined string."
      ],
      "metadata": {
        "id": "---xyFYmszjx"
      }
    },
    {
      "cell_type": "code",
      "source": [
        "# join() method example\n",
        "spam = ' '.join(['My', 'name', 'is', 'Hermione'])      # 'My name is Hermione'\n",
        "spam = '-'.join(['My', 'name', 'is', 'Hermione'])      # 'My-name-is-Hermione'\n",
        "spam = 'ABC'.join(['My', 'name', 'is', 'Hermione'])    # 'MyABCnameABCisABCHermione'\n"
      ],
      "metadata": {
        "id": "gjXvczKas4FV"
      },
      "execution_count": 28,
      "outputs": []
    },
    {
      "cell_type": "markdown",
      "source": [
        "The split() method does the opposite. It’s called on a string and returns a list of strings. By default, it splits based on whitespace."
      ],
      "metadata": {
        "id": "heIxTY4ms7Db"
      }
    },
    {
      "cell_type": "code",
      "source": [
        "# split() method example\n",
        "spam = 'Hello, world!'\n",
        "\n",
        "# spam = spam.split()         # ['Hello,', 'world!']\n",
        "# spam = spam.split('o')      # ['Hell', ', w', 'rld!']\n",
        "spam = spam.split('-')        # ['Hello, world!']\n"
      ],
      "metadata": {
        "id": "myMo4FWQs7zl"
      },
      "execution_count": 29,
      "outputs": []
    },
    {
      "cell_type": "markdown",
      "source": [
        "## **5. User Input**"
      ],
      "metadata": {
        "id": "fY77f3_mtAFK"
      }
    },
    {
      "cell_type": "markdown",
      "source": [
        "You can receive text input through a prompt using the input() function. This function waits for the user to type something and press ENTER. It evaluates to a string that matches the user's input, and assigns that string to a variable like name. You can think of input() as an expression that evaluates to the user's typed string. If the user types 'Hermione', the result is name = 'Hermione'."
      ],
      "metadata": {
        "id": "1zwk_smetDSB"
      }
    },
    {
      "cell_type": "code",
      "source": [
        "name = input(\"Please enter your name: \")\n",
        "print(f'Hello {name}')\n"
      ],
      "metadata": {
        "colab": {
          "base_uri": "https://localhost:8080/"
        },
        "id": "qz9i-2u5tFOJ",
        "outputId": "f384a294-58cd-44f2-aabd-fb7c129ca5e2"
      },
      "execution_count": 30,
      "outputs": [
        {
          "output_type": "stream",
          "name": "stdout",
          "text": [
            "Please enter your name: Felicia\n",
            "Hello Felicia\n"
          ]
        }
      ]
    }
  ]
}