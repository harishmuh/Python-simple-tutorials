{
  "nbformat": 4,
  "nbformat_minor": 0,
  "metadata": {
    "colab": {
      "provenance": [],
      "authorship_tag": "ABX9TyM1N6yyfZElVQQW5CUMCXyl",
      "include_colab_link": true
    },
    "kernelspec": {
      "name": "python3",
      "display_name": "Python 3"
    },
    "language_info": {
      "name": "python"
    }
  },
  "cells": [
    {
      "cell_type": "markdown",
      "metadata": {
        "id": "view-in-github",
        "colab_type": "text"
      },
      "source": [
        "<a href=\"https://colab.research.google.com/github/harishmuh/Python-simple-tutorials/blob/main/variable_practice_bahasa.ipynb\" target=\"_parent\"><img src=\"https://colab.research.google.com/assets/colab-badge.svg\" alt=\"Open In Colab\"/></a>"
      ]
    },
    {
      "cell_type": "markdown",
      "source": [
        "**Question-1**\n",
        "\n",
        "Terdapat tiga buah variable dengan nilai yang berbeda, yaitu x, y, z. Lakukan perhitungan untuk mendapatkan nilai dari w, dan hasil akhirnya akan dimunculkan menggunakan function print.\n",
        "\n",
        "$$\\text{if } x=4, y=3, z=2$$\n",
        "$$w = (\\frac{x + y * z}{x * y})^z$$"
      ],
      "metadata": {
        "id": "MiKxu5iMiorH"
      }
    },
    {
      "cell_type": "code",
      "execution_count": 2,
      "metadata": {
        "colab": {
          "base_uri": "https://localhost:8080/"
        },
        "id": "DeOeb5xlh8W-",
        "outputId": "5bfbd626-cad2-462e-d7fb-6bce66bbb21b"
      },
      "outputs": [
        {
          "output_type": "stream",
          "name": "stdout",
          "text": [
            "0.6944444444444445\n"
          ]
        }
      ],
      "source": [
        "x, y, z = 4, 3, 2\n",
        "w = ((x + y * z) / (x * y)) ** z\n",
        "print(w)"
      ]
    },
    {
      "cell_type": "markdown",
      "source": [
        "**Question-2**\n",
        "\n",
        "Buat program yang akan menerima input sebuah angka menggunakan function input, yang kemudian akan menampilkan hasil kuadratnya menggunakan function print. Berapapun angka yang dimasukkan, akan dicari nilai kuadratnya, dan ditampilkan menggunakan function print.\n"
      ],
      "metadata": {
        "id": "fT11KqqTi6tj"
      }
    },
    {
      "cell_type": "code",
      "source": [
        "# input\n",
        "angka = int(input(\"Masukkan angka: \")) # Misal masukkan 5\n",
        "\n",
        "# proses\n",
        "kuadrat = angka ** 2\n",
        "\n",
        "# output\n",
        "print(\"Kuadrat dari\", angka, \"adalah\", kuadrat)"
      ],
      "metadata": {
        "colab": {
          "base_uri": "https://localhost:8080/"
        },
        "id": "9S-nNMQzioVt",
        "outputId": "3c950892-c0a4-49ff-cf4c-43c3092893cc"
      },
      "execution_count": 3,
      "outputs": [
        {
          "output_type": "stream",
          "name": "stdout",
          "text": [
            "Masukkan angka: 5\n",
            "Kuadrat dari 5 adalah 25\n"
          ]
        }
      ]
    },
    {
      "cell_type": "markdown",
      "source": [
        "**Question-3**\n",
        "\n",
        "Buatlah sebuah program untuk menyatakan jumlah hari yang diinput oleh user kedalam bentuk tahun, bulan, minggu, dan hari.\n",
        "Dengan asumsi:\n",
        "- 1 bulan = 30 hari\n",
        "- 1 tahun = 360 hari."
      ],
      "metadata": {
        "id": "5p4OyXzdjUwK"
      }
    },
    {
      "cell_type": "code",
      "source": [
        "# input\n",
        "# Masukkan jumlah hari 485\n",
        "jumlah_hari = int(input(\"Masukkan jumlah hari: \"))\n",
        "\n",
        "tahun = jumlah_hari // 360\n",
        "sisa_hari = jumlah_hari % 360\n",
        "bulan = sisa_hari // 30\n",
        "sisa_hari = sisa_hari % 30\n",
        "minggu = (sisa_hari % 30) // 7\n",
        "sisa_hari = sisa_hari % 7\n",
        "\n",
        "print(f' jumlah hari {jumlah_hari} terdiri dari {tahun} tahun {bulan} bulan {minggu} minggu {sisa_hari} hari')\n"
      ],
      "metadata": {
        "colab": {
          "base_uri": "https://localhost:8080/"
        },
        "id": "38Yqi-i4jZF-",
        "outputId": "cbdd02c3-1eb0-440f-84e1-e6fdf8052f64"
      },
      "execution_count": 6,
      "outputs": [
        {
          "output_type": "stream",
          "name": "stdout",
          "text": [
            "Masukkan jumlah hari: 485\n",
            " jumlah hari 485 terdiri dari 1 tahun 4 bulan 0 minggu 5 hari\n"
          ]
        }
      ]
    },
    {
      "cell_type": "markdown",
      "source": [
        "**Question-4**\n",
        "\n",
        "Saat ini, jumlah usia Andi dan Budi adalah 49 tahun dengan rasio antara usia Andi dan Budi sebesar 0.4.\n",
        "\n",
        "Berapa usia Andi dan Budi 2 tahun lagi?"
      ],
      "metadata": {
        "id": "Q80KS679kuZ2"
      }
    },
    {
      "cell_type": "code",
      "source": [
        "# Total usia\n",
        "total_usia = 49\n",
        "ratio_andi = 0.4\n",
        "ratio_budi = 1\n",
        "\n",
        "ratio_total = ratio_andi + ratio_budi\n",
        "\n",
        "usia_andi = (total_usia * ratio_andi) / ratio_total\n",
        "usia_budi = (total_usia * ratio_budi) / ratio_total\n",
        "\n",
        "print(f'Usia Andi 2 tahun lagi: {int(usia_andi+2)} tahun')\n",
        "print(f'Usia Budi 2 tahun lagi: {int(usia_budi+2)} tahun')\n",
        "#"
      ],
      "metadata": {
        "colab": {
          "base_uri": "https://localhost:8080/"
        },
        "id": "1qQwbuORkyij",
        "outputId": "298d4e6b-f6d1-4ac9-97b8-6e7ac9f81403"
      },
      "execution_count": 8,
      "outputs": [
        {
          "output_type": "stream",
          "name": "stdout",
          "text": [
            "Usia Andi 2 tahun lagi: 16 tahun\n",
            "Usia Budi 2 tahun lagi: 37 tahun\n"
          ]
        }
      ]
    },
    {
      "cell_type": "markdown",
      "source": [
        "**Question-5**\n",
        "\n",
        "Tentukan pada pukul berapa mobil A dan B akan bertabrakan, berdasarkan keterangan yang diberikan:\n",
        "\n",
        "- Jarak antara mobil A dan B adalah 120 km\n",
        "- A berjalan 60 km/h dari timur\n",
        "- B berjalan 50 km/h dari barat\n",
        "- A dan B berangkat bersamaan pada pukul 9 WIB.\n",
        "\n",
        "Nyatakan dalam satuan waktu jam, menit, dan detik"
      ],
      "metadata": {
        "id": "Z-lDaE8nlpiv"
      }
    },
    {
      "cell_type": "code",
      "source": [
        "jam_awal = 9\n",
        "jarak_km = 120\n",
        "kecepatan_A_per_jam = 60\n",
        "kecepatan_B_per_jam = 50\n",
        "\n",
        "kecepatan_total_per_jam = kecepatan_A_per_jam + kecepatan_B_per_jam\n",
        "kecepatan_total_per_detik = kecepatan_total_per_jam / 3600\n",
        "\n",
        "total_detik = jarak_km / kecepatan_total_per_detik\n",
        "jam = total_detik // 3600\n",
        "sisa_detik = total_detik % 3600\n",
        "menit = sisa_detik // 60\n",
        "detik = sisa_detik % 60\n",
        "\n",
        "print(f'Mobil A dan B akan bertabrakan pada pukul {int(jam_awal + jam)}:{int(menit)}:{int(detik)} WIB')\n",
        "\n",
        "\n"
      ],
      "metadata": {
        "colab": {
          "base_uri": "https://localhost:8080/"
        },
        "id": "G7STXHXslv9r",
        "outputId": "9b82c13d-786b-44bf-c0ce-d75f66ccbce9"
      },
      "execution_count": 12,
      "outputs": [
        {
          "output_type": "stream",
          "name": "stdout",
          "text": [
            "Mobil A dan B akan bertabrakan pada pukul 10:5:27 WIB\n"
          ]
        }
      ]
    },
    {
      "cell_type": "markdown",
      "source": [
        "**Question-6**\n",
        "\n",
        "Buat program yang akan diberi nama `Market`.\n",
        "- Pengguna nantinya akan diminta untuk memasukkan quantity yang akan dibeli untuk setiap buahnya.\n",
        "- Setelah memasukkan ketiga jumlah maka program akan menghitung total biaya yang harus dibayar dan menampilkan detail pembelian beserta total harga keseluruhan menggunakan function print.\n",
        "- Cara menghitungnya adalah dengan mengkalikan harga satuan dengan jumlah quantity yang diinginkan dari setiap buah, setelah itu total dari ketiganya dijumlahkan menjadi harga akhir.\n",
        "- harga satuan apel ditetapkan sebesar 10000, harga jeruk sebesar 15000, dan harga anggur sebesar 20000\n",
        "\n",
        "Contoh hasil programnya seperti digambar.\n",
        "![](https://github.com/harishmuh/Python-simple-tutorials/blob/main/output_program_variable.PNG?raw=true)"
      ],
      "metadata": {
        "id": "KuF5ixcDuFGR"
      }
    },
    {
      "cell_type": "code",
      "source": [
        "# Harga buah\n",
        "harga_apel = 10000\n",
        "harga_jeruk = 15000\n",
        "harga_anggur = 20000\n",
        "\n",
        "# Jumlah buah\n",
        "jumlah_apel = int(input(\"Masukkan jumlah apel yang akan dibeli: \"))\n",
        "jumlah_jeruk = int(input(\"Masukkan jumlah jeruk yang akan dibeli: \"))\n",
        "jumlah_anggur = int(input(\"Masukkan jumlah anggur yang akan dibeli: \"))\n",
        "\n",
        "# Total harga\n",
        "total_harga_apel = jumlah_apel * harga_apel\n",
        "total_harga_jeruk = jumlah_jeruk * harga_jeruk\n",
        "total_harga_anggur = jumlah_anggur * harga_anggur\n",
        "total_harga = total_harga_apel + total_harga_jeruk + total_harga_anggur\n",
        "\n",
        "print(f'''Detail pembelian:\n",
        "Apel: {jumlah_apel} x {harga_apel} = {total_harga_apel}\n",
        "Jeruk: {jumlah_jeruk} x {harga_jeruk} = {total_harga_jeruk}\n",
        "Anggur: {jumlah_anggur} x {harga_anggur} = {total_harga_anggur}\n",
        "\n",
        "Total harga: {total_harga}''')"
      ],
      "metadata": {
        "colab": {
          "base_uri": "https://localhost:8080/"
        },
        "id": "NU-vwoZnvKLV",
        "outputId": "ceac615d-5915-4498-f5d2-7606c7da7f33"
      },
      "execution_count": 13,
      "outputs": [
        {
          "output_type": "stream",
          "name": "stdout",
          "text": [
            "Masukkan jumlah apel yang akan dibeli: 2\n",
            "Masukkan jumlah jeruk yang akan dibeli: 3\n",
            "Masukkan jumlah anggur yang akan dibeli: 5\n",
            "Detail pembelian:\n",
            "Apel: 2 x 10000 = 20000\n",
            "Jeruk: 3 x 15000 = 45000\n",
            "Anggur: 5 x 20000 = 100000\n",
            "\n",
            "Total harga: 165000\n"
          ]
        }
      ]
    },
    {
      "cell_type": "markdown",
      "source": [
        "**Question-7**\n",
        "\n",
        "Buatlah sebuah program untuk mengganti sebuah karakter tertentu dalam sebuah string.\n",
        "Ada beberapa ketentuan yang perlu diperhatikan, yaitu :\n",
        "1. Karakter yang diganti adalah karakter pertama dari sebuah inputan.\n",
        "2. Karakter pertama tersebut tidak terganti, namun karakter yang sama di inputan tersebut akan terganti sepenuhnya.\n",
        "3. Karakter penggantinya adalah sebuah inputan."
      ],
      "metadata": {
        "id": "9Y-VIQaIxbgO"
      }
    },
    {
      "cell_type": "code",
      "source": [
        "# Input:\n",
        "# Masukkan sebuah kalimat: saya adalah seorang insinyur\n",
        "# Masukkan karakter pengganti: $\n",
        "\n",
        "# Output:\n",
        "# 'saya adalah $eorang in$inyur'\n",
        "\n",
        "kalimat = input(\"Masukkan sebuah kalimat: \")\n",
        "karakter_ganti = input(\"Masukkan karakter pengganti: \")\n",
        "\n",
        "karakter_pertama = kalimat[0]\n",
        "kalimat_baru = kalimat.replace(karakter_pertama, karakter_ganti)\n",
        "print(kalimat_baru)"
      ],
      "metadata": {
        "colab": {
          "base_uri": "https://localhost:8080/"
        },
        "id": "eaqLIvwQxpf7",
        "outputId": "bb166a88-eb60-412e-dd7b-8c0321c496bf"
      },
      "execution_count": 14,
      "outputs": [
        {
          "output_type": "stream",
          "name": "stdout",
          "text": [
            "Masukkan sebuah kalimat: saya adalah seorang insinyur\n",
            "Masukkan karakter pengganti: $\n",
            "$aya adalah $eorang in$inyur\n"
          ]
        }
      ]
    },
    {
      "cell_type": "markdown",
      "source": [
        "**Question-8**\n",
        "\n",
        "Buatlah sebuah program dimana Anda akan melakukan input 2 buah kata, lalu outputnya akan berupa 2 karakter awal pada 2 kata tersebut akan saling bertukar posisi."
      ],
      "metadata": {
        "id": "7WcrdU4kxo1w"
      }
    },
    {
      "cell_type": "code",
      "source": [
        "# Input:\n",
        "# Input Kata 1: Apel\n",
        "# Input Kata 2: Kucing\n",
        "\n",
        "# Output:\n",
        "# 'Kuel Apcing'\n",
        "\n",
        "kata_1 = input(\"Input Kata 1: \")\n",
        "kata_2 = input(\"Input Kata 2: \")\n",
        "\n",
        "kata_baru = kata_2[:2] + kata_1[2:] + ' ' + kata_1[:2] + kata_2[2:]\n",
        "print(kata_baru)"
      ],
      "metadata": {
        "colab": {
          "base_uri": "https://localhost:8080/"
        },
        "id": "RJau76I3y1Vz",
        "outputId": "d0195e36-a9a6-4c11-a4a4-24b1676133c4"
      },
      "execution_count": 15,
      "outputs": [
        {
          "output_type": "stream",
          "name": "stdout",
          "text": [
            "Input Kata 1: Apel\n",
            "Input Kata 2: Kucing\n",
            "Kuel Apcing\n"
          ]
        }
      ]
    },
    {
      "cell_type": "markdown",
      "source": [
        "**Selesai**\n",
        "\n",
        "**^_^**"
      ],
      "metadata": {
        "id": "ar1taBKIwANO"
      }
    }
  ]
}