{
 "cells": [
  {
   "cell_type": "markdown",
   "metadata": {},
   "source": [
    "---\n",
    "# **Exercise - Collection data type**\n",
    "---"
   ]
  },
  {
   "cell_type": "markdown",
   "metadata": {},
   "source": [
    "**Question-1**\n",
    "\n",
    "Create a program using looping to calculate the **average** of values in the following list:\n",
    "\n",
    "number_list = `[12, 15, 18, 17, 14, 10, 13, 20, 24, 8]`"
   ]
  },
  {
   "cell_type": "code",
   "execution_count": 1,
   "metadata": {},
   "outputs": [
    {
     "name": "stdout",
     "output_type": "stream",
     "text": [
      "The average of [12, 15, 18, 17, 14, 10, 13, 20, 24, 8] is 15.1\n"
     ]
    }
   ],
   "source": [
    "number_list = [12, 15, 18, 17, 14, 10, 13, 20, 24, 8]\n",
    "\n",
    "number_sum = 0\n",
    "\n",
    "for number in number_list:\n",
    "    number_sum += number\n",
    "\n",
    "average = number_sum/len(number_list)\n",
    "\n",
    "print(f'The average of {number_list} is {average}')"
   ]
  },
  {
   "cell_type": "markdown",
   "metadata": {},
   "source": [
    "**Question-2**\n",
    "\n",
    "Create a program to calculate the **final balance** of a bank customer based on transaction data in the following list:\n",
    "\n",
    "`[\n",
    "    ['Deposit', 3000],\n",
    "    ['Deposit', 5000],\n",
    "    ['Withdrawal', 2000],\n",
    "    ['Deposit', 1000],\n",
    "    ['Withdrawal', 1500],\n",
    "    ['Withdrawal', 2000],\n",
    "    ['Deposit', 2500],\n",
    "    ['Withdrawal', 3000]\n",
    "]`\n",
    "\n",
    "where `Deposit` means adding funds and `Withdrawal` means withdrawing funds. Assume the initial balance is 0."
   ]
  },
  {
   "cell_type": "code",
   "execution_count": 2,
   "metadata": {},
   "outputs": [
    {
     "name": "stdout",
     "output_type": "stream",
     "text": [
      "The final balance is 3000\n"
     ]
    }
   ],
   "source": [
    "transactions = [\n",
    "    ['Deposit', 3000],\n",
    "    ['Deposit', 5000],\n",
    "    ['Withdrawal', 2000],\n",
    "    ['Deposit', 1000],\n",
    "    ['Withdrawal', 1500],\n",
    "    ['Withdrawal', 2000],\n",
    "    ['Deposit', 2500],\n",
    "    ['Withdrawal', 3000]\n",
    "]\n",
    "\n",
    "balance = 0 \n",
    "\n",
    "for category, value in transactions:\n",
    "    if category == 'Deposit':\n",
    "        balance += value\n",
    "    else:\n",
    "        balance -= value\n",
    "\n",
    "print(f'The final balance is {balance}')"
   ]
  },
  {
   "cell_type": "markdown",
   "metadata": {},
   "source": [
    "**Question-3**\n",
    "\n",
    "Create a program to categorize a customer's monthly spending into three categories:\n",
    " \n",
    "- Low: less than 2000\n",
    "- Medium: between 2000 and 3000\n",
    "- High: greater than 3000\n",
    "\n",
    "with the following spending details:\n",
    "\n",
    "`[2689.56, 2770.38, 2394.04, 2099.91, 1182.20, 3267.12, 1746.83, 2545.72, 3328.20, 3147.30, 2462.61, 3890.45]`\n",
    "\n",
    "Display the results in the following format:\n",
    "\n",
    "- *The customer spending is categorized as low for ... months, medium for ... months, and high for ... months.*"
   ]
  },
  {
   "cell_type": "code",
   "execution_count": 3,
   "metadata": {},
   "outputs": [
    {
     "name": "stdout",
     "output_type": "stream",
     "text": [
      "The customer spending is categorized as low for 2 months, medium for 6 months, and high for 4 months.\n"
     ]
    }
   ],
   "source": [
    "monthly_spending = [2689.56, 2770.38, 2394.04, 2099.91, 1182.20, 3267.12, 1746.83, 2545.72, 3328.20, 3147.30, 2462.61, 3890.45]\n",
    "\n",
    "low = 0\n",
    "mid = 0\n",
    "high = 0\n",
    "\n",
    "for spending in monthly_spending:\n",
    "    if spending < 2000:\n",
    "        low += 1\n",
    "    elif 2000 <= spending <= 3000:\n",
    "        mid += 1\n",
    "    else:\n",
    "        high += 1\n",
    "\n",
    "print(f'The customer spending is categorized as low for {low} months, medium for {mid} months, and high for {high} months.')"
   ]
  },
  {
   "cell_type": "markdown",
   "metadata": {},
   "source": [
    "**Question-4**\n",
    "\n",
    "Create a program that can sort data in a list from smallest to largest, but without using Python's built-in sort method.\n",
    "\n",
    "The list to be sorted:\n",
    "\n",
    "number_list = `[12, 15, 18, 17, 14, 10, 13, 20, 24, 8]`"
   ]
  },
  {
   "cell_type": "code",
   "execution_count": 2,
   "metadata": {},
   "outputs": [
    {
     "name": "stdout",
     "output_type": "stream",
     "text": [
      "Sorted list: [8, 10, 12, 13, 14, 15, 17, 18, 20, 24]\n"
     ]
    }
   ],
   "source": [
    "# Method 1\n",
    "number_list = [12, 15, 18, 17, 14, 10, 13, 20, 24, 8]\n",
    "\n",
    "sorted_list = []\n",
    "\n",
    "for iteration in range(len(number_list)):\n",
    "    minimum = number_list[0]\n",
    "    for number in number_list:\n",
    "        if number < minimum:\n",
    "            minimum = number\n",
    "\n",
    "    sorted_list.append(minimum)\n",
    "    number_list.remove(minimum)\n",
    "\n",
    "print(f'Sorted list: {sorted_list}')"
   ]
  },
  {
   "cell_type": "code",
   "execution_count": 1,
   "metadata": {},
   "outputs": [
    {
     "name": "stdout",
     "output_type": "stream",
     "text": [
      "Sorted list: [8, 10, 12, 13, 14, 15, 17, 18, 20, 24]\n"
     ]
    }
   ],
   "source": [
    "# Method 2\n",
    "number_list = [12, 15, 18, 17, 14, 10, 13, 20, 24, 8]\n",
    "\n",
    "for i in range(len(number_list)):\n",
    "    for j in range(len(number_list)-i-1):\n",
    "        if number_list[j] > number_list[j+1]:\n",
    "            number_list[j], number_list[j+1] = number_list[j+1], number_list[j]\n",
    "\n",
    "print(f'Sorted list: {number_list}')"
   ]
  },
  {
   "cell_type": "markdown",
   "metadata": {},
   "source": [
    "**Question-5**\n",
    "\n",
    "Create a program to count how many times each word appears in the sentence:\n",
    "\n",
    "- *Aku baru makan nasi terus aku mau makan mie nanti malam*"
   ]
  },
  {
   "cell_type": "code",
   "execution_count": 3,
   "metadata": {},
   "outputs": [
    {
     "name": "stdout",
     "output_type": "stream",
     "text": [
      "Occurrences of 'Aku': 2\n",
      "Occurrences of 'Baru': 1\n",
      "Occurrences of 'Makan': 2\n",
      "Occurrences of 'Nasi': 1\n",
      "Occurrences of 'Terus': 1\n",
      "Occurrences of 'Mau': 1\n",
      "Occurrences of 'Mie': 1\n",
      "Occurrences of 'Nanti': 1\n",
      "Occurrences of 'Malam': 1\n"
     ]
    }
   ],
   "source": [
    "# Output: \n",
    "# Occurrences of 'Aku': 2\n",
    "# Occurrences of 'Baru': 1\n",
    "# Occurrences of 'Makan': 2\n",
    "# Occurrences of 'Nasi': 1\n",
    "# Occurrences of 'Terus': 1\n",
    "# Occurrences of 'Mau': 1\n",
    "# Occurrences of 'Mie': 1\n",
    "# Occurrences of 'Nanti': 1\n",
    "# Occurrences of 'Malam': 1\n",
    "\n",
    "sentence = 'Aku baru makan nasi terus aku mau makan mie nanti malam'\n",
    "split_result = sentence.split()\n",
    "\n",
    "word_dict = {}\n",
    "\n",
    "for word in split_result:\n",
    "    if word.capitalize() in word_dict:\n",
    "        word_dict[word.capitalize()] += 1\n",
    "    else:\n",
    "        word_dict[word.capitalize()] = 1\n",
    "\n",
    "for key, value in word_dict.items():\n",
    "    print(f\"Occurrences of '{key}': {value}\")"
   ]
  },
  {
   "cell_type": "markdown",
   "metadata": {},
   "source": [
    "**Question-6**\n",
    "\n",
    "You are currently playing an RPG game and have an inventory dictionary as follows:\n",
    "\n",
    "- inventory = {'gold coin': 42, 'rope': 1}\n",
    "\n",
    "During the game, you suddenly find a treasure chest with contents in the following list:\n",
    "\n",
    "- treasures = ['gold coin', 'dagger', 'gold coin', 'gold coin', 'ruby']\n",
    "\n",
    "Create a program to add these treasures to your inventory and display the following output."
   ]
  },
  {
   "cell_type": "code",
   "execution_count": 4,
   "metadata": {},
   "outputs": [
    {
     "name": "stdout",
     "output_type": "stream",
     "text": [
      "Your Inventory:\n",
      "45 gold coin\n",
      "1 rope\n",
      "1 dagger\n",
      "1 ruby\n",
      "\n",
      "Total number of items: 48\n"
     ]
    }
   ],
   "source": [
    "# Output:\n",
    "# Your Inventory:\n",
    "# 45 gold coin\n",
    "# 1 rope\n",
    "# 1 dagger\n",
    "# 1 ruby\n",
    "\n",
    "# Total number of items: 48\n",
    "\n",
    "inventory = {'gold coin': 42, 'rope': 1}\n",
    "treasures = ['gold coin', 'dagger', 'gold coin', 'gold coin', 'ruby']\n",
    "\n",
    "for item in treasures:\n",
    "    if item in inventory:\n",
    "        inventory[item] += 1\n",
    "    else:\n",
    "        inventory[item] = 1\n",
    "\n",
    "item_count = 0\n",
    "\n",
    "print('Your Inventory:')\n",
    "for key, value in inventory.items():\n",
    "    print(f'{value} {key}')\n",
    "    item_count += value\n",
    "\n",
    "print()\n",
    "print(f'Total number of items: {item_count}')"
   ]
  },
  {
   "cell_type": "markdown",
   "metadata": {},
   "source": [
    "**Question-7**\n",
    "\n",
    "**Jaccard Index** (also called **Jaccard similarity coefficient**) is a measure of similarity and diversity of sample sets. This index was developed by Paul Jaccard (originally named coefficient de communauté) and independently formulated by T. Tanimoto. Hence, the term **Tanimoto index** or **Tanimoto coefficient** is also used in certain fields.\n",
    "\n",
    "The index can be calculated as follows:\n",
    "\n",
    "$$J(A, B) = \\frac{|A \\cap B|}{|A \\cup B|}$$\n",
    "\n",
    "Given two lists:\n",
    "\n",
    "- user1_list = ['spiderman','iron man','the avengers','ant man','thor']\n",
    "- user2_list = ['spiderman','coco','doraemon','ant man','thor']\n",
    "\n",
    "Calculate the **Jaccard Index** for these two lists."
   ]
  },
  {
   "cell_type": "code",
   "execution_count": 16,
   "metadata": {},
   "outputs": [
    {
     "name": "stdout",
     "output_type": "stream",
     "text": [
      "The Jaccard Index for these two lists is 0.43\n"
     ]
    }
   ],
   "source": [
    "user1_list = ['spiderman','iron man','the avengers','ant man','thor']\n",
    "user2_list = ['spiderman','coco','doraemon','ant man','thor']\n",
    "\n",
    "num_intersection = len(set(user1_list).intersection(set(user2_list)))\n",
    "num_union = len(set(user1_list).union(set(user2_list)))\n",
    "\n",
    "jaccard_index = num_intersection/num_union\n",
    "\n",
    "print(f'The Jaccard Index for these two lists is {jaccard_index:.2f}')"
   ]
  },
  {
   "cell_type": "markdown",
   "metadata": {},
   "source": [
    "**Question-8**\n",
    "\n",
    "Please make an app market and this time you need to add the following features:\n",
    "\n",
    "* First, now users can not only shop but also have 3 additional options: Display fruit list, Add fruit, and Delete fruit.\n",
    "\n",
    "So the program will have 5 main menu options:\n",
    "\n",
    "1. Display fruit list\n",
    "\n",
    "2. Add fruit\n",
    "\n",
    "3. Delete fruit\n",
    "\n",
    "4. Buy fruit\n",
    "\n",
    "5. Exit Program\n",
    "\n",
    "* Second, when the program starts for the first time, the fruit list should already contain 3 types of fruit along with their stock and price.\n",
    "\n",
    "* Third, every time a fruit is added or deleted, the program should display the updated fruit list.\n",
    "\n",
    "* Fourth, during the buying process, use a shopping cart system.\n",
    "\n",
    "* Fifth, just like in the previous market program, if the user's money is less than the total purchase price, they should be prompted to re-enter the amount until it is sufficient.\n",
    "\n",
    "* Sixth, after buying fruits, don't forget to reduce the stock of the purchased fruits and then empty the cart.\n",
    "\n",
    "* Seventh, after finishing with any menu option, the program should return to the main menu, and the program should only stop if the user selects Exit Program.\n",
    "\n",
    "Hint for solving this task: use Python Lists to store the fruit data so you can add and delete fruits. And naturally, this program will also require the use of Python Conditional Statements and Looping Statements."
   ]
  },
  {
   "cell_type": "code",
   "execution_count": null,
   "metadata": {},
   "outputs": [
    {
     "name": "stdout",
     "output_type": "stream",
     "text": [
      "Collecting tabulate\n",
      "  Obtaining dependency information for tabulate from https://files.pythonhosted.org/packages/40/44/4a5f08c96eb108af5cb50b41f76142f0afa346dfa99d5296fe7202a11854/tabulate-0.9.0-py3-none-any.whl.metadata\n",
      "  Downloading tabulate-0.9.0-py3-none-any.whl.metadata (34 kB)\n",
      "Downloading tabulate-0.9.0-py3-none-any.whl (35 kB)\n",
      "Installing collected packages: tabulate\n",
      "Successfully installed tabulate-0.9.0\n",
      "Note: you may need to restart the kernel to use updated packages.\n"
     ]
    },
    {
     "name": "stderr",
     "output_type": "stream",
     "text": [
      "\n",
      "[notice] A new release of pip is available: 23.2.1 -> 25.1.1\n",
      "[notice] To update, run: python.exe -m pip install --upgrade pip\n"
     ]
    }
   ],
   "source": [
    "# Installing tabulate module/library\n",
    "pip install tabulate\n"
   ]
  },
  {
   "cell_type": "code",
   "execution_count": null,
   "metadata": {},
   "outputs": [
    {
     "name": "stdout",
     "output_type": "stream",
     "text": [
      "\n",
      "Fruit Market Menu\n",
      "1. Display fruit list\n",
      "2. Add fruit\n",
      "3. Delete fruit\n",
      "4. Buy fruit\n",
      "5. Exit program\n"
     ]
    },
    {
     "name": "stdout",
     "output_type": "stream",
     "text": [
      "\n",
      "Fruit List\n",
      "+---------+--------+---------+----------+\n",
      "|   Index | Name   |   Stock | Price    |\n",
      "+=========+========+=========+==========+\n",
      "|       0 | Apple  |      20 | Rp10,000 |\n",
      "+---------+--------+---------+----------+\n",
      "|       1 | Orange |      15 | Rp15,000 |\n",
      "+---------+--------+---------+----------+\n",
      "|       2 | Grape  |      25 | Rp20,000 |\n",
      "+---------+--------+---------+----------+\n",
      "\n",
      "Welcome to the fruit market!\n",
      "\n",
      "\n",
      "Fruit Market Menu\n",
      "1. Display fruit list\n",
      "2. Add fruit\n",
      "3. Delete fruit\n",
      "4. Buy fruit\n",
      "5. Exit program\n",
      "Banana has been added.\n",
      "\n",
      "Fruit Market Menu\n",
      "1. Display fruit list\n",
      "2. Add fruit\n",
      "3. Delete fruit\n",
      "4. Buy fruit\n",
      "5. Exit program\n",
      "\n",
      "Fruit List\n",
      "+---------+--------+---------+----------+\n",
      "|   Index | Name   |   Stock | Price    |\n",
      "+=========+========+=========+==========+\n",
      "|       0 | Apple  |      20 | Rp10,000 |\n",
      "+---------+--------+---------+----------+\n",
      "|       1 | Orange |      15 | Rp15,000 |\n",
      "+---------+--------+---------+----------+\n",
      "|       2 | Grape  |      25 | Rp20,000 |\n",
      "+---------+--------+---------+----------+\n",
      "|       3 | Banana |      17 | Rp17,000 |\n",
      "+---------+--------+---------+----------+\n",
      "\n",
      "Welcome to the fruit market!\n",
      "\n",
      "\n",
      "Fruit Market Menu\n",
      "1. Display fruit list\n",
      "2. Add fruit\n",
      "3. Delete fruit\n",
      "4. Buy fruit\n",
      "5. Exit program\n",
      "Thank you!\n"
     ]
    }
   ],
   "source": [
    "# Market program\n",
    "\n",
    "# Importing tabulate for better and clean display\n",
    "from tabulate import tabulate\n",
    "\n",
    "# Initial fruit dictionary: name -> price\n",
    "my_dict = {\n",
    "    \"Apple\": 10000,\n",
    "    \"Orange\": 15000,\n",
    "    \"Grape\": 20000\n",
    "}\n",
    "\n",
    "# Stock dictionary: name -> stock\n",
    "fruit_stock = {\n",
    "    \"Apple\": 20,\n",
    "    \"Orange\": 15,\n",
    "    \"Grape\": 25\n",
    "}\n",
    "\n",
    "def display_menu():\n",
    "    print(\"\\nFruit Market Menu\")\n",
    "    print(\"1. Display fruit list\")\n",
    "    print(\"2. Add fruit\")\n",
    "    print(\"3. Delete fruit\")\n",
    "    print(\"4. Buy fruit\")\n",
    "    print(\"5. Exit program\")\n",
    "\n",
    "def display_fruits():\n",
    "    print(\"\\nFruit List\")\n",
    "    headers = [\"Index\", \"Name\", \"Stock\", \"Price\"]\n",
    "    table = []\n",
    "    for idx, fruit in enumerate(my_dict):\n",
    "        row = [idx, fruit, fruit_stock[fruit], f\"Rp{my_dict[fruit]:,}\"]\n",
    "        table.append(row)\n",
    "    print(tabulate(table, headers=headers, tablefmt=\"grid\"))\n",
    "    print(\"\\nWelcome to the fruit market!\\n\")\n",
    "\n",
    "def add_fruit():\n",
    "    name = input(\"Enter the name of the fruit to add: \").capitalize()\n",
    "    if name in my_dict:\n",
    "        print(f\"{name} is already in the list.\")\n",
    "    else:\n",
    "        try:\n",
    "            price = int(input(\"Enter the price of the fruit: \"))\n",
    "            stock = int(input(\"Enter the stock amount: \"))\n",
    "            my_dict[name] = price\n",
    "            fruit_stock[name] = stock\n",
    "            print(f\"{name} has been added.\")\n",
    "        except ValueError:\n",
    "            print(\"Invalid input. Please enter numbers for price and stock.\")\n",
    "\n",
    "def delete_fruit():\n",
    "    name = input(\"Enter the name of the fruit to delete: \").capitalize()\n",
    "    if name in my_dict:\n",
    "        del my_dict[name]\n",
    "        del fruit_stock[name]\n",
    "        print(f\"{name} has been deleted.\")\n",
    "    else:\n",
    "        print(f\"{name} not found.\")\n",
    "\n",
    "def buy_fruit():\n",
    "    name = input(\"Enter the name of the fruit to buy: \").capitalize()\n",
    "    if name not in my_dict:\n",
    "        print(\"Fruit not found.\")\n",
    "        return\n",
    "    try:\n",
    "        qty = int(input(f\"How many {name} would you like to buy? \"))\n",
    "        if qty > fruit_stock[name]:\n",
    "            print(\"Sorry, not enough stock.\")\n",
    "        else:\n",
    "            total = qty * my_dict[name]\n",
    "            fruit_stock[name] -= qty\n",
    "            print(f\"You bought {qty} {name}(s) for a total of Rp{total:,}.\")\n",
    "    except ValueError:\n",
    "        print(\"Please enter a valid number.\")\n",
    "\n",
    "# Main loop\n",
    "while True:\n",
    "    display_menu()\n",
    "    try:\n",
    "        choice = int(input(\"Enter the menu number you want to run: \"))\n",
    "        if choice == 1:\n",
    "            display_fruits()\n",
    "        elif choice == 2:\n",
    "            add_fruit()\n",
    "        elif choice == 3:\n",
    "            delete_fruit()\n",
    "        elif choice == 4:\n",
    "            buy_fruit()\n",
    "        elif choice == 5:\n",
    "            print(\"Thank you!\")\n",
    "            break\n",
    "        else:\n",
    "            print(\"Please enter a valid menu number.\")\n",
    "    except ValueError:\n",
    "        print(\"Please enter a valid input (numbers only).\")\n"
   ]
  }
 ],
 "metadata": {
  "kernelspec": {
   "display_name": "Python 3",
   "language": "python",
   "name": "python3"
  },
  "language_info": {
   "codemirror_mode": {
    "name": "ipython",
    "version": 3
   },
   "file_extension": ".py",
   "mimetype": "text/x-python",
   "name": "python",
   "nbconvert_exporter": "python",
   "pygments_lexer": "ipython3",
   "version": "3.11.5"
  }
 },
 "nbformat": 4,
 "nbformat_minor": 2
}
