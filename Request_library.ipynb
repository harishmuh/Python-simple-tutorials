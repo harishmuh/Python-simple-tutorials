{
  "nbformat": 4,
  "nbformat_minor": 0,
  "metadata": {
    "colab": {
      "provenance": [],
      "authorship_tag": "ABX9TyMM4e8kC++LKr5DJKoNzyi2",
      "include_colab_link": true
    },
    "kernelspec": {
      "name": "python3",
      "display_name": "Python 3"
    },
    "language_info": {
      "name": "python"
    }
  },
  "cells": [
    {
      "cell_type": "markdown",
      "metadata": {
        "id": "view-in-github",
        "colab_type": "text"
      },
      "source": [
        "<a href=\"https://colab.research.google.com/github/harishmuh/Python-simple-tutorials/blob/main/Request_library.ipynb\" target=\"_parent\"><img src=\"https://colab.research.google.com/assets/colab-badge.svg\" alt=\"Open In Colab\"/></a>"
      ]
    },
    {
      "cell_type": "markdown",
      "source": [
        "# Request library\n",
        "* Request is a python library that can facilitate HTTP request\n",
        "* Think of an HTTP request like sending a letter to a website, asking for information. The website reads your letter and sends a reply back to you.\n",
        "* HTTP request can help us to communicate with server in internet. We can variety of tasks such as asking websites for providing access to data, sending data to server, even modified data on server.\n"
      ],
      "metadata": {
        "id": "o5QkWeO9uEwc"
      }
    },
    {
      "cell_type": "markdown",
      "source": [
        "## How It Works:\n",
        "1. You write a request (like asking Google for “cute cat pictures”).\n",
        "2. The website receives your request and finds the information.\n",
        "3. The website sends a response back (like showing cat pictures).\n",
        "This is what happens every time you visit a website!"
      ],
      "metadata": {
        "id": "wKLdbfR90rpc"
      }
    },
    {
      "cell_type": "markdown",
      "source": [
        "|HTTP Request Type\t|What It Does\t|Example|\n",
        "|--|--|--|\n",
        "|GET|\tAsk for information\t|\"Show me today's news\"|\n",
        "|POST|\tSend new data\t|\"Here's my username & password, log me in\"|\n",
        "|PUT|\tUpdate existing data|\t\"Change my profile picture\"|\n",
        "|DELETE|\tRemove something|\t\"Delete my comment\"|\n"
      ],
      "metadata": {
        "id": "lr_H5XCI1Loa"
      }
    },
    {
      "cell_type": "code",
      "source": [
        "# Importing request library\n",
        "import requests"
      ],
      "metadata": {
        "id": "OCi3TH2m1I8c"
      },
      "execution_count": 6,
      "outputs": []
    },
    {
      "cell_type": "code",
      "source": [
        "# Get: retrieve data (Read)\n",
        "response = requests.get(\"https://jsonplaceholder.typicode.com/posts/1\")  # Sending a GET request\n",
        "\n",
        "print(response.status_code)  # 200 means success!\n",
        "print(response.json())  # Show the data from the website"
      ],
      "metadata": {
        "colab": {
          "base_uri": "https://localhost:8080/"
        },
        "id": "hstpqIri1w_L",
        "outputId": "5182f317-1e56-4e04-aeae-b71a99e98566"
      },
      "execution_count": 7,
      "outputs": [
        {
          "output_type": "stream",
          "name": "stdout",
          "text": [
            "200\n",
            "{'userId': 1, 'id': 1, 'title': 'sunt aut facere repellat provident occaecati excepturi optio reprehenderit', 'body': 'quia et suscipit\\nsuscipit recusandae consequuntur expedita et cum\\nreprehenderit molestiae ut ut quas totam\\nnostrum rerum est autem sunt rem eveniet architecto'}\n"
          ]
        }
      ]
    },
    {
      "cell_type": "code",
      "source": [
        "# Post: Send Data (Create)\n",
        "data = {\"title\": \"Hello World\", \"body\": \"This is a new post\", \"userId\": 1}\n",
        "response = requests.post(\"https://jsonplaceholder.typicode.com/posts\", json=data)\n",
        "\n",
        "print(response.status_code)  # 201 = Created\n",
        "print(response.json())  # Show the new post data"
      ],
      "metadata": {
        "colab": {
          "base_uri": "https://localhost:8080/"
        },
        "id": "go-3A2JO156t",
        "outputId": "3ce95a8a-c3d1-4fdc-98d0-6f017d120666"
      },
      "execution_count": 8,
      "outputs": [
        {
          "output_type": "stream",
          "name": "stdout",
          "text": [
            "201\n",
            "{'title': 'Hello World', 'body': 'This is a new post', 'userId': 1, 'id': 101}\n"
          ]
        }
      ]
    },
    {
      "cell_type": "code",
      "source": [
        "# Put: Update data\n",
        "update_data = {\"title\": \"Updated Title\", \"body\": \"New content\", \"userId\": 1}\n",
        "response = requests.put(\"https://jsonplaceholder.typicode.com/posts/1\", json=update_data)\n",
        "\n",
        "print(response.status_code)  # 200 = Updated\n",
        "print(response.json())  # Show the updated post\n"
      ],
      "metadata": {
        "colab": {
          "base_uri": "https://localhost:8080/"
        },
        "id": "sL69_-132THR",
        "outputId": "789dcae0-6f53-4086-adbc-217e7f446e17"
      },
      "execution_count": 9,
      "outputs": [
        {
          "output_type": "stream",
          "name": "stdout",
          "text": [
            "200\n",
            "{'title': 'Updated Title', 'body': 'New content', 'userId': 1, 'id': 1}\n"
          ]
        }
      ]
    },
    {
      "cell_type": "code",
      "source": [
        "# Delete: Remove data\n",
        "response = requests.delete(\"https://jsonplaceholder.typicode.com/posts/1\")\n",
        "\n",
        "print(response.status_code)  # 200 = Deleted successfully\n"
      ],
      "metadata": {
        "colab": {
          "base_uri": "https://localhost:8080/"
        },
        "id": "Lyc3l5yd2dPT",
        "outputId": "4043f0c6-cb97-4c58-ec10-b8377568964e"
      },
      "execution_count": 10,
      "outputs": [
        {
          "output_type": "stream",
          "name": "stdout",
          "text": [
            "200\n"
          ]
        }
      ]
    },
    {
      "cell_type": "markdown",
      "source": [
        "💡 Summary: What Can HTTP Requests Do?\n",
        "\n",
        "✅ GET → Read data from a website (like browsing news)\n",
        "\n",
        "✅ POST → Send new data (like posting a comment)\n",
        "\n",
        "✅ PUT → Update existing data (like editing a profile)\n",
        "\n",
        "✅ DELETE → Remove data (like deleting a photo)"
      ],
      "metadata": {
        "id": "4cZrGOIy2qje"
      }
    }
  ]
}