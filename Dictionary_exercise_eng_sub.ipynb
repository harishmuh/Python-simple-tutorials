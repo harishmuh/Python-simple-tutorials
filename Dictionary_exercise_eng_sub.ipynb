{
  "nbformat": 4,
  "nbformat_minor": 0,
  "metadata": {
    "colab": {
      "provenance": [],
      "authorship_tag": "ABX9TyMAC7nIAlg9OQVOiLkjZ9WP",
      "include_colab_link": true
    },
    "kernelspec": {
      "name": "python3",
      "display_name": "Python 3"
    },
    "language_info": {
      "name": "python"
    }
  },
  "cells": [
    {
      "cell_type": "markdown",
      "metadata": {
        "id": "view-in-github",
        "colab_type": "text"
      },
      "source": [
        "<a href=\"https://colab.research.google.com/github/harishmuh/Python-simple-tutorials/blob/main/Dictionary_exercise_eng_sub.ipynb\" target=\"_parent\"><img src=\"https://colab.research.google.com/assets/colab-badge.svg\" alt=\"Open In Colab\"/></a>"
      ]
    },
    {
      "cell_type": "markdown",
      "source": [
        "# **Introduction to Dictionary**\n",
        "\n",
        "In this chapter, I will discuss data type dictionary, which provides flexible ways to access and manage data.Then, by combining Dictionary with your knowledge of the list of the previous chapters, you will learn how to create a data structure to solve a problem."
      ],
      "metadata": {
        "id": "tnEVIKB46GbR"
      }
    },
    {
      "cell_type": "markdown",
      "source": [
        " ## **1.0 Dictionary Data Type**\n",
        "\n",
        "Dictionary includes data types that are mutable or the value can be manipulated. Dictionary also has an index similar to a list, but the index for dictionary can use many different data types, not just integers and does not have to start from 0. The index to be dictionary is called key, while the pair between the key and the related value is called the key-value.**Syntax Dictionary is typed with brackets, {}, or using the DICT () function.**"
      ],
      "metadata": {
        "id": "PdLylD1P6K53"
      }
    },
    {
      "cell_type": "code",
      "execution_count": 1,
      "metadata": {
        "colab": {
          "base_uri": "https://localhost:8080/"
        },
        "id": "FkZW4M303tSl",
        "outputId": "133d4b0b-4fb4-4cc7-e155-4dc7bd93fcb6"
      },
      "outputs": [
        {
          "output_type": "execute_result",
          "data": {
            "text/plain": [
              "{'size': 'fat', 'color': 'gray', 'age': 10}"
            ]
          },
          "metadata": {},
          "execution_count": 1
        }
      ],
      "source": [
        "# Example of dictionary\n",
        "myPet = {'size': 'fat', 'color':'gray', 'age': 10}\n",
        "myPet"
      ]
    },
    {
      "cell_type": "code",
      "source": [
        "# Hpw to make dictionary using function - dict()\n",
        "myPet = dict(size='fat', color='gray', age=10)\n",
        "myPet"
      ],
      "metadata": {
        "colab": {
          "base_uri": "https://localhost:8080/"
        },
        "id": "OeYyqsjD6yGT",
        "outputId": "8d7e37f3-1503-41c2-b824-1697bee6a16d"
      },
      "execution_count": 2,
      "outputs": [
        {
          "output_type": "execute_result",
          "data": {
            "text/plain": [
              "{'size': 'fat', 'color': 'gray', 'age': 10}"
            ]
          },
          "metadata": {},
          "execution_count": 2
        }
      ]
    },
    {
      "cell_type": "markdown",
      "source": [
        "You can access value in Dictionary via Key.When you try to access the key that is not in the Dictionary, Python will produce a 'keyerror' error, like the 'Indexerror' error message on the list."
      ],
      "metadata": {
        "id": "iYTKJQjZ7L1S"
      }
    },
    {
      "cell_type": "code",
      "source": [
        "# Examples of accessing value\n",
        "spam = {'name': 'zophie', 'age': 7}\n",
        "print(f'value for key \"name\" is {spam[\"name\"]} ')\n",
        "\n",
        "spam['name']"
      ],
      "metadata": {
        "colab": {
          "base_uri": "https://localhost:8080/",
          "height": 52
        },
        "id": "qvzFfWrx7eOV",
        "outputId": "c1b902a9-943c-4d6a-d656-1bf2f9f40a3b"
      },
      "execution_count": 7,
      "outputs": [
        {
          "output_type": "stream",
          "name": "stdout",
          "text": [
            "value for key \"name\" is zophie \n"
          ]
        },
        {
          "output_type": "execute_result",
          "data": {
            "text/plain": [
              "'zophie'"
            ],
            "application/vnd.google.colaboratory.intrinsic+json": {
              "type": "string"
            }
          },
          "metadata": {},
          "execution_count": 7
        }
      ]
    },
    {
      "cell_type": "markdown",
      "source": [
        "A dictionary can contain another dictionary, it can be accessed using several keys.The first key to determine which items will be accessed and the second key to give value in the Dictionary."
      ],
      "metadata": {
        "id": "V2wsvnYS6uCJ"
      }
    },
    {
      "cell_type": "code",
      "source": [
        " # Example 2d Dictionary\n",
        "spam = {\n",
        "  91: {\n",
        "      'Name': 'Zophie',\n",
        "      'Age': 12,\n",
        "  },\n",
        "  3: {\n",
        "      'Name': 'Baron',\n",
        "      'Age': 17,\n",
        "  },\n",
        "  32: {\n",
        "      'Name': 'John',\n",
        "      'Age': 30,\n",
        "  }\n",
        "}\n",
        "\n",
        "print(f'ini is an item with key 91: {spam[91]} ')\n",
        "print(f'ini is the value of Age in Key 91: {spam[91][\"Age\"]} ')"
      ],
      "metadata": {
        "colab": {
          "base_uri": "https://localhost:8080/"
        },
        "id": "b4unvqYh8V6-",
        "outputId": "19d84ab4-228f-4aa9-b3e5-6ec04da60676"
      },
      "execution_count": 11,
      "outputs": [
        {
          "output_type": "stream",
          "name": "stdout",
          "text": [
            "ini is an item with key 91: {'Name': 'Zophie', 'Age': 12} \n",
            "ini is the value of Age in Key 91: 12 \n"
          ]
        }
      ]
    },
    {
      "cell_type": "markdown",
      "source": [
        "## **1.1 Dictionary vs List**\n",
        "\n",
        "Different from the list, the item in Dictionary is not sorted.If you have a list called 'spam', the first item is 'spam[0]', but there is no \"first\" item in dictionary.Although the sequence of items is important to determine whether the two lists are identical, but it doesn't matter with the sequence of the key-value pair, because **Dictionary is not sorted, and cannot be sliced like the list**"
      ],
      "metadata": {
        "id": "PqEuJvpd9Oh9"
      }
    },
    {
      "cell_type": "code",
      "source": [
        "# Comparing list a and list b\n",
        "a = ['cats', 'dogs', 'moose']\n",
        "b = ['dogs', 'moose', 'cats']\n",
        "print(f'Do both list a and list B are identical? {a==b}')\n",
        "\n",
        "# Comparing dictionary a and dictionary b\n",
        "a = {'name': 'Zophie', 'species': 'cat', 'age': '8'}\n",
        "b = {'species': 'cat', 'age': '8', 'name': 'Zophie'}\n",
        "print(f'Do both dictionary a and dictionary B identical? {a==b}')"
      ],
      "metadata": {
        "colab": {
          "base_uri": "https://localhost:8080/"
        },
        "id": "sIIed9yW9lO1",
        "outputId": "a687098d-212c-4129-f17a-6060cb2a649f"
      },
      "execution_count": 13,
      "outputs": [
        {
          "output_type": "stream",
          "name": "stdout",
          "text": [
            "Do both list a and list B are identical? False\n",
            "Do both dictionary a and dictionary B identical? True\n"
          ]
        }
      ]
    },
    {
      "cell_type": "markdown",
      "source": [
        "## **1.2 Changing Values in a Dictionary with Key**\n",
        "\n",
        "You can use the key to change the value on the key. For example, spam['color'] = 'blue' means changing the value on the key 'color' to string 'blue'."
      ],
      "metadata": {
        "id": "2A1XETmk-8go"
      }
    },
    {
      "cell_type": "code",
      "source": [
        "# Example\n",
        "spam = {'color': 'red', 'age': 42, 'size': 53}\n",
        "print(f'Dictionary (Before): {spam}')\n",
        "\n",
        "spam['color'] = 'blue'\n",
        "spam['age'] = 13\n",
        "print(f'Dictionary (After): {spam}')"
      ],
      "metadata": {
        "colab": {
          "base_uri": "https://localhost:8080/"
        },
        "id": "lK5meFAo_UqG",
        "outputId": "470b1628-81ff-4ed2-e112-1c7b44a41f5e"
      },
      "execution_count": 14,
      "outputs": [
        {
          "output_type": "stream",
          "name": "stdout",
          "text": [
            "Dictionary (Before): {'color': 'red', 'age': 42, 'size': 53}\n",
            "Dictionary (After): {'color': 'blue', 'age': 13, 'size': 53}\n"
          ]
        }
      ]
    },
    {
      "cell_type": "markdown",
      "source": [
        "## **1.3 Adding item in a Dictionary**\n",
        "\n",
        "Anda bisa menambahkan item ke dalam dictionary dengan pasangan key-value. Misalnya, `spam['male'] = True` berarti menambahkan key `male` dengan value `True`."
      ],
      "metadata": {
        "id": "TSbLeFe3_wwM"
      }
    },
    {
      "cell_type": "code",
      "source": [
        "# Adding key-value\n",
        "spam = {'color': 'red', 'age': 42, 'size': 53}\n",
        "print(f'Dictionary (before): {spam}')\n",
        "\n",
        "spam['male'] = True\n",
        "print(f'Dictionary (after): {spam}')\n",
        "\n",
        "spam['height'] = 168\n",
        "print(f'dictionary (last): {spam}')"
      ],
      "metadata": {
        "colab": {
          "base_uri": "https://localhost:8080/"
        },
        "id": "kXoRnIqT_4A-",
        "outputId": "3dd286a5-6e74-4f65-ac85-7e7e63083a39"
      },
      "execution_count": 15,
      "outputs": [
        {
          "output_type": "stream",
          "name": "stdout",
          "text": [
            "Dictionary (before): {'color': 'red', 'age': 42, 'size': 53}\n",
            "Dictionary (after): {'color': 'red', 'age': 42, 'size': 53, 'male': True}\n",
            "dictionary (last): {'color': 'red', 'age': 42, 'size': 53, 'male': True, 'height': 168}\n"
          ]
        }
      ]
    },
    {
      "cell_type": "code",
      "source": [
        "# Changing values in dictionary\n",
        "spam['male'] = 123\n",
        "spam['skin'] = 'white'\n",
        "spam"
      ],
      "metadata": {
        "colab": {
          "base_uri": "https://localhost:8080/"
        },
        "id": "fvEGmVU-APyW",
        "outputId": "47b7d42a-a2d6-42a6-e25b-c455546d77dc"
      },
      "execution_count": 16,
      "outputs": [
        {
          "output_type": "execute_result",
          "data": {
            "text/plain": [
              "{'color': 'red',\n",
              " 'age': 42,\n",
              " 'size': 53,\n",
              " 'male': 123,\n",
              " 'height': 168,\n",
              " 'skin': 'white'}"
            ]
          },
          "metadata": {},
          "execution_count": 16
        }
      ]
    },
    {
      "cell_type": "markdown",
      "source": [
        "## **1.4 Removing item from a Dictionary**\n",
        "\n",
        "You can delete items in dictionary with 'del` statements, `pop()`, `popitem()`, and `clear()` functions.  Their differences are:\n",
        "- `Del` is used when you know the key you want to delete from Dictionary\n",
        "- `pop()` can be used like a DEL statement.\n",
        "- `popitem()`right you use when you want to delete the last item.\n",
        "- `clear()` You use it when you want to delete all items in the Dictionary."
      ],
      "metadata": {
        "id": "QkacPCe9ArN5"
      }
    },
    {
      "cell_type": "code",
      "source": [
        " # Delete items with del statements\n",
        "spam = {'color': 'red', 'age': 42, 'size': 53}\n",
        "print(f'dictionary (before): {spam} ')\n",
        "\n",
        "del spam ['color'] # delete color\n",
        "\n",
        "del spam ['age'] # delete age\n",
        "print(f'dictionary (after): {spam} ')"
      ],
      "metadata": {
        "colab": {
          "base_uri": "https://localhost:8080/"
        },
        "id": "Hdspu5ffBLjA",
        "outputId": "1507b159-c67e-4995-dd5a-9cf3f83c5176"
      },
      "execution_count": 18,
      "outputs": [
        {
          "output_type": "stream",
          "name": "stdout",
          "text": [
            "dictionary (before): {'color': 'red', 'age': 42, 'size': 53} \n",
            "dictionary (after): {'size': 53} \n"
          ]
        }
      ]
    },
    {
      "cell_type": "code",
      "source": [
        " # Delete items with pop() function\n",
        "spam = {'color': 'red', 'age': 42, 'size': 53}\n",
        "print(f'dictionary (before): {spam}')\n",
        "\n",
        "spam.pop('age')\n",
        "print(f'dictionary (after): {spam}')"
      ],
      "metadata": {
        "colab": {
          "base_uri": "https://localhost:8080/"
        },
        "id": "EOSAHZURC5ql",
        "outputId": "b12184cb-7da9-439c-b309-d5c86ce31a16"
      },
      "execution_count": 19,
      "outputs": [
        {
          "output_type": "stream",
          "name": "stdout",
          "text": [
            "dictionary (before): {'color': 'red', 'age': 42, 'size': 53}\n",
            "dictionary (after): {'color': 'red', 'size': 53}\n"
          ]
        }
      ]
    },
    {
      "cell_type": "code",
      "source": [
        "# Delete items with clear() function\n",
        "spam = {'color': 'red', 'age': 42, 'size': 53}\n",
        "print(f'dictionary (before): {spam}')\n",
        "\n",
        "spam.clear()\n",
        "print(f'dictionary (after): {spam}')"
      ],
      "metadata": {
        "colab": {
          "base_uri": "https://localhost:8080/"
        },
        "id": "mk3wfnB4DNdr",
        "outputId": "7da96369-b0c6-4295-c872-4d75698c4fd7"
      },
      "execution_count": 20,
      "outputs": [
        {
          "output_type": "stream",
          "name": "stdout",
          "text": [
            "dictionary (before): {'color': 'red', 'age': 42, 'size': 53}\n",
            "dictionary (after): {}\n"
          ]
        }
      ]
    },
    {
      "cell_type": "markdown",
      "source": [
        "## **1.5 The keys(), values(), and items() Methods**\n",
        "\n",
        "There are three methods in the Dictionary that will restore items such as the list, namely 'keys (), values ​​(), and items () ().Each of them can use them in the loop statements.The differences between the three are:\n",
        "- `Items()` used when they want to access the key-value pair\n",
        "- `keys` can be used when you just want to access keys\n",
        "- `values​​()` right you use when you just want to access values\n"
      ],
      "metadata": {
        "id": "2RBZ55mSDmoK"
      }
    },
    {
      "cell_type": "code",
      "source": [
        "spam = {'color': 'red', 'age': 42, 'size': 53}\n",
        "\n",
        "# items() method\n",
        "# Without loop\n",
        "print(spam.items()) # Displaying items in dictionary\n",
        "\n",
        "# Using loop\n",
        "for k, v in spam.items():\n",
        "    print(f'Key: {k}, value {v}')"
      ],
      "metadata": {
        "colab": {
          "base_uri": "https://localhost:8080/"
        },
        "id": "GLb5W64PD6ME",
        "outputId": "8be2c6f9-1d34-47c8-e11c-270bec46b449"
      },
      "execution_count": 21,
      "outputs": [
        {
          "output_type": "stream",
          "name": "stdout",
          "text": [
            "dict_items([('color', 'red'), ('age', 42), ('size', 53)])\n",
            "Key: color, value red\n",
            "Key: age, value 42\n",
            "Key: size, value 53\n"
          ]
        }
      ]
    },
    {
      "cell_type": "code",
      "source": [
        "# keys() method\n",
        "# Without loops\n",
        "print(spam.keys()) # Displaying keys in dictionary\n",
        "\n",
        "# Using loops\n",
        "for v in spam.keys(): # taking keys from dictionary\n",
        "    print(v)"
      ],
      "metadata": {
        "colab": {
          "base_uri": "https://localhost:8080/"
        },
        "id": "sQIncwRzEc-e",
        "outputId": "aab10fab-90dd-44da-9039-1a82ca2b7b88"
      },
      "execution_count": 22,
      "outputs": [
        {
          "output_type": "stream",
          "name": "stdout",
          "text": [
            "dict_keys(['color', 'age', 'size'])\n",
            "color\n",
            "age\n",
            "size\n"
          ]
        }
      ]
    },
    {
      "cell_type": "code",
      "source": [
        "# values() method\n",
        "# Without loops\n",
        "print(spam.values()) # Displaying values from dictionary\n",
        "\n",
        "# Using loops\n",
        "for v in spam.values(): # Taking values from dictionary\n",
        "    print(v)"
      ],
      "metadata": {
        "colab": {
          "base_uri": "https://localhost:8080/"
        },
        "id": "LSTqdsG4Ez8L",
        "outputId": "4713e238-89c2-4ebd-ec14-2533cf3278a9"
      },
      "execution_count": 23,
      "outputs": [
        {
          "output_type": "stream",
          "name": "stdout",
          "text": [
            "dict_values(['red', 42, 53])\n",
            "red\n",
            "42\n",
            "53\n"
          ]
        }
      ]
    },
    {
      "cell_type": "markdown",
      "source": [
        "Note that `dict_items, dict_keys, and dict_values' **all three issued a data list type. For dict_items, the key-value pair is stored in the form of tuple**. You need to unravel it when you want to manipulate the key-value."
      ],
      "metadata": {
        "id": "Z1jMOsC-FbkI"
      }
    },
    {
      "cell_type": "markdown",
      "source": [
        "## **1.6 Checking Wether a Key or Value Exists in a Dictionary**\n",
        "\n",
        "Operators 'in and not in' can check whether a value is in the list.You can also use this operator to see whether there are certain keys or values ​​in dictionary.**This expression will produce a boolean value**"
      ],
      "metadata": {
        "id": "cm6qmnw5qXq8"
      }
    },
    {
      "cell_type": "code",
      "source": [
        "# How to check a membership\n",
        "spam = {'color': 'red', 'age': 42, 'size': 53}\n",
        "\n",
        "print(f'Is \"age\" considered as keys?: {\"age\" in spam.keys()}')\n",
        "print(f'Is \"Michele\" not considered as values?: {\"Michele\" not in spam.values()}')"
      ],
      "metadata": {
        "colab": {
          "base_uri": "https://localhost:8080/"
        },
        "id": "Ei89F8z_Fs2f",
        "outputId": "bd8de611-c244-4270-ac82-62f300dbba8d"
      },
      "execution_count": 2,
      "outputs": [
        {
          "output_type": "stream",
          "name": "stdout",
          "text": [
            "Is \"age\" considered as keys?: True\n",
            "Is \"Michele\" not considered as values?: True\n"
          ]
        }
      ]
    },
    {
      "cell_type": "markdown",
      "source": [
        "## **1.7 Getting a Dictionary Length with the len() Function**\n",
        "\n",
        "The `len()' function will restore the length of the dictionary or the number of keys-values ​​pairs in the Dictionary, similar to the function of counting the number of items in the list."
      ],
      "metadata": {
        "id": "zXuCm_6ErKD0"
      }
    },
    {
      "cell_type": "code",
      "source": [
        "# How to apply len() function\n",
        "spam = {'color': 'red', 'age': 42, 'size': 53}\n",
        "print(f'The length of \"spam\" dictionary: {len(spam)}')"
      ],
      "metadata": {
        "colab": {
          "base_uri": "https://localhost:8080/"
        },
        "id": "iygqMPVgrIO_",
        "outputId": "241f07de-b6c3-4384-d705-4583a0ee5ed6"
      },
      "execution_count": 3,
      "outputs": [
        {
          "output_type": "stream",
          "name": "stdout",
          "text": [
            "The length of \"spam\" dictionary: 3\n"
          ]
        }
      ]
    },
    {
      "cell_type": "code",
      "source": [
        "spam.values()"
      ],
      "metadata": {
        "colab": {
          "base_uri": "https://localhost:8080/"
        },
        "id": "x0V6cEc3sC6W",
        "outputId": "5758fbbe-8261-42fd-bf75-f73a56033c67"
      },
      "execution_count": 4,
      "outputs": [
        {
          "output_type": "execute_result",
          "data": {
            "text/plain": [
              "dict_values(['red', 42, 53])"
            ]
          },
          "metadata": {},
          "execution_count": 4
        }
      ]
    },
    {
      "cell_type": "markdown",
      "source": [
        "## **1.8 Duplicating items from Dictionary with copy() Methods**\n",
        "\n",
        "Storing Dictionary as a new variable using the same operator, can cause problems. **When you modify the item in the new Dictionary, the item in the original Dictionary is also modified**. This happened because the item in new dictionary refers to the same object. If you need the original Dictionary that does not change, you can use the `copy()' method."
      ],
      "metadata": {
        "id": "5A1AfUAcsF6J"
      }
    },
    {
      "cell_type": "code",
      "source": [
        "# Without copy() method\n",
        "spam = {'color': 'red', 'age': 42, 'size': 53}\n",
        "print(f'Dictionary of \"spam\" (before): {spam}')\n",
        "\n",
        "newSpam = spam\n",
        "newSpam.update({'name': 'Felicia'})\n",
        "print(f'Dictionary of \"newSpam\" {newSpam}')\n",
        "print(f'Dictionary of \"spam\" (after): {spam}') # The content of Spam dictionary is similar to newSpam"
      ],
      "metadata": {
        "colab": {
          "base_uri": "https://localhost:8080/"
        },
        "id": "22qTL-XjsZir",
        "outputId": "862607e4-5ceb-4837-cf48-2ef2f8d53095"
      },
      "execution_count": 6,
      "outputs": [
        {
          "output_type": "stream",
          "name": "stdout",
          "text": [
            "Dictionary of \"spam\" (before): {'color': 'red', 'age': 42, 'size': 53}\n",
            "Dictionary of \"newSpam\" {'color': 'red', 'age': 42, 'size': 53, 'name': 'Felicia'}\n",
            "Dictionary of \"spam\" (after): {'color': 'red', 'age': 42, 'size': 53, 'name': 'Felicia'}\n"
          ]
        }
      ]
    },
    {
      "cell_type": "code",
      "source": [
        "# Using copy() method\n",
        "spam = {'color': 'red', 'age': 42, 'size': 53}\n",
        "print(f'Dictionary of \"spam\" (before): {spam}')\n",
        "\n",
        "newSpam = spam.copy()\n",
        "newSpam.update({'name': 'Felicia'})\n",
        "print(f'Dictionary of \"newSpam\" {newSpam}')\n",
        "print(f'Dictionary of \"spam\" (after): {spam}') # The content of Spam dictionary is not similar to newSpam"
      ],
      "metadata": {
        "colab": {
          "base_uri": "https://localhost:8080/"
        },
        "id": "6DrkS2mRtEPB",
        "outputId": "bc139d3f-4588-4cf6-e24f-63d06c3460c9"
      },
      "execution_count": 7,
      "outputs": [
        {
          "output_type": "stream",
          "name": "stdout",
          "text": [
            "Dictionary of \"spam\" (before): {'color': 'red', 'age': 42, 'size': 53}\n",
            "Dictionary of \"newSpam\" {'color': 'red', 'age': 42, 'size': 53, 'name': 'Felicia'}\n",
            "Dictionary of \"spam\" (after): {'color': 'red', 'age': 42, 'size': 53}\n"
          ]
        }
      ]
    },
    {
      "cell_type": "markdown",
      "source": [
        "## **1.9 The get() Methods**\n",
        "\n",
        "Operators 'In and Not In' you can use to check whether there are keys in Dictionary, but they only issue true or false.Fortunately, Dictionary has the `Get()' method that takes two arguments: **Keys and values ​​to be taken and the fallback value to be returned if the keys do not exist**. This method can help you to avoid errors."
      ],
      "metadata": {
        "id": "oruKPVFltgse"
      }
    },
    {
      "cell_type": "code",
      "source": [
        "spam = {'color': 'red', 'age': 42, 'size': 53}\n",
        "\n",
        "# Using get() method\n",
        "spam.get('name', True)\n",
        "\n",
        "# After using get() method\n",
        "print(spam)\n",
        "\n",
        "# Without get() method\n",
        "#spam['name']"
      ],
      "metadata": {
        "colab": {
          "base_uri": "https://localhost:8080/"
        },
        "id": "pAqxBNlGuL03",
        "outputId": "9eeb8f63-78af-4804-cd4e-9710cb71a82b"
      },
      "execution_count": 8,
      "outputs": [
        {
          "output_type": "stream",
          "name": "stdout",
          "text": [
            "{'color': 'red', 'age': 42, 'size': 53}\n"
          ]
        }
      ]
    },
    {
      "cell_type": "markdown",
      "source": [
        "## **1.10 Updating Item to Dictionary with the update() Methods**\n",
        "\n",
        "Adding new items to Dictionary, in addition to using assignment techniques, you can use the 'update ()' method.This method gives you more breadth, because at the same time you can add new items or change existing values."
      ],
      "metadata": {
        "id": "SNv67GKvug8X"
      }
    },
    {
      "cell_type": "code",
      "source": [
        "# Example of how using update() method\n",
        "spam = {'color': 'red', 'age': 42, 'size': 53}\n",
        "print(f'Dictionary (before): {spam}')\n",
        "\n",
        "spam.update({\n",
        "    'color': 'blue',\n",
        "    'male': True\n",
        "    }\n",
        ")\n",
        "print(f'Dictionary (after): {spam}')"
      ],
      "metadata": {
        "colab": {
          "base_uri": "https://localhost:8080/"
        },
        "id": "6UzEYp5CushG",
        "outputId": "3a370c36-2e32-4d69-ad3c-4bd0a1911d32"
      },
      "execution_count": 9,
      "outputs": [
        {
          "output_type": "stream",
          "name": "stdout",
          "text": [
            "Dictionary (before): {'color': 'red', 'age': 42, 'size': 53}\n",
            "Dictionary (after): {'color': 'blue', 'age': 42, 'size': 53, 'male': True}\n"
          ]
        }
      ]
    }
  ]
}