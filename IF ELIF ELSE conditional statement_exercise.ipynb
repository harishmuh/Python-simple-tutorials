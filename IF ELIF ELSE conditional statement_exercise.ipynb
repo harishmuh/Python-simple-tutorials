{
 "cells": [
  {
   "cell_type": "markdown",
   "metadata": {},
   "source": [
    "# **Python Conditional Statements Practice**"
   ]
  },
  {
   "cell_type": "markdown",
   "metadata": {},
   "source": [
    "**Question-1**\n",
    "\n",
    "Create a program to determine if a number is odd or even. Additional requirements:\n",
    "- If 0 is entered, state that 0 is neither odd nor even\n",
    "- If a negative number is entered, prompt the user to enter a positive integer"
   ]
  },
  {
   "cell_type": "code",
   "execution_count": 1,
   "metadata": {},
   "outputs": [
    {
     "name": "stdout",
     "output_type": "stream",
     "text": [
      "Number 2 is an EVEN number!\n"
     ]
    }
   ],
   "source": [
    "number = int(input('Enter a number: '))\n",
    "\n",
    "if number < 0:\n",
    "    print('Please enter a POSITIVE integer!')\n",
    "elif number == 0:\n",
    "    print('Number 0 is neither ODD nor EVEN!')\n",
    "else:\n",
    "    if number % 2 == 0:\n",
    "        print(f'Number {number} is an EVEN number!')\n",
    "    else:\n",
    "        print(f'Number {number} is an ODD number!')"
   ]
  },
  {
   "cell_type": "markdown",
   "metadata": {},
   "source": [
    "**Question-2**\n",
    "\n",
    "Create a menu program to calculate area formulas for different shapes:\n",
    "1. When entering 1, calculate triangle area\n",
    "2. When entering 2, calculate square area\n",
    "3. When entering other numbers/characters, show 'Enter Valid Input'"
   ]
  },
  {
   "cell_type": "code",
   "execution_count": 2,
   "metadata": {},
   "outputs": [
    {
     "name": "stdout",
     "output_type": "stream",
     "text": [
      "Area of Triangle is 90.0\n"
     ]
    }
   ],
   "source": [
    "menu = input('Choose Menu Option: ')\n",
    "\n",
    "if menu == '1':\n",
    "    height = float(input('Enter Triangle Height: '))\n",
    "    base = float(input('Enter Triangle Base: '))\n",
    "    area = base * height / 2\n",
    "    print(f'Area of Triangle is {area}')\n",
    "elif menu == '2':\n",
    "    side = float(input('Enter Square Side Length: '))\n",
    "    area = side ** 2\n",
    "    print(f'Area of Square is {area}')\n",
    "else:\n",
    "    print('Enter Valid Input')"
   ]
  },
  {
   "cell_type": "markdown",
   "metadata": {},
   "source": [
    "**Question-3**\n",
    "\n",
    "Create a program to display a sentence if its character count is below 20. If no input is provided, prompt the user to enter a sentence."
   ]
  },
  {
   "cell_type": "code",
   "execution_count": 3,
   "metadata": {},
   "outputs": [
    {
     "name": "stdout",
     "output_type": "stream",
     "text": [
      "Ideal sentence length, here is your sentence: I am a student\n"
     ]
    }
   ],
   "source": [
    "sentence = input('Enter a sentence: ')\n",
    "length = len(sentence)\n",
    "\n",
    "if length == 0:\n",
    "    print('Please enter a sentence!')\n",
    "elif length < 20:\n",
    "    print(f'Ideal sentence length, here is your sentence: {sentence}')\n",
    "else:\n",
    "    print('Sentence is too long')"
   ]
  },
  {
   "cell_type": "markdown",
   "metadata": {},
   "source": [
    "**Question-4**\n",
    "\n",
    "Create a BMI calculator program that takes weight and height inputs, then calculates BMI using:\n",
    "\n",
    "$$BMI = \\frac{weight(kg)}{height(meters)^2}$$\n",
    "\n",
    "Display health information based on BMI:\n",
    "- BMI < 18.5: Underweight\n",
    "- 18.5 ≤ BMI < 25: Ideal weight\n",
    "- 25 ≤ BMI < 30: Overweight\n",
    "- 30 ≤ BMI < 40: Very overweight\n",
    "- BMI ≥ 40: Obese"
   ]
  },
  {
   "cell_type": "code",
   "execution_count": 4,
   "metadata": {},
   "outputs": [
    {
     "name": "stdout",
     "output_type": "stream",
     "text": [
      "Weight 67.0 kg and height 1.78 m\n",
      "BMI = 21.146319909102385, IDEAL WEIGHT!\n"
     ]
    }
   ],
   "source": [
    "weight = float(input('Enter Weight (kg): '))\n",
    "height_cm = float(input('Enter Height (cm): '))\n",
    "height_m = height_cm/100\n",
    "bmi = weight / height_m ** 2\n",
    "\n",
    "print(f'Weight {weight} kg and height {height_m} m')\n",
    "\n",
    "if bmi < 18.5:\n",
    "    print(f'BMI = {bmi}, UNDERWEIGHT!')\n",
    "elif 18.5 <= bmi < 25:\n",
    "    print(f'BMI = {bmi}, IDEAL WEIGHT!')\n",
    "elif 25 <= bmi < 30:\n",
    "    print(f'BMI = {bmi}, OVERWEIGHT!')\n",
    "elif 30 <= bmi < 40:\n",
    "    print(f'BMI = {bmi}, VERY OVERWEIGHT!')\n",
    "else:\n",
    "    print(f'BMI = {bmi}, OBESE!')"
   ]
  },
  {
   "cell_type": "markdown",
   "metadata": {},
   "source": [
    "**Question-5**\n",
    "\n",
    "Create a program to convert Fahrenheit to Celsius with health status:\n",
    "- If converted temperature is 36.5°C - 37.2°C: Normal body temperature\n",
    "- Below: Hypothermia\n",
    "- Above: Hyperthermia"
   ]
  },
  {
   "cell_type": "code",
   "execution_count": 5,
   "metadata": {},
   "outputs": [
    {
     "name": "stdout",
     "output_type": "stream",
     "text": [
      "Your body temperature is: 35.6°C\n",
      "HYPOTHERMIA, PROVIDE FIRST AID IMMEDIATELY\n"
     ]
    }
   ],
   "source": [
    "fahrenheit = float(input('Enter temperature in Fahrenheit: '))\n",
    "celsius = (fahrenheit - 32) * 5 / 9\n",
    "\n",
    "print(f'Your body temperature is: {celsius:.1f}°C')\n",
    "\n",
    "if celsius < 36.5:\n",
    "    print('HYPOTHERMIA, PROVIDE FIRST AID IMMEDIATELY')\n",
    "elif celsius <= 37.2:\n",
    "    print('NORMAL BODY TEMPERATURE')\n",
    "else:\n",
    "    print('HYPERTHERMIA, CONSULT A DOCTOR IMMEDIATELY')"
   ]
  },
  {
   "cell_type": "markdown",
   "metadata": {},
   "source": [
    "**Question-6**\n",
    "\n",
    "Create a temperature conversion program with these requirements:\n",
    "1. Temperature input must include unit (e.g., 100F or 37C)\n",
    "2. Convert F to C if input ends with F\n",
    "3. Convert C to F if input ends with C\n",
    "4. Show 'Enter Valid Input' if no unit is provided\n",
    "5. Display conversion result"
   ]
  },
  {
   "cell_type": "code",
   "execution_count": 6,
   "metadata": {},
   "outputs": [
    {
     "name": "stdout",
     "output_type": "stream",
     "text": [
      "Temperature 98F converted to Celsius is 37°C\n"
     ]
    }
   ],
   "source": [
    "temp_input = input('Enter temperature to convert (e.g., 45F, 102C): ')\n",
    "\n",
    "value = int(temp_input[:-1])\n",
    "unit = temp_input[-1]\n",
    "\n",
    "if unit.upper() == \"F\":\n",
    "    celsius = (value - 32) * 5 / 9\n",
    "    print(f'Temperature {temp_input} converted to Celsius is {celsius:.0f}°C')\n",
    "elif unit.upper() == \"C\":\n",
    "    fahrenheit = value * 9 / 5 + 32\n",
    "    print(f'Temperature {temp_input} converted to Fahrenheit is {fahrenheit:.0f}°F')\n",
    "else:\n",
    "    print('Enter Valid Input')"
   ]
  },
  {
   "cell_type": "markdown",
   "metadata": {},
   "source": [
    "**Question-7**\n",
    "\n",
    "Create a food delivery cost calculator that takes:\n",
    "1. Food price\n",
    "2. Delivery distance (km)\n",
    "3. Voucher code\n",
    "\n",
    "Delivery fee rules:\n",
    "- < 5km: 10,000\n",
    "- 5km ≤ distance < 9km: 16,000\n",
    "- ≥ 9km: 20,000\n",
    "\n",
    "Voucher codes:\n",
    "- 0: No discount\n",
    "- 1: 10,000 discount if food price > 30,000\n",
    "- 2: 5,000 discount on delivery fee"
   ]
  },
  {
   "cell_type": "code",
   "execution_count": 7,
   "metadata": {},
   "outputs": [
    {
     "name": "stdout",
     "output_type": "stream",
     "text": [
      "Total payment required: 60000\n"
     ]
    }
   ],
   "source": [
    "food_price = int(input('Food price: '))\n",
    "distance = float(input('Restaurant to home distance (km): '))\n",
    "voucher = input('Voucher code (0, 1, 2): ')\n",
    "\n",
    "total = food_price\n",
    "\n",
    "if distance < 5:\n",
    "    total += 10000\n",
    "elif distance < 9:\n",
    "    total += 16000\n",
    "else:\n",
    "    total += 20000\n",
    "\n",
    "if voucher == '1':\n",
    "    if food_price > 30000:\n",
    "        total -= 10000\n",
    "elif voucher == '2':\n",
    "    total -= 5000\n",
    "\n",
    "print(f'Total payment required: {total}')"
   ]
  },
  {
   "cell_type": "markdown",
   "metadata": {},
   "source": [
    "**Question-8**\n",
    "\n",
    "Enhance the market program from previous session to:\n",
    "1. Show total price\n",
    "2. Accept payment amount\n",
    "3. Handle three cases:\n",
    "   - Insufficient payment: Show shortage amount\n",
    "   - Exact payment: Thank message\n",
    "   - Excess payment: Show change amount"
   ]
  },
  {
   "cell_type": "code",
   "execution_count": 8,
   "metadata": {},
   "outputs": [
    {
     "name": "stdout",
     "output_type": "stream",
     "text": [
      "\n",
      "Purchase Details\n",
      "\n",
      "Apple: 5 x 10000 = 50000\n",
      "Orange: 8 x 15000 = 120000\n",
      "Grape: 8 x 20000 = 160000\n",
      "\n",
      "Total: 330000\n",
      "\n",
      "Transaction canceled. Insufficient funds by 30000\n"
     ]
    }
   ],
   "source": [
    "apple_qty = int(input('Enter Apple Quantity: '))\n",
    "orange_qty = int(input('Enter Orange Quantity: '))\n",
    "grape_qty = int(input('Enter Grape Quantity: '))\n",
    "\n",
    "print('\\nPurchase Details\\n')\n",
    "\n",
    "apple_price = 10000\n",
    "orange_price = 15000\n",
    "grape_price = 20000\n",
    "\n",
    "apple_total = apple_qty * apple_price\n",
    "orange_total = orange_qty * orange_price\n",
    "grape_total = grape_qty * grape_price\n",
    "grand_total = apple_total + orange_total + grape_total\n",
    "\n",
    "print(f'Apple: {apple_qty} x {apple_price} = {apple_total}')\n",
    "print(f'Orange: {orange_qty} x {orange_price} = {orange_total}')\n",
    "print(f'Grape: {grape_qty} x {grape_price} = {grape_total}')\n",
    "print('\\nTotal:', grand_total)\n",
    "print()\n",
    "\n",
    "payment = int(input('Enter Payment Amount: '))\n",
    "\n",
    "if payment < grand_total:\n",
    "    print(f'Transaction canceled. Insufficient funds by {grand_total - payment}')\n",
    "elif payment == grand_total:\n",
    "    print('Thank you for your payment')\n",
    "else:\n",
    "    print(f'Thank you!\\n\\nYour change: {payment - grand_total}')"
   ]
  }
 ],
 "metadata": {
  "kernelspec": {
   "display_name": "Python 3",
   "language": "python",
   "name": "python3"
  },
  "language_info": {
   "codemirror_mode": {
    "name": "ipython",
    "version": 3
   },
   "file_extension": ".py",
   "mimetype": "text/x-python",
   "name": "python",
   "nbconvert_exporter": "python",
   "pygments_lexer": "ipython3",
   "version": "3.11.5"
  }
 },
 "nbformat": 4,
 "nbformat_minor": 2
}
