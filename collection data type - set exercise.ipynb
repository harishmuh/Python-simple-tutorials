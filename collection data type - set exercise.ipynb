{
 "cells": [
  {
   "cell_type": "markdown",
   "metadata": {},
   "source": [
    "# **Introduction to Sets**\n",
    "\n",
    "A set is a collection of well-defined objects based on mathematical principles. Sets in Python follow the same mathematical definition. They are implemented using hashing, which optimizes lookup operations. This data structure is ideal when you need to perform frequent lookups on large datasets and require each item to be unique.\n",
    "\n",
    "___"
   ]
  },
  {
   "cell_type": "markdown",
   "metadata": {},
   "source": [
    "## **1.0 Set Data Type**\n",
    "\n",
    "Sets are collection data types like Lists, Tuples, and Dictionaries. **Key differences:**\n",
    "- Sets have no indexing system (cannot access items by index)\n",
    "- All elements are unique (no duplicates allowed)\n",
    "- Elements are unordered\n",
    "- Sets are mutable"
   ]
  },
  {
   "cell_type": "code",
   "execution_count": 1,
   "metadata": {},
   "outputs": [
    {
     "data": {
      "text/plain": [
       "{'age', 'color', 'fat', 'size'}"
      ]
     },
     "execution_count": 1,
     "metadata": {},
     "output_type": "execute_result"
    }
   ],
   "source": [
    "# Create a set\n",
    "spam = {'size', 'fat', 'fat', 'color', 'age'}\n",
    "spam  # Duplicates are automatically removed"
   ]
  },
  {
   "cell_type": "code",
   "execution_count": 3,
   "metadata": {},
   "outputs": [
    {
     "data": {
      "text/plain": [
       "{'age', 'color', 'fat', 'size'}"
      ]
     },
     "execution_count": 3,
     "metadata": {},
     "output_type": "execute_result"
    }
   ],
   "source": [
    "# Create set using set() function\n",
    "spam = set(['size', 'fat', 'fat', 'color', 'age'])\n",
    "spam"
   ]
  },
  {
   "cell_type": "markdown",
   "metadata": {},
   "source": [
    "## **1.2 Adding Items to a Set**\n",
    "\n",
    "Add items using `add()` (single item) or `update()` (multiple items):"
   ]
  },
  {
   "cell_type": "code",
   "execution_count": 4,
   "metadata": {},
   "outputs": [
    {
     "name": "stdout",
     "output_type": "stream",
     "text": [
      "Set before: {'age', 'color', 'size', 'fat'}\n",
      "Set after: {31, 'fat', 'size', 'color', 'age'}\n"
     ]
    }
   ],
   "source": [
    "# Add single item with add()\n",
    "spam = {'size', 'fat', 'color', 'age'}\n",
    "print(f'Set before: {spam}')\n",
    "\n",
    "spam.add(31)\n",
    "print(f'Set after: {spam}')"
   ]
  },
  {
   "cell_type": "code",
   "execution_count": 5,
   "metadata": {},
   "outputs": [
    {
     "name": "stdout",
     "output_type": "stream",
     "text": [
      "Set before: {'age', 'color', 'size', 'fat'}\n",
      "Set after: {True, 2.56, 31, 'fat', 'size', 'color', 'age'}\n"
     ]
    }
   ],
   "source": [
    "# Add multiple items with update()\n",
    "spam = {'size', 'fat', 'color', 'age'}\n",
    "print(f'Set before: {spam}')\n",
    "\n",
    "spam.update({31, 2.56, True})\n",
    "print(f'Set after: {spam}')"
   ]
  },
  {
   "cell_type": "markdown",
   "metadata": {},
   "source": [
    "## **1.3 Removing Items from a Set**\n",
    "\n",
    "Remove items using:\n",
    "- `remove()`: Delete specific item\n",
    "- `discard()`: Similar to remove() but no error if missing\n",
    "- `pop()`: Remove random item\n",
    "- `clear()`: Empty the entire set"
   ]
  },
  {
   "cell_type": "code",
   "execution_count": 6,
   "metadata": {},
   "outputs": [
    {
     "name": "stdout",
     "output_type": "stream",
     "text": [
      "Before: {'age', 'color', 'size', 'fat'}\n",
      "After: {'color', 'size', 'fat'}\n"
     ]
    }
   ],
   "source": [
    "# Remove specific item\n",
    "spam = {'size', 'fat', 'color', 'age'}\n",
    "print(f'Before: {spam}')\n",
    "\n",
    "spam.remove('age')\n",
    "print(f'After: {spam}')"
   ]
  },
  {
   "cell_type": "code",
   "execution_count": 7,
   "metadata": {},
   "outputs": [
    {
     "name": "stdout",
     "output_type": "stream",
     "text": [
      "Before: {'age', 'color', 'size', 'fat'}\n",
      "After: {'color', 'size', 'fat'}\n"
     ]
    }
   ],
   "source": [
    "# Discard item\n",
    "spam = {'size', 'fat', 'color', 'age'}\n",
    "print(f'Before: {spam}')\n",
    "\n",
    "spam.discard('age')\n",
    "print(f'After: {spam}')"
   ]
  },
  {
   "cell_type": "code",
   "execution_count": 9,
   "metadata": {},
   "outputs": [
    {
     "name": "stdout",
     "output_type": "stream",
     "text": [
      "Before: {'age', 'color', 'size', 'fat'}\n",
      "After: {'color', 'size', 'fat'}\n"
     ]
    }
   ],
   "source": [
    "# Remove random item\n",
    "spam = {'size', 'fat', 'color', 'age'}\n",
    "print(f'Before: {spam}')\n",
    "\n",
    "spam.pop()  # Removes arbitrary item\n",
    "print(f'After: {spam}')"
   ]
  },
  {
   "cell_type": "code",
   "execution_count": 10,
   "metadata": {},
   "outputs": [
    {
     "name": "stdout",
     "output_type": "stream",
     "text": [
      "Before: {'age', 'color', 'size', 'fat'}\n",
      "After: set()\n"
     ]
    }
   ],
   "source": [
    "# Clear entire set\n",
    "spam = {'size', 'fat', 'color', 'age'}\n",
    "print(f'Before: {spam}')\n",
    "\n",
    "spam.clear()\n",
    "print(f'After: {spam}')"
   ]
  },
  {
   "cell_type": "markdown",
   "metadata": {},
   "source": [
    "> ⚠️ **Note:** Using `remove()` on a non-existent item raises a `KeyError`"
   ]
  },
  {
   "cell_type": "markdown",
   "metadata": {},
   "source": [
    "## **1.4 Iterating Through Sets**\n",
    "\n",
    "Use for-loops to access set items:"
   ]
  },
  {
   "cell_type": "code",
   "execution_count": 11,
   "metadata": {},
   "outputs": [
    {
     "name": "stdout",
     "output_type": "stream",
     "text": [
      "Value: age\n",
      "Value: color\n",
      "Value: size\n",
      "Value: fat\n"
     ]
    }
   ],
   "source": [
    "# Iterate through set\n",
    "spam = {'size', 'fat', 'color', 'age'}\n",
    "\n",
    "for val in spam:\n",
    "    print(f'Value: {val}')"
   ]
  },
  {
   "cell_type": "markdown",
   "metadata": {},
   "source": [
    "## **1.5 Checking Set Membership**\n",
    "\n",
    "Use `in` and `not in` to check item existence (returns boolean):"
   ]
  },
  {
   "cell_type": "code",
   "execution_count": 13,
   "metadata": {},
   "outputs": [
    {
     "name": "stdout",
     "output_type": "stream",
     "text": [
      "Is 'age' in set?: True\n",
      "Is 'Zophie' not in set?: True\n"
     ]
    }
   ],
   "source": [
    "# Membership check\n",
    "spam = {'size', 'fat', 'color', 'age'}\n",
    "\n",
    "print(f\"Is 'age' in set?: {'age' in spam}\")\n",
    "print(f\"Is 'Zophie' not in set?: {'Zophie' not in spam}\")"
   ]
  },
  {
   "cell_type": "markdown",
   "metadata": {},
   "source": [
    "## **1.6 Getting Set Length**\n",
    "\n",
    "Use `len()` to get number of items:"
   ]
  },
  {
   "cell_type": "code",
   "execution_count": 17,
   "metadata": {},
   "outputs": [
    {
     "name": "stdout",
     "output_type": "stream",
     "text": [
      "Set length: 4\n"
     ]
    }
   ],
   "source": [
    "# Get set length\n",
    "spam = {'size', 'fat', 'color', 'age'}\n",
    "print(f'Set length: {len(spam)}')"
   ]
  },
  {
   "cell_type": "markdown",
   "metadata": {},
   "source": [
    "## **1.7 Combining Sets with union()**\n",
    "\n",
    "Merge sets using `union()` (returns new set):"
   ]
  },
  {
   "cell_type": "code",
   "execution_count": 15,
   "metadata": {},
   "outputs": [
    {
     "name": "stdout",
     "output_type": "stream",
     "text": [
      "Combined set: {True, 3.14, 5, 'fat', 'size', 'color', 'age', 30}\n"
     ]
    }
   ],
   "source": [
    "# Combine two sets\n",
    "spam1 = {'size', 'fat', 'color', 'age'}\n",
    "spam2 = {30, 5, 3.14, True}\n",
    "\n",
    "spam3 = spam1.union(spam2)\n",
    "print(f'Combined set: {spam3}')"
   ]
  },
  {
   "cell_type": "markdown",
   "metadata": {},
   "source": [
    "## **1.8 Set Differences**\n",
    "\n",
    "Find asymmetric differences with:\n",
    "- `difference()`: Returns new set with unique items\n",
    "- `difference_update()`: Modifies original set"
   ]
  },
  {
   "cell_type": "code",
   "execution_count": 20,
   "metadata": {},
   "outputs": [
    {
     "data": {
      "text/plain": [
       "{'fat', 'size'}"
      ]
     },
     "execution_count": 20,
     "metadata": {},
     "output_type": "execute_result"
    }
   ],
   "source": [
    "# Items in spam1 not in spam2\n",
    "spam1 = {'size', 'fat', 'color', 'age'}\n",
    "spam2 = {'age', 5, 'color', True}\n",
    "\n",
    "spam1.difference(spam2)  # Returns new set"
   ]
  },
  {
   "cell_type": "code",
   "execution_count": 21,
   "metadata": {},
   "outputs": [
    {
     "data": {
      "text/plain": [
       "{'fat', 'size'}"
      ]
     },
     "execution_count": 21,
     "metadata": {},
     "output_type": "execute_result"
    }
   ],
   "source": [
    "# Modify spam1 directly\n",
    "spam1 = {'size', 'fat', 'color', 'age'}\n",
    "spam2 = {'age', 5, 'color', True}\n",
    "\n",
    "spam1.difference_update(spam2)  # Modifies in-place\n",
    "spam1"
   ]
  },
  {
   "cell_type": "markdown",
   "metadata": {},
   "source": [
    "## **1.9 Symmetric Differences**\n",
    "\n",
    "Find symmetric differences with:\n",
    "- `symmetric_difference()`: Returns items in either set but not both\n",
    "- `symmetric_difference_update()`: Modifies original set"
   ]
  },
  {
   "cell_type": "code",
   "execution_count": 22,
   "metadata": {},
   "outputs": [
    {
     "data": {
      "text/plain": [
       "{5, True, 'fat', 'size'}"
      ]
     },
     "execution_count": 22,
     "metadata": {},
     "output_type": "execute_result"
    }
   ],
   "source": [
    "# Items unique to each set\n",
    "spam1 = {'size', 'fat', 'color', 'age'}\n",
    "spam2 = {'age', 5, 'color', True}\n",
    "\n",
    "spam1.symmetric_difference(spam2)  # Returns new set"
   ]
  },
  {
   "cell_type": "code",
   "execution_count": 23,
   "metadata": {},
   "outputs": [
    {
     "data": {
      "text/plain": [
       "{5, True, 'fat', 'size'}"
      ]
     },
     "execution_count": 23,
     "metadata": {},
     "output_type": "execute_result"
    }
   ],
   "source": [
    "# Modify spam1 directly\n",
    "spam1 = {'size', 'fat', 'color', 'age'}\n",
    "spam2 = {'age', 5, 'color', True}\n",
    "\n",
    "spam1.symmetric_difference_update(spam2)\n",
    "spam1"
   ]
  },
  {
   "cell_type": "markdown",
   "metadata": {},
   "source": [
    "## **1.10 Set Intersections**\n",
    "\n",
    "Find common items with:\n",
    "- `intersection()`: Returns common items\n",
    "- `intersection_update()`: Modifies original set"
   ]
  },
  {
   "cell_type": "code",
   "execution_count": 24,
   "metadata": {},
   "outputs": [
    {
     "data": {
      "text/plain": [
       "{'age', 'color'}"
      ]
     },
     "execution_count": 24,
     "metadata": {},
     "output_type": "execute_result"
    }
   ],
   "source": [
    "# Common items\n",
    "spam1 = {'size', 'fat', 'color', 'age'}\n",
    "spam2 = {'age', 5, 'color', True}\n",
    "\n",
    "spam1.intersection(spam2)  # Returns new set"
   ]
  },
  {
   "cell_type": "code",
   "execution_count": 25,
   "metadata": {},
   "outputs": [
    {
     "data": {
      "text/plain": [
       "{'age', 'color'}"
      ]
     },
     "execution_count": 25,
     "metadata": {},
     "output_type": "execute_result"
    }
   ],
   "source": [
    "# Modify spam1 directly\n",
    "spam1 = {'size', 'fat', 'color', 'age'}\n",
    "spam2 = {'age', 5, 'color', True}\n",
    "\n",
    "spam1.intersection_update(spam2)\n",
    "spam1"
   ]
  },
  {
   "cell_type": "markdown",
   "metadata": {},
   "source": [
    "## **1.11 Set Relationships**\n",
    "\n",
    "Check relationships between sets:\n",
    "- `isdisjoint()`: True if no common items\n",
    "- `issubset()`: True if all items in another set\n",
    "- `issuperset()`: True if contains all items of another set"
   ]
  },
  {
   "cell_type": "code",
   "execution_count": 26,
   "metadata": {},
   "outputs": [
    {
     "data": {
      "text/plain": [
       "True"
      ]
     },
     "execution_count": 26,
     "metadata": {},
     "output_type": "execute_result"
    }
   ],
   "source": [
    "# Check if sets have no common items\n",
    "spam1 = {'size', 'fat', 'color', 'age'}\n",
    "spam2 = {1, 2, 3}\n",
    "\n",
    "spam1.isdisjoint(spam2)"
   ]
  },
  {
   "cell_type": "code",
   "execution_count": 28,
   "metadata": {},
   "outputs": [
    {
     "data": {
      "text/plain": [
       "True"
      ]
     },
     "execution_count": 28,
     "metadata": {},
     "output_type": "execute_result"
    }
   ],
   "source": [
    "# Check if spam2 is subset of spam1\n",
    "spam1 = {'size', 'fat', 'color', 'age'}\n",
    "spam2 = {'age', 'color'}\n",
    "\n",
    "spam2.issubset(spam1)"
   ]
  },
  {
   "cell_type": "code",
   "execution_count": 29,
   "metadata": {},
   "outputs": [
    {
     "data": {
      "text/plain": [
       "True"
      ]
     },
     "execution_count": 29,
     "metadata": {},
     "output_type": "execute_result"
    }
   ],
   "source": [
    "# Check if spam1 is superset of spam2\n",
    "spam1 = {'size', 'fat', 'color', 'age'}\n",
    "spam2 = {'age', 'color'}\n",
    "\n",
    "spam1.issuperset(spam2)"
   ]
  }
 ],
 "metadata": {
  "kernelspec": {
   "display_name": "Python 3",
   "language": "python",
   "name": "python3"
  },
  "language_info": {
   "codemirror_mode": {
    "name": "ipython",
    "version": 3
   },
   "file_extension": ".py",
   "mimetype": "text/x-python",
   "name": "python",
   "nbconvert_exporter": "python",
   "pygments_lexer": "ipython3",
   "version": "3.10.5"
  }
 },
 "nbformat": 4,
 "nbformat_minor": 2
}